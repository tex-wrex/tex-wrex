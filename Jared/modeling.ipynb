{
 "cells": [
  {
   "cell_type": "markdown",
   "id": "9bf0e1de",
   "metadata": {},
   "source": [
    "<div style='background-color:orange'>\n",
    "<a id='TableOfContents'></a>\n",
    "    <b><u><i><h1 style='text-align:center ; padding-top:5px'>\n",
    "        Table of Contents\n",
    "    </h1></i></u></b>\n",
    "    <li><a href='#imports'>Imports</a>\n",
    "    <li><a href='#initial'>Initial Setup</a>\n",
    "    <li><a href='#model'>Modeling</a>\n",
    "    <li><a href='#bestmodel'>Best Model(s)</a>\n",
    "    <li><a href='#misc'>Miscellaneous</a>\n",
    "    </li>\n",
    "</div>"
   ]
  },
  {
   "cell_type": "markdown",
   "id": "6635d36b",
   "metadata": {},
   "source": [
    "<div style='background-color:orange'>\n",
    "<a id='imports'></a>\n",
    "    <b><u><i><h1 style='text-align:center ; padding-top:5px'>\n",
    "        Imports\n",
    "    </h1></i></u></b>\n",
    "    <li><a href='#TableOfContents'>Table of Contents</a>\n",
    "    </li>\n",
    "</div>"
   ]
  },
  {
   "cell_type": "code",
   "execution_count": 10,
   "id": "b4f15f56",
   "metadata": {},
   "outputs": [],
   "source": [
    "# Vectorization & Dataframe\n",
    "import numpy as np\n",
    "import pandas as pd\n",
    "\n",
    "# Visualizations\n",
    "import matplotlib.pyplot as plt\n",
    "import seaborn as sns\n",
    "\n",
    "# Classification Models\n",
    "from sklearn.tree import DecisionTreeClassifier\n",
    "from sklearn.ensemble import RandomForestClassifier\n",
    "from sklearn.neighbors import KNeighborsClassifier\n",
    "from sklearn.linear_model import LogisticRegression\n",
    "\n",
    "# Encoder\n",
    "from sklearn.preprocessing import OrdinalEncoder\n",
    "\n",
    "# Hyperparameter tuning\n",
    "from sklearn.model_selection import GridSearchCV\n",
    "\n",
    "# Model metric evaluation\n",
    "from sklearn.metrics import accuracy_score\n",
    "\n",
    "# .py files\n",
    "import wrangle as w\n",
    "\n",
    "# Ignore warnings\n",
    "import warnings\n",
    "warnings.filterwarnings('ignore')"
   ]
  },
  {
   "cell_type": "markdown",
   "id": "b517a47a",
   "metadata": {},
   "source": [
    "<div style='background-color:orange'>\n",
    "<a id='initial'></a>\n",
    "    <b><u><i><h1 style='text-align:center ; padding-top:5px'>\n",
    "        Initial Setup\n",
    "    </h1></i></u></b>\n",
    "    <li><a href='#TableOfContents'>Table of Contents</a>\n",
    "    </li>\n",
    "</div>"
   ]
  },
  {
   "cell_type": "code",
   "execution_count": 11,
   "id": "ba475900",
   "metadata": {},
   "outputs": [
    {
     "data": {
      "text/plain": [
       "(14174, 132)"
      ]
     },
     "execution_count": 11,
     "metadata": {},
     "output_type": "execute_result"
    }
   ],
   "source": [
    "# Load up master dataset\n",
    "master = w.wrangle()\n",
    "master.shape"
   ]
  },
  {
   "cell_type": "code",
   "execution_count": 12,
   "id": "f7fc5c21",
   "metadata": {},
   "outputs": [],
   "source": [
    "# Feature selection for modeling\n",
    "features = [\n",
    "    'city',\n",
    "    'contributing_factors',\n",
    "    'county',\n",
    "    'physical_feature_1',\n",
    "    'physical_feature_2',\n",
    "    'population_group',\n",
    "    'driver_license_class',\n",
    "    'driver_license_endorsements',\n",
    "    'driver_license_restrictions',\n",
    "    'driver_license_state',\n",
    "    'driver_license_type'\n",
    "]"
   ]
  },
  {
   "cell_type": "code",
   "execution_count": 13,
   "id": "1cbbb5e8",
   "metadata": {},
   "outputs": [],
   "source": [
    "# Encode feature selected columns\n",
    "encoder = OrdinalEncoder()\n",
    "for col in features:\n",
    "    encoded_col = encoder.fit_transform(master[[col]])\n",
    "    master[col] = encoded_col"
   ]
  },
  {
   "cell_type": "code",
   "execution_count": 14,
   "id": "71e19343",
   "metadata": {},
   "outputs": [
    {
     "data": {
      "text/plain": [
       "((9924, 132), (2832, 132), (1418, 132))"
      ]
     },
     "execution_count": 14,
     "metadata": {},
     "output_type": "execute_result"
    }
   ],
   "source": [
    "# Split the data\n",
    "train, validate, test = w.split(master, stratify='person_injury_severity')\n",
    "train.shape, validate.shape, test.shape"
   ]
  },
  {
   "cell_type": "code",
   "execution_count": 15,
   "id": "f1269905",
   "metadata": {},
   "outputs": [],
   "source": [
    "# Create x/y for each split dataset\n",
    "train_x = train[features]\n",
    "train_y = train.person_injury_severity\n",
    "validate_x = validate[features]\n",
    "validate_y = validate.person_injury_severity\n",
    "test_x = test[features]\n",
    "test_y = test.person_injury_severity"
   ]
  },
  {
   "cell_type": "markdown",
   "id": "29fa41bc",
   "metadata": {},
   "source": [
    "<div style='background-color:orange'>\n",
    "<a id='model'></a>\n",
    "    <b><u><i><h1 style='text-align:center ; padding-top:5px'>\n",
    "        Models\n",
    "    </h1></i></u></b>\n",
    "    <li><a href='#TableOfContents'>Table of Contents</a>\n",
    "    </li>\n",
    "</div>"
   ]
  },
  {
   "cell_type": "code",
   "execution_count": 19,
   "id": "618e2a0d",
   "metadata": {},
   "outputs": [],
   "source": [
    "# In preparation of GridSearchCV, create model dictionary\n",
    "models = {\n",
    "    'Decision Tree' : (DecisionTreeClassifier(), {'max_depth' : [None] + list(range(3, 20)),\n",
    "                                                  'min_samples_split' : list(range(2, 5)),\n",
    "                                                  'min_samples_leaf' : list(range(1, 5)),\n",
    "                                                  'random_state' : [1776]}),\n",
    "    'Random Forest' : (RandomForestClassifier(), {'n_estimators' : [100, 200, 300],\n",
    "                                                  'max_depth' : [None] + list(range(3, 20)),\n",
    "                                                  'min_samples_split' : list(range(2, 5)),\n",
    "                                                  'min_samples_leaf' : list(range(1, 5)),\n",
    "                                                  'random_state' : [1776]}),\n",
    "    'KNN' : (KNeighborsClassifier(), {'n_neighbors' : [5, 10, 50, 100],\n",
    "                                      'weights' : ['uniform', 'distance'],\n",
    "                                      'algorithm' : ['ball_tree', 'kd_tree', 'brute', 'auto'],\n",
    "                                      'random_state' : [1776]}),\n",
    "    'Logistic Regression' : (LogisticRegression(), {'C' : [0.1, 1, 10],\n",
    "                                                    'solver' : ['lbfgs', 'liblinear', 'newton-cg', 'newton-cholesky', 'sag', 'saga'],\n",
    "                                                    'random_state' : [1776]})\n",
    "}"
   ]
  },
  {
   "cell_type": "code",
   "execution_count": null,
   "id": "d22f53a6",
   "metadata": {},
   "outputs": [],
   "source": [
    "for model_name, (model, param_grid) in models.items():\n",
    "    grid_search = GridSearchCV(model, param_grid, scoring='accuracy', cv=5)\n",
    "    grid_search.fit(train_x, train_y)"
   ]
  },
  {
   "cell_type": "code",
   "execution_count": null,
   "id": "e4824494",
   "metadata": {},
   "outputs": [],
   "source": [
    "# Ran at 1545\n",
    "grid_search"
   ]
  },
  {
   "cell_type": "markdown",
   "id": "12dc36c4",
   "metadata": {},
   "source": [
    "<div style='background-color:orange'>\n",
    "<a id='bestmodel'></a>\n",
    "    <b><u><i><h1 style='text-align:center ; padding-top:5px'>\n",
    "        Best Model(s)\n",
    "    </h1></i></u></b>\n",
    "    <li><a href='#TableOfContents'>Table of Contents</a>\n",
    "    </li>\n",
    "</div>"
   ]
  },
  {
   "cell_type": "code",
   "execution_count": null,
   "id": "97feba04",
   "metadata": {},
   "outputs": [],
   "source": []
  },
  {
   "cell_type": "markdown",
   "id": "4ef21d1b",
   "metadata": {},
   "source": [
    "<div style='background-color:orange'>\n",
    "<a id='misc'></a>\n",
    "    <b><u><i><h1 style='text-align:center ; padding-top:5px'>\n",
    "        Miscellaneous\n",
    "    </h1></i></u></b>\n",
    "    <li><a href='#TableOfContents'>Table of Contents</a>\n",
    "    </li>\n",
    "</div>"
   ]
  },
  {
   "cell_type": "code",
   "execution_count": null,
   "id": "88563631",
   "metadata": {},
   "outputs": [],
   "source": []
  }
 ],
 "metadata": {
  "kernelspec": {
   "display_name": "Python 3 (ipykernel)",
   "language": "python",
   "name": "python3"
  },
  "language_info": {
   "codemirror_mode": {
    "name": "ipython",
    "version": 3
   },
   "file_extension": ".py",
   "mimetype": "text/x-python",
   "name": "python",
   "nbconvert_exporter": "python",
   "pygments_lexer": "ipython3",
   "version": "3.9.13"
  }
 },
 "nbformat": 4,
 "nbformat_minor": 5
}
