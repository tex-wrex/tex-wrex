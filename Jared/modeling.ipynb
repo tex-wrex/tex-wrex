{
 "cells": [
  {
   "cell_type": "markdown",
   "id": "9bf0e1de",
   "metadata": {},
   "source": [
    "<div style='background-color:orange'>\n",
    "<a id='TableOfContents'></a>\n",
    "    <b><u><i><h1 style='text-align:center ; padding-top:5px'>\n",
    "        Table of Contents\n",
    "    </h1></i></u></b>\n",
    "    <li><a href='#imports'>Imports</a>\n",
    "    <li><a href='#initial'>Initial Setup</a>\n",
    "    <li><a href='#model'>Modeling</a>\n",
    "    <li><a href='#bestmodel'>Best Model(s)</a>\n",
    "    <li><a href='#misc'>Miscellaneous</a>\n",
    "    </li>\n",
    "</div>"
   ]
  },
  {
   "cell_type": "markdown",
   "id": "6635d36b",
   "metadata": {},
   "source": [
    "<div style='background-color:orange'>\n",
    "<a id='imports'></a>\n",
    "    <b><u><i><h1 style='text-align:center ; padding-top:5px'>\n",
    "        Imports\n",
    "    </h1></i></u></b>\n",
    "    <li><a href='#TableOfContents'>Table of Contents</a>\n",
    "    </li>\n",
    "</div>"
   ]
  },
  {
   "cell_type": "code",
   "execution_count": 1,
   "id": "b4f15f56",
   "metadata": {},
   "outputs": [],
   "source": [
    "# Vectorization & Dataframe\n",
    "import numpy as np\n",
    "import pandas as pd\n",
    "\n",
    "# Visualizations\n",
    "import matplotlib.pyplot as plt\n",
    "import seaborn as sns\n",
    "\n",
    "# Classification Models\n",
    "from sklearn.tree import DecisionTreeClassifier\n",
    "from sklearn.ensemble import RandomForestClassifier\n",
    "from sklearn.neighbors import KNeighborsClassifier\n",
    "from sklearn.linear_model import LogisticRegression\n",
    "\n",
    "# Encoder\n",
    "from sklearn.preprocessing import OrdinalEncoder\n",
    "\n",
    "# Hyperparameter tuning\n",
    "from sklearn.model_selection import GridSearchCV\n",
    "\n",
    "# Model metric evaluation\n",
    "from sklearn.metrics import accuracy_score\n",
    "\n",
    "# .py files\n",
    "import wrangle as w\n",
    "\n",
    "# Ignore warnings\n",
    "import warnings\n",
    "warnings.filterwarnings('ignore')"
   ]
  },
  {
   "cell_type": "markdown",
   "id": "b517a47a",
   "metadata": {},
   "source": [
    "<div style='background-color:orange'>\n",
    "<a id='initial'></a>\n",
    "    <b><u><i><h1 style='text-align:center ; padding-top:5px'>\n",
    "        Initial Setup\n",
    "    </h1></i></u></b>\n",
    "    <li><a href='#TableOfContents'>Table of Contents</a>\n",
    "    </li>\n",
    "</div>"
   ]
  },
  {
   "cell_type": "code",
   "execution_count": 2,
   "id": "ba475900",
   "metadata": {},
   "outputs": [
    {
     "data": {
      "text/plain": [
       "(14174, 132)"
      ]
     },
     "execution_count": 2,
     "metadata": {},
     "output_type": "execute_result"
    }
   ],
   "source": [
    "# Load up master dataset\n",
    "master = w.wrangle()\n",
    "master.shape"
   ]
  },
  {
   "cell_type": "code",
   "execution_count": 3,
   "id": "f7fc5c21",
   "metadata": {},
   "outputs": [],
   "source": [
    "# Feature selection for modeling\n",
    "features = [\n",
    "    'city',\n",
    "    'contributing_factors',\n",
    "    'county',\n",
    "    'physical_feature_1',\n",
    "    'physical_feature_2',\n",
    "    'population_group',\n",
    "    'driver_license_class',\n",
    "    'driver_license_endorsements',\n",
    "    'driver_license_restrictions',\n",
    "    'driver_license_state',\n",
    "    'driver_license_type'\n",
    "]"
   ]
  },
  {
   "cell_type": "code",
   "execution_count": 4,
   "id": "6739e123",
   "metadata": {},
   "outputs": [],
   "source": [
    "# Encode feature selected columns\n",
    "encoder = OrdinalEncoder()\n",
    "for col in features:\n",
    "    encoded_col = encoder.fit_transform(master[[col]])\n",
    "    master[col] = encoded_col"
   ]
  },
  {
   "cell_type": "code",
   "execution_count": 5,
   "id": "65acff3c",
   "metadata": {},
   "outputs": [],
   "source": [
    "# Test???\n",
    "risk_list, risk_dict = w.risk_scores_iterate_columns(master, features)\n",
    "master['agg_injury_risk'] = risk_list\n",
    "features = ['agg_injury_risk']"
   ]
  },
  {
   "cell_type": "code",
   "execution_count": 6,
   "id": "adca19bd",
   "metadata": {},
   "outputs": [
    {
     "data": {
      "text/plain": [
       "((9924, 133), (2832, 133), (1418, 133))"
      ]
     },
     "execution_count": 6,
     "metadata": {},
     "output_type": "execute_result"
    }
   ],
   "source": [
    "# Split the data\n",
    "train, validate, test = w.split(master, stratify='person_injury_severity')\n",
    "train.shape, validate.shape, test.shape"
   ]
  },
  {
   "cell_type": "code",
   "execution_count": 7,
   "id": "adcbcbbd",
   "metadata": {},
   "outputs": [],
   "source": [
    "# Create x/y for each split dataset\n",
    "train_x = train[features]\n",
    "train_y = train.person_injury_severity\n",
    "validate_x = validate[features]\n",
    "validate_y = validate.person_injury_severity\n",
    "test_x = test[features]\n",
    "test_y = test.person_injury_severity"
   ]
  },
  {
   "cell_type": "markdown",
   "id": "29fa41bc",
   "metadata": {},
   "source": [
    "<div style='background-color:orange'>\n",
    "<a id='model'></a>\n",
    "    <b><u><i><h1 style='text-align:center ; padding-top:5px'>\n",
    "        Models\n",
    "    </h1></i></u></b>\n",
    "    <li><a href='#TableOfContents'>Table of Contents</a>\n",
    "    </li>\n",
    "</div>"
   ]
  },
  {
   "cell_type": "code",
   "execution_count": 8,
   "id": "de3212b9",
   "metadata": {},
   "outputs": [],
   "source": [
    "# In preparation of GridSearchCV, create model dictionary\n",
    "models = {\n",
    "    'Decision Tree' : (DecisionTreeClassifier(), {'max_depth' : [None] + list(range(3, 15)),\n",
    "                                                  'min_samples_split' : list(range(2, 4)),\n",
    "                                                  'min_samples_leaf' : list(range(1, 3)),\n",
    "                                                  'random_state' : [1776]}),\n",
    "    'Random Forest' : (RandomForestClassifier(), {'n_estimators' : [100, 200, 300],\n",
    "                                                  'max_depth' : [None] + list(range(3, 15)),\n",
    "                                                  'min_samples_split' : list(range(2, 4)),\n",
    "                                                  'min_samples_leaf' : list(range(1, 3)),\n",
    "                                                  'random_state' : [1776]}),\n",
    "    'KNN' : (KNeighborsClassifier(), {'n_neighbors' : [5, 10, 50],\n",
    "                                      'weights' : ['uniform', 'distance'],\n",
    "                                      'algorithm' : ['ball_tree', 'kd_tree', 'brute', 'auto']}),\n",
    "    'Logistic Regression' : (LogisticRegression(), {'C' : [0.1, 1, 10],\n",
    "                                                    'solver' : ['lbfgs', 'liblinear', 'newton-cg', 'newton-cholesky', 'sag', 'saga'],\n",
    "                                                    'random_state' : [1776]})\n",
    "}"
   ]
  },
  {
   "cell_type": "code",
   "execution_count": 10,
   "id": "ee9e03a3",
   "metadata": {},
   "outputs": [],
   "source": [
    "model_results = []\n",
    "for model_name, (model, param_grid) in models.items():\n",
    "    grid_search = GridSearchCV(model, param_grid, scoring='accuracy', cv=5)\n",
    "    grid_search.fit(train_x, train_y)\n",
    "    best_model = grid_search.best_estimator_\n",
    "    best_params = grid_search.best_params_\n",
    "    train_accuracy = grid_search.best_score_\n",
    "    validate_accuracy = best_model.score(validate_x, validate_y)\n",
    "    model_results.append({\n",
    "        'Model': model_name,\n",
    "        'Best Estimator': best_model,\n",
    "        'Best Parameters': best_params,\n",
    "        'Train Accuracy': train_accuracy,\n",
    "        'Validate Accuracy': validate_accuracy\n",
    "    })\n",
    "df_model_results = pd.DataFrame(model_results)"
   ]
  },
  {
   "cell_type": "code",
   "execution_count": 12,
   "id": "3a4d09e3",
   "metadata": {},
   "outputs": [
    {
     "data": {
      "text/plain": [
       "{'Model': {0: 'Decision Tree',\n",
       "  1: 'Random Forest',\n",
       "  2: 'KNN',\n",
       "  3: 'Logistic Regression'},\n",
       " 'Best Estimator': {0: DecisionTreeClassifier(max_depth=3, random_state=1776),\n",
       "  1: RandomForestClassifier(max_depth=3, random_state=1776),\n",
       "  2: KNeighborsClassifier(algorithm='ball_tree', n_neighbors=50),\n",
       "  3: LogisticRegression(C=10, random_state=1776, solver='sag')},\n",
       " 'Best Parameters': {0: {'max_depth': 3,\n",
       "   'min_samples_leaf': 1,\n",
       "   'min_samples_split': 2,\n",
       "   'random_state': 1776},\n",
       "  1: {'max_depth': 3,\n",
       "   'min_samples_leaf': 1,\n",
       "   'min_samples_split': 2,\n",
       "   'n_estimators': 100,\n",
       "   'random_state': 1776},\n",
       "  2: {'algorithm': 'ball_tree', 'n_neighbors': 50, 'weights': 'uniform'},\n",
       "  3: {'C': 10, 'random_state': 1776, 'solver': 'sag'}},\n",
       " 'Train Accuracy': {0: 0.6117491569838304,\n",
       "  1: 0.6123532847160152,\n",
       "  2: 0.6088263792963353,\n",
       "  3: 0.6039898533355001}}"
      ]
     },
     "execution_count": 12,
     "metadata": {},
     "output_type": "execute_result"
    }
   ],
   "source": [
    "df_model_results.to_dict()"
   ]
  },
  {
   "cell_type": "code",
   "execution_count": 13,
   "id": "88683d3f",
   "metadata": {},
   "outputs": [],
   "source": [
    "testthingy = {'Model': {0: 'Decision Tree',\n",
    "  1: 'Random Forest',\n",
    "  2: 'KNN',\n",
    "  3: 'Logistic Regression'},\n",
    " 'Best Estimator': {0: DecisionTreeClassifier(max_depth=3, random_state=1776),\n",
    "  1: RandomForestClassifier(max_depth=3, random_state=1776),\n",
    "  2: KNeighborsClassifier(algorithm='ball_tree', n_neighbors=50),\n",
    "  3: LogisticRegression(C=10, random_state=1776, solver='sag')},\n",
    " 'Best Parameters': {0: {'max_depth': 3,\n",
    "   'min_samples_leaf': 1,\n",
    "   'min_samples_split': 2,\n",
    "   'random_state': 1776},\n",
    "  1: {'max_depth': 3,\n",
    "   'min_samples_leaf': 1,\n",
    "   'min_samples_split': 2,\n",
    "   'n_estimators': 100,\n",
    "   'random_state': 1776},\n",
    "  2: {'algorithm': 'ball_tree', 'n_neighbors': 50, 'weights': 'uniform'},\n",
    "  3: {'C': 10, 'random_state': 1776, 'solver': 'sag'}},\n",
    " 'Train Accuracy': {0: 0.6117491569838304,\n",
    "  1: 0.6123532847160152,\n",
    "  2: 0.6088263792963353,\n",
    "  3: 0.6039898533355001}}"
   ]
  },
  {
   "cell_type": "code",
   "execution_count": 14,
   "id": "334d82c1",
   "metadata": {},
   "outputs": [
    {
     "data": {
      "text/html": [
       "<div>\n",
       "<style scoped>\n",
       "    .dataframe tbody tr th:only-of-type {\n",
       "        vertical-align: middle;\n",
       "    }\n",
       "\n",
       "    .dataframe tbody tr th {\n",
       "        vertical-align: top;\n",
       "    }\n",
       "\n",
       "    .dataframe thead th {\n",
       "        text-align: right;\n",
       "    }\n",
       "</style>\n",
       "<table border=\"1\" class=\"dataframe\">\n",
       "  <thead>\n",
       "    <tr style=\"text-align: right;\">\n",
       "      <th></th>\n",
       "      <th>Model</th>\n",
       "      <th>Best Estimator</th>\n",
       "      <th>Best Parameters</th>\n",
       "      <th>Train Accuracy</th>\n",
       "    </tr>\n",
       "  </thead>\n",
       "  <tbody>\n",
       "    <tr>\n",
       "      <th>0</th>\n",
       "      <td>Decision Tree</td>\n",
       "      <td>DecisionTreeClassifier(max_depth=3, random_sta...</td>\n",
       "      <td>{'max_depth': 3, 'min_samples_leaf': 1, 'min_s...</td>\n",
       "      <td>0.611749</td>\n",
       "    </tr>\n",
       "    <tr>\n",
       "      <th>1</th>\n",
       "      <td>Random Forest</td>\n",
       "      <td>RandomForestClassifier(max_depth=3, random_sta...</td>\n",
       "      <td>{'max_depth': 3, 'min_samples_leaf': 1, 'min_s...</td>\n",
       "      <td>0.612353</td>\n",
       "    </tr>\n",
       "    <tr>\n",
       "      <th>2</th>\n",
       "      <td>KNN</td>\n",
       "      <td>KNeighborsClassifier(algorithm='ball_tree', n_...</td>\n",
       "      <td>{'algorithm': 'ball_tree', 'n_neighbors': 50, ...</td>\n",
       "      <td>0.608826</td>\n",
       "    </tr>\n",
       "    <tr>\n",
       "      <th>3</th>\n",
       "      <td>Logistic Regression</td>\n",
       "      <td>LogisticRegression(C=10, random_state=1776, so...</td>\n",
       "      <td>{'C': 10, 'random_state': 1776, 'solver': 'sag'}</td>\n",
       "      <td>0.603990</td>\n",
       "    </tr>\n",
       "  </tbody>\n",
       "</table>\n",
       "</div>"
      ],
      "text/plain": [
       "                 Model                                     Best Estimator   \n",
       "0        Decision Tree  DecisionTreeClassifier(max_depth=3, random_sta...  \\\n",
       "1        Random Forest  RandomForestClassifier(max_depth=3, random_sta...   \n",
       "2                  KNN  KNeighborsClassifier(algorithm='ball_tree', n_...   \n",
       "3  Logistic Regression  LogisticRegression(C=10, random_state=1776, so...   \n",
       "\n",
       "                                     Best Parameters  Train Accuracy  \n",
       "0  {'max_depth': 3, 'min_samples_leaf': 1, 'min_s...        0.611749  \n",
       "1  {'max_depth': 3, 'min_samples_leaf': 1, 'min_s...        0.612353  \n",
       "2  {'algorithm': 'ball_tree', 'n_neighbors': 50, ...        0.608826  \n",
       "3   {'C': 10, 'random_state': 1776, 'solver': 'sag'}        0.603990  "
      ]
     },
     "execution_count": 14,
     "metadata": {},
     "output_type": "execute_result"
    }
   ],
   "source": [
    "pd.DataFrame(testthingy)"
   ]
  },
  {
   "cell_type": "markdown",
   "id": "12dc36c4",
   "metadata": {},
   "source": [
    "<div style='background-color:orange'>\n",
    "<a id='bestmodel'></a>\n",
    "    <b><u><i><h1 style='text-align:center ; padding-top:5px'>\n",
    "        Best Model(s)\n",
    "    </h1></i></u></b>\n",
    "    <li><a href='#TableOfContents'>Table of Contents</a>\n",
    "    </li>\n",
    "</div>"
   ]
  },
  {
   "cell_type": "code",
   "execution_count": null,
   "id": "97feba04",
   "metadata": {},
   "outputs": [],
   "source": []
  },
  {
   "cell_type": "markdown",
   "id": "4ef21d1b",
   "metadata": {},
   "source": [
    "<div style='background-color:orange'>\n",
    "<a id='misc'></a>\n",
    "    <b><u><i><h1 style='text-align:center ; padding-top:5px'>\n",
    "        Miscellaneous\n",
    "    </h1></i></u></b>\n",
    "    <li><a href='#TableOfContents'>Table of Contents</a>\n",
    "    </li>\n",
    "</div>"
   ]
  },
  {
   "cell_type": "code",
   "execution_count": null,
   "id": "88563631",
   "metadata": {},
   "outputs": [],
   "source": []
  }
 ],
 "metadata": {
  "kernelspec": {
   "display_name": "Python 3 (ipykernel)",
   "language": "python",
   "name": "python3"
  },
  "language_info": {
   "codemirror_mode": {
    "name": "ipython",
    "version": 3
   },
   "file_extension": ".py",
   "mimetype": "text/x-python",
   "name": "python",
   "nbconvert_exporter": "python",
   "pygments_lexer": "ipython3",
   "version": "3.9.13"
  }
 },
 "nbformat": 4,
 "nbformat_minor": 5
}
