{
 "cells": [
  {
   "cell_type": "markdown",
   "id": "9bf0e1de",
   "metadata": {},
   "source": [
    "<div style='background-color:orange'>\n",
    "<a id='TableOfContents'></a>\n",
    "    <b><u><i><h1 style='text-align:center ; padding-top:5px'>\n",
    "        Table of Contents\n",
    "    </h1></i></u></b>\n",
    "    <li><a href='#imports'>Imports</a>\n",
    "    <li><a href='#wrangle'>Wrangle</a>\n",
    "    <li><a href='#explore'>Exploration</a>\n",
    "    <li><a href='#model'>Modeling</a>\n",
    "    <li><a href='#conclusion'>Conclusion</a>\n",
    "    </li>\n",
    "</div>"
   ]
  },
  {
   "cell_type": "markdown",
   "id": "6635d36b",
   "metadata": {},
   "source": [
    "<div style='background-color:orange'>\n",
    "<a id='imports'></a>\n",
    "    <b><u><i><h1 style='text-align:center ; padding-top:5px'>\n",
    "        Imports\n",
    "    </h1></i></u></b>\n",
    "    <li><a href='#TableOfContents'>Table of Contents</a>\n",
    "    </li>\n",
    "</div>"
   ]
  },
  {
   "cell_type": "code",
   "execution_count": 1,
   "id": "b4f15f56",
   "metadata": {},
   "outputs": [],
   "source": [
    "# Import 'final.py' to expedite and maintain cleanliness\n",
    "# of this file...\n",
    "import final as f"
   ]
  },
  {
   "cell_type": "markdown",
   "id": "b517a47a",
   "metadata": {},
   "source": [
    "<div style='background-color:orange'>\n",
    "<a id='wrangle'></a>\n",
    "    <b><u><i><h1 style='text-align:center ; padding-top:5px'>\n",
    "        Wrangle\n",
    "    </h1></i></u></b>\n",
    "    <li><a href='#TableOfContents'>Table of Contents</a>\n",
    "    </li>\n",
    "</div>"
   ]
  },
  {
   "cell_type": "markdown",
   "id": "7c9b1bdb",
   "metadata": {},
   "source": [
    "<h3><b>Acquire</b></h3>"
   ]
  },
  {
   "cell_type": "markdown",
   "id": "b65a7df2",
   "metadata": {},
   "source": [
    "Obtain {DATA NAME} dataset from {LOC OF DATA}"
   ]
  },
  {
   "cell_type": "code",
   "execution_count": 10,
   "id": "391123b6",
   "metadata": {},
   "outputs": [],
   "source": [
    "#raw_data = f.acquire()\n",
    "#raw_data.shape"
   ]
  },
  {
   "cell_type": "markdown",
   "id": "a5dbf1d8",
   "metadata": {},
   "source": [
    "- Vanilla 'raw_data' shape\n",
    "    - Rows: \n",
    "    - Columns: "
   ]
  },
  {
   "cell_type": "markdown",
   "id": "a30fdf29",
   "metadata": {},
   "source": [
    "---"
   ]
  },
  {
   "cell_type": "markdown",
   "id": "a17e2843",
   "metadata": {},
   "source": [
    "<h3><b>Prepare</b></h3>"
   ]
  },
  {
   "cell_type": "markdown",
   "id": "2d83b6e4",
   "metadata": {},
   "source": [
    "- Nulls\n",
    "    - COL NAME\n",
    "        - JUSTIFICATION\n",
    "- Drop Columns\n",
    "    - COL NAME\n",
    "        - JUSTIFICATION\n",
    "- Fix Columns\n",
    "    - COL NAME\n",
    "        - JUSTIFICATION\n",
    "        \n",
    "<b>THEREFORE:</b> SUMMARY OF PREPARATION HERE"
   ]
  },
  {
   "cell_type": "code",
   "execution_count": 9,
   "id": "6ccc6fe2",
   "metadata": {},
   "outputs": [],
   "source": [
    "# From the 'final.py' file...\n",
    "# Get the prepared dataframe of {DATA NAME} dataset\n",
    "#prep_data = f.prepare()\n",
    "#prep_data.shape"
   ]
  },
  {
   "cell_type": "markdown",
   "id": "58a44925",
   "metadata": {},
   "source": [
    "- Prepared 'prep_data' shape:\n",
    "    - Rows: \n",
    "    - Columns: "
   ]
  },
  {
   "cell_type": "markdown",
   "id": "153baecd",
   "metadata": {},
   "source": [
    "---"
   ]
  },
  {
   "cell_type": "markdown",
   "id": "634fd477",
   "metadata": {},
   "source": [
    "<h3><b>Nulls</b></h3>"
   ]
  },
  {
   "cell_type": "markdown",
   "id": "5258f5d3",
   "metadata": {},
   "source": [
    "- SUMMARY OF NULLS"
   ]
  },
  {
   "cell_type": "markdown",
   "id": "654736eb",
   "metadata": {},
   "source": [
    "---"
   ]
  },
  {
   "cell_type": "markdown",
   "id": "3bc3eb3b",
   "metadata": {},
   "source": [
    "<h3><b>Split</b></h3>"
   ]
  },
  {
   "cell_type": "markdown",
   "id": "a789cd21",
   "metadata": {},
   "source": [
    "- Train\n",
    "    - 70%\n",
    "- Validate\n",
    "    - 20%\n",
    "- Test\n",
    "    - 10%"
   ]
  },
  {
   "cell_type": "markdown",
   "id": "4ef21d1b",
   "metadata": {},
   "source": [
    "<div style='background-color:orange'>\n",
    "<a id='explore'></a>\n",
    "    <b><u><i><h1 style='text-align:center'>\n",
    "        Exploration\n",
    "    </h1></i></u></b>\n",
    "    <li><a href='#TableOfContents'>Table of Contents</a>\n",
    "    <li><a href='#visuals'>Key Visuals</a>\n",
    "    <li><a href='#exploresummary'>Summary</a>\n",
    "    </li>\n",
    "</div>"
   ]
  },
  {
   "cell_type": "markdown",
   "id": "c924a0a2",
   "metadata": {},
   "source": [
    "<a id='visuals'></a>\n",
    "<h3><b>Key Visuals</b></h3>\n",
    "<li><a href='#explore'>Exploration Top</a></li>"
   ]
  },
  {
   "cell_type": "markdown",
   "id": "34be45b5",
   "metadata": {},
   "source": [
    "<b>Question 1:</b> \n",
    "\n",
    "<b>H$_0$:</b> \n",
    "\n",
    "<b>H$_a$:</b> "
   ]
  },
  {
   "cell_type": "code",
   "execution_count": 1,
   "id": "0999fb3f",
   "metadata": {},
   "outputs": [],
   "source": [
    "# From the 'final.py' file...\n",
    "# Get the {PLOT} of {FEATURE} vs. {FEATURE}\n"
   ]
  },
  {
   "cell_type": "code",
   "execution_count": 2,
   "id": "b3d09640",
   "metadata": {},
   "outputs": [],
   "source": [
    "# From the 'final.py' file...\n",
    "# Get the {STAT} of {FEATURE} vs. {FEATURE}\n"
   ]
  },
  {
   "cell_type": "markdown",
   "id": "63c95d13",
   "metadata": {},
   "source": [
    "<b>Q1 Answer:</b> "
   ]
  },
  {
   "cell_type": "markdown",
   "id": "d90c8f58",
   "metadata": {},
   "source": [
    "---"
   ]
  },
  {
   "cell_type": "markdown",
   "id": "3a562ff5",
   "metadata": {},
   "source": [
    "<b>Question 2:</b> \n",
    "\n",
    "<b>H$_0$:</b> \n",
    "\n",
    "<b>H$_a$:</b> "
   ]
  },
  {
   "cell_type": "code",
   "execution_count": 3,
   "id": "734d0264",
   "metadata": {},
   "outputs": [],
   "source": [
    "# From the 'final.py' file...\n",
    "# Get the {PLOT} of {FEATURE} vs. {FEATURE}\n"
   ]
  },
  {
   "cell_type": "code",
   "execution_count": 4,
   "id": "c053c142",
   "metadata": {},
   "outputs": [],
   "source": [
    "# From the 'final.py' file...\n",
    "# Get the {STAT} of {FEATURE} vs. {FEATURE}\n"
   ]
  },
  {
   "cell_type": "markdown",
   "id": "b286c4b0",
   "metadata": {},
   "source": [
    "<b>Q2 Answer:</b> "
   ]
  },
  {
   "cell_type": "markdown",
   "id": "c6f2f752",
   "metadata": {},
   "source": [
    "---"
   ]
  },
  {
   "cell_type": "markdown",
   "id": "70ab3c6f",
   "metadata": {},
   "source": [
    "<b>Question 3:</b> \n",
    "\n",
    "<b>H$_0$:</b> \n",
    "\n",
    "<b>H$_a$:</b> "
   ]
  },
  {
   "cell_type": "code",
   "execution_count": 5,
   "id": "33c6ef81",
   "metadata": {},
   "outputs": [],
   "source": [
    "# From the 'final.py' file...\n",
    "# Get the {PLOT} of {FEATURE} vs. {FEATURE}\n"
   ]
  },
  {
   "cell_type": "code",
   "execution_count": 6,
   "id": "46dc3e3e",
   "metadata": {},
   "outputs": [],
   "source": [
    "# From the 'final.py' file...\n",
    "# Get the {STAT} of {FEATURE} vs. {FEATURE}\n"
   ]
  },
  {
   "cell_type": "markdown",
   "id": "475ba400",
   "metadata": {},
   "source": [
    "<b>Q3 Answer:</b> "
   ]
  },
  {
   "cell_type": "markdown",
   "id": "d85f6534",
   "metadata": {},
   "source": [
    "---"
   ]
  },
  {
   "cell_type": "markdown",
   "id": "47858c9c",
   "metadata": {},
   "source": [
    "<b>Question 4:</b> \n",
    "\n",
    "<b>H$_0$:</b> \n",
    "\n",
    "<b>H$_a$:</b> "
   ]
  },
  {
   "cell_type": "code",
   "execution_count": 7,
   "id": "70e54f24",
   "metadata": {},
   "outputs": [],
   "source": [
    "# From the 'final.py' file...\n",
    "# Get the {PLOT} of {FEATURE} vs. {FEATURE}\n"
   ]
  },
  {
   "cell_type": "code",
   "execution_count": 8,
   "id": "d616d274",
   "metadata": {},
   "outputs": [],
   "source": [
    "# From the 'final.py' file...\n",
    "# Get the {STAT} of {FEATURE} vs. {FEATURE}\n"
   ]
  },
  {
   "cell_type": "markdown",
   "id": "cb4126e4",
   "metadata": {},
   "source": [
    "<b>Q4 Answer:</b> "
   ]
  },
  {
   "cell_type": "markdown",
   "id": "c20a60df",
   "metadata": {},
   "source": [
    "---"
   ]
  },
  {
   "cell_type": "markdown",
   "id": "b8242f5a",
   "metadata": {},
   "source": [
    "<a id='exploresummary'></a>\n",
    "<h3><b>Summary</b></h3>\n",
    "<li><a href='#explore'>Exploration Top</a></li>"
   ]
  },
  {
   "cell_type": "markdown",
   "id": "a481705a",
   "metadata": {},
   "source": [
    "SUMMARY OF EXPLORATION"
   ]
  },
  {
   "cell_type": "markdown",
   "id": "6e1c7641",
   "metadata": {},
   "source": [
    "<div style='background-color:orange'>\n",
    "<a id='model'></a>\n",
    "    <b><u><i><h1 style='text-align:center ; padding-top:5px'>\n",
    "        Modeling\n",
    "    </h1></i></u></b>\n",
    "    <li><a href='#TableOfContents'>Table of Contents</a>\n",
    "    <li><a href='#baseline'>Baseline</a>\n",
    "    <li><a href='#modeltable'>Models Table</a>\n",
    "    <li><a href='#bestmodel'>Best Model</a>\n",
    "    </li>\n",
    "</div>"
   ]
  },
  {
   "cell_type": "markdown",
   "id": "5e69a6d0",
   "metadata": {},
   "source": [
    "<a id='baseline'></a>\n",
    "<h3><b>Baseline</b></h3>\n",
    "<li><a href='#model'>Modeling Top</a></li>"
   ]
  },
  {
   "cell_type": "code",
   "execution_count": 2,
   "id": "64cb4058",
   "metadata": {},
   "outputs": [],
   "source": [
    "# From the 'final.py' file...\n",
    "# Obtain the baseline score of {FEATURE} via {METHOD}\n"
   ]
  },
  {
   "cell_type": "markdown",
   "id": "3012b3f5",
   "metadata": {},
   "source": [
    "---"
   ]
  },
  {
   "cell_type": "markdown",
   "id": "0c265b70",
   "metadata": {},
   "source": [
    "<a id='modeltable'></a>\n",
    "<h3><b>Models Table</b></h3>\n",
    "<li><a href='#model'>Modeling Top</a></li>"
   ]
  },
  {
   "cell_type": "code",
   "execution_count": 3,
   "id": "01d79150",
   "metadata": {},
   "outputs": [],
   "source": [
    "# From the 'final.py' file...\n",
    "# Get the scores of the baseline and 4 unique models\n"
   ]
  },
  {
   "cell_type": "markdown",
   "id": "f3ccf259",
   "metadata": {},
   "source": [
    "{METRIC HERE}:\n",
    "\n",
    "{EXPLANATION OF REASONING HERE}"
   ]
  },
  {
   "cell_type": "markdown",
   "id": "b8348306",
   "metadata": {},
   "source": [
    "---"
   ]
  },
  {
   "cell_type": "markdown",
   "id": "fc1b43ed",
   "metadata": {},
   "source": [
    "<a id='bestmodel'></a>\n",
    "<h3><b>Best Model</b></h3>\n",
    "<li><a href='#model'>Modeling Top</a></li>"
   ]
  },
  {
   "cell_type": "code",
   "execution_count": 4,
   "id": "c9fe51ac",
   "metadata": {},
   "outputs": [],
   "source": [
    "# From the 'final.py' file...\n",
    "# Get the scores of the baseline and the best model\n"
   ]
  },
  {
   "cell_type": "markdown",
   "id": "03bb7a65",
   "metadata": {},
   "source": [
    "<div style='background-color:orange'>\n",
    "<a id='conclusion'></a>\n",
    "    <b><u><i><h1 style='text-align:center ; padding-top:5px'>\n",
    "        Conclusion\n",
    "    </h1></i></u></b>\n",
    "    <li><a href='#TableOfContents'>Table of Contents</a>\n",
    "    <li><a href='#conclusionsummary'>Summary</a>\n",
    "    <li><a href='#rec'>Recommendations</a>\n",
    "    <li><a href='#nextsteps'>Next-Steps</a>\n",
    "    </li>\n",
    "</div>"
   ]
  },
  {
   "cell_type": "markdown",
   "id": "ad8259d8",
   "metadata": {},
   "source": [
    "<a id='conclusionsummary'></a>\n",
    "<h3><b>Summary</b></h3>\n",
    "<li><a href='#conclusion'>Conclusion Top</a></li>"
   ]
  },
  {
   "cell_type": "markdown",
   "id": "5d1f5ea3",
   "metadata": {},
   "source": [
    "SUMMARY HERE"
   ]
  },
  {
   "cell_type": "markdown",
   "id": "d98a7b21",
   "metadata": {},
   "source": [
    "---"
   ]
  },
  {
   "cell_type": "markdown",
   "id": "b04314bc",
   "metadata": {},
   "source": [
    "<a id='rec'></a>\n",
    "<h3><b>Recommendations</b></h3>\n",
    "<li><a href='#conclusion'>Conclusion Top</a></li>"
   ]
  },
  {
   "cell_type": "markdown",
   "id": "4ae21204",
   "metadata": {},
   "source": [
    "RECOMMENDATIONS HERE"
   ]
  },
  {
   "cell_type": "markdown",
   "id": "ae99078c",
   "metadata": {},
   "source": [
    "---"
   ]
  },
  {
   "cell_type": "markdown",
   "id": "7f93b4d0",
   "metadata": {},
   "source": [
    "<a id='nextsteps'></a>\n",
    "<h3><b>Next-Steps</b></h3>\n",
    "<li><a href='#conclusion'>Conclusion Top</a></li>"
   ]
  },
  {
   "cell_type": "markdown",
   "id": "fc095ac6",
   "metadata": {},
   "source": [
    "NEXT-STEPS HERE"
   ]
  },
  {
   "cell_type": "code",
   "execution_count": null,
   "id": "d48f0ba7",
   "metadata": {},
   "outputs": [],
   "source": []
  }
 ],
 "metadata": {
  "kernelspec": {
   "display_name": "Python 3 (ipykernel)",
   "language": "python",
   "name": "python3"
  },
  "language_info": {
   "codemirror_mode": {
    "name": "ipython",
    "version": 3
   },
   "file_extension": ".py",
   "mimetype": "text/x-python",
   "name": "python",
   "nbconvert_exporter": "python",
   "pygments_lexer": "ipython3",
   "version": "3.9.13"
  }
 },
 "nbformat": 4,
 "nbformat_minor": 5
}
