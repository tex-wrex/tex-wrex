{
 "cells": [
  {
   "cell_type": "markdown",
   "id": "067c6c6b",
   "metadata": {},
   "source": [
    "<div style='background-color:orange'>\n",
    "<a id=\"TableOfContents\"></a>\n",
    "    <h1 style='text-align:center ; top-padding:5px'>\n",
    "        <b><i>\n",
    "            TABLE OF CONTENTS:\n",
    "        </i></b></h1>\n",
    "    <li><a href='#imports'>Imports</a>\n",
    "    <li><a href=\"#acquire\">Acquire</a>\n",
    "    <li><a href='#prepare'>Prepare</a>\n",
    "    <li><a href=\"#wrangle\">Wrangle</a>\n",
    "    <li><a href='#misc'>Miscellaneous</a>\n",
    "    </li>\n",
    "</div>"
   ]
  },
  {
   "cell_type": "markdown",
   "id": "793b55d6",
   "metadata": {},
   "source": [
    "<div style='background-color:orange'>\n",
    "<a id=\"imports\"></a>\n",
    "    <h1 style='text-align:center ; top-padding:5px'>\n",
    "        <b><i>\n",
    "            Imports\n",
    "        </i></b></h1>\n",
    "    <li><a href='#TableOfContents'>Table of Contents</a>\n",
    "    </li>\n",
    "</div>"
   ]
  },
  {
   "cell_type": "code",
   "execution_count": 1,
   "id": "beb5f3e4",
   "metadata": {},
   "outputs": [],
   "source": [
    "# Vectorization and tables\n",
    "import numpy as np\n",
    "import pandas as pd\n",
    "\n",
    "# Regex\n",
    "import re\n",
    "\n",
    "# .py files\n",
    "import wrangle as w\n",
    "\n",
    "# Ignore warnings\n",
    "import warnings\n",
    "warnings.filterwarnings('ignore')"
   ]
  },
  {
   "cell_type": "markdown",
   "id": "84cd970a",
   "metadata": {},
   "source": [
    "<div style='background-color:orange'>\n",
    "<a id=\"acquire\"></a>\n",
    "    <h1 style='text-align:center ; top-padding:5px'>\n",
    "        <b><i>\n",
    "            Acquire\n",
    "        </i></b></h1>\n",
    "    <li><a href='#TableOfContents'>Table of Contents</a>\n",
    "    </li>\n",
    "</div>"
   ]
  },
  {
   "cell_type": "markdown",
   "id": "9dbe69c7",
   "metadata": {},
   "source": [
    "Acquire all crashes with motorcycles in Texas from the 2018 - 2022 via <a href='https://cris.dot.state.tx.us/public/Query/app/query-builder'>CRIS Query</a> data pull\n",
    "\n",
    "- Master Vanilla Shape:\n",
    "    - Rows: 81,153\n",
    "    - Columns: 233"
   ]
  },
  {
   "cell_type": "code",
   "execution_count": 2,
   "id": "8b7f35cf",
   "metadata": {},
   "outputs": [
    {
     "data": {
      "text/plain": [
       "(81153, 233)"
      ]
     },
     "execution_count": 2,
     "metadata": {},
     "output_type": "execute_result"
    }
   ],
   "source": [
    "# Read the .csv exported file from CRIS Query\n",
    "master = pd.read_csv('master_list.csv', index_col=0)\n",
    "master.shape"
   ]
  },
  {
   "cell_type": "markdown",
   "id": "3fc72510",
   "metadata": {},
   "source": [
    "<div style='background-color:orange'>\n",
    "<a id=\"prepare\"></a>\n",
    "    <h1 style='text-align:center ; top-padding:5px'>\n",
    "        <b><i>\n",
    "            Prepare\n",
    "        </i></b></h1>\n",
    "    <li><a href='#TableOfContents'>Table of Contents</a>\n",
    "    <li><a href='#preparenormalize'>Normalize Columns</a>\n",
    "    <li><a href='#preparenulls'>Null Handling</a>\n",
    "    <li><a href='#preparesvc'>Identify Single Vehicle Crashes(SVC)</a>\n",
    "    <li><a href='#prepareremovespecific'>Remove Specific Columns</a>\n",
    "    <li><a href='#prepareremovethreshold'>Remove Columns By Null Thresholds</a>\n",
    "    <li><a href='#preparetarget'>Fix Target Column</a>\n",
    "    <li><a href='#preparesummary'>Preparation Summary</a>\n",
    "    <li><a href='#preparedatetime'>Create Crash Datetime Column</a>\n",
    "    </li>\n",
    "</div>"
   ]
  },
  {
   "cell_type": "markdown",
   "id": "dbf2e94f",
   "metadata": {},
   "source": [
    "<a id='preparenormalize'></a>\n",
    "<h3><b><i>\n",
    "    Normalize Columns:\n",
    "</i></b></h3>\n",
    "<li><a href='#prepare'>Prepare Top</a></li>"
   ]
  },
  {
   "cell_type": "code",
   "execution_count": 3,
   "id": "c6211f71",
   "metadata": {},
   "outputs": [
    {
     "data": {
      "text/html": [
       "<div>\n",
       "<style scoped>\n",
       "    .dataframe tbody tr th:only-of-type {\n",
       "        vertical-align: middle;\n",
       "    }\n",
       "\n",
       "    .dataframe tbody tr th {\n",
       "        vertical-align: top;\n",
       "    }\n",
       "\n",
       "    .dataframe thead th {\n",
       "        text-align: right;\n",
       "    }\n",
       "</style>\n",
       "<table border=\"1\" class=\"dataframe\">\n",
       "  <thead>\n",
       "    <tr style=\"text-align: right;\">\n",
       "      <th></th>\n",
       "      <th>Crash ID</th>\n",
       "      <th>$1000 Damage to Any One Person's Property</th>\n",
       "      <th>Active School Zone Flag</th>\n",
       "      <th>Adjusted Average Daily Traffic Amount</th>\n",
       "      <th>Adjusted Percentage of Average Daily Traffic For Trucks</th>\n",
       "      <th>Adjusted Roadway Part</th>\n",
       "      <th>Agency</th>\n",
       "      <th>At Intersection Flag</th>\n",
       "      <th>Average Daily Traffic Amount</th>\n",
       "      <th>Average Daily Traffic Year</th>\n",
       "      <th>...</th>\n",
       "      <th>Person Non-Suspected Serious Injury Count</th>\n",
       "      <th>Person Not Injured Count</th>\n",
       "      <th>Person Possible Injury Count</th>\n",
       "      <th>Person Restraint Used</th>\n",
       "      <th>Person Suspected Serious Injury Count</th>\n",
       "      <th>Person Time of Death</th>\n",
       "      <th>Person Total Injury Count</th>\n",
       "      <th>Person Type</th>\n",
       "      <th>Person Unknown Injury Count</th>\n",
       "      <th>Physical Location of An Occupant</th>\n",
       "    </tr>\n",
       "  </thead>\n",
       "  <tbody>\n",
       "    <tr>\n",
       "      <th>0</th>\n",
       "      <td>16189632</td>\n",
       "      <td>No</td>\n",
       "      <td>NO</td>\n",
       "      <td>No Data</td>\n",
       "      <td>No Data</td>\n",
       "      <td>1 - MAIN/PROPER LANE</td>\n",
       "      <td>DEPARTMENT OF PUBLIC SAFETY, STATE OF TEXAS</td>\n",
       "      <td>False</td>\n",
       "      <td>No Data</td>\n",
       "      <td>No Data</td>\n",
       "      <td>...</td>\n",
       "      <td>0</td>\n",
       "      <td>0</td>\n",
       "      <td>0</td>\n",
       "      <td>97 - NOT APPLICABLE</td>\n",
       "      <td>1</td>\n",
       "      <td>No Data</td>\n",
       "      <td>1</td>\n",
       "      <td>5 - DRIVER OF MOTORCYCLE TYPE VEHICLE</td>\n",
       "      <td>0</td>\n",
       "      <td>1 - FRONT LEFT OR MOTORCYCLE DRIVER</td>\n",
       "    </tr>\n",
       "    <tr>\n",
       "      <th>1</th>\n",
       "      <td>16188701</td>\n",
       "      <td>Yes</td>\n",
       "      <td>NO</td>\n",
       "      <td>No Data</td>\n",
       "      <td>No Data</td>\n",
       "      <td>1 - MAIN/PROPER LANE</td>\n",
       "      <td>ABILENE POLICE DEPARTMENT</td>\n",
       "      <td>True</td>\n",
       "      <td>No Data</td>\n",
       "      <td>No Data</td>\n",
       "      <td>...</td>\n",
       "      <td>0</td>\n",
       "      <td>1</td>\n",
       "      <td>0</td>\n",
       "      <td>1 - SHOULDER &amp; LAP BELT</td>\n",
       "      <td>0</td>\n",
       "      <td>No Data</td>\n",
       "      <td>0</td>\n",
       "      <td>1 - DRIVER</td>\n",
       "      <td>0</td>\n",
       "      <td>1 - FRONT LEFT OR MOTORCYCLE DRIVER</td>\n",
       "    </tr>\n",
       "  </tbody>\n",
       "</table>\n",
       "<p>2 rows × 234 columns</p>\n",
       "</div>"
      ],
      "text/plain": [
       "   Crash ID $1000 Damage to Any One Person's Property Active School Zone Flag   \n",
       "0  16189632                                        No                      NO  \\\n",
       "1  16188701                                       Yes                      NO   \n",
       "\n",
       "  Adjusted Average Daily Traffic Amount   \n",
       "0                               No Data  \\\n",
       "1                               No Data   \n",
       "\n",
       "  Adjusted Percentage of Average Daily Traffic For Trucks   \n",
       "0                                            No Data       \\\n",
       "1                                            No Data        \n",
       "\n",
       "  Adjusted Roadway Part                                       Agency   \n",
       "0  1 - MAIN/PROPER LANE  DEPARTMENT OF PUBLIC SAFETY, STATE OF TEXAS  \\\n",
       "1  1 - MAIN/PROPER LANE                    ABILENE POLICE DEPARTMENT   \n",
       "\n",
       "   At Intersection Flag Average Daily Traffic Amount   \n",
       "0                 False                      No Data  \\\n",
       "1                  True                      No Data   \n",
       "\n",
       "  Average Daily Traffic Year  ... Person Non-Suspected Serious Injury Count   \n",
       "0                    No Data  ...                                         0  \\\n",
       "1                    No Data  ...                                         0   \n",
       "\n",
       "  Person Not Injured Count Person Possible Injury Count   \n",
       "0                        0                            0  \\\n",
       "1                        1                            0   \n",
       "\n",
       "     Person Restraint Used Person Suspected Serious Injury Count   \n",
       "0      97 - NOT APPLICABLE                                     1  \\\n",
       "1  1 - SHOULDER & LAP BELT                                     0   \n",
       "\n",
       "  Person Time of Death Person Total Injury Count   \n",
       "0              No Data                         1  \\\n",
       "1              No Data                         0   \n",
       "\n",
       "                             Person Type Person Unknown Injury Count   \n",
       "0  5 - DRIVER OF MOTORCYCLE TYPE VEHICLE                           0  \\\n",
       "1                             1 - DRIVER                           0   \n",
       "\n",
       "      Physical Location of An Occupant  \n",
       "0  1 - FRONT LEFT OR MOTORCYCLE DRIVER  \n",
       "1  1 - FRONT LEFT OR MOTORCYCLE DRIVER  \n",
       "\n",
       "[2 rows x 234 columns]"
      ]
     },
     "execution_count": 3,
     "metadata": {},
     "output_type": "execute_result"
    }
   ],
   "source": [
    "# Reset the index to ensure crash id's are not the index\n",
    "master.reset_index(inplace=True)\n",
    "master.head(2)"
   ]
  },
  {
   "cell_type": "code",
   "execution_count": 4,
   "id": "9fad7896",
   "metadata": {
    "scrolled": true
   },
   "outputs": [
    {
     "data": {
      "text/plain": [
       "Index(['crash_id', '$1000_damage_to_any_one_person's_property',\n",
       "       'active_school_zone_flag', 'adjusted_average_daily_traffic_amount',\n",
       "       'adjusted_percentage_of_average_daily_traffic_for_trucks',\n",
       "       'adjusted_roadway_part', 'agency', 'at_intersection_flag',\n",
       "       'average_daily_traffic_amount', 'average_daily_traffic_year',\n",
       "       ...\n",
       "       'person_non-suspected_serious_injury_count', 'person_not_injured_count',\n",
       "       'person_possible_injury_count', 'person_restraint_used',\n",
       "       'person_suspected_serious_injury_count', 'person_time_of_death',\n",
       "       'person_total_injury_count', 'person_type',\n",
       "       'person_unknown_injury_count', 'physical_location_of_an_occupant'],\n",
       "      dtype='object', length=234)"
      ]
     },
     "execution_count": 4,
     "metadata": {},
     "output_type": "execute_result"
    }
   ],
   "source": [
    "# Replace all whitespace and lowercase everything\n",
    "master.columns = master.columns.str.replace(' ', '_').str.lower()\n",
    "master.columns"
   ]
  },
  {
   "cell_type": "markdown",
   "id": "1a7ab04c",
   "metadata": {},
   "source": [
    "---"
   ]
  },
  {
   "cell_type": "markdown",
   "id": "e1af2666",
   "metadata": {},
   "source": [
    "<a id='preparenulls'></a>\n",
    "<h3><b><i>\n",
    "    Null Handling:\n",
    "</i></b></h3>\n",
    "<li><a href='#prepare'>Prepare Top</a></li>"
   ]
  },
  {
   "cell_type": "code",
   "execution_count": 5,
   "id": "dac1a36c",
   "metadata": {
    "scrolled": true
   },
   "outputs": [
    {
     "data": {
      "text/plain": [
       "case_id                             9939\n",
       "intersecting_street_name           47292\n",
       "street_name                            2\n",
       "carrier's_primary_address_-_zip    80077\n",
       "driver_license_endorsements          378\n",
       "driver_license_restrictions          378\n",
       "vehicle_towed_by                    1692\n",
       "vehicle_towed_to                    2168\n",
       "charge                                38\n",
       "citation                              55\n",
       "dtype: int64"
      ]
     },
     "execution_count": 5,
     "metadata": {},
     "output_type": "execute_result"
    }
   ],
   "source": [
    "# Identify columns with null values first\n",
    "columns_with_nulls = master.columns[master.isna().sum() > 0]\n",
    "master[columns_with_nulls].isna().sum()"
   ]
  },
  {
   "cell_type": "code",
   "execution_count": 6,
   "id": "24e26d5b",
   "metadata": {},
   "outputs": [],
   "source": [
    "# Convert all nulls to 'No Data' to maintain consistency with\n",
    "# null value formatting from original data pull\n",
    "master.fillna('No Data', inplace=True)"
   ]
  },
  {
   "cell_type": "code",
   "execution_count": 7,
   "id": "1b4d238c",
   "metadata": {},
   "outputs": [
    {
     "data": {
      "text/html": [
       "<div>\n",
       "<style scoped>\n",
       "    .dataframe tbody tr th:only-of-type {\n",
       "        vertical-align: middle;\n",
       "    }\n",
       "\n",
       "    .dataframe tbody tr th {\n",
       "        vertical-align: top;\n",
       "    }\n",
       "\n",
       "    .dataframe thead th {\n",
       "        text-align: right;\n",
       "    }\n",
       "</style>\n",
       "<table border=\"1\" class=\"dataframe\">\n",
       "  <thead>\n",
       "    <tr style=\"text-align: right;\">\n",
       "      <th></th>\n",
       "      <th>crash_id</th>\n",
       "      <th>$1000_damage_to_any_one_person's_property</th>\n",
       "      <th>active_school_zone_flag</th>\n",
       "      <th>adjusted_average_daily_traffic_amount</th>\n",
       "      <th>adjusted_percentage_of_average_daily_traffic_for_trucks</th>\n",
       "      <th>adjusted_roadway_part</th>\n",
       "      <th>agency</th>\n",
       "      <th>at_intersection_flag</th>\n",
       "      <th>average_daily_traffic_amount</th>\n",
       "      <th>average_daily_traffic_year</th>\n",
       "      <th>...</th>\n",
       "      <th>person_non-suspected_serious_injury_count</th>\n",
       "      <th>person_not_injured_count</th>\n",
       "      <th>person_possible_injury_count</th>\n",
       "      <th>person_restraint_used</th>\n",
       "      <th>person_suspected_serious_injury_count</th>\n",
       "      <th>person_time_of_death</th>\n",
       "      <th>person_total_injury_count</th>\n",
       "      <th>person_type</th>\n",
       "      <th>person_unknown_injury_count</th>\n",
       "      <th>physical_location_of_an_occupant</th>\n",
       "    </tr>\n",
       "  </thead>\n",
       "  <tbody>\n",
       "    <tr>\n",
       "      <th>0</th>\n",
       "      <td>16189632</td>\n",
       "      <td>No</td>\n",
       "      <td>NO</td>\n",
       "      <td>no data</td>\n",
       "      <td>no data</td>\n",
       "      <td>1 - MAIN/PROPER LANE</td>\n",
       "      <td>DEPARTMENT OF PUBLIC SAFETY, STATE OF TEXAS</td>\n",
       "      <td>False</td>\n",
       "      <td>no data</td>\n",
       "      <td>no data</td>\n",
       "      <td>...</td>\n",
       "      <td>0</td>\n",
       "      <td>0</td>\n",
       "      <td>0</td>\n",
       "      <td>97 - NOT APPLICABLE</td>\n",
       "      <td>1</td>\n",
       "      <td>no data</td>\n",
       "      <td>1</td>\n",
       "      <td>5 - DRIVER OF MOTORCYCLE TYPE VEHICLE</td>\n",
       "      <td>0</td>\n",
       "      <td>1 - FRONT LEFT OR MOTORCYCLE DRIVER</td>\n",
       "    </tr>\n",
       "    <tr>\n",
       "      <th>1</th>\n",
       "      <td>16188701</td>\n",
       "      <td>Yes</td>\n",
       "      <td>NO</td>\n",
       "      <td>no data</td>\n",
       "      <td>no data</td>\n",
       "      <td>1 - MAIN/PROPER LANE</td>\n",
       "      <td>ABILENE POLICE DEPARTMENT</td>\n",
       "      <td>True</td>\n",
       "      <td>no data</td>\n",
       "      <td>no data</td>\n",
       "      <td>...</td>\n",
       "      <td>0</td>\n",
       "      <td>1</td>\n",
       "      <td>0</td>\n",
       "      <td>1 - SHOULDER &amp; LAP BELT</td>\n",
       "      <td>0</td>\n",
       "      <td>no data</td>\n",
       "      <td>0</td>\n",
       "      <td>1 - DRIVER</td>\n",
       "      <td>0</td>\n",
       "      <td>1 - FRONT LEFT OR MOTORCYCLE DRIVER</td>\n",
       "    </tr>\n",
       "  </tbody>\n",
       "</table>\n",
       "<p>2 rows × 234 columns</p>\n",
       "</div>"
      ],
      "text/plain": [
       "   crash_id $1000_damage_to_any_one_person's_property active_school_zone_flag   \n",
       "0  16189632                                        No                      NO  \\\n",
       "1  16188701                                       Yes                      NO   \n",
       "\n",
       "  adjusted_average_daily_traffic_amount   \n",
       "0                               no data  \\\n",
       "1                               no data   \n",
       "\n",
       "  adjusted_percentage_of_average_daily_traffic_for_trucks   \n",
       "0                                            no data       \\\n",
       "1                                            no data        \n",
       "\n",
       "  adjusted_roadway_part                                       agency   \n",
       "0  1 - MAIN/PROPER LANE  DEPARTMENT OF PUBLIC SAFETY, STATE OF TEXAS  \\\n",
       "1  1 - MAIN/PROPER LANE                    ABILENE POLICE DEPARTMENT   \n",
       "\n",
       "   at_intersection_flag average_daily_traffic_amount   \n",
       "0                 False                      no data  \\\n",
       "1                  True                      no data   \n",
       "\n",
       "  average_daily_traffic_year  ... person_non-suspected_serious_injury_count   \n",
       "0                    no data  ...                                         0  \\\n",
       "1                    no data  ...                                         0   \n",
       "\n",
       "  person_not_injured_count person_possible_injury_count   \n",
       "0                        0                            0  \\\n",
       "1                        1                            0   \n",
       "\n",
       "     person_restraint_used person_suspected_serious_injury_count   \n",
       "0      97 - NOT APPLICABLE                                     1  \\\n",
       "1  1 - SHOULDER & LAP BELT                                     0   \n",
       "\n",
       "  person_time_of_death person_total_injury_count   \n",
       "0              no data                         1  \\\n",
       "1              no data                         0   \n",
       "\n",
       "                             person_type person_unknown_injury_count   \n",
       "0  5 - DRIVER OF MOTORCYCLE TYPE VEHICLE                           0  \\\n",
       "1                             1 - DRIVER                           0   \n",
       "\n",
       "      physical_location_of_an_occupant  \n",
       "0  1 - FRONT LEFT OR MOTORCYCLE DRIVER  \n",
       "1  1 - FRONT LEFT OR MOTORCYCLE DRIVER  \n",
       "\n",
       "[2 rows x 234 columns]"
      ]
     },
     "execution_count": 7,
     "metadata": {},
     "output_type": "execute_result"
    }
   ],
   "source": [
    "# Ensure all occurances of 'No Data' is consistent as 'no data' \n",
    "# and isn't varients like 'NO DATA', 'No DaTa', etc.\n",
    "master = master.replace(to_replace=re.compile(r'.*no\\s*data.*', re.IGNORECASE), value='no data', regex=True)\n",
    "master.head(2)"
   ]
  },
  {
   "cell_type": "markdown",
   "id": "d75779a5",
   "metadata": {},
   "source": [
    "---"
   ]
  },
  {
   "cell_type": "markdown",
   "id": "56078c0d",
   "metadata": {},
   "source": [
    "<a id='preparesvc'></a>\n",
    "<h3><b><i>\n",
    "    Identify Single Vehicle Crashes(SVC):\n",
    "</i></b></h3>\n",
    "<li><a href='#prepare'>Prepare Top</a></li>"
   ]
  },
  {
   "cell_type": "code",
   "execution_count": 8,
   "id": "580395be",
   "metadata": {},
   "outputs": [
    {
     "data": {
      "text/plain": [
       "(14548, 234)"
      ]
     },
     "execution_count": 8,
     "metadata": {},
     "output_type": "execute_result"
    }
   ],
   "source": [
    "# Using the function from wrangle.py,\n",
    "# Get only single motorcycle crashes\n",
    "svcs = w.get_single_motorcycle_crashes(master)\n",
    "svcs.shape"
   ]
  },
  {
   "cell_type": "code",
   "execution_count": 9,
   "id": "bf59a864",
   "metadata": {},
   "outputs": [
    {
     "data": {
      "text/plain": [
       "14548"
      ]
     },
     "execution_count": 9,
     "metadata": {},
     "output_type": "execute_result"
    }
   ],
   "source": [
    "# Ensure each crash is unique (Meaning each crash only has one vehicle)\n",
    "svcs.crash_id.nunique()"
   ]
  },
  {
   "cell_type": "code",
   "execution_count": 10,
   "id": "930d4c6c",
   "metadata": {},
   "outputs": [
    {
     "data": {
      "text/plain": [
       "person_type\n",
       "5 - DRIVER OF MOTORCYCLE TYPE VEHICLE    14548\n",
       "Name: count, dtype: int64"
      ]
     },
     "execution_count": 10,
     "metadata": {},
     "output_type": "execute_result"
    }
   ],
   "source": [
    "# Ensure only motorcyclists are identified\n",
    "svcs.person_type.value_counts()"
   ]
  },
  {
   "cell_type": "code",
   "execution_count": 11,
   "id": "ddc14800",
   "metadata": {},
   "outputs": [
    {
     "data": {
      "text/plain": [
       "vehicle_body_style\n",
       "MC - MOTORCYCLE           14517\n",
       "PM - POLICE MOTORCYCLE       31\n",
       "Name: count, dtype: int64"
      ]
     },
     "execution_count": 11,
     "metadata": {},
     "output_type": "execute_result"
    }
   ],
   "source": [
    "svcs.vehicle_body_style.value_counts()"
   ]
  },
  {
   "cell_type": "markdown",
   "id": "ef1d7a7c",
   "metadata": {},
   "source": [
    "- Single Vehicle Crashes (SVCs // Motorcyclists) Shape:\n",
    "    - Rows: 14,548\n",
    "    - Columns: 234"
   ]
  },
  {
   "cell_type": "markdown",
   "id": "d6d3ad72",
   "metadata": {},
   "source": [
    "---"
   ]
  },
  {
   "cell_type": "markdown",
   "id": "8bd6f43c",
   "metadata": {},
   "source": [
    "<a id='prepareremovespecific'></a>\n",
    "<h3><b><i>\n",
    "    Remove Specific Columns:\n",
    "</i></b></h3>\n",
    "<li><a href='#prepare'>Prepare Top</a></li>"
   ]
  },
  {
   "cell_type": "code",
   "execution_count": 12,
   "id": "cac361e7",
   "metadata": {},
   "outputs": [],
   "source": [
    "# Specific columns to remove\n",
    "# Due to things like redundancy, data poisoning, and isn't useful\n",
    "# in the scope of predictive value in modeling\n",
    "cols_to_remove = [\n",
    "    'driver_drug_specimen_type',\n",
    "    'person_drug_specimen_type',\n",
    "    'person_drug_test_result',\n",
    "    'driver_alcohol_result',\n",
    "    'driver_alcohol_specimen_type',\n",
    "    'person_alcohol_result',\n",
    "    'person_alcohol_specimen_type_taken',\n",
    "    'person_blood_alcohol_content_test_result',\n",
    "    'crash_non-suspected_serious_injury_count',\n",
    "    'crash_not_injured_count',\n",
    "    'crash_possible_injury_count',\n",
    "    'crash_suspected_serious_injury_count',\n",
    "    'crash_total_injury_count',\n",
    "    'crash_unknown_injury_count',\n",
    "    'unit_non-suspected_serious_injury_count',\n",
    "    'unit_not_injured_count',\n",
    "    'unit_possible_injury_count',\n",
    "    'unit_suspected_serious_injury_count',\n",
    "    'unit_total_injury_count',\n",
    "    'unit_unknown_injury_count',\n",
    "    'person_non-suspected_serious_injury_count',\n",
    "    'person_not_injured_count',\n",
    "    'person_possible_injury_count',\n",
    "    'person_suspected_serious_injury_count',\n",
    "    'person_total_injury_count',\n",
    "    'person_unknown_injury_count',\n",
    "    'crash_death_count',\n",
    "    'driver_time_of_death',\n",
    "    'unit_death_count',\n",
    "    'person_death_count',\n",
    "    'person_time_of_death',\n",
    "    'autonomous_level_engaged',\n",
    "    'autonomous_unit_-_reported',\n",
    "    'school_bus_flag',\n",
    "    'bus_type',\n",
    "    'cmv_actual_gross_weight',\n",
    "    'cmv_cargo_body_type',\n",
    "    'cmv_carrier_id_type',\n",
    "    'cmv_disabling_damage_-_power_unit',\n",
    "    'cmv_gvwr',\n",
    "    'cmv_hazmat_release_flag',\n",
    "    'cmv_intermodal_shipping_container_permit',\n",
    "    'cmv_rgvw',\n",
    "    'cmv_roadway_access',\n",
    "    'cmv_sequence_of_events_1',\n",
    "    'cmv_sequence_of_events_2',\n",
    "    'cmv_sequence_of_events_3',\n",
    "    'cmv_sequence_of_events_4',\n",
    "    'cmv_total_number_of_axles',\n",
    "    'cmv_total_number_of_tires',\n",
    "    'cmv_trailer_disabling_damage',\n",
    "    'cmv_trailer_gvwr',\n",
    "    'cmv_trailer_rgvw',\n",
    "    'cmv_trailer_type',\n",
    "    'cmv_vehicle_operation',\n",
    "    'cmv_vehicle_type',\n",
    "    'vehicle_cmv_flag',\n",
    "    'first_harmful_event',\n",
    "    'first_harmful_event_involvement',\n",
    "    'hazmat_class_1_id',\n",
    "    'hazmat_class_2_id',\n",
    "    'hazmat_id_number_1_id',\n",
    "    'hazmat_id_number_2_id',\n",
    "    'responder_struck_flag',\n",
    "    'unit_description',\n",
    "    'person_airbag_deployed',\n",
    "    'person_ejected',\n",
    "    'person_restraint_used',\n",
    "    'highway_lane_design_for_hov,_railroads,_and_toll_roads',\n",
    "    'railroad_company',\n",
    "    'railroad_flag',\n",
    "    'bridge_detail',\n",
    "    'feature_crossed_by_bridge',\n",
    "    'on_bridge_service_type',\n",
    "    'under_bridge_service_type',\n",
    "    'construction_zone_flag',\n",
    "    'construction_zone_workers_present_flag',\n",
    "    'commercial_motor_vehicle_flag',\n",
    "    'date_arrived',\n",
    "    'date_notified',\n",
    "    'date_roadway_cleared',\n",
    "    'date_scene_cleared',\n",
    "    'direction_of_traffic'\n",
    "]"
   ]
  },
  {
   "cell_type": "code",
   "execution_count": 13,
   "id": "f9a8acb3",
   "metadata": {},
   "outputs": [
    {
     "data": {
      "text/plain": [
       "83"
      ]
     },
     "execution_count": 13,
     "metadata": {},
     "output_type": "execute_result"
    }
   ],
   "source": [
    "# How many columns are being removed?\n",
    "len(cols_to_remove)"
   ]
  },
  {
   "cell_type": "code",
   "execution_count": 14,
   "id": "8f06610d",
   "metadata": {},
   "outputs": [],
   "source": [
    "# Drop the columns from the dataframe\n",
    "svcs.drop(columns=cols_to_remove, inplace=True)"
   ]
  },
  {
   "cell_type": "markdown",
   "id": "2acf180a",
   "metadata": {},
   "source": [
    "---"
   ]
  },
  {
   "cell_type": "markdown",
   "id": "e9fb2465",
   "metadata": {},
   "source": [
    "<a id='prepareremovethreshold'></a>\n",
    "<h3><b><i>\n",
    "    Remove Columns By Null Thresholds:\n",
    "</i></b></h3>\n",
    "<li><a href='#prepare'>Prepare Top</a></li>"
   ]
  },
  {
   "cell_type": "code",
   "execution_count": 15,
   "id": "e32b6399",
   "metadata": {},
   "outputs": [],
   "source": [
    "# Remove any columns that exceed 98.7% total nulls\n",
    "svcs, new_dict = w.drop_nullpct_alternate(svcs, 0.987)"
   ]
  },
  {
   "cell_type": "code",
   "execution_count": 16,
   "id": "a3cc5cd4",
   "metadata": {},
   "outputs": [
    {
     "data": {
      "text/plain": [
       "18"
      ]
     },
     "execution_count": 16,
     "metadata": {},
     "output_type": "execute_result"
    }
   ],
   "source": [
    "# How many columns are being dropped?\n",
    "pd.DataFrame(new_dict).shape[0]"
   ]
  },
  {
   "cell_type": "code",
   "execution_count": 17,
   "id": "b8d161f2",
   "metadata": {},
   "outputs": [],
   "source": [
    "# Alter function to be used for columns with -1\n",
    "drop_negone_pct_dict = {\n",
    "    'column_name' : [],\n",
    "    'percent_nodata' : []\n",
    "}\n",
    "for col in svcs:\n",
    "    pct = (svcs[col] == -1).sum() / svcs.shape[0]\n",
    "    if pct > 0.987:\n",
    "        svcs = svcs.drop(columns=col)\n",
    "        drop_negone_pct_dict['column_name'].append(col)\n",
    "        drop_negone_pct_dict['percent_nodata'].append(pct)"
   ]
  },
  {
   "cell_type": "code",
   "execution_count": 18,
   "id": "be3c69f3",
   "metadata": {},
   "outputs": [
    {
     "data": {
      "text/plain": [
       "2"
      ]
     },
     "execution_count": 18,
     "metadata": {},
     "output_type": "execute_result"
    }
   ],
   "source": [
    "# How many columns are being dropped?\n",
    "pd.DataFrame(drop_negone_pct_dict).shape[0]"
   ]
  },
  {
   "cell_type": "markdown",
   "id": "a6a27a3f",
   "metadata": {},
   "source": [
    "---"
   ]
  },
  {
   "cell_type": "markdown",
   "id": "e992ef2f",
   "metadata": {},
   "source": [
    "<a id='preparetarget'></a>\n",
    "<h3><b><i>\n",
    "    Fix Target Column:\n",
    "</i></b></h3>\n",
    "<li><a href='#prepare'>Prepare Top</a></li>"
   ]
  },
  {
   "cell_type": "markdown",
   "id": "1700a19f",
   "metadata": {},
   "source": [
    "Things to adjust:\n",
    "- Killed (Fatal injury)\n",
    "- Serious (Serious injury)\n",
    "- Minor (Minor & Possible injury)\n",
    "- Not Injured (Not injured)\n",
    "- REMOVE VALUE (Unknown)"
   ]
  },
  {
   "cell_type": "code",
   "execution_count": 19,
   "id": "c7336b90",
   "metadata": {},
   "outputs": [
    {
     "data": {
      "text/plain": [
       "person_injury_severity\n",
       "B - SUSPECTED MINOR INJURY      5578\n",
       "A - SUSPECTED SERIOUS INJURY    4016\n",
       "C - POSSIBLE INJURY             2569\n",
       "N - NOT INJURED                 1162\n",
       "K - FATAL INJURY                 849\n",
       "99 - UNKNOWN                     374\n",
       "Name: count, dtype: int64"
      ]
     },
     "execution_count": 19,
     "metadata": {},
     "output_type": "execute_result"
    }
   ],
   "source": [
    "# What does the distribution of the target look like?\n",
    "svcs.person_injury_severity.value_counts()"
   ]
  },
  {
   "cell_type": "code",
   "execution_count": 20,
   "id": "e6acc53f",
   "metadata": {},
   "outputs": [],
   "source": [
    "# Adjust minor target value\n",
    "svcs.person_injury_severity = svcs.person_injury_severity.str.replace('C - POSSIBLE INJURY', 'B - SUSPECTED MINOR INJURY')"
   ]
  },
  {
   "cell_type": "code",
   "execution_count": 21,
   "id": "cade37b9",
   "metadata": {},
   "outputs": [],
   "source": [
    "# Remove instances of unknown values\n",
    "svcs = svcs[~(svcs.person_injury_severity == '99 - UNKNOWN')]"
   ]
  },
  {
   "cell_type": "code",
   "execution_count": 22,
   "id": "a147edcd",
   "metadata": {},
   "outputs": [
    {
     "data": {
      "text/plain": [
       "person_injury_severity\n",
       "B - SUSPECTED MINOR INJURY      8147\n",
       "A - SUSPECTED SERIOUS INJURY    4016\n",
       "N - NOT INJURED                 1162\n",
       "K - FATAL INJURY                 849\n",
       "Name: count, dtype: int64"
      ]
     },
     "execution_count": 22,
     "metadata": {},
     "output_type": "execute_result"
    }
   ],
   "source": [
    "# Verify the distribution of the target value\n",
    "# GOT THAT 'BANK' DISTRIBUTION! :D\n",
    "svcs.person_injury_severity.value_counts()"
   ]
  },
  {
   "cell_type": "markdown",
   "id": "b48edd2c",
   "metadata": {},
   "source": [
    "---"
   ]
  },
  {
   "cell_type": "markdown",
   "id": "10ea46cb",
   "metadata": {},
   "source": [
    "<a id='preparedatetime'></a>\n",
    "<h3><b><i>\n",
    "    Create Crash Datetime Column:\n",
    "</i></b></h3>\n",
    "<li><a href='#prepare'>Prepare Top</a></li>"
   ]
  },
  {
   "cell_type": "code",
   "execution_count": 23,
   "id": "4f148075",
   "metadata": {},
   "outputs": [],
   "source": [
    "# Fix 'crash_time' column\n",
    "times_list = svcs.crash_time.astype(str).to_list()\n",
    "fixed_times_list = []\n",
    "for val in times_list:\n",
    "    if len(val) == 1:\n",
    "        val = '000' + val\n",
    "    elif len(val) == 2:\n",
    "        val = '00' + val\n",
    "    elif len(val) == 3:\n",
    "        val = '0' + val\n",
    "    fixed_times_list.append(val)"
   ]
  },
  {
   "cell_type": "code",
   "execution_count": 24,
   "id": "ff34e3c0",
   "metadata": {},
   "outputs": [],
   "source": [
    "# Replace unclean column with clean version and create datetime column\n",
    "svcs.crash_time = fixed_times_list\n",
    "svcs['crash_datetime'] = svcs.crash_date.str.strip() + ' ' + svcs.crash_time\n",
    "svcs.crash_datetime = pd.to_datetime(svcs.crash_datetime)"
   ]
  },
  {
   "cell_type": "code",
   "execution_count": 25,
   "id": "eb370c42",
   "metadata": {},
   "outputs": [
    {
     "data": {
      "text/plain": [
       "0       2018-01-01 11:23:00\n",
       "11      2018-01-04 13:16:00\n",
       "18      2018-01-05 20:45:00\n",
       "22      2018-01-05 03:07:00\n",
       "35      2018-01-06 12:10:00\n",
       "                ...        \n",
       "81125   2022-12-31 11:26:00\n",
       "81126   2022-12-31 22:29:00\n",
       "81140   2022-12-31 15:55:00\n",
       "81144   2022-12-31 14:49:00\n",
       "81152   2022-12-31 12:26:00\n",
       "Name: crash_datetime, Length: 14174, dtype: datetime64[ns]"
      ]
     },
     "execution_count": 25,
     "metadata": {},
     "output_type": "execute_result"
    }
   ],
   "source": [
    "# Confirm dtype and formatting\n",
    "svcs.crash_datetime"
   ]
  },
  {
   "cell_type": "markdown",
   "id": "98053ea6",
   "metadata": {},
   "source": [
    "---"
   ]
  },
  {
   "cell_type": "markdown",
   "id": "0cc2e72d",
   "metadata": {},
   "source": [
    "<a id='preparesummary'></a>\n",
    "<h3><b><i>\n",
    "    Preparation Summary:\n",
    "</i></b></h3>\n",
    "<li><a href='#prepare'>Prepare Top</a></li>"
   ]
  },
  {
   "cell_type": "markdown",
   "id": "b794055e",
   "metadata": {},
   "source": [
    "- Changed whitespace to '_' and lowercased columns\n",
    "- Change all nulls to 'no data'\n",
    "- Identified only single vehicle crashes (SVCs // Motorcycle only)\n",
    "    - 81153 Rows ==> 14548 Rows\n",
    "- Removed columns\n",
    "    - 234 Columns ==> 131 Columns\n",
    "- Adjusted target column\n",
    "    - Added possible injury as minor injury\n",
    "    - Removed unknown values\n",
    "    - 14548 Rows ==> 14174 Rows\n",
    "- Datetime column created\n",
    "    - 'crash_datetime' == 2022-12-31 12:26:00\n",
    "    - 131 Columns ==> 132 Columns"
   ]
  },
  {
   "cell_type": "code",
   "execution_count": 26,
   "id": "8fdcc97a",
   "metadata": {},
   "outputs": [
    {
     "data": {
      "text/plain": [
       "(14174, 132)"
      ]
     },
     "execution_count": 26,
     "metadata": {},
     "output_type": "execute_result"
    }
   ],
   "source": [
    "# Final dataset shape\n",
    "svcs.shape"
   ]
  },
  {
   "cell_type": "markdown",
   "id": "56c707c4",
   "metadata": {},
   "source": [
    "<div style='background-color:orange'>\n",
    "<a id=\"wrangle\"></a>\n",
    "    <h1 style='text-align:center ; top-padding:5px'>\n",
    "        <b><i>\n",
    "            Wrangle\n",
    "        </i></b></h1>\n",
    "    <li><a href='#TableOfContents'>Table of Contents</a>\n",
    "    </li>\n",
    "</div>"
   ]
  },
  {
   "cell_type": "code",
   "execution_count": 27,
   "id": "7af335b2",
   "metadata": {
    "scrolled": true
   },
   "outputs": [
    {
     "name": "stdout",
     "output_type": "stream",
     "text": [
      "\u001b[35mWrangle Function:\u001b[0m (14174, 132)\n",
      "\u001b[35mManual Preparation:\u001b[0m (14174, 132)\n"
     ]
    }
   ],
   "source": [
    "# Check functionality from wrangle.py\n",
    "function_svcs = w.wrangle()\n",
    "print(f'\\033[35mWrangle Function:\\033[0m {function_svcs.shape}\\n\\033[35mManual Preparation:\\033[0m {svcs.shape}')"
   ]
  },
  {
   "cell_type": "code",
   "execution_count": 28,
   "id": "d126909b",
   "metadata": {},
   "outputs": [
    {
     "data": {
      "text/html": [
       "<div>\n",
       "<style scoped>\n",
       "    .dataframe tbody tr th:only-of-type {\n",
       "        vertical-align: middle;\n",
       "    }\n",
       "\n",
       "    .dataframe tbody tr th {\n",
       "        vertical-align: top;\n",
       "    }\n",
       "\n",
       "    .dataframe thead th {\n",
       "        text-align: right;\n",
       "    }\n",
       "</style>\n",
       "<table border=\"1\" class=\"dataframe\">\n",
       "  <thead>\n",
       "    <tr style=\"text-align: right;\">\n",
       "      <th></th>\n",
       "      <th>crash_id</th>\n",
       "      <th>$1000_damage_to_any_one_person's_property</th>\n",
       "      <th>active_school_zone_flag</th>\n",
       "      <th>adjusted_average_daily_traffic_amount</th>\n",
       "      <th>adjusted_percentage_of_average_daily_traffic_for_trucks</th>\n",
       "      <th>adjusted_roadway_part</th>\n",
       "      <th>agency</th>\n",
       "      <th>at_intersection_flag</th>\n",
       "      <th>average_daily_traffic_amount</th>\n",
       "      <th>average_daily_traffic_year</th>\n",
       "      <th>...</th>\n",
       "      <th>charge</th>\n",
       "      <th>citation</th>\n",
       "      <th>person_age</th>\n",
       "      <th>person_ethnicity</th>\n",
       "      <th>person_gender</th>\n",
       "      <th>person_helmet</th>\n",
       "      <th>person_injury_severity</th>\n",
       "      <th>person_type</th>\n",
       "      <th>physical_location_of_an_occupant</th>\n",
       "      <th>crash_datetime</th>\n",
       "    </tr>\n",
       "  </thead>\n",
       "  <tbody>\n",
       "    <tr>\n",
       "      <th>0</th>\n",
       "      <td>16189632</td>\n",
       "      <td>No</td>\n",
       "      <td>NO</td>\n",
       "      <td>no data</td>\n",
       "      <td>no data</td>\n",
       "      <td>1 - MAIN/PROPER LANE</td>\n",
       "      <td>DEPARTMENT OF PUBLIC SAFETY, STATE OF TEXAS</td>\n",
       "      <td>False</td>\n",
       "      <td>no data</td>\n",
       "      <td>no data</td>\n",
       "      <td>...</td>\n",
       "      <td>OPERATE UNREGISTERED MOTOR VEHICLE</td>\n",
       "      <td>TX52Q80UKZPL</td>\n",
       "      <td>37</td>\n",
       "      <td>W - WHITE</td>\n",
       "      <td>1 - MALE</td>\n",
       "      <td>1 - NOT WORN</td>\n",
       "      <td>A - SUSPECTED SERIOUS INJURY</td>\n",
       "      <td>5 - DRIVER OF MOTORCYCLE TYPE VEHICLE</td>\n",
       "      <td>1 - FRONT LEFT OR MOTORCYCLE DRIVER</td>\n",
       "      <td>2018-01-01 11:23:00</td>\n",
       "    </tr>\n",
       "    <tr>\n",
       "      <th>11</th>\n",
       "      <td>16203470</td>\n",
       "      <td>No</td>\n",
       "      <td>NO</td>\n",
       "      <td>no data</td>\n",
       "      <td>no data</td>\n",
       "      <td>1 - MAIN/PROPER LANE</td>\n",
       "      <td>DEPARTMENT OF PUBLIC SAFETY, STATE OF TEXAS</td>\n",
       "      <td>False</td>\n",
       "      <td>no data</td>\n",
       "      <td>no data</td>\n",
       "      <td>...</td>\n",
       "      <td>NO CLASS \"M\" LICENSE</td>\n",
       "      <td>TX52QD0NAP34</td>\n",
       "      <td>30</td>\n",
       "      <td>H - HISPANIC</td>\n",
       "      <td>1 - MALE</td>\n",
       "      <td>3 - WORN, NOT DAMAGED</td>\n",
       "      <td>B - SUSPECTED MINOR INJURY</td>\n",
       "      <td>5 - DRIVER OF MOTORCYCLE TYPE VEHICLE</td>\n",
       "      <td>1 - FRONT LEFT OR MOTORCYCLE DRIVER</td>\n",
       "      <td>2018-01-04 13:16:00</td>\n",
       "    </tr>\n",
       "    <tr>\n",
       "      <th>18</th>\n",
       "      <td>16192023</td>\n",
       "      <td>Yes</td>\n",
       "      <td>NO</td>\n",
       "      <td>no data</td>\n",
       "      <td>no data</td>\n",
       "      <td>1 - MAIN/PROPER LANE</td>\n",
       "      <td>HARRIS COUNTY SHERIFF'S OFFICE</td>\n",
       "      <td>False</td>\n",
       "      <td>no data</td>\n",
       "      <td>no data</td>\n",
       "      <td>...</td>\n",
       "      <td>NO CHARGES</td>\n",
       "      <td>no data</td>\n",
       "      <td>21</td>\n",
       "      <td>W - WHITE</td>\n",
       "      <td>1 - MALE</td>\n",
       "      <td>2 - WORN, DAMAGED</td>\n",
       "      <td>A - SUSPECTED SERIOUS INJURY</td>\n",
       "      <td>5 - DRIVER OF MOTORCYCLE TYPE VEHICLE</td>\n",
       "      <td>1 - FRONT LEFT OR MOTORCYCLE DRIVER</td>\n",
       "      <td>2018-01-05 20:45:00</td>\n",
       "    </tr>\n",
       "    <tr>\n",
       "      <th>22</th>\n",
       "      <td>16196720</td>\n",
       "      <td>No</td>\n",
       "      <td>NO</td>\n",
       "      <td>no data</td>\n",
       "      <td>no data</td>\n",
       "      <td>1 - MAIN/PROPER LANE</td>\n",
       "      <td>MCALLEN POLICE DEPARTMENT</td>\n",
       "      <td>False</td>\n",
       "      <td>no data</td>\n",
       "      <td>no data</td>\n",
       "      <td>...</td>\n",
       "      <td>NO DRIVER LICENSE NO INSURANCE</td>\n",
       "      <td>667341</td>\n",
       "      <td>18</td>\n",
       "      <td>H - HISPANIC</td>\n",
       "      <td>1 - MALE</td>\n",
       "      <td>1 - NOT WORN</td>\n",
       "      <td>B - SUSPECTED MINOR INJURY</td>\n",
       "      <td>5 - DRIVER OF MOTORCYCLE TYPE VEHICLE</td>\n",
       "      <td>1 - FRONT LEFT OR MOTORCYCLE DRIVER</td>\n",
       "      <td>2018-01-05 03:07:00</td>\n",
       "    </tr>\n",
       "    <tr>\n",
       "      <th>35</th>\n",
       "      <td>16189103</td>\n",
       "      <td>Yes</td>\n",
       "      <td>NO</td>\n",
       "      <td>1426</td>\n",
       "      <td>7.1</td>\n",
       "      <td>1 - MAIN/PROPER LANE</td>\n",
       "      <td>DEPARTMENT OF PUBLIC SAFETY, STATE OF TEXAS</td>\n",
       "      <td>False</td>\n",
       "      <td>1426</td>\n",
       "      <td>2019</td>\n",
       "      <td>...</td>\n",
       "      <td>NO CHARGES</td>\n",
       "      <td>no data</td>\n",
       "      <td>28</td>\n",
       "      <td>W - WHITE</td>\n",
       "      <td>1 - MALE</td>\n",
       "      <td>3 - WORN, NOT DAMAGED</td>\n",
       "      <td>B - SUSPECTED MINOR INJURY</td>\n",
       "      <td>5 - DRIVER OF MOTORCYCLE TYPE VEHICLE</td>\n",
       "      <td>1 - FRONT LEFT OR MOTORCYCLE DRIVER</td>\n",
       "      <td>2018-01-06 12:10:00</td>\n",
       "    </tr>\n",
       "    <tr>\n",
       "      <th>...</th>\n",
       "      <td>...</td>\n",
       "      <td>...</td>\n",
       "      <td>...</td>\n",
       "      <td>...</td>\n",
       "      <td>...</td>\n",
       "      <td>...</td>\n",
       "      <td>...</td>\n",
       "      <td>...</td>\n",
       "      <td>...</td>\n",
       "      <td>...</td>\n",
       "      <td>...</td>\n",
       "      <td>...</td>\n",
       "      <td>...</td>\n",
       "      <td>...</td>\n",
       "      <td>...</td>\n",
       "      <td>...</td>\n",
       "      <td>...</td>\n",
       "      <td>...</td>\n",
       "      <td>...</td>\n",
       "      <td>...</td>\n",
       "      <td>...</td>\n",
       "    </tr>\n",
       "    <tr>\n",
       "      <th>81125</th>\n",
       "      <td>19321499</td>\n",
       "      <td>Yes</td>\n",
       "      <td>NO</td>\n",
       "      <td>1211</td>\n",
       "      <td>6.9</td>\n",
       "      <td>1 - MAIN/PROPER LANE</td>\n",
       "      <td>DEPARTMENT OF PUBLIC SAFETY, STATE OF TEXAS</td>\n",
       "      <td>False</td>\n",
       "      <td>1211</td>\n",
       "      <td>2019</td>\n",
       "      <td>...</td>\n",
       "      <td>NO CHARGES</td>\n",
       "      <td>no data</td>\n",
       "      <td>49</td>\n",
       "      <td>W - WHITE</td>\n",
       "      <td>2 - FEMALE</td>\n",
       "      <td>1 - NOT WORN</td>\n",
       "      <td>B - SUSPECTED MINOR INJURY</td>\n",
       "      <td>5 - DRIVER OF MOTORCYCLE TYPE VEHICLE</td>\n",
       "      <td>1 - FRONT LEFT OR MOTORCYCLE DRIVER</td>\n",
       "      <td>2022-12-31 11:26:00</td>\n",
       "    </tr>\n",
       "    <tr>\n",
       "      <th>81126</th>\n",
       "      <td>19323296</td>\n",
       "      <td>Yes</td>\n",
       "      <td>NO</td>\n",
       "      <td>no data</td>\n",
       "      <td>no data</td>\n",
       "      <td>1 - MAIN/PROPER LANE</td>\n",
       "      <td>DEPARTMENT OF PUBLIC SAFETY, STATE OF TEXAS</td>\n",
       "      <td>False</td>\n",
       "      <td>no data</td>\n",
       "      <td>no data</td>\n",
       "      <td>...</td>\n",
       "      <td>NO CHARGES</td>\n",
       "      <td>no data</td>\n",
       "      <td>33</td>\n",
       "      <td>W - WHITE</td>\n",
       "      <td>1 - MALE</td>\n",
       "      <td>1 - NOT WORN</td>\n",
       "      <td>A - SUSPECTED SERIOUS INJURY</td>\n",
       "      <td>5 - DRIVER OF MOTORCYCLE TYPE VEHICLE</td>\n",
       "      <td>1 - FRONT LEFT OR MOTORCYCLE DRIVER</td>\n",
       "      <td>2022-12-31 22:29:00</td>\n",
       "    </tr>\n",
       "    <tr>\n",
       "      <th>81140</th>\n",
       "      <td>19327850</td>\n",
       "      <td>No</td>\n",
       "      <td>NO</td>\n",
       "      <td>no data</td>\n",
       "      <td>no data</td>\n",
       "      <td>1 - MAIN/PROPER LANE</td>\n",
       "      <td>HARRIS COUNTY CONSTABLE PRECINCT 4</td>\n",
       "      <td>False</td>\n",
       "      <td>no data</td>\n",
       "      <td>no data</td>\n",
       "      <td>...</td>\n",
       "      <td>NO CHARGES</td>\n",
       "      <td>no data</td>\n",
       "      <td>35</td>\n",
       "      <td>W - WHITE</td>\n",
       "      <td>1 - MALE</td>\n",
       "      <td>4 - WORN, UNK DAMAGE</td>\n",
       "      <td>A - SUSPECTED SERIOUS INJURY</td>\n",
       "      <td>5 - DRIVER OF MOTORCYCLE TYPE VEHICLE</td>\n",
       "      <td>1 - FRONT LEFT OR MOTORCYCLE DRIVER</td>\n",
       "      <td>2022-12-31 15:55:00</td>\n",
       "    </tr>\n",
       "    <tr>\n",
       "      <th>81144</th>\n",
       "      <td>19330330</td>\n",
       "      <td>No</td>\n",
       "      <td>NO</td>\n",
       "      <td>no data</td>\n",
       "      <td>no data</td>\n",
       "      <td>1 - MAIN/PROPER LANE</td>\n",
       "      <td>DEPARTMENT OF PUBLIC SAFETY, STATE OF TEXAS</td>\n",
       "      <td>False</td>\n",
       "      <td>no data</td>\n",
       "      <td>no data</td>\n",
       "      <td>...</td>\n",
       "      <td>FAIL TO DRIVE IN SINGLE LANE</td>\n",
       "      <td>TX6HCF0DDEIM</td>\n",
       "      <td>42</td>\n",
       "      <td>B - BLACK</td>\n",
       "      <td>2 - FEMALE</td>\n",
       "      <td>4 - WORN, UNK DAMAGE</td>\n",
       "      <td>B - SUSPECTED MINOR INJURY</td>\n",
       "      <td>5 - DRIVER OF MOTORCYCLE TYPE VEHICLE</td>\n",
       "      <td>1 - FRONT LEFT OR MOTORCYCLE DRIVER</td>\n",
       "      <td>2022-12-31 14:49:00</td>\n",
       "    </tr>\n",
       "    <tr>\n",
       "      <th>81152</th>\n",
       "      <td>19332955</td>\n",
       "      <td>Yes</td>\n",
       "      <td>NO</td>\n",
       "      <td>657</td>\n",
       "      <td>14.6</td>\n",
       "      <td>1 - MAIN/PROPER LANE</td>\n",
       "      <td>DEPARTMENT OF PUBLIC SAFETY, STATE OF TEXAS</td>\n",
       "      <td>False</td>\n",
       "      <td>657</td>\n",
       "      <td>2019</td>\n",
       "      <td>...</td>\n",
       "      <td>NO CHARGES</td>\n",
       "      <td>no data</td>\n",
       "      <td>49</td>\n",
       "      <td>W - WHITE</td>\n",
       "      <td>1 - MALE</td>\n",
       "      <td>3 - WORN, NOT DAMAGED</td>\n",
       "      <td>A - SUSPECTED SERIOUS INJURY</td>\n",
       "      <td>5 - DRIVER OF MOTORCYCLE TYPE VEHICLE</td>\n",
       "      <td>1 - FRONT LEFT OR MOTORCYCLE DRIVER</td>\n",
       "      <td>2022-12-31 12:26:00</td>\n",
       "    </tr>\n",
       "  </tbody>\n",
       "</table>\n",
       "<p>14174 rows × 132 columns</p>\n",
       "</div>"
      ],
      "text/plain": [
       "       crash_id $1000_damage_to_any_one_person's_property   \n",
       "0      16189632                                        No  \\\n",
       "11     16203470                                        No   \n",
       "18     16192023                                       Yes   \n",
       "22     16196720                                        No   \n",
       "35     16189103                                       Yes   \n",
       "...         ...                                       ...   \n",
       "81125  19321499                                       Yes   \n",
       "81126  19323296                                       Yes   \n",
       "81140  19327850                                        No   \n",
       "81144  19330330                                        No   \n",
       "81152  19332955                                       Yes   \n",
       "\n",
       "      active_school_zone_flag adjusted_average_daily_traffic_amount   \n",
       "0                          NO                               no data  \\\n",
       "11                         NO                               no data   \n",
       "18                         NO                               no data   \n",
       "22                         NO                               no data   \n",
       "35                         NO                                  1426   \n",
       "...                       ...                                   ...   \n",
       "81125                      NO                                  1211   \n",
       "81126                      NO                               no data   \n",
       "81140                      NO                               no data   \n",
       "81144                      NO                               no data   \n",
       "81152                      NO                                   657   \n",
       "\n",
       "      adjusted_percentage_of_average_daily_traffic_for_trucks   \n",
       "0                                                no data       \\\n",
       "11                                               no data        \n",
       "18                                               no data        \n",
       "22                                               no data        \n",
       "35                                                   7.1        \n",
       "...                                                  ...        \n",
       "81125                                                6.9        \n",
       "81126                                            no data        \n",
       "81140                                            no data        \n",
       "81144                                            no data        \n",
       "81152                                               14.6        \n",
       "\n",
       "      adjusted_roadway_part                                       agency   \n",
       "0      1 - MAIN/PROPER LANE  DEPARTMENT OF PUBLIC SAFETY, STATE OF TEXAS  \\\n",
       "11     1 - MAIN/PROPER LANE  DEPARTMENT OF PUBLIC SAFETY, STATE OF TEXAS   \n",
       "18     1 - MAIN/PROPER LANE               HARRIS COUNTY SHERIFF'S OFFICE   \n",
       "22     1 - MAIN/PROPER LANE                    MCALLEN POLICE DEPARTMENT   \n",
       "35     1 - MAIN/PROPER LANE  DEPARTMENT OF PUBLIC SAFETY, STATE OF TEXAS   \n",
       "...                     ...                                          ...   \n",
       "81125  1 - MAIN/PROPER LANE  DEPARTMENT OF PUBLIC SAFETY, STATE OF TEXAS   \n",
       "81126  1 - MAIN/PROPER LANE  DEPARTMENT OF PUBLIC SAFETY, STATE OF TEXAS   \n",
       "81140  1 - MAIN/PROPER LANE           HARRIS COUNTY CONSTABLE PRECINCT 4   \n",
       "81144  1 - MAIN/PROPER LANE  DEPARTMENT OF PUBLIC SAFETY, STATE OF TEXAS   \n",
       "81152  1 - MAIN/PROPER LANE  DEPARTMENT OF PUBLIC SAFETY, STATE OF TEXAS   \n",
       "\n",
       "       at_intersection_flag average_daily_traffic_amount   \n",
       "0                     False                      no data  \\\n",
       "11                    False                      no data   \n",
       "18                    False                      no data   \n",
       "22                    False                      no data   \n",
       "35                    False                         1426   \n",
       "...                     ...                          ...   \n",
       "81125                 False                         1211   \n",
       "81126                 False                      no data   \n",
       "81140                 False                      no data   \n",
       "81144                 False                      no data   \n",
       "81152                 False                          657   \n",
       "\n",
       "      average_daily_traffic_year  ...                              charge   \n",
       "0                        no data  ...  OPERATE UNREGISTERED MOTOR VEHICLE  \\\n",
       "11                       no data  ...                NO CLASS \"M\" LICENSE   \n",
       "18                       no data  ...                          NO CHARGES   \n",
       "22                       no data  ...      NO DRIVER LICENSE NO INSURANCE   \n",
       "35                          2019  ...                          NO CHARGES   \n",
       "...                          ...  ...                                 ...   \n",
       "81125                       2019  ...                          NO CHARGES   \n",
       "81126                    no data  ...                          NO CHARGES   \n",
       "81140                    no data  ...                          NO CHARGES   \n",
       "81144                    no data  ...        FAIL TO DRIVE IN SINGLE LANE   \n",
       "81152                       2019  ...                          NO CHARGES   \n",
       "\n",
       "           citation person_age person_ethnicity person_gender   \n",
       "0      TX52Q80UKZPL         37        W - WHITE      1 - MALE  \\\n",
       "11     TX52QD0NAP34         30     H - HISPANIC      1 - MALE   \n",
       "18          no data         21        W - WHITE      1 - MALE   \n",
       "22           667341         18     H - HISPANIC      1 - MALE   \n",
       "35          no data         28        W - WHITE      1 - MALE   \n",
       "...             ...        ...              ...           ...   \n",
       "81125       no data         49        W - WHITE    2 - FEMALE   \n",
       "81126       no data         33        W - WHITE      1 - MALE   \n",
       "81140       no data         35        W - WHITE      1 - MALE   \n",
       "81144  TX6HCF0DDEIM         42        B - BLACK    2 - FEMALE   \n",
       "81152       no data         49        W - WHITE      1 - MALE   \n",
       "\n",
       "               person_helmet        person_injury_severity   \n",
       "0               1 - NOT WORN  A - SUSPECTED SERIOUS INJURY  \\\n",
       "11     3 - WORN, NOT DAMAGED    B - SUSPECTED MINOR INJURY   \n",
       "18         2 - WORN, DAMAGED  A - SUSPECTED SERIOUS INJURY   \n",
       "22              1 - NOT WORN    B - SUSPECTED MINOR INJURY   \n",
       "35     3 - WORN, NOT DAMAGED    B - SUSPECTED MINOR INJURY   \n",
       "...                      ...                           ...   \n",
       "81125           1 - NOT WORN    B - SUSPECTED MINOR INJURY   \n",
       "81126           1 - NOT WORN  A - SUSPECTED SERIOUS INJURY   \n",
       "81140   4 - WORN, UNK DAMAGE  A - SUSPECTED SERIOUS INJURY   \n",
       "81144   4 - WORN, UNK DAMAGE    B - SUSPECTED MINOR INJURY   \n",
       "81152  3 - WORN, NOT DAMAGED  A - SUSPECTED SERIOUS INJURY   \n",
       "\n",
       "                                 person_type   \n",
       "0      5 - DRIVER OF MOTORCYCLE TYPE VEHICLE  \\\n",
       "11     5 - DRIVER OF MOTORCYCLE TYPE VEHICLE   \n",
       "18     5 - DRIVER OF MOTORCYCLE TYPE VEHICLE   \n",
       "22     5 - DRIVER OF MOTORCYCLE TYPE VEHICLE   \n",
       "35     5 - DRIVER OF MOTORCYCLE TYPE VEHICLE   \n",
       "...                                      ...   \n",
       "81125  5 - DRIVER OF MOTORCYCLE TYPE VEHICLE   \n",
       "81126  5 - DRIVER OF MOTORCYCLE TYPE VEHICLE   \n",
       "81140  5 - DRIVER OF MOTORCYCLE TYPE VEHICLE   \n",
       "81144  5 - DRIVER OF MOTORCYCLE TYPE VEHICLE   \n",
       "81152  5 - DRIVER OF MOTORCYCLE TYPE VEHICLE   \n",
       "\n",
       "          physical_location_of_an_occupant      crash_datetime  \n",
       "0      1 - FRONT LEFT OR MOTORCYCLE DRIVER 2018-01-01 11:23:00  \n",
       "11     1 - FRONT LEFT OR MOTORCYCLE DRIVER 2018-01-04 13:16:00  \n",
       "18     1 - FRONT LEFT OR MOTORCYCLE DRIVER 2018-01-05 20:45:00  \n",
       "22     1 - FRONT LEFT OR MOTORCYCLE DRIVER 2018-01-05 03:07:00  \n",
       "35     1 - FRONT LEFT OR MOTORCYCLE DRIVER 2018-01-06 12:10:00  \n",
       "...                                    ...                 ...  \n",
       "81125  1 - FRONT LEFT OR MOTORCYCLE DRIVER 2022-12-31 11:26:00  \n",
       "81126  1 - FRONT LEFT OR MOTORCYCLE DRIVER 2022-12-31 22:29:00  \n",
       "81140  1 - FRONT LEFT OR MOTORCYCLE DRIVER 2022-12-31 15:55:00  \n",
       "81144  1 - FRONT LEFT OR MOTORCYCLE DRIVER 2022-12-31 14:49:00  \n",
       "81152  1 - FRONT LEFT OR MOTORCYCLE DRIVER 2022-12-31 12:26:00  \n",
       "\n",
       "[14174 rows x 132 columns]"
      ]
     },
     "execution_count": 28,
     "metadata": {},
     "output_type": "execute_result"
    }
   ],
   "source": [
    "function_svcs"
   ]
  },
  {
   "cell_type": "markdown",
   "id": "df3853ba",
   "metadata": {},
   "source": [
    "<div style='background-color:orange'>\n",
    "<a id=\"misc\"></a>\n",
    "    <h1 style='text-align:center ; top-padding:5px'>\n",
    "        <b><i>\n",
    "            Miscellaneous\n",
    "        </i></b></h1>\n",
    "    <li><a href='#TableOfContents'>Table of Contents</a>\n",
    "    </li>\n",
    "</div>"
   ]
  },
  {
   "cell_type": "code",
   "execution_count": 29,
   "id": "9a954013",
   "metadata": {},
   "outputs": [],
   "source": [
    "def dataset_consistency(df):\n",
    "    df.reset_index(inplace=True)\n",
    "    df.columns = df.columns.str.replace(' ', '_').str.lower()\n",
    "    col_list = df.columns.to_list()\n",
    "    target_variable_check = 'person_injury_severity' in col_list\n",
    "    if target_variable_check == True:\n",
    "        return col_list\n",
    "    else:\n",
    "        col_list.append('person_injury_severity')\n",
    "        return col_list"
   ]
  },
  {
   "cell_type": "code",
   "execution_count": 30,
   "id": "53e6db2e",
   "metadata": {},
   "outputs": [],
   "source": [
    "# Read all separated versions of files\n",
    "# all_person = pd.read_csv('2018_all_person.csv', index_col=0)\n",
    "# contributing_factors = pd.read_csv('2018_contributing_factors.csv', index_col=0)\n",
    "# crash_conditions = pd.read_csv('2018_crash_conditions.csv', index_col=0)\n",
    "# lat_long = pd.read_csv('2018_lat_long.csv', index_col=0)\n",
    "# road_stuff = pd.read_csv('2018_road_stuff.csv', index_col=0)\n",
    "# vehicle_info = pd.read_csv('2018_vehicle_info.csv', index_col=0)"
   ]
  },
  {
   "cell_type": "code",
   "execution_count": 31,
   "id": "6a00c187",
   "metadata": {},
   "outputs": [],
   "source": [
    "# Create lists of column names WITH target variable column\n",
    "# all_person_col_list = dataset_consistency(all_person)\n",
    "# contributing_factors_col_list = dataset_consistency(contributing_factors)\n",
    "# crash_conditions_col_list = dataset_consistency(crash_conditions)\n",
    "# lat_long_col_list = dataset_consistency(lat_long)\n",
    "# road_stuff_col_list = dataset_consistency(road_stuff)\n",
    "# vehicle_info_col_list = dataset_consistency(vehicle_info)"
   ]
  },
  {
   "cell_type": "code",
   "execution_count": 32,
   "id": "c5462225",
   "metadata": {},
   "outputs": [],
   "source": [
    "# Apply cols as a mask onto svcs dataframe\n",
    "# all_person_new = svcs[all_person_col_list]\n",
    "# contributing_factors_new = svcs[contributing_factors_col_list]\n",
    "# crash_conditions_new = svcs[crash_conditions_col_list]\n",
    "# lat_long_new = svcs[lat_long_col_list]\n",
    "# road_stuff_new = svcs[road_stuff_col_list]\n",
    "# vehicle_info_new = svcs[vehicle_info_col_list]"
   ]
  },
  {
   "cell_type": "code",
   "execution_count": 33,
   "id": "65061ccc",
   "metadata": {},
   "outputs": [],
   "source": [
    "# Create .csvs for each of them for potential later use\n",
    "# all_person_new.to_csv('all_person_master.csv')\n",
    "# contributing_factors_new.to_csv('contributing_factors_master.csv')\n",
    "# crash_conditions_new.to_csv('crash_conditions_master.csv')\n",
    "# lat_long_new.to_csv('lat_long_master.csv')\n",
    "# road_stuff_new.to_csv('road_stuff_master.csv')\n",
    "# vehicle_info_new.to_csv('vehicle_info_master.csv')"
   ]
  },
  {
   "cell_type": "code",
   "execution_count": null,
   "id": "e619fb5c",
   "metadata": {},
   "outputs": [],
   "source": []
  }
 ],
 "metadata": {
  "kernelspec": {
   "display_name": "Python 3 (ipykernel)",
   "language": "python",
   "name": "python3"
  },
  "language_info": {
   "codemirror_mode": {
    "name": "ipython",
    "version": 3
   },
   "file_extension": ".py",
   "mimetype": "text/x-python",
   "name": "python",
   "nbconvert_exporter": "python",
   "pygments_lexer": "ipython3",
   "version": "3.9.13"
  }
 },
 "nbformat": 4,
 "nbformat_minor": 5
}
