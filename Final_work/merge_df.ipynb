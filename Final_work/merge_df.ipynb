{
 "cells": [
  {
   "cell_type": "code",
   "execution_count": 5,
   "id": "0602b908-f8fe-4d99-89f4-09f06940fc80",
   "metadata": {},
   "outputs": [],
   "source": [
    "import pandas as pd"
   ]
  },
  {
   "cell_type": "code",
   "execution_count": 6,
   "id": "bd44e47b-3d82-4522-b51b-858f4427a13a",
   "metadata": {},
   "outputs": [],
   "source": [
    "df_0 = pd.read_csv('prepped_svc.csv')\n",
    "df_1 = pd.read_csv('vehicle.csv').drop(columns='person_injury_severity')"
   ]
  },
  {
   "cell_type": "code",
   "execution_count": 7,
   "id": "f6c7b7f3-826d-4790-b035-a69af31861cc",
   "metadata": {},
   "outputs": [],
   "source": [
    "for cols in df_1.columns:\n",
    "    if df_1[cols].dtype == 'object':\n",
    "        df_1[cols]= df_1[cols].str.lower()"
   ]
  },
  {
   "cell_type": "code",
   "execution_count": 8,
   "id": "68387b79-bb69-4436-8c90-8cfe9c794351",
   "metadata": {},
   "outputs": [],
   "source": [
    "df = df_0.merge(df_1, left_on='crash_id', right_on='crash_id', how='left')"
   ]
  },
  {
   "cell_type": "code",
   "execution_count": 9,
   "id": "66ebf81a-f730-4830-a37d-64367c41950e",
   "metadata": {},
   "outputs": [],
   "source": [
    "df.drop(columns='Unnamed: 0', inplace= True)"
   ]
  },
  {
   "cell_type": "code",
   "execution_count": 10,
   "id": "16216656-c5d2-4e0f-86c1-811db9a18480",
   "metadata": {},
   "outputs": [
    {
     "data": {
      "text/plain": [
       "Index(['crash_id', 'person_age', 'charge', 'person_ethnicity', 'crash_date',\n",
       "       'day_of_week', 'person_gender', 'person_helmet', 'driver_license_class',\n",
       "       'has_motocycle_endorsment', 'driver_license_state',\n",
       "       'driver_license_type', 'person_injury_severity', 'license_plate_state',\n",
       "       'vehicle_body_style', 'vehicle_color', 'vehicle_defect_1',\n",
       "       'vehicle_make', 'vehicle_model_name', 'vehicle_model_year'],\n",
       "      dtype='object')"
      ]
     },
     "execution_count": 10,
     "metadata": {},
     "output_type": "execute_result"
    }
   ],
   "source": [
    "df.columns"
   ]
  }
 ],
 "metadata": {
  "kernelspec": {
   "display_name": "Python 3 (ipykernel)",
   "language": "python",
   "name": "python3"
  },
  "language_info": {
   "codemirror_mode": {
    "name": "ipython",
    "version": 3
   },
   "file_extension": ".py",
   "mimetype": "text/x-python",
   "name": "python",
   "nbconvert_exporter": "python",
   "pygments_lexer": "ipython3",
   "version": "3.10.9"
  }
 },
 "nbformat": 4,
 "nbformat_minor": 5
}
