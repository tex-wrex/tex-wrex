{
 "cells": [
  {
   "cell_type": "markdown",
   "id": "80f9f356-cb51-4fa1-8365-06bcbaf13bc9",
   "metadata": {},
   "source": [
    "# Imports"
   ]
  },
  {
   "cell_type": "code",
   "execution_count": 2,
   "id": "2b400fa3-e8fb-49e9-93be-1495680f49f5",
   "metadata": {},
   "outputs": [],
   "source": [
    "import numpy as np\n",
    "import matplotlib.pyplot as plt\n",
    "import seaborn as sns\n",
    "import pandas as pd\n",
    "\n",
    "import functions as f"
   ]
  },
  {
   "cell_type": "markdown",
   "id": "cc95ac49-aeae-458f-bc7c-0f043395d951",
   "metadata": {},
   "source": [
    "# Acquire my working file "
   ]
  },
  {
   "cell_type": "code",
   "execution_count": 3,
   "id": "28dc240a-a76a-47c2-ab73-24bc900b6d8f",
   "metadata": {},
   "outputs": [],
   "source": [
    "df = pd.read_csv('prepped_svc.csv')\n",
    "# df.drop(columns= 'Unnamed: 0', inplace=True)"
   ]
  },
  {
   "cell_type": "code",
   "execution_count": null,
   "id": "159bcb62-0cca-4749-80af-44b895e964c4",
   "metadata": {
    "tags": []
   },
   "outputs": [],
   "source": [
    "from sklearn.impute import SimpleImputer\n",
    "\n",
    "def impute_missing_values(df, cols, strategy='most_frequent'):\n",
    "    \"\"\"\n",
    "    Impute missing values in specified columns of a DataFrame using SimpleImputer.\n",
    "\n",
    "    Parameters:\n",
    "    - df (pandas DataFrame): The input DataFrame.\n",
    "    - cols (list): List of column names to impute missing values.\n",
    "    - strategy (str): The imputation strategy to use. Options: 'mean' (default), 'median', 'most_frequent', or 'constant'.\n",
    "\n",
    "    Returns:\n",
    "    - pandas DataFrame: The modified DataFrame with missing values imputed.\n",
    "    \"\"\"\n",
    "    imputer = SimpleImputer(strategy=strategy)\n",
    "    df_imputed = df.copy()\n",
    "\n",
    "    # Fit the imputer on the specified columns and transform the missing values\n",
    "    df_imputed[cols] = imputer.fit_transform(df_imputed[cols])\n",
    "\n",
    "    return df_imputed\n"
   ]
  },
  {
   "cell_type": "code",
   "execution_count": null,
   "id": "90b1355f-71c4-444b-97b8-851667214a17",
   "metadata": {},
   "outputs": [],
   "source": [
    "df = impute_missing_values(df, cols= df.columns.tolist(), strategy='most_frequent')"
   ]
  },
  {
   "cell_type": "code",
   "execution_count": null,
   "id": "b94c8803-b0ff-41a0-916b-f876ff3c1401",
   "metadata": {},
   "outputs": [],
   "source": [
    "df.person_age = df.person_age.astype(int)"
   ]
  },
  {
   "cell_type": "code",
   "execution_count": null,
   "id": "71c863be-b5d7-4603-a3ab-6cf3f9b41a62",
   "metadata": {},
   "outputs": [],
   "source": [
    "train, validate, test = f.split(df)"
   ]
  },
  {
   "cell_type": "code",
   "execution_count": null,
   "id": "c476d167-e5f2-4e02-806d-7f973afd161c",
   "metadata": {},
   "outputs": [],
   "source": [
    "df.info()"
   ]
  },
  {
   "cell_type": "markdown",
   "id": "9c248a00-9a36-4077-b66e-674d32fe81e9",
   "metadata": {},
   "source": [
    "## Is there a particular demographic/gender?-person"
   ]
  },
  {
   "cell_type": "markdown",
   "id": "b6be58eb-530b-46dd-a888-02a26050c9e0",
   "metadata": {},
   "source": [
    "## Gender "
   ]
  },
  {
   "cell_type": "code",
   "execution_count": null,
   "id": "9dadcfca-e108-4d9e-a408-003076128049",
   "metadata": {},
   "outputs": [],
   "source": [
    "pd.crosstab(train.person_gender,train.person_injury_severity).plot(kind='bar', figsize=(20,20))\n",
    "plt.savefig('gender.png')"
   ]
  },
  {
   "cell_type": "code",
   "execution_count": null,
   "id": "cdf28d74-9743-4736-aacd-1a3b1330c327",
   "metadata": {},
   "outputs": [],
   "source": [
    "train.person_gender.value_counts()"
   ]
  },
  {
   "cell_type": "markdown",
   "id": "c2ee8aa0-a0ef-4c7d-9eab-f6dad7495bf3",
   "metadata": {},
   "source": [
    "    Here we see that males have a larger population than males so were gonna try to fix this."
   ]
  },
  {
   "cell_type": "code",
   "execution_count": null,
   "id": "5236965b-6b5d-4648-833d-16bed9e161a8",
   "metadata": {},
   "outputs": [],
   "source": [
    "female_sample = train.loc[train.person_gender == '2 - female'].sample(500)\n",
    "male_sample = train.loc[train.person_gender == '1 - male'].sample(500)\n",
    "\n",
    "# Concatenate the female and male samples into a new dataframe\n",
    "balanced_df = pd.concat([female_sample, male_sample])"
   ]
  },
  {
   "cell_type": "code",
   "execution_count": null,
   "id": "81c094ee-7020-4f12-a74a-f188a8cc7bfa",
   "metadata": {},
   "outputs": [],
   "source": [
    "balanced_df = balanced_df.sample(frac=1)"
   ]
  },
  {
   "cell_type": "code",
   "execution_count": null,
   "id": "c2aea5e0-b873-4c6d-8cbd-04ed3ecef07b",
   "metadata": {},
   "outputs": [],
   "source": [
    "plt.figure(figsize=(12, 12))  # Adjust the dimensions as per your requirement\n",
    "pd.crosstab(balanced_df.person_gender, balanced_df.person_injury_severity).plot(kind='bar')\n",
    "plt.show()\n"
   ]
  },
  {
   "cell_type": "markdown",
   "id": "54bc31da-a329-410b-a1ca-6119e577aa8a",
   "metadata": {},
   "source": [
    "    Takeaways:\n",
    "    - gender looks to be the same when it is equally repersented\n",
    "    - little if any change in between injury severity. "
   ]
  },
  {
   "cell_type": "code",
   "execution_count": null,
   "id": "ce11d16b-6302-4c4b-90a9-ceeaa607ad96",
   "metadata": {},
   "outputs": [],
   "source": [
    "pd.crosstab(balanced_df.person_gender, balanced_df.person_injury_severity)"
   ]
  },
  {
   "cell_type": "code",
   "execution_count": null,
   "id": "e9f68869-4e12-4268-891b-d46bdd7c73aa",
   "metadata": {},
   "outputs": [],
   "source": [
    "from scipy.stats import chi2_contingency\n",
    "\n",
    "# Create a contingency table\n",
    "contingency_table = pd.crosstab(balanced_df.person_gender, balanced_df.person_injury_severity)\n",
    "\n",
    "# Perform the chi-square test\n",
    "chi2, p_value, dof, expected = chi2_contingency(contingency_table)\n",
    "\n",
    "# Print the results\n",
    "print(\"Chi-square test statistic:\", chi2)\n",
    "print(\"P-value:\", p_value)\n",
    "print(\"Degrees of freedom:\", dof)\n"
   ]
  },
  {
   "cell_type": "markdown",
   "id": "ae33a773-23ed-4117-a4b3-aed25b6caa30",
   "metadata": {},
   "source": [
    "    The chi-square test was conducted to examine the association between two variables: \"person_gender\" and \"person_injury_severity\" using a balanced dataset. The results of the chi-square test are as follows:\n",
    "\n",
    "    Chi-square test statistic: 8.45\n",
    "    P-value: 0.038\n",
    "    Degrees of freedom: 3\n",
    "    These results indicate that there is a statistically significant association between \"person_gender\" and \"person_injury_severity\" (p < 0.05). The chi-square test statistic of 8.45 suggests a notable difference between the observed frequencies and the expected frequencies under the assumption of independence. With a p-value of 0.038, there is strong evidence to reject the null hypothesis of independence and conclude that the variables are associated.\n",
    "\n",
    "    In summary, these results suggest that the gender of a person may have an influence on the severity of injury."
   ]
  },
  {
   "cell_type": "markdown",
   "id": "44ae9415-7647-4555-be3a-451da2aefe22",
   "metadata": {},
   "source": [
    "## Is there a particular age?-person"
   ]
  },
  {
   "cell_type": "code",
   "execution_count": null,
   "id": "38f7ba9e-8c6c-41d1-bbd8-36adea6496c8",
   "metadata": {},
   "outputs": [],
   "source": [
    "# Define the age buckets\n",
    "age_bins = [0, 20, 40, 60, 100]  \n",
    "age_labels = ['0-20', '21-40', '41-60', '61+']\n",
    "\n",
    "# Create a new column with age buckets\n",
    "train['age_group'] = pd.cut(train['person_age'], bins=age_bins, labels=age_labels)\n",
    "\n",
    "# Generate the cross-tabulation and plot the bar chart\n",
    "pd.crosstab(train['age_group'], train['person_injury_severity']).plot(kind='bar', figsize=(20,20))\n",
    "\n",
    "plt.savefig('age_by-injury_severity.png')"
   ]
  },
  {
   "cell_type": "code",
   "execution_count": null,
   "id": "a0bfab4d-68a3-47fa-a51f-8770fd5723f9",
   "metadata": {},
   "outputs": [],
   "source": [
    "cross_tab = pd.crosstab(train['person_age'], train['person_injury_severity'])\n",
    "\n",
    "# Perform the chi-square test\n",
    "chi2, p_val, dof, expected = chi2_contingency(cross_tab)\n",
    "\n",
    "# Print the test results\n",
    "print(\"Chi-square statistic:\", chi2)\n",
    "print(\"p-value:\", p_val)\n",
    "print(\"Degrees of freedom:\", dof)"
   ]
  },
  {
   "cell_type": "markdown",
   "id": "22d2b503-baf9-49c8-a6ab-22f255774ff0",
   "metadata": {},
   "source": [
    "    The chi-square test was performed to examine the association between the age group of individuals and the severity of their injuries. The cross-tabulation of the variables 'person_age' and 'person_injury_severity' was analyzed.\n",
    "\n",
    "    Chi-square statistic: 408.272\n",
    "    Degrees of freedom: 237\n",
    "    p-value: 3.104e-11\n",
    "    The chi-square statistic value was found to be 408.272 with 237 degrees of freedom. This indicates a substantial deviation from the expected frequencies under the assumption of independence between the variables.\n",
    "\n",
    "    The resulting p-value of 3.104e-11 suggests strong evidence against the null hypothesis of independence. Therefore, we reject the null hypothesis and conclude that there is a significant association between the age group and the severity of injuries among individuals in the dataset.\n",
    "\n",
    "    This finding emphasizes the importance of considering the age group when evaluating injury severity, suggesting that age may be a contributing factor in determining the extent of injuries sustained.\n",
    "\n"
   ]
  },
  {
   "cell_type": "markdown",
   "id": "62ace199-f70d-44d2-82d2-90a98fbdf8a6",
   "metadata": {},
   "source": [
    "# Does motorcycle endorsment have an effect type of injuries?"
   ]
  },
  {
   "cell_type": "code",
   "execution_count": null,
   "id": "6010986c-682e-4d67-8c29-0e5c0ae34610",
   "metadata": {},
   "outputs": [],
   "source": [
    "pd.crosstab(train.has_motocycle_endorsment, train.person_injury_severity).plot(kind='bar', figsize=(20,20))\n",
    "plt.savefig('ME.png')"
   ]
  },
  {
   "cell_type": "code",
   "execution_count": null,
   "id": "4f49d31a-1bca-4d10-a580-c6830ef6a683",
   "metadata": {},
   "outputs": [],
   "source": []
  },
  {
   "cell_type": "markdown",
   "id": "686aee34-af10-43ba-9e07-2002877ad397",
   "metadata": {},
   "source": [
    "## Ethnicity ?"
   ]
  },
  {
   "cell_type": "code",
   "execution_count": null,
   "id": "1cbea618-6877-4187-a162-fc7208cf6af5",
   "metadata": {},
   "outputs": [],
   "source": [
    "pd.crosstab(train.person_ethnicity, train.person_injury_severity).plot(kind='bar')"
   ]
  },
  {
   "cell_type": "code",
   "execution_count": null,
   "id": "3d31880d-cd00-4880-8403-a46b3125bafe",
   "metadata": {},
   "outputs": [],
   "source": [
    "train.person_ethnicity.value_counts()"
   ]
  },
  {
   "cell_type": "markdown",
   "id": "c49abdb6-4e0a-459a-8a3f-a8c49c0c5bc6",
   "metadata": {},
   "source": [
    "## Does where the fault of the crash lie matter?-person?-charges"
   ]
  },
  {
   "cell_type": "markdown",
   "id": "a5b9d6b8-4538-4fc4-b41d-cf9f4dbb70ac",
   "metadata": {},
   "source": [
    "    We will explore this at a later time "
   ]
  },
  {
   "cell_type": "markdown",
   "id": "a2c4a3cc-882b-4feb-ae95-ff5879c04c69",
   "metadata": {},
   "source": [
    "# Has motorcycle endorsment "
   ]
  },
  {
   "cell_type": "code",
   "execution_count": null,
   "id": "b91b8fae-0d43-4587-bb75-094e955f7664",
   "metadata": {},
   "outputs": [],
   "source": [
    "pd.crosstab(train.has_motocycle_endorsment, train.person_injury_severity).plot(kind='bar')"
   ]
  },
  {
   "cell_type": "code",
   "execution_count": null,
   "id": "081575bb-e4ca-47f0-9848-2a5baa2b7087",
   "metadata": {},
   "outputs": [],
   "source": [
    "pd.crosstab(train.person_ethnicity, train.person_helmet).plot(kind='bar')"
   ]
  },
  {
   "cell_type": "markdown",
   "id": "bc5fd311-f110-4484-890c-2f9b3606e122",
   "metadata": {},
   "source": [
    "# visualizations for narrative "
   ]
  },
  {
   "cell_type": "markdown",
   "id": "ce969e9b-7313-441e-bb51-b45aa1e7bfa6",
   "metadata": {},
   "source": []
  },
  {
   "cell_type": "markdown",
   "id": "08a1ff02-0e07-4507-9144-133db91cde95",
   "metadata": {},
   "source": [
    "## 1 chart for age bins by crash severity"
   ]
  },
  {
   "cell_type": "code",
   "execution_count": null,
   "id": "2c4883f5-591f-4d28-b749-c12a2c55b7a9",
   "metadata": {},
   "outputs": [],
   "source": []
  },
  {
   "cell_type": "code",
   "execution_count": null,
   "id": "6bec92ea-c668-412f-8ffb-d0d92e745d07",
   "metadata": {},
   "outputs": [],
   "source": []
  },
  {
   "cell_type": "code",
   "execution_count": null,
   "id": "73b28354-32b5-40fe-95fe-faac653358a5",
   "metadata": {},
   "outputs": [],
   "source": []
  },
  {
   "cell_type": "code",
   "execution_count": null,
   "id": "db3e7b49-b4a9-4d35-a97a-4334b430df0b",
   "metadata": {},
   "outputs": [],
   "source": []
  },
  {
   "cell_type": "markdown",
   "id": "34b072fa-175c-431f-96b3-dd6876a63860",
   "metadata": {},
   "source": [
    "## 1 chart for ethnicity"
   ]
  },
  {
   "cell_type": "code",
   "execution_count": null,
   "id": "2f413183-0331-4afb-99f6-f0e50ba0a6b5",
   "metadata": {},
   "outputs": [],
   "source": [
    "pd.crosstab(train.person_ethnicity, train.person_injury_severity).plot(kind='bar', figsize=(20,20))\n",
    "# plt.savefig('person_ethnicity.png')"
   ]
  },
  {
   "cell_type": "code",
   "execution_count": null,
   "id": "c13930d9-7dba-4c01-9ba7-bb2bcf05f503",
   "metadata": {},
   "outputs": [],
   "source": []
  },
  {
   "cell_type": "markdown",
   "id": "b1c9aef9-17a3-4366-863d-65b16a134c99",
   "metadata": {},
   "source": [
    "## 1 chart for gender"
   ]
  },
  {
   "cell_type": "markdown",
   "id": "c3aef086-ca7b-4374-9867-e99d64afdfa2",
   "metadata": {},
   "source": [
    "## 1 chart for ME by crash severity"
   ]
  },
  {
   "cell_type": "markdown",
   "id": "238ad46d-a2a2-4e28-82f0-5c46e50abcc0",
   "metadata": {},
   "source": [
    "    (later well add: 1 clusterings of age bins by person helmet)"
   ]
  },
  {
   "cell_type": "markdown",
   "id": "b0b30051-b04f-4388-9619-99a3bf576e65",
   "metadata": {},
   "source": [
    "## Export csv for modeling:"
   ]
  },
  {
   "cell_type": "code",
   "execution_count": null,
   "id": "be53affe-ca91-4860-9ea4-3501cb73f1bf",
   "metadata": {},
   "outputs": [],
   "source": [
    "df.columns"
   ]
  },
  {
   "cell_type": "code",
   "execution_count": null,
   "id": "77ef84c6-56e8-46d5-a2b0-4af7f324461e",
   "metadata": {},
   "outputs": [],
   "source": [
    "model_columns = ['person_age', 'person_ethnicity','person_gender','has_motocycle_endorsment', 'person_injury_severity','vehicle_body_style', 'vehicle_color', 'vehicle_defect_1', 'vehicle_make', 'vehicle_model_name', 'vehicle_model_year']"
   ]
  },
  {
   "cell_type": "code",
   "execution_count": null,
   "id": "0d887f33-4537-49bf-b728-7aaf4f16eff1",
   "metadata": {},
   "outputs": [],
   "source": [
    "df[model_columns].to_csv('master_modeling.csv')"
   ]
  }
 ],
 "metadata": {
  "kernelspec": {
   "display_name": "Python 3 (ipykernel)",
   "language": "python",
   "name": "python3"
  },
  "language_info": {
   "codemirror_mode": {
    "name": "ipython",
    "version": 3
   },
   "file_extension": ".py",
   "mimetype": "text/x-python",
   "name": "python",
   "nbconvert_exporter": "python",
   "pygments_lexer": "ipython3",
   "version": "3.10.9"
  }
 },
 "nbformat": 4,
 "nbformat_minor": 5
}
