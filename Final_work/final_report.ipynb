{
 "cells": [
  {
   "cell_type": "markdown",
   "id": "049de413-89d4-4cba-b0c2-8963d5c47aea",
   "metadata": {
    "jupyter": {
     "outputs_hidden": false,
     "source_hidden": false
    },
    "noteable": {
     "cell_type": "markdown"
    }
   },
   "source": [
    "# Final Report"
   ]
  },
  {
   "cell_type": "markdown",
   "id": "5ae46e9b-30a6-46e0-8a62-4c2404ce540b",
   "metadata": {
    "jupyter": {
     "outputs_hidden": false,
     "source_hidden": false
    },
    "noteable": {
     "cell_type": "markdown"
    }
   },
   "source": [
    "## Introduction\n",
    "\n",
    "This report is a summary of the analysis performed on the Tex Wrex dataset. The goal of the analysis was to understand the factors contributing to motorcycle crashes and to build a predictive model for the severity of injuries sustained in these crashes."
   ]
  },
  {
   "cell_type": "markdown",
   "id": "b314f967-a382-4e81-aa1a-e2645b4e428d",
   "metadata": {
    "jupyter": {
     "outputs_hidden": false,
     "source_hidden": false
    },
    "noteable": {
     "cell_type": "markdown"
    }
   },
   "source": [
    "## Data Preprocessing\n",
    "\n",
    "The data preprocessing stage involved several steps to prepare the data for analysis and modeling. These steps included:\n",
    "\n",
    "- Reading and combining multiple CSV files into a single DataFrame.\n",
    "- Standardizing column names and text within the DataFrame.\n",
    "- Filtering the data to include only single motorcycle crash incidents.\n",
    "- Combining certain values in the 'person_injury_severity' column for a more accurate target variable.\n",
    "- Encoding categorical variables using one-hot encoding."
   ]
  },
  {
   "cell_type": "markdown",
   "id": "75670dc5-d32a-4e27-931c-9857e59da4d6",
   "metadata": {
    "jupyter": {
     "outputs_hidden": false,
     "source_hidden": false
    },
    "noteable": {
     "cell_type": "markdown"
    }
   },
   "source": [
    "## Exploratory Data Analysis\n",
    "\n",
    "The exploratory data analysis (EDA) stage involved examining the data to understand its structure, distribution, and relationships among variables. Key findings from the EDA include:\n",
    "\n",
    "- The majority of crashes involved male drivers.\n",
    "- The age group most involved in crashes was between 20 and 29 years old.\n",
    "- Most crashes occurred during clear weather conditions.\n",
    "- The most common type of injury was 'non-incapacitating'."
   ]
  },
  {
   "cell_type": "markdown",
   "id": "af1d8c03-57c5-49d4-a27e-22af14001356",
   "metadata": {
    "jupyter": {
     "outputs_hidden": false,
     "source_hidden": false
    },
    "noteable": {
     "cell_type": "markdown"
    }
   },
   "source": [
    "## Modeling\n",
    "\n",
    "The modeling stage involved building and evaluating several machine learning models to predict the severity of injuries in motorcycle crashes. The models used included:\n",
    "\n",
    "- Logistic Regression\n",
    "- Decision Tree\n",
    "- Random Forest\n",
    "- Gradient Boosting\n",
    "\n",
    "Each model was evaluated using cross-validation and the area under the receiver operating characteristic (ROC) curve (AUC-ROC). The model with the highest AUC-ROC was selected as the final model."
   ]
  },
  {
   "cell_type": "markdown",
   "id": "fd3e93f7-a24f-470e-9426-e7a5c86edcf8",
   "metadata": {
    "jupyter": {
     "outputs_hidden": false,
     "source_hidden": false
    },
    "noteable": {
     "cell_type": "markdown"
    }
   },
   "source": [
    "## Conclusion\n",
    "\n",
    "The analysis of the Tex Wrex dataset provided valuable insights into the factors contributing to motorcycle crashes and the severity of injuries sustained in these crashes. The predictive model built as part of this analysis can be used to predict the severity of injuries in future crashes, which can help in planning emergency response and in designing interventions to reduce the severity of injuries in motorcycle crashes."
   ]
  }
 ],
 "metadata": {
  "kernelspec": {
   "display_name": "Python 3 (ipykernel)",
   "language": "python",
   "name": "python3"
  },
  "language_info": {
   "codemirror_mode": {
    "name": "ipython",
    "version": 3
   },
   "file_extension": ".py",
   "mimetype": "text/x-python",
   "name": "python",
   "nbconvert_exporter": "python",
   "pygments_lexer": "ipython3",
   "version": "3.10.9"
  },
  "noteable": {
   "last_delta_id": "81673834-822c-4318-a85b-e11c9b03f72c",
   "last_transaction_id": "e7652f22-ec3b-4288-a3de-43fe6b34a59e"
  },
  "noteable-chatgpt": {
   "create_notebook": {
    "openai_conversation_id": "da8d84d2-e879-517b-a2ef-4b1e5aeaf43a",
    "openai_ephemeral_user_id": "d7f34f21-65cb-5df8-83f8-7554127d2608",
    "openai_subdivision1_iso_code": "US-TX"
   }
  },
  "nteract": {
   "version": "noteable@2.9.0"
  },
  "selected_hardware_size": "small"
 },
 "nbformat": 4,
 "nbformat_minor": 5
}
