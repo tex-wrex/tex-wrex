{
 "cells": [
  {
   "cell_type": "markdown",
   "id": "184b9aa8-5ba7-4eac-b813-556ae44b23ad",
   "metadata": {},
   "source": [
    "# Imports "
   ]
  },
  {
   "cell_type": "code",
   "execution_count": 1,
   "id": "268e149f-8ed0-433e-8ebb-6fdb9827757f",
   "metadata": {},
   "outputs": [],
   "source": [
    "import numpy as np \n",
    "import pandas as pd\n",
    "import matplotlib.pyplot as plt\n",
    "from sklearn.metrics import confusion_matrix\n",
    "from sklearn.metrics import classification_report\n",
    "from sklearn.tree import DecisionTreeClassifier, plot_tree\n",
    "from sklearn.neighbors import KNeighborsClassifier\n",
    "from sklearn.linear_model import LogisticRegression\n",
    "from sklearn.utils.class_weight import compute_class_weight\n",
    "import functions as f"
   ]
  },
  {
   "cell_type": "code",
   "execution_count": 2,
   "id": "cd956041-f97c-4137-8ac1-1cfc160bda81",
   "metadata": {},
   "outputs": [],
   "source": [
    "df = pd.read_csv('master_modeling.csv')"
   ]
  },
  {
   "cell_type": "code",
   "execution_count": 3,
   "id": "71a64a85-4a06-4a64-bcc0-e579e62ebdd0",
   "metadata": {},
   "outputs": [],
   "source": [
    "df.drop(columns=['Unnamed: 0'], inplace=True)"
   ]
  },
  {
   "cell_type": "markdown",
   "id": "71f012c2-c4a0-4ad3-8219-c1e4526c2419",
   "metadata": {},
   "source": [
    "## Combining values for easier target varibale capture"
   ]
  },
  {
   "cell_type": "code",
   "execution_count": 4,
   "id": "37981ee7-c520-462c-818f-50e3653027cf",
   "metadata": {},
   "outputs": [],
   "source": [
    "# standardize the dataframes text\n",
    "df.person_injury_severity = df.person_injury_severity.str.lower()\n",
    "# combine values to make a more accurate target variable\n",
    "df.loc[df['person_injury_severity'] == 'c - possible injury', 'person_injury_severity'] = 'b - suspected minor injury'\n",
    "# drop all the instances where 99 is. inplace = true means to save the change \n",
    "df.drop(df.loc[df['person_injury_severity'] == '99 - unknown'].index, inplace=True)"
   ]
  },
  {
   "cell_type": "code",
   "execution_count": 5,
   "id": "90bee6c9-63ca-44fb-852c-ff4f74b6682c",
   "metadata": {},
   "outputs": [
    {
     "data": {
      "text/plain": [
       "person_injury_severity\n",
       "b - suspected minor injury      8175\n",
       "a - suspected serious injury    4006\n",
       "n - not injured                 1155\n",
       "k - fatal injury                 848\n",
       "Name: count, dtype: int64"
      ]
     },
     "execution_count": 5,
     "metadata": {},
     "output_type": "execute_result"
    }
   ],
   "source": [
    "# Trust but verify our code. \n",
    "df.person_injury_severity.value_counts()"
   ]
  },
  {
   "cell_type": "markdown",
   "id": "5b2941ff-d78d-4dd8-aa3f-b3c63213f51a",
   "metadata": {},
   "source": [
    "# Preprocessing"
   ]
  },
  {
   "cell_type": "code",
   "execution_count": 6,
   "id": "d430b222-4490-4142-94be-4aeca0032539",
   "metadata": {},
   "outputs": [
    {
     "data": {
      "text/html": [
       "<div>\n",
       "<style scoped>\n",
       "    .dataframe tbody tr th:only-of-type {\n",
       "        vertical-align: middle;\n",
       "    }\n",
       "\n",
       "    .dataframe tbody tr th {\n",
       "        vertical-align: top;\n",
       "    }\n",
       "\n",
       "    .dataframe thead th {\n",
       "        text-align: right;\n",
       "    }\n",
       "</style>\n",
       "<table border=\"1\" class=\"dataframe\">\n",
       "  <thead>\n",
       "    <tr style=\"text-align: right;\">\n",
       "      <th></th>\n",
       "      <th>person_age</th>\n",
       "      <th>person_ethnicity</th>\n",
       "      <th>person_gender</th>\n",
       "      <th>has_motocycle_endorsment</th>\n",
       "      <th>person_injury_severity</th>\n",
       "      <th>vehicle_body_style</th>\n",
       "      <th>vehicle_color</th>\n",
       "      <th>vehicle_defect_1</th>\n",
       "      <th>vehicle_make</th>\n",
       "      <th>vehicle_model_name</th>\n",
       "      <th>vehicle_model_year</th>\n",
       "    </tr>\n",
       "  </thead>\n",
       "  <tbody>\n",
       "    <tr>\n",
       "      <th>0</th>\n",
       "      <td>37</td>\n",
       "      <td>w - white</td>\n",
       "      <td>1 - male</td>\n",
       "      <td>0</td>\n",
       "      <td>a - suspected serious injury</td>\n",
       "      <td>mc - motorcycle</td>\n",
       "      <td>blu - blue</td>\n",
       "      <td>98 - other  (explain in narrative)</td>\n",
       "      <td>other (explain in narrative)</td>\n",
       "      <td>other (explain in narrative) (other (explain i...</td>\n",
       "      <td>2007.0</td>\n",
       "    </tr>\n",
       "    <tr>\n",
       "      <th>1</th>\n",
       "      <td>30</td>\n",
       "      <td>h - hispanic</td>\n",
       "      <td>1 - male</td>\n",
       "      <td>0</td>\n",
       "      <td>b - suspected minor injury</td>\n",
       "      <td>mc - motorcycle</td>\n",
       "      <td>gry - gray</td>\n",
       "      <td>98 - other  (explain in narrative)</td>\n",
       "      <td>suzuki</td>\n",
       "      <td>gsx-r600 (suzuki)</td>\n",
       "      <td>2004.0</td>\n",
       "    </tr>\n",
       "    <tr>\n",
       "      <th>2</th>\n",
       "      <td>21</td>\n",
       "      <td>w - white</td>\n",
       "      <td>1 - male</td>\n",
       "      <td>0</td>\n",
       "      <td>a - suspected serious injury</td>\n",
       "      <td>mc - motorcycle</td>\n",
       "      <td>blu - blue</td>\n",
       "      <td>98 - other  (explain in narrative)</td>\n",
       "      <td>yamaha</td>\n",
       "      <td>yzfr6 (yamaha)</td>\n",
       "      <td>2017.0</td>\n",
       "    </tr>\n",
       "    <tr>\n",
       "      <th>3</th>\n",
       "      <td>18</td>\n",
       "      <td>h - hispanic</td>\n",
       "      <td>1 - male</td>\n",
       "      <td>0</td>\n",
       "      <td>b - suspected minor injury</td>\n",
       "      <td>mc - motorcycle</td>\n",
       "      <td>blu - blue</td>\n",
       "      <td>98 - other  (explain in narrative)</td>\n",
       "      <td>yamaha</td>\n",
       "      <td>rz500 (yamaha)</td>\n",
       "      <td>2002.0</td>\n",
       "    </tr>\n",
       "    <tr>\n",
       "      <th>4</th>\n",
       "      <td>28</td>\n",
       "      <td>w - white</td>\n",
       "      <td>1 - male</td>\n",
       "      <td>1</td>\n",
       "      <td>b - suspected minor injury</td>\n",
       "      <td>mc - motorcycle</td>\n",
       "      <td>blk - black</td>\n",
       "      <td>98 - other  (explain in narrative)</td>\n",
       "      <td>harley-davidson</td>\n",
       "      <td>fxdf (harley-davidson)</td>\n",
       "      <td>2009.0</td>\n",
       "    </tr>\n",
       "  </tbody>\n",
       "</table>\n",
       "</div>"
      ],
      "text/plain": [
       "   person_age person_ethnicity person_gender  has_motocycle_endorsment   \n",
       "0          37        w - white      1 - male                         0  \\\n",
       "1          30     h - hispanic      1 - male                         0   \n",
       "2          21        w - white      1 - male                         0   \n",
       "3          18     h - hispanic      1 - male                         0   \n",
       "4          28        w - white      1 - male                         1   \n",
       "\n",
       "         person_injury_severity vehicle_body_style vehicle_color   \n",
       "0  a - suspected serious injury    mc - motorcycle    blu - blue  \\\n",
       "1    b - suspected minor injury    mc - motorcycle    gry - gray   \n",
       "2  a - suspected serious injury    mc - motorcycle    blu - blue   \n",
       "3    b - suspected minor injury    mc - motorcycle    blu - blue   \n",
       "4    b - suspected minor injury    mc - motorcycle   blk - black   \n",
       "\n",
       "                     vehicle_defect_1                  vehicle_make   \n",
       "0  98 - other  (explain in narrative)  other (explain in narrative)  \\\n",
       "1  98 - other  (explain in narrative)                        suzuki   \n",
       "2  98 - other  (explain in narrative)                        yamaha   \n",
       "3  98 - other  (explain in narrative)                        yamaha   \n",
       "4  98 - other  (explain in narrative)               harley-davidson   \n",
       "\n",
       "                                  vehicle_model_name  vehicle_model_year  \n",
       "0  other (explain in narrative) (other (explain i...              2007.0  \n",
       "1                                  gsx-r600 (suzuki)              2004.0  \n",
       "2                                     yzfr6 (yamaha)              2017.0  \n",
       "3                                     rz500 (yamaha)              2002.0  \n",
       "4                             fxdf (harley-davidson)              2009.0  "
      ]
     },
     "execution_count": 6,
     "metadata": {},
     "output_type": "execute_result"
    }
   ],
   "source": [
    "# First I want to see what my data looks like \n",
    "df.head()"
   ]
  },
  {
   "cell_type": "markdown",
   "id": "805243a2-390d-4740-95ed-7b164156c776",
   "metadata": {},
   "source": [
    "    Takeaways:\n",
    "    - My values will need to be converted to dummie variables\n",
    "    - person_injury_severity is our targert variable and i dont want to encode that \n",
    "    "
   ]
  },
  {
   "cell_type": "code",
   "execution_count": 7,
   "id": "a2dddf5a-d9be-4ea2-9396-efb57bf681de",
   "metadata": {},
   "outputs": [
    {
     "name": "stdout",
     "output_type": "stream",
     "text": [
      "<class 'pandas.core.frame.DataFrame'>\n",
      "RangeIndex: 14184 entries, 0 to 14183\n",
      "Data columns (total 11 columns):\n",
      " #   Column                    Non-Null Count  Dtype  \n",
      "---  ------                    --------------  -----  \n",
      " 0   person_age                14184 non-null  int64  \n",
      " 1   person_ethnicity          14184 non-null  object \n",
      " 2   person_gender             14184 non-null  object \n",
      " 3   has_motocycle_endorsment  14184 non-null  int64  \n",
      " 4   person_injury_severity    14184 non-null  object \n",
      " 5   vehicle_body_style        14184 non-null  object \n",
      " 6   vehicle_color             14184 non-null  object \n",
      " 7   vehicle_defect_1          14184 non-null  object \n",
      " 8   vehicle_make              14184 non-null  object \n",
      " 9   vehicle_model_name        14184 non-null  object \n",
      " 10  vehicle_model_year        14184 non-null  float64\n",
      "dtypes: float64(1), int64(2), object(8)\n",
      "memory usage: 1.2+ MB\n"
     ]
    }
   ],
   "source": [
    "# Checking my dataframe infomartion to see what needs to be done \n",
    "df.info()"
   ]
  },
  {
   "cell_type": "code",
   "execution_count": null,
   "id": "9a5baad7-20a5-46bd-8f94-86d158c0ddcd",
   "metadata": {},
   "outputs": [],
   "source": []
  },
  {
   "cell_type": "code",
   "execution_count": 8,
   "id": "0cba6f51-5899-42fc-a9ac-1c77531ea832",
   "metadata": {},
   "outputs": [],
   "source": [
    "object_cols = []\n",
    "encoded_df = df.copy()\n",
    "\n",
    "# Iterate over each column in the DataFrame\n",
    "for col in df.columns:\n",
    "    # Check if the column is of type 'object' and not the target column 'person_injury_severity'\n",
    "    if df[col].dtype == 'object' and col != 'person_injury_severity':\n",
    "        # Add the column name to the list of object columns\n",
    "        object_cols.append(col)\n",
    "        \n",
    "        # Perform one-hot encoding using pd.get_dummies\n",
    "        # drop_first=True drops the first category to avoid multicollinearity\n",
    "        # prefix=col adds the column name as a prefix to the encoded columns\n",
    "        # dtype=int sets the data type of the encoded columns to integer\n",
    "        dummies = pd.get_dummies(data=df[col], columns=[col], drop_first=True, prefix=col, dtype=int)\n",
    "        \n",
    "        # Concatenate the encoded columns with the original DataFrame\n",
    "        encoded_df = pd.concat([encoded_df, dummies], axis=1)\n",
    "        \n",
    "        # Drop the original categorical column from the encoded DataFrame\n",
    "        encoded_df.drop(col, axis=1, inplace=True)\n",
    "\n",
    "# Remove the target column 'person_injury_severity' from the encoded DataFrame\n",
    "encoded_df = encoded_df[[col for col in encoded_df.columns if col != 'person_injury_severity']]\n",
    "\n",
    "# Add the target column 'person_injury_severity' back to the encoded DataFrame\n",
    "encoded_df['person_injury_severity'] = df['person_injury_severity']\n"
   ]
  },
  {
   "cell_type": "code",
   "execution_count": 9,
   "id": "aa94b919-6160-4ffb-9eeb-2769b2e8df9c",
   "metadata": {},
   "outputs": [
    {
     "data": {
      "text/html": [
       "<div>\n",
       "<style scoped>\n",
       "    .dataframe tbody tr th:only-of-type {\n",
       "        vertical-align: middle;\n",
       "    }\n",
       "\n",
       "    .dataframe tbody tr th {\n",
       "        vertical-align: top;\n",
       "    }\n",
       "\n",
       "    .dataframe thead th {\n",
       "        text-align: right;\n",
       "    }\n",
       "</style>\n",
       "<table border=\"1\" class=\"dataframe\">\n",
       "  <thead>\n",
       "    <tr style=\"text-align: right;\">\n",
       "      <th></th>\n",
       "      <th>person_age</th>\n",
       "      <th>has_motocycle_endorsment</th>\n",
       "      <th>vehicle_model_year</th>\n",
       "      <th>person_ethnicity_99 - unknown</th>\n",
       "      <th>person_ethnicity_a - asian</th>\n",
       "      <th>person_ethnicity_b - black</th>\n",
       "      <th>person_ethnicity_h - hispanic</th>\n",
       "      <th>person_ethnicity_i - amer. indian/alaskan native</th>\n",
       "      <th>person_ethnicity_w - white</th>\n",
       "      <th>person_gender_2 - female</th>\n",
       "      <th>...</th>\n",
       "      <th>vehicle_model_name_zx1002 (kawasaki)</th>\n",
       "      <th>vehicle_model_name_zx1100 (kawasaki)</th>\n",
       "      <th>vehicle_model_name_zx1200 (kawasaki)</th>\n",
       "      <th>vehicle_model_name_zx1400 (kawasaki)</th>\n",
       "      <th>vehicle_model_name_zx550 (kawasaki)</th>\n",
       "      <th>vehicle_model_name_zx600 (kawasaki)</th>\n",
       "      <th>vehicle_model_name_zx636 (kawasaki)</th>\n",
       "      <th>vehicle_model_name_zx750 (kawasaki)</th>\n",
       "      <th>vehicle_model_name_zx900 (kawasaki)</th>\n",
       "      <th>person_injury_severity</th>\n",
       "    </tr>\n",
       "  </thead>\n",
       "  <tbody>\n",
       "    <tr>\n",
       "      <th>0</th>\n",
       "      <td>37</td>\n",
       "      <td>0</td>\n",
       "      <td>2007.0</td>\n",
       "      <td>0</td>\n",
       "      <td>0</td>\n",
       "      <td>0</td>\n",
       "      <td>0</td>\n",
       "      <td>0</td>\n",
       "      <td>1</td>\n",
       "      <td>0</td>\n",
       "      <td>...</td>\n",
       "      <td>0</td>\n",
       "      <td>0</td>\n",
       "      <td>0</td>\n",
       "      <td>0</td>\n",
       "      <td>0</td>\n",
       "      <td>0</td>\n",
       "      <td>0</td>\n",
       "      <td>0</td>\n",
       "      <td>0</td>\n",
       "      <td>a - suspected serious injury</td>\n",
       "    </tr>\n",
       "    <tr>\n",
       "      <th>1</th>\n",
       "      <td>30</td>\n",
       "      <td>0</td>\n",
       "      <td>2004.0</td>\n",
       "      <td>0</td>\n",
       "      <td>0</td>\n",
       "      <td>0</td>\n",
       "      <td>1</td>\n",
       "      <td>0</td>\n",
       "      <td>0</td>\n",
       "      <td>0</td>\n",
       "      <td>...</td>\n",
       "      <td>0</td>\n",
       "      <td>0</td>\n",
       "      <td>0</td>\n",
       "      <td>0</td>\n",
       "      <td>0</td>\n",
       "      <td>0</td>\n",
       "      <td>0</td>\n",
       "      <td>0</td>\n",
       "      <td>0</td>\n",
       "      <td>b - suspected minor injury</td>\n",
       "    </tr>\n",
       "    <tr>\n",
       "      <th>2</th>\n",
       "      <td>21</td>\n",
       "      <td>0</td>\n",
       "      <td>2017.0</td>\n",
       "      <td>0</td>\n",
       "      <td>0</td>\n",
       "      <td>0</td>\n",
       "      <td>0</td>\n",
       "      <td>0</td>\n",
       "      <td>1</td>\n",
       "      <td>0</td>\n",
       "      <td>...</td>\n",
       "      <td>0</td>\n",
       "      <td>0</td>\n",
       "      <td>0</td>\n",
       "      <td>0</td>\n",
       "      <td>0</td>\n",
       "      <td>0</td>\n",
       "      <td>0</td>\n",
       "      <td>0</td>\n",
       "      <td>0</td>\n",
       "      <td>a - suspected serious injury</td>\n",
       "    </tr>\n",
       "    <tr>\n",
       "      <th>3</th>\n",
       "      <td>18</td>\n",
       "      <td>0</td>\n",
       "      <td>2002.0</td>\n",
       "      <td>0</td>\n",
       "      <td>0</td>\n",
       "      <td>0</td>\n",
       "      <td>1</td>\n",
       "      <td>0</td>\n",
       "      <td>0</td>\n",
       "      <td>0</td>\n",
       "      <td>...</td>\n",
       "      <td>0</td>\n",
       "      <td>0</td>\n",
       "      <td>0</td>\n",
       "      <td>0</td>\n",
       "      <td>0</td>\n",
       "      <td>0</td>\n",
       "      <td>0</td>\n",
       "      <td>0</td>\n",
       "      <td>0</td>\n",
       "      <td>b - suspected minor injury</td>\n",
       "    </tr>\n",
       "    <tr>\n",
       "      <th>4</th>\n",
       "      <td>28</td>\n",
       "      <td>1</td>\n",
       "      <td>2009.0</td>\n",
       "      <td>0</td>\n",
       "      <td>0</td>\n",
       "      <td>0</td>\n",
       "      <td>0</td>\n",
       "      <td>0</td>\n",
       "      <td>1</td>\n",
       "      <td>0</td>\n",
       "      <td>...</td>\n",
       "      <td>0</td>\n",
       "      <td>0</td>\n",
       "      <td>0</td>\n",
       "      <td>0</td>\n",
       "      <td>0</td>\n",
       "      <td>0</td>\n",
       "      <td>0</td>\n",
       "      <td>0</td>\n",
       "      <td>0</td>\n",
       "      <td>b - suspected minor injury</td>\n",
       "    </tr>\n",
       "  </tbody>\n",
       "</table>\n",
       "<p>5 rows × 1080 columns</p>\n",
       "</div>"
      ],
      "text/plain": [
       "   person_age  has_motocycle_endorsment  vehicle_model_year   \n",
       "0          37                         0              2007.0  \\\n",
       "1          30                         0              2004.0   \n",
       "2          21                         0              2017.0   \n",
       "3          18                         0              2002.0   \n",
       "4          28                         1              2009.0   \n",
       "\n",
       "   person_ethnicity_99 - unknown  person_ethnicity_a - asian   \n",
       "0                              0                           0  \\\n",
       "1                              0                           0   \n",
       "2                              0                           0   \n",
       "3                              0                           0   \n",
       "4                              0                           0   \n",
       "\n",
       "   person_ethnicity_b - black  person_ethnicity_h - hispanic   \n",
       "0                           0                              0  \\\n",
       "1                           0                              1   \n",
       "2                           0                              0   \n",
       "3                           0                              1   \n",
       "4                           0                              0   \n",
       "\n",
       "   person_ethnicity_i - amer. indian/alaskan native   \n",
       "0                                                 0  \\\n",
       "1                                                 0   \n",
       "2                                                 0   \n",
       "3                                                 0   \n",
       "4                                                 0   \n",
       "\n",
       "   person_ethnicity_w - white  person_gender_2 - female  ...   \n",
       "0                           1                         0  ...  \\\n",
       "1                           0                         0  ...   \n",
       "2                           1                         0  ...   \n",
       "3                           0                         0  ...   \n",
       "4                           1                         0  ...   \n",
       "\n",
       "   vehicle_model_name_zx1002 (kawasaki)  vehicle_model_name_zx1100 (kawasaki)   \n",
       "0                                     0                                     0  \\\n",
       "1                                     0                                     0   \n",
       "2                                     0                                     0   \n",
       "3                                     0                                     0   \n",
       "4                                     0                                     0   \n",
       "\n",
       "   vehicle_model_name_zx1200 (kawasaki)  vehicle_model_name_zx1400 (kawasaki)   \n",
       "0                                     0                                     0  \\\n",
       "1                                     0                                     0   \n",
       "2                                     0                                     0   \n",
       "3                                     0                                     0   \n",
       "4                                     0                                     0   \n",
       "\n",
       "   vehicle_model_name_zx550 (kawasaki)  vehicle_model_name_zx600 (kawasaki)   \n",
       "0                                    0                                    0  \\\n",
       "1                                    0                                    0   \n",
       "2                                    0                                    0   \n",
       "3                                    0                                    0   \n",
       "4                                    0                                    0   \n",
       "\n",
       "   vehicle_model_name_zx636 (kawasaki)  vehicle_model_name_zx750 (kawasaki)   \n",
       "0                                    0                                    0  \\\n",
       "1                                    0                                    0   \n",
       "2                                    0                                    0   \n",
       "3                                    0                                    0   \n",
       "4                                    0                                    0   \n",
       "\n",
       "   vehicle_model_name_zx900 (kawasaki)        person_injury_severity  \n",
       "0                                    0  a - suspected serious injury  \n",
       "1                                    0    b - suspected minor injury  \n",
       "2                                    0  a - suspected serious injury  \n",
       "3                                    0    b - suspected minor injury  \n",
       "4                                    0    b - suspected minor injury  \n",
       "\n",
       "[5 rows x 1080 columns]"
      ]
     },
     "execution_count": 9,
     "metadata": {},
     "output_type": "execute_result"
    }
   ],
   "source": [
    "encoded_df.head()"
   ]
  },
  {
   "cell_type": "markdown",
   "id": "9086a2f8-3251-47c2-b5e6-a56af48dde4e",
   "metadata": {},
   "source": [
    "     This seems to be end of our preproceessing part"
   ]
  },
  {
   "cell_type": "markdown",
   "id": "a17b6e22-2faa-416e-8d4c-cde1c4750f67",
   "metadata": {},
   "source": [
    "# Splitting the data "
   ]
  },
  {
   "cell_type": "code",
   "execution_count": 10,
   "id": "5ce69d26-7a44-450e-9ac6-626f0c50cb15",
   "metadata": {},
   "outputs": [],
   "source": [
    "# Split our data into train, validate and test\n",
    "train, validate, test = f.split(encoded_df)"
   ]
  },
  {
   "cell_type": "code",
   "execution_count": 11,
   "id": "c11f6be6-5608-4959-9b5a-ff16a341e866",
   "metadata": {},
   "outputs": [],
   "source": [
    "# split our values for modeling\n",
    "\n",
    "x_train = train.drop(columns= 'person_injury_severity')\n",
    "y_train = train['person_injury_severity']\n",
    "\n",
    "x_validate = validate.drop(columns= 'person_injury_severity')\n",
    "y_validate = validate['person_injury_severity']\n",
    "\n",
    "x_test= test.drop(columns= 'person_injury_severity')\n",
    "y_test = test['person_injury_severity']"
   ]
  },
  {
   "cell_type": "markdown",
   "id": "c945498b-6047-4721-a796-34297aa42d02",
   "metadata": {},
   "source": [
    "# Make our baseline model"
   ]
  },
  {
   "cell_type": "code",
   "execution_count": 12,
   "id": "bb339a97-0cb2-421a-9fc4-525c9009d6c0",
   "metadata": {},
   "outputs": [
    {
     "data": {
      "text/plain": [
       "person_injury_severity\n",
       "b - suspected minor injury      8175\n",
       "a - suspected serious injury    4006\n",
       "n - not injured                 1155\n",
       "k - fatal injury                 848\n",
       "Name: count, dtype: int64"
      ]
     },
     "execution_count": 12,
     "metadata": {},
     "output_type": "execute_result"
    }
   ],
   "source": [
    "df.person_injury_severity.value_counts()"
   ]
  },
  {
   "cell_type": "markdown",
   "id": "8453df0e-1a90-44ef-8f78-284cf13c2422",
   "metadata": {},
   "source": [
    "    Since suspected minor injury occurs most often this will be our baseline"
   ]
  },
  {
   "cell_type": "code",
   "execution_count": 13,
   "id": "78ac880f-d63a-4562-9363-27b8c871d52f",
   "metadata": {},
   "outputs": [],
   "source": [
    "pred_df_train = pd.DataFrame()\n",
    "pred_df_train['actual'] = y_train"
   ]
  },
  {
   "cell_type": "code",
   "execution_count": 14,
   "id": "df5a3371-aac9-486e-a069-517696be1174",
   "metadata": {},
   "outputs": [],
   "source": [
    "pred_df_train['baseline_predictions'] = 'b - suspected minor injury' "
   ]
  },
  {
   "cell_type": "code",
   "execution_count": 15,
   "id": "ba0bc0d0-fb08-4ec1-9582-3ddaa894e728",
   "metadata": {},
   "outputs": [
    {
     "data": {
      "text/plain": [
       "8812     b - suspected minor injury\n",
       "4411     b - suspected minor injury\n",
       "6370     b - suspected minor injury\n",
       "13586    b - suspected minor injury\n",
       "9801     b - suspected minor injury\n",
       "                    ...            \n",
       "740      b - suspected minor injury\n",
       "11119    b - suspected minor injury\n",
       "6639     b - suspected minor injury\n",
       "6437     b - suspected minor injury\n",
       "3381     b - suspected minor injury\n",
       "Name: baseline_predictions, Length: 7942, dtype: object"
      ]
     },
     "execution_count": 15,
     "metadata": {},
     "output_type": "execute_result"
    }
   ],
   "source": [
    "pred_df_train['baseline_predictions']"
   ]
  },
  {
   "cell_type": "code",
   "execution_count": 16,
   "id": "8c8f9b0f-f220-43bc-bb7e-89d2f581f7ef",
   "metadata": {},
   "outputs": [
    {
     "data": {
      "text/plain": [
       "actual\n",
       "b - suspected minor injury      4620\n",
       "a - suspected serious injury    2201\n",
       "n - not injured                  655\n",
       "k - fatal injury                 466\n",
       "Name: count, dtype: int64"
      ]
     },
     "execution_count": 16,
     "metadata": {},
     "output_type": "execute_result"
    }
   ],
   "source": [
    "pred_df_train.actual.value_counts()"
   ]
  },
  {
   "cell_type": "code",
   "execution_count": 17,
   "id": "becc7ff4-3288-4d65-b3b8-50390bd6dd55",
   "metadata": {
    "tags": []
   },
   "outputs": [
    {
     "name": "stdout",
     "output_type": "stream",
     "text": [
      "                              precision    recall  f1-score   support\n",
      "\n",
      "a - suspected serious injury       0.00      0.00      0.00      2201\n",
      "  b - suspected minor injury       0.58      1.00      0.74      4620\n",
      "            k - fatal injury       0.00      0.00      0.00       466\n",
      "             n - not injured       0.00      0.00      0.00       655\n",
      "\n",
      "                    accuracy                           0.58      7942\n",
      "                   macro avg       0.15      0.25      0.18      7942\n",
      "                weighted avg       0.34      0.58      0.43      7942\n",
      "\n"
     ]
    },
    {
     "name": "stderr",
     "output_type": "stream",
     "text": [
      "/opt/homebrew/anaconda3/lib/python3.10/site-packages/sklearn/metrics/_classification.py:1344: UndefinedMetricWarning: Precision and F-score are ill-defined and being set to 0.0 in labels with no predicted samples. Use `zero_division` parameter to control this behavior.\n",
      "  _warn_prf(average, modifier, msg_start, len(result))\n",
      "/opt/homebrew/anaconda3/lib/python3.10/site-packages/sklearn/metrics/_classification.py:1344: UndefinedMetricWarning: Precision and F-score are ill-defined and being set to 0.0 in labels with no predicted samples. Use `zero_division` parameter to control this behavior.\n",
      "  _warn_prf(average, modifier, msg_start, len(result))\n",
      "/opt/homebrew/anaconda3/lib/python3.10/site-packages/sklearn/metrics/_classification.py:1344: UndefinedMetricWarning: Precision and F-score are ill-defined and being set to 0.0 in labels with no predicted samples. Use `zero_division` parameter to control this behavior.\n",
      "  _warn_prf(average, modifier, msg_start, len(result))\n"
     ]
    }
   ],
   "source": [
    "print(classification_report(pred_df_train['actual'],pred_df_train['baseline_predictions']))"
   ]
  },
  {
   "cell_type": "markdown",
   "id": "4f1d9dc4-4695-4cbd-8ef2-3c8f678bcd61",
   "metadata": {},
   "source": [
    "# Descion Tree Classifier: Training"
   ]
  },
  {
   "cell_type": "markdown",
   "id": "44571ee9-2916-4a7e-9c0d-c5473adbcd22",
   "metadata": {},
   "source": [
    "### make the model"
   ]
  },
  {
   "cell_type": "code",
   "execution_count": 18,
   "id": "a2fc9174-61d9-4f65-a6e1-3269fe03831e",
   "metadata": {},
   "outputs": [],
   "source": [
    "clf = DecisionTreeClassifier(max_depth= 5, random_state= 666)"
   ]
  },
  {
   "cell_type": "markdown",
   "id": "aec76dbf-6019-4dc7-836d-1080419db9e6",
   "metadata": {},
   "source": [
    "### Fit the model "
   ]
  },
  {
   "cell_type": "code",
   "execution_count": 19,
   "id": "5a3f78c0-254e-4aca-b9f2-0da6cfab19de",
   "metadata": {},
   "outputs": [
    {
     "data": {
      "text/html": [
       "<style>#sk-container-id-1 {color: black;background-color: white;}#sk-container-id-1 pre{padding: 0;}#sk-container-id-1 div.sk-toggleable {background-color: white;}#sk-container-id-1 label.sk-toggleable__label {cursor: pointer;display: block;width: 100%;margin-bottom: 0;padding: 0.3em;box-sizing: border-box;text-align: center;}#sk-container-id-1 label.sk-toggleable__label-arrow:before {content: \"▸\";float: left;margin-right: 0.25em;color: #696969;}#sk-container-id-1 label.sk-toggleable__label-arrow:hover:before {color: black;}#sk-container-id-1 div.sk-estimator:hover label.sk-toggleable__label-arrow:before {color: black;}#sk-container-id-1 div.sk-toggleable__content {max-height: 0;max-width: 0;overflow: hidden;text-align: left;background-color: #f0f8ff;}#sk-container-id-1 div.sk-toggleable__content pre {margin: 0.2em;color: black;border-radius: 0.25em;background-color: #f0f8ff;}#sk-container-id-1 input.sk-toggleable__control:checked~div.sk-toggleable__content {max-height: 200px;max-width: 100%;overflow: auto;}#sk-container-id-1 input.sk-toggleable__control:checked~label.sk-toggleable__label-arrow:before {content: \"▾\";}#sk-container-id-1 div.sk-estimator input.sk-toggleable__control:checked~label.sk-toggleable__label {background-color: #d4ebff;}#sk-container-id-1 div.sk-label input.sk-toggleable__control:checked~label.sk-toggleable__label {background-color: #d4ebff;}#sk-container-id-1 input.sk-hidden--visually {border: 0;clip: rect(1px 1px 1px 1px);clip: rect(1px, 1px, 1px, 1px);height: 1px;margin: -1px;overflow: hidden;padding: 0;position: absolute;width: 1px;}#sk-container-id-1 div.sk-estimator {font-family: monospace;background-color: #f0f8ff;border: 1px dotted black;border-radius: 0.25em;box-sizing: border-box;margin-bottom: 0.5em;}#sk-container-id-1 div.sk-estimator:hover {background-color: #d4ebff;}#sk-container-id-1 div.sk-parallel-item::after {content: \"\";width: 100%;border-bottom: 1px solid gray;flex-grow: 1;}#sk-container-id-1 div.sk-label:hover label.sk-toggleable__label {background-color: #d4ebff;}#sk-container-id-1 div.sk-serial::before {content: \"\";position: absolute;border-left: 1px solid gray;box-sizing: border-box;top: 0;bottom: 0;left: 50%;z-index: 0;}#sk-container-id-1 div.sk-serial {display: flex;flex-direction: column;align-items: center;background-color: white;padding-right: 0.2em;padding-left: 0.2em;position: relative;}#sk-container-id-1 div.sk-item {position: relative;z-index: 1;}#sk-container-id-1 div.sk-parallel {display: flex;align-items: stretch;justify-content: center;background-color: white;position: relative;}#sk-container-id-1 div.sk-item::before, #sk-container-id-1 div.sk-parallel-item::before {content: \"\";position: absolute;border-left: 1px solid gray;box-sizing: border-box;top: 0;bottom: 0;left: 50%;z-index: -1;}#sk-container-id-1 div.sk-parallel-item {display: flex;flex-direction: column;z-index: 1;position: relative;background-color: white;}#sk-container-id-1 div.sk-parallel-item:first-child::after {align-self: flex-end;width: 50%;}#sk-container-id-1 div.sk-parallel-item:last-child::after {align-self: flex-start;width: 50%;}#sk-container-id-1 div.sk-parallel-item:only-child::after {width: 0;}#sk-container-id-1 div.sk-dashed-wrapped {border: 1px dashed gray;margin: 0 0.4em 0.5em 0.4em;box-sizing: border-box;padding-bottom: 0.4em;background-color: white;}#sk-container-id-1 div.sk-label label {font-family: monospace;font-weight: bold;display: inline-block;line-height: 1.2em;}#sk-container-id-1 div.sk-label-container {text-align: center;}#sk-container-id-1 div.sk-container {/* jupyter's `normalize.less` sets `[hidden] { display: none; }` but bootstrap.min.css set `[hidden] { display: none !important; }` so we also need the `!important` here to be able to override the default hidden behavior on the sphinx rendered scikit-learn.org. See: https://github.com/scikit-learn/scikit-learn/issues/21755 */display: inline-block !important;position: relative;}#sk-container-id-1 div.sk-text-repr-fallback {display: none;}</style><div id=\"sk-container-id-1\" class=\"sk-top-container\"><div class=\"sk-text-repr-fallback\"><pre>DecisionTreeClassifier(max_depth=5, random_state=666)</pre><b>In a Jupyter environment, please rerun this cell to show the HTML representation or trust the notebook. <br />On GitHub, the HTML representation is unable to render, please try loading this page with nbviewer.org.</b></div><div class=\"sk-container\" hidden><div class=\"sk-item\"><div class=\"sk-estimator sk-toggleable\"><input class=\"sk-toggleable__control sk-hidden--visually\" id=\"sk-estimator-id-1\" type=\"checkbox\" checked><label for=\"sk-estimator-id-1\" class=\"sk-toggleable__label sk-toggleable__label-arrow\">DecisionTreeClassifier</label><div class=\"sk-toggleable__content\"><pre>DecisionTreeClassifier(max_depth=5, random_state=666)</pre></div></div></div></div></div>"
      ],
      "text/plain": [
       "DecisionTreeClassifier(max_depth=5, random_state=666)"
      ]
     },
     "execution_count": 19,
     "metadata": {},
     "output_type": "execute_result"
    }
   ],
   "source": [
    "clf.fit(x_train,y_train)"
   ]
  },
  {
   "cell_type": "code",
   "execution_count": 20,
   "id": "ec133eab-35c8-40e8-9277-c997d130f8f5",
   "metadata": {},
   "outputs": [
    {
     "data": {
      "image/png": "[encoded data removed]",
      "text/plain": [
       "<Figure size 1300x700 with 1 Axes>"
      ]
     },
     "metadata": {},
     "output_type": "display_data"
    }
   ],
   "source": [
    "plt.figure(figsize=(13, 7))\n",
    "plot_tree(clf, feature_names=x_train.columns, class_names=clf.classes_, rounded=True)\n",
    "plt.show()"
   ]
  },
  {
   "cell_type": "code",
   "execution_count": 21,
   "id": "cd888efc-f79b-403c-85f0-9435c40af09b",
   "metadata": {},
   "outputs": [],
   "source": [
    "pred_df_train['clf_prediction'] = clf_pred = clf.predict(x_train)"
   ]
  },
  {
   "cell_type": "code",
   "execution_count": 22,
   "id": "9debabd2-c423-4b95-98c0-fb510478a7f5",
   "metadata": {},
   "outputs": [
    {
     "data": {
      "text/html": [
       "<div>\n",
       "<style scoped>\n",
       "    .dataframe tbody tr th:only-of-type {\n",
       "        vertical-align: middle;\n",
       "    }\n",
       "\n",
       "    .dataframe tbody tr th {\n",
       "        vertical-align: top;\n",
       "    }\n",
       "\n",
       "    .dataframe thead th {\n",
       "        text-align: right;\n",
       "    }\n",
       "</style>\n",
       "<table border=\"1\" class=\"dataframe\">\n",
       "  <thead>\n",
       "    <tr style=\"text-align: right;\">\n",
       "      <th></th>\n",
       "      <th>actual</th>\n",
       "      <th>baseline_predictions</th>\n",
       "      <th>clf_prediction</th>\n",
       "    </tr>\n",
       "  </thead>\n",
       "  <tbody>\n",
       "    <tr>\n",
       "      <th>8812</th>\n",
       "      <td>b - suspected minor injury</td>\n",
       "      <td>b - suspected minor injury</td>\n",
       "      <td>b - suspected minor injury</td>\n",
       "    </tr>\n",
       "    <tr>\n",
       "      <th>4411</th>\n",
       "      <td>b - suspected minor injury</td>\n",
       "      <td>b - suspected minor injury</td>\n",
       "      <td>b - suspected minor injury</td>\n",
       "    </tr>\n",
       "    <tr>\n",
       "      <th>6370</th>\n",
       "      <td>a - suspected serious injury</td>\n",
       "      <td>b - suspected minor injury</td>\n",
       "      <td>b - suspected minor injury</td>\n",
       "    </tr>\n",
       "    <tr>\n",
       "      <th>13586</th>\n",
       "      <td>b - suspected minor injury</td>\n",
       "      <td>b - suspected minor injury</td>\n",
       "      <td>b - suspected minor injury</td>\n",
       "    </tr>\n",
       "    <tr>\n",
       "      <th>9801</th>\n",
       "      <td>a - suspected serious injury</td>\n",
       "      <td>b - suspected minor injury</td>\n",
       "      <td>b - suspected minor injury</td>\n",
       "    </tr>\n",
       "    <tr>\n",
       "      <th>...</th>\n",
       "      <td>...</td>\n",
       "      <td>...</td>\n",
       "      <td>...</td>\n",
       "    </tr>\n",
       "    <tr>\n",
       "      <th>740</th>\n",
       "      <td>a - suspected serious injury</td>\n",
       "      <td>b - suspected minor injury</td>\n",
       "      <td>b - suspected minor injury</td>\n",
       "    </tr>\n",
       "    <tr>\n",
       "      <th>11119</th>\n",
       "      <td>b - suspected minor injury</td>\n",
       "      <td>b - suspected minor injury</td>\n",
       "      <td>b - suspected minor injury</td>\n",
       "    </tr>\n",
       "    <tr>\n",
       "      <th>6639</th>\n",
       "      <td>b - suspected minor injury</td>\n",
       "      <td>b - suspected minor injury</td>\n",
       "      <td>b - suspected minor injury</td>\n",
       "    </tr>\n",
       "    <tr>\n",
       "      <th>6437</th>\n",
       "      <td>b - suspected minor injury</td>\n",
       "      <td>b - suspected minor injury</td>\n",
       "      <td>b - suspected minor injury</td>\n",
       "    </tr>\n",
       "    <tr>\n",
       "      <th>3381</th>\n",
       "      <td>n - not injured</td>\n",
       "      <td>b - suspected minor injury</td>\n",
       "      <td>b - suspected minor injury</td>\n",
       "    </tr>\n",
       "  </tbody>\n",
       "</table>\n",
       "<p>7942 rows × 3 columns</p>\n",
       "</div>"
      ],
      "text/plain": [
       "                             actual        baseline_predictions   \n",
       "8812     b - suspected minor injury  b - suspected minor injury  \\\n",
       "4411     b - suspected minor injury  b - suspected minor injury   \n",
       "6370   a - suspected serious injury  b - suspected minor injury   \n",
       "13586    b - suspected minor injury  b - suspected minor injury   \n",
       "9801   a - suspected serious injury  b - suspected minor injury   \n",
       "...                             ...                         ...   \n",
       "740    a - suspected serious injury  b - suspected minor injury   \n",
       "11119    b - suspected minor injury  b - suspected minor injury   \n",
       "6639     b - suspected minor injury  b - suspected minor injury   \n",
       "6437     b - suspected minor injury  b - suspected minor injury   \n",
       "3381                n - not injured  b - suspected minor injury   \n",
       "\n",
       "                   clf_prediction  \n",
       "8812   b - suspected minor injury  \n",
       "4411   b - suspected minor injury  \n",
       "6370   b - suspected minor injury  \n",
       "13586  b - suspected minor injury  \n",
       "9801   b - suspected minor injury  \n",
       "...                           ...  \n",
       "740    b - suspected minor injury  \n",
       "11119  b - suspected minor injury  \n",
       "6639   b - suspected minor injury  \n",
       "6437   b - suspected minor injury  \n",
       "3381   b - suspected minor injury  \n",
       "\n",
       "[7942 rows x 3 columns]"
      ]
     },
     "execution_count": 22,
     "metadata": {},
     "output_type": "execute_result"
    }
   ],
   "source": [
    "pred_df_train"
   ]
  },
  {
   "cell_type": "code",
   "execution_count": 23,
   "id": "6f5b4d6f-e708-4a0e-891d-03dc081a16b3",
   "metadata": {},
   "outputs": [
    {
     "name": "stdout",
     "output_type": "stream",
     "text": [
      "                              precision    recall  f1-score   support\n",
      "\n",
      "a - suspected serious injury       0.78      0.02      0.03      2201\n",
      "  b - suspected minor injury       0.59      1.00      0.74      4620\n",
      "            k - fatal injury       0.00      0.00      0.00       466\n",
      "             n - not injured       0.83      0.02      0.04       655\n",
      "\n",
      "                    accuracy                           0.59      7942\n",
      "                   macro avg       0.55      0.26      0.20      7942\n",
      "                weighted avg       0.63      0.59      0.44      7942\n",
      "\n"
     ]
    },
    {
     "name": "stderr",
     "output_type": "stream",
     "text": [
      "/opt/homebrew/anaconda3/lib/python3.10/site-packages/sklearn/metrics/_classification.py:1344: UndefinedMetricWarning: Precision and F-score are ill-defined and being set to 0.0 in labels with no predicted samples. Use `zero_division` parameter to control this behavior.\n",
      "  _warn_prf(average, modifier, msg_start, len(result))\n",
      "/opt/homebrew/anaconda3/lib/python3.10/site-packages/sklearn/metrics/_classification.py:1344: UndefinedMetricWarning: Precision and F-score are ill-defined and being set to 0.0 in labels with no predicted samples. Use `zero_division` parameter to control this behavior.\n",
      "  _warn_prf(average, modifier, msg_start, len(result))\n",
      "/opt/homebrew/anaconda3/lib/python3.10/site-packages/sklearn/metrics/_classification.py:1344: UndefinedMetricWarning: Precision and F-score are ill-defined and being set to 0.0 in labels with no predicted samples. Use `zero_division` parameter to control this behavior.\n",
      "  _warn_prf(average, modifier, msg_start, len(result))\n"
     ]
    }
   ],
   "source": [
    "print(classification_report(pred_df_train.actual,pred_df_train.clf_prediction))"
   ]
  },
  {
   "cell_type": "markdown",
   "id": "4ba1750a-d25e-4b60-999f-4689e0eeae24",
   "metadata": {},
   "source": [
    "# Descion Tree: Validate"
   ]
  },
  {
   "cell_type": "code",
   "execution_count": 30,
   "id": "7ab3190f-8ed1-48fb-83c4-122ddb033789",
   "metadata": {},
   "outputs": [],
   "source": [
    "val_pred= pd.DataFrame()"
   ]
  },
  {
   "cell_type": "code",
   "execution_count": 32,
   "id": "47108206-fa11-4182-9214-d7eddd1f9cb2",
   "metadata": {},
   "outputs": [],
   "source": [
    "val_pred['actual'] = y_validate"
   ]
  },
  {
   "cell_type": "code",
   "execution_count": 35,
   "id": "45652327-a933-4aae-b6f7-6f214e217b22",
   "metadata": {},
   "outputs": [],
   "source": [
    "val_pred['clf_prediction'] = clf.predict(x_validate)"
   ]
  },
  {
   "cell_type": "code",
   "execution_count": 36,
   "id": "e6261999-b086-45ad-8893-76d583c2ebb0",
   "metadata": {},
   "outputs": [
    {
     "name": "stdout",
     "output_type": "stream",
     "text": [
      "                              precision    recall  f1-score   support\n",
      "\n",
      "a - suspected serious injury       0.33      0.01      0.01       950\n",
      "  b - suspected minor injury       0.58      0.99      0.73      1980\n",
      "            k - fatal injury       0.00      0.00      0.00       215\n",
      "             n - not injured       0.40      0.01      0.02       260\n",
      "\n",
      "                    accuracy                           0.58      3405\n",
      "                   macro avg       0.33      0.25      0.19      3405\n",
      "                weighted avg       0.46      0.58      0.43      3405\n",
      "\n"
     ]
    },
    {
     "name": "stderr",
     "output_type": "stream",
     "text": [
      "/opt/homebrew/anaconda3/lib/python3.10/site-packages/sklearn/metrics/_classification.py:1344: UndefinedMetricWarning: Precision and F-score are ill-defined and being set to 0.0 in labels with no predicted samples. Use `zero_division` parameter to control this behavior.\n",
      "  _warn_prf(average, modifier, msg_start, len(result))\n",
      "/opt/homebrew/anaconda3/lib/python3.10/site-packages/sklearn/metrics/_classification.py:1344: UndefinedMetricWarning: Precision and F-score are ill-defined and being set to 0.0 in labels with no predicted samples. Use `zero_division` parameter to control this behavior.\n",
      "  _warn_prf(average, modifier, msg_start, len(result))\n",
      "/opt/homebrew/anaconda3/lib/python3.10/site-packages/sklearn/metrics/_classification.py:1344: UndefinedMetricWarning: Precision and F-score are ill-defined and being set to 0.0 in labels with no predicted samples. Use `zero_division` parameter to control this behavior.\n",
      "  _warn_prf(average, modifier, msg_start, len(result))\n"
     ]
    }
   ],
   "source": [
    "print(classification_report(val_pred.actual,val_pred.clf_prediction))"
   ]
  },
  {
   "cell_type": "markdown",
   "id": "c9b02438-ca06-4840-a7fc-23955ea5cb06",
   "metadata": {},
   "source": [
    "# KNN: Training"
   ]
  },
  {
   "cell_type": "code",
   "execution_count": 24,
   "id": "e41550ca-ca25-4365-a06d-317c424d1b0c",
   "metadata": {},
   "outputs": [
    {
     "name": "stdout",
     "output_type": "stream",
     "text": [
      "                              precision    recall  f1-score   support\n",
      "\n",
      "a - suspected serious injury       0.49      0.06      0.11      2201\n",
      "  b - suspected minor injury       0.59      0.98      0.74      4620\n",
      "            k - fatal injury       0.00      0.00      0.00       466\n",
      "             n - not injured       0.00      0.00      0.00       655\n",
      "\n",
      "                    accuracy                           0.59      7942\n",
      "                   macro avg       0.27      0.26      0.21      7942\n",
      "                weighted avg       0.48      0.59      0.46      7942\n",
      "\n"
     ]
    },
    {
     "name": "stderr",
     "output_type": "stream",
     "text": [
      "/opt/homebrew/anaconda3/lib/python3.10/site-packages/sklearn/metrics/_classification.py:1344: UndefinedMetricWarning: Precision and F-score are ill-defined and being set to 0.0 in labels with no predicted samples. Use `zero_division` parameter to control this behavior.\n",
      "  _warn_prf(average, modifier, msg_start, len(result))\n",
      "/opt/homebrew/anaconda3/lib/python3.10/site-packages/sklearn/metrics/_classification.py:1344: UndefinedMetricWarning: Precision and F-score are ill-defined and being set to 0.0 in labels with no predicted samples. Use `zero_division` parameter to control this behavior.\n",
      "  _warn_prf(average, modifier, msg_start, len(result))\n",
      "/opt/homebrew/anaconda3/lib/python3.10/site-packages/sklearn/metrics/_classification.py:1344: UndefinedMetricWarning: Precision and F-score are ill-defined and being set to 0.0 in labels with no predicted samples. Use `zero_division` parameter to control this behavior.\n",
      "  _warn_prf(average, modifier, msg_start, len(result))\n"
     ]
    }
   ],
   "source": [
    "knn = KNeighborsClassifier(n_neighbors=50, weights='uniform')\n",
    "knn.fit(x_train, y_train)\n",
    "pred_df_train['knn'] = knn.predict(x_train)\n",
    "print(classification_report(pred_df_train.actual,pred_df_train.knn))"
   ]
  },
  {
   "cell_type": "markdown",
   "id": "489ea408-b620-46ea-9be4-d6e8dfb39cd8",
   "metadata": {},
   "source": [
    "# Knn: Validate"
   ]
  },
  {
   "cell_type": "code",
   "execution_count": 37,
   "id": "9ee2861d-b7d6-4f3e-ada5-424c911be5ff",
   "metadata": {},
   "outputs": [
    {
     "name": "stdout",
     "output_type": "stream",
     "text": [
      "                              precision    recall  f1-score   support\n",
      "\n",
      "a - suspected serious injury       0.31      0.03      0.06       950\n",
      "  b - suspected minor injury       0.58      0.97      0.73      1980\n",
      "            k - fatal injury       0.00      0.00      0.00       215\n",
      "             n - not injured       0.00      0.00      0.00       260\n",
      "\n",
      "                    accuracy                           0.57      3405\n",
      "                   macro avg       0.22      0.25      0.20      3405\n",
      "                weighted avg       0.42      0.57      0.44      3405\n",
      "\n"
     ]
    },
    {
     "name": "stderr",
     "output_type": "stream",
     "text": [
      "/opt/homebrew/anaconda3/lib/python3.10/site-packages/sklearn/metrics/_classification.py:1344: UndefinedMetricWarning: Precision and F-score are ill-defined and being set to 0.0 in labels with no predicted samples. Use `zero_division` parameter to control this behavior.\n",
      "  _warn_prf(average, modifier, msg_start, len(result))\n",
      "/opt/homebrew/anaconda3/lib/python3.10/site-packages/sklearn/metrics/_classification.py:1344: UndefinedMetricWarning: Precision and F-score are ill-defined and being set to 0.0 in labels with no predicted samples. Use `zero_division` parameter to control this behavior.\n",
      "  _warn_prf(average, modifier, msg_start, len(result))\n",
      "/opt/homebrew/anaconda3/lib/python3.10/site-packages/sklearn/metrics/_classification.py:1344: UndefinedMetricWarning: Precision and F-score are ill-defined and being set to 0.0 in labels with no predicted samples. Use `zero_division` parameter to control this behavior.\n",
      "  _warn_prf(average, modifier, msg_start, len(result))\n"
     ]
    }
   ],
   "source": [
    "val_pred['knn'] = knn.predict(x_validate)\n",
    "print(classification_report(val_pred.actual,val_pred.knn))"
   ]
  },
  {
   "cell_type": "markdown",
   "id": "dcdd2189-66c9-479a-997d-a4a7c9be46ce",
   "metadata": {},
   "source": [
    "# Logistic Regression: Training"
   ]
  },
  {
   "cell_type": "code",
   "execution_count": 25,
   "id": "f74687c6-764c-469a-a63b-bc1a074fb6af",
   "metadata": {},
   "outputs": [
    {
     "data": {
      "text/html": [
       "<style>#sk-container-id-2 {color: black;background-color: white;}#sk-container-id-2 pre{padding: 0;}#sk-container-id-2 div.sk-toggleable {background-color: white;}#sk-container-id-2 label.sk-toggleable__label {cursor: pointer;display: block;width: 100%;margin-bottom: 0;padding: 0.3em;box-sizing: border-box;text-align: center;}#sk-container-id-2 label.sk-toggleable__label-arrow:before {content: \"▸\";float: left;margin-right: 0.25em;color: #696969;}#sk-container-id-2 label.sk-toggleable__label-arrow:hover:before {color: black;}#sk-container-id-2 div.sk-estimator:hover label.sk-toggleable__label-arrow:before {color: black;}#sk-container-id-2 div.sk-toggleable__content {max-height: 0;max-width: 0;overflow: hidden;text-align: left;background-color: #f0f8ff;}#sk-container-id-2 div.sk-toggleable__content pre {margin: 0.2em;color: black;border-radius: 0.25em;background-color: #f0f8ff;}#sk-container-id-2 input.sk-toggleable__control:checked~div.sk-toggleable__content {max-height: 200px;max-width: 100%;overflow: auto;}#sk-container-id-2 input.sk-toggleable__control:checked~label.sk-toggleable__label-arrow:before {content: \"▾\";}#sk-container-id-2 div.sk-estimator input.sk-toggleable__control:checked~label.sk-toggleable__label {background-color: #d4ebff;}#sk-container-id-2 div.sk-label input.sk-toggleable__control:checked~label.sk-toggleable__label {background-color: #d4ebff;}#sk-container-id-2 input.sk-hidden--visually {border: 0;clip: rect(1px 1px 1px 1px);clip: rect(1px, 1px, 1px, 1px);height: 1px;margin: -1px;overflow: hidden;padding: 0;position: absolute;width: 1px;}#sk-container-id-2 div.sk-estimator {font-family: monospace;background-color: #f0f8ff;border: 1px dotted black;border-radius: 0.25em;box-sizing: border-box;margin-bottom: 0.5em;}#sk-container-id-2 div.sk-estimator:hover {background-color: #d4ebff;}#sk-container-id-2 div.sk-parallel-item::after {content: \"\";width: 100%;border-bottom: 1px solid gray;flex-grow: 1;}#sk-container-id-2 div.sk-label:hover label.sk-toggleable__label {background-color: #d4ebff;}#sk-container-id-2 div.sk-serial::before {content: \"\";position: absolute;border-left: 1px solid gray;box-sizing: border-box;top: 0;bottom: 0;left: 50%;z-index: 0;}#sk-container-id-2 div.sk-serial {display: flex;flex-direction: column;align-items: center;background-color: white;padding-right: 0.2em;padding-left: 0.2em;position: relative;}#sk-container-id-2 div.sk-item {position: relative;z-index: 1;}#sk-container-id-2 div.sk-parallel {display: flex;align-items: stretch;justify-content: center;background-color: white;position: relative;}#sk-container-id-2 div.sk-item::before, #sk-container-id-2 div.sk-parallel-item::before {content: \"\";position: absolute;border-left: 1px solid gray;box-sizing: border-box;top: 0;bottom: 0;left: 50%;z-index: -1;}#sk-container-id-2 div.sk-parallel-item {display: flex;flex-direction: column;z-index: 1;position: relative;background-color: white;}#sk-container-id-2 div.sk-parallel-item:first-child::after {align-self: flex-end;width: 50%;}#sk-container-id-2 div.sk-parallel-item:last-child::after {align-self: flex-start;width: 50%;}#sk-container-id-2 div.sk-parallel-item:only-child::after {width: 0;}#sk-container-id-2 div.sk-dashed-wrapped {border: 1px dashed gray;margin: 0 0.4em 0.5em 0.4em;box-sizing: border-box;padding-bottom: 0.4em;background-color: white;}#sk-container-id-2 div.sk-label label {font-family: monospace;font-weight: bold;display: inline-block;line-height: 1.2em;}#sk-container-id-2 div.sk-label-container {text-align: center;}#sk-container-id-2 div.sk-container {/* jupyter's `normalize.less` sets `[hidden] { display: none; }` but bootstrap.min.css set `[hidden] { display: none !important; }` so we also need the `!important` here to be able to override the default hidden behavior on the sphinx rendered scikit-learn.org. See: https://github.com/scikit-learn/scikit-learn/issues/21755 */display: inline-block !important;position: relative;}#sk-container-id-2 div.sk-text-repr-fallback {display: none;}</style><div id=\"sk-container-id-2\" class=\"sk-top-container\"><div class=\"sk-text-repr-fallback\"><pre>LogisticRegression(C=1,\n",
       "                   class_weight={&#x27;a - suspected serious injury&#x27;: 0.9020899591094956,\n",
       "                                 &#x27;b - suspected minor injury&#x27;: 0.4297619047619048,\n",
       "                                 &#x27;k - fatal injury&#x27;: 4.260729613733906,\n",
       "                                 &#x27;n - not injured&#x27;: 3.031297709923664},\n",
       "                   random_state=666)</pre><b>In a Jupyter environment, please rerun this cell to show the HTML representation or trust the notebook. <br />On GitHub, the HTML representation is unable to render, please try loading this page with nbviewer.org.</b></div><div class=\"sk-container\" hidden><div class=\"sk-item\"><div class=\"sk-estimator sk-toggleable\"><input class=\"sk-toggleable__control sk-hidden--visually\" id=\"sk-estimator-id-2\" type=\"checkbox\" checked><label for=\"sk-estimator-id-2\" class=\"sk-toggleable__label sk-toggleable__label-arrow\">LogisticRegression</label><div class=\"sk-toggleable__content\"><pre>LogisticRegression(C=1,\n",
       "                   class_weight={&#x27;a - suspected serious injury&#x27;: 0.9020899591094956,\n",
       "                                 &#x27;b - suspected minor injury&#x27;: 0.4297619047619048,\n",
       "                                 &#x27;k - fatal injury&#x27;: 4.260729613733906,\n",
       "                                 &#x27;n - not injured&#x27;: 3.031297709923664},\n",
       "                   random_state=666)</pre></div></div></div></div></div>"
      ],
      "text/plain": [
       "LogisticRegression(C=1,\n",
       "                   class_weight={'a - suspected serious injury': 0.9020899591094956,\n",
       "                                 'b - suspected minor injury': 0.4297619047619048,\n",
       "                                 'k - fatal injury': 4.260729613733906,\n",
       "                                 'n - not injured': 3.031297709923664},\n",
       "                   random_state=666)"
      ]
     },
     "execution_count": 25,
     "metadata": {},
     "output_type": "execute_result"
    }
   ],
   "source": [
    "# First we get the weights\n",
    "class_weights = compute_class_weight('balanced', classes=np.unique(y_train), y=y_train)\n",
    "# make the model\n",
    "logit = LogisticRegression(C=1, class_weight=dict(zip(np.unique(y_train), class_weights)), random_state=666, intercept_scaling=1, solver='lbfgs')\n",
    "# fit the model\n",
    "logit.fit(x_train, y_train)\n"
   ]
  },
  {
   "cell_type": "code",
   "execution_count": 26,
   "id": "66d870e6-7d4f-4de5-9a16-e23722d42471",
   "metadata": {},
   "outputs": [
    {
     "name": "stdout",
     "output_type": "stream",
     "text": [
      "Coefficient: \n",
      " [[ 3.65215252e-03 -2.37441146e-01 -7.36552420e-05 ...  2.60948290e-03\n",
      "   1.05533848e-03  1.34243623e-03]\n",
      " [-6.55799027e-03  3.29973646e-02  1.70069688e-04 ... -9.21175361e-03\n",
      "   1.91832360e-03  1.04562415e-03]\n",
      " [ 1.35684682e-02 -1.20314525e-01 -3.58970615e-04 ... -6.59136464e-04\n",
      "  -1.24995810e-03 -9.99344136e-04]\n",
      " [-1.06626304e-02  3.24758306e-01  2.62556169e-04 ...  7.26140717e-03\n",
      "  -1.72370398e-03 -1.38871624e-03]]\n",
      "Intercept: \n",
      " [ 0.00069797  0.00080218 -0.00111189 -0.00038826]\n"
     ]
    }
   ],
   "source": [
    "# check the intercepts and the coefficients of the logistic regression model\n",
    "print('Coefficient: \\n', logit.coef_)\n",
    "print('Intercept: \\n', logit.intercept_)\n"
   ]
  },
  {
   "cell_type": "code",
   "execution_count": 27,
   "id": "5fe56452-760f-418d-a482-596e8b3f900e",
   "metadata": {},
   "outputs": [],
   "source": [
    "# make predictions \n",
    "pred_df_train['logistic'] = logit.predict(x_train)"
   ]
  },
  {
   "cell_type": "code",
   "execution_count": 28,
   "id": "10e3138f-0dd3-4648-beda-72ab4624032e",
   "metadata": {},
   "outputs": [
    {
     "name": "stdout",
     "output_type": "stream",
     "text": [
      "                              precision    recall  f1-score   support\n",
      "\n",
      "a - suspected serious injury       0.33      0.20      0.25      2201\n",
      "  b - suspected minor injury       0.64      0.26      0.37      4620\n",
      "            k - fatal injury       0.09      0.47      0.16       466\n",
      "             n - not injured       0.11      0.40      0.17       655\n",
      "\n",
      "                    accuracy                           0.27      7942\n",
      "                   macro avg       0.29      0.33      0.24      7942\n",
      "                weighted avg       0.48      0.27      0.31      7942\n",
      "\n"
     ]
    }
   ],
   "source": [
    "print(classification_report(pred_df_train['actual'], pred_df_train['logistic']))"
   ]
  },
  {
   "cell_type": "markdown",
   "id": "3e9eea64-3973-46c4-9b6a-1e14dad0344f",
   "metadata": {},
   "source": [
    "# "
   ]
  },
  {
   "cell_type": "code",
   "execution_count": null,
   "id": "122ef6c6-1c5d-4d0b-9d30-def75e7b67a3",
   "metadata": {},
   "outputs": [],
   "source": []
  },
  {
   "cell_type": "code",
   "execution_count": null,
   "id": "100dea98-3860-41a6-8844-5c34b2be96d1",
   "metadata": {},
   "outputs": [],
   "source": []
  },
  {
   "cell_type": "markdown",
   "id": "155bdd8d-affc-4c76-b058-03522a298db4",
   "metadata": {},
   "source": [
    "# Our Models Traing Score"
   ]
  },
  {
   "cell_type": "code",
   "execution_count": 29,
   "id": "3e6b431d-1d19-46c2-b1c4-21632f1521cc",
   "metadata": {},
   "outputs": [
    {
     "name": "stdout",
     "output_type": "stream",
     "text": [
      "The actual column matches the 'actual' column.\n",
      "classification report for baseline_predictions:\n",
      "=====================================\n",
      "                              precision    recall  f1-score   support\n",
      "\n",
      "a - suspected serious injury       0.00      0.00      0.00      2201\n",
      "  b - suspected minor injury       0.58      1.00      0.74      4620\n",
      "            k - fatal injury       0.00      0.00      0.00       466\n",
      "             n - not injured       0.00      0.00      0.00       655\n",
      "\n",
      "                    accuracy                           0.58      7942\n",
      "                   macro avg       0.15      0.25      0.18      7942\n",
      "                weighted avg       0.34      0.58      0.43      7942\n",
      "\n",
      "classification report for clf_prediction:\n",
      "=====================================\n",
      "                              precision    recall  f1-score   support\n",
      "\n",
      "a - suspected serious injury       0.78      0.02      0.03      2201\n",
      "  b - suspected minor injury       0.59      1.00      0.74      4620\n",
      "            k - fatal injury       0.00      0.00      0.00       466\n",
      "             n - not injured       0.83      0.02      0.04       655\n",
      "\n",
      "                    accuracy                           0.59      7942\n",
      "                   macro avg       0.55      0.26      0.20      7942\n",
      "                weighted avg       0.63      0.59      0.44      7942\n",
      "\n",
      "classification report for knn:\n",
      "=====================================\n"
     ]
    },
    {
     "name": "stderr",
     "output_type": "stream",
     "text": [
      "/opt/homebrew/anaconda3/lib/python3.10/site-packages/sklearn/metrics/_classification.py:1344: UndefinedMetricWarning: Precision and F-score are ill-defined and being set to 0.0 in labels with no predicted samples. Use `zero_division` parameter to control this behavior.\n",
      "  _warn_prf(average, modifier, msg_start, len(result))\n",
      "/opt/homebrew/anaconda3/lib/python3.10/site-packages/sklearn/metrics/_classification.py:1344: UndefinedMetricWarning: Precision and F-score are ill-defined and being set to 0.0 in labels with no predicted samples. Use `zero_division` parameter to control this behavior.\n",
      "  _warn_prf(average, modifier, msg_start, len(result))\n",
      "/opt/homebrew/anaconda3/lib/python3.10/site-packages/sklearn/metrics/_classification.py:1344: UndefinedMetricWarning: Precision and F-score are ill-defined and being set to 0.0 in labels with no predicted samples. Use `zero_division` parameter to control this behavior.\n",
      "  _warn_prf(average, modifier, msg_start, len(result))\n",
      "/opt/homebrew/anaconda3/lib/python3.10/site-packages/sklearn/metrics/_classification.py:1344: UndefinedMetricWarning: Precision and F-score are ill-defined and being set to 0.0 in labels with no predicted samples. Use `zero_division` parameter to control this behavior.\n",
      "  _warn_prf(average, modifier, msg_start, len(result))\n",
      "/opt/homebrew/anaconda3/lib/python3.10/site-packages/sklearn/metrics/_classification.py:1344: UndefinedMetricWarning: Precision and F-score are ill-defined and being set to 0.0 in labels with no predicted samples. Use `zero_division` parameter to control this behavior.\n",
      "  _warn_prf(average, modifier, msg_start, len(result))\n",
      "/opt/homebrew/anaconda3/lib/python3.10/site-packages/sklearn/metrics/_classification.py:1344: UndefinedMetricWarning: Precision and F-score are ill-defined and being set to 0.0 in labels with no predicted samples. Use `zero_division` parameter to control this behavior.\n",
      "  _warn_prf(average, modifier, msg_start, len(result))\n",
      "/opt/homebrew/anaconda3/lib/python3.10/site-packages/sklearn/metrics/_classification.py:1344: UndefinedMetricWarning: Precision and F-score are ill-defined and being set to 0.0 in labels with no predicted samples. Use `zero_division` parameter to control this behavior.\n",
      "  _warn_prf(average, modifier, msg_start, len(result))\n"
     ]
    },
    {
     "name": "stdout",
     "output_type": "stream",
     "text": [
      "                              precision    recall  f1-score   support\n",
      "\n",
      "a - suspected serious injury       0.49      0.06      0.11      2201\n",
      "  b - suspected minor injury       0.59      0.98      0.74      4620\n",
      "            k - fatal injury       0.00      0.00      0.00       466\n",
      "             n - not injured       0.00      0.00      0.00       655\n",
      "\n",
      "                    accuracy                           0.59      7942\n",
      "                   macro avg       0.27      0.26      0.21      7942\n",
      "                weighted avg       0.48      0.59      0.46      7942\n",
      "\n",
      "classification report for logistic:\n",
      "=====================================\n",
      "                              precision    recall  f1-score   support\n",
      "\n",
      "a - suspected serious injury       0.33      0.20      0.25      2201\n",
      "  b - suspected minor injury       0.64      0.26      0.37      4620\n",
      "            k - fatal injury       0.09      0.47      0.16       466\n",
      "             n - not injured       0.11      0.40      0.17       655\n",
      "\n",
      "                    accuracy                           0.27      7942\n",
      "                   macro avg       0.29      0.33      0.24      7942\n",
      "                weighted avg       0.48      0.27      0.31      7942\n",
      "\n"
     ]
    },
    {
     "name": "stderr",
     "output_type": "stream",
     "text": [
      "/opt/homebrew/anaconda3/lib/python3.10/site-packages/sklearn/metrics/_classification.py:1344: UndefinedMetricWarning: Precision and F-score are ill-defined and being set to 0.0 in labels with no predicted samples. Use `zero_division` parameter to control this behavior.\n",
      "  _warn_prf(average, modifier, msg_start, len(result))\n",
      "/opt/homebrew/anaconda3/lib/python3.10/site-packages/sklearn/metrics/_classification.py:1344: UndefinedMetricWarning: Precision and F-score are ill-defined and being set to 0.0 in labels with no predicted samples. Use `zero_division` parameter to control this behavior.\n",
      "  _warn_prf(average, modifier, msg_start, len(result))\n"
     ]
    }
   ],
   "source": [
    "for cols in pred_df_train.columns:\n",
    "    if (pred_df_train[cols] != pred_df_train['actual']).any():\n",
    "        print(f'classification report for {cols}:')\n",
    "        print('=====================================')\n",
    "        print(classification_report(pred_df_train['actual'], pred_df_train[cols]))\n",
    "    else:\n",
    "        print(f\"The {cols} column matches the 'actual' column.\")\n"
   ]
  }
 ],
 "metadata": {
  "kernelspec": {
   "display_name": "Python 3 (ipykernel)",
   "language": "python",
   "name": "python3"
  },
  "language_info": {
   "codemirror_mode": {
    "name": "ipython",
    "version": 3
   },
   "file_extension": ".py",
   "mimetype": "text/x-python",
   "name": "python",
   "nbconvert_exporter": "python",
   "pygments_lexer": "ipython3",
   "version": "3.10.9"
  }
 },
 "nbformat": 4,
 "nbformat_minor": 5
}
