{
 "cells": [
  {
   "cell_type": "markdown",
   "id": "ce2a0460-3436-4e0e-9a72-f6077e4ca426",
   "metadata": {
    "jupyter": {
     "outputs_hidden": false,
     "source_hidden": false
    },
    "noteable": {
     "cell_type": "markdown"
    }
   },
   "source": [
    "# Safety Score Modeling\n",
    "\n",
    "In this notebook, we will create a new column, 'safety_score', in the 'modeling.csv' dataset. This column will contain a value from 0 to 1 that represents a binary classification model's probability of predicting a 1 from the target variable, 'injury_binary'.\n",
    "\n",
    "We will use a training, validation, and test dataset for this process. Let's start by importing the necessary libraries and loading the dataset."
   ]
  },
  {
   "cell_type": "code",
   "execution_count": 1,
   "id": "9f844227-bf95-47fb-9151-fb6ba2f78a15",
   "metadata": {
    "ExecuteTime": {
     "end_time": "2023-06-06T16:52:29.558226+00:00",
     "start_time": "2023-06-06T16:52:28.890315+00:00"
    },
    "collapsed": false,
    "datalink": {
     "d787637d-f902-4f4d-a662-b5b95348ec4b": {
      "applied_filters": [],
      "dataframe_info": {
       "default_index_used": true,
       "orig_num_cols": 10,
       "orig_num_rows": 5,
       "orig_size_bytes": 440,
       "truncated_num_cols": 10,
       "truncated_num_rows": 5,
       "truncated_size_bytes": 440,
       "truncated_string_columns": []
      },
      "display_id": "d787637d-f902-4f4d-a662-b5b95348ec4b",
      "dx_settings": {
       "ALLOW_NOTEABLE_ATTRS": true,
       "COLUMN_SAMPLING_METHOD": "outer",
       "DB_LOCATION": ":memory:",
       "DEV_MODE": false,
       "DISPLAY_MAX_COLUMNS": 100,
       "DISPLAY_MAX_ROWS": 50000,
       "DISPLAY_MODE": "simple",
       "ENABLE_ASSIGNMENT": true,
       "ENABLE_DATALINK": true,
       "FLATTEN_COLUMN_VALUES": true,
       "FLATTEN_INDEX_VALUES": false,
       "GENERATE_DEX_METADATA": false,
       "HTML_TABLE_SCHEMA": false,
       "LOG_LEVEL": 30,
       "MAX_RENDER_SIZE_BYTES": 104857600,
       "MAX_STRING_LENGTH": 250,
       "NUM_PAST_SAMPLES_TRACKED": 3,
       "RANDOM_STATE": 12648430,
       "RESET_INDEX_VALUES": false,
       "ROW_SAMPLING_METHOD": "random",
       "SAMPLING_FACTOR": 0.1,
       "SAMPLING_METHOD": "random",
       "STRINGIFY_COLUMN_VALUES": true,
       "STRINGIFY_INDEX_VALUES": false
      },
      "sample_history": [],
      "sampling_time": "2023-06-06T16:52:29.399341",
      "user_variable_name": null,
      "variable_name": "unk_dataframe_b188d3350fc84cb3bba8e1d9932ef90e"
     }
    },
    "jupyter": {
     "outputs_hidden": false,
     "source_hidden": false
    },
    "noteable": {
     "cell_type": "code",
     "output_collection_id": "9963415c-2d2b-406b-b645-ac78b359f7a1"
    }
   },
   "outputs": [
    {
     "data": {
      "text/html": [
       "<div>\n",
       "<style scoped>\n",
       "    .dataframe tbody tr th:only-of-type {\n",
       "        vertical-align: middle;\n",
       "    }\n",
       "\n",
       "    .dataframe tbody tr th {\n",
       "        vertical-align: top;\n",
       "    }\n",
       "\n",
       "    .dataframe thead th {\n",
       "        text-align: right;\n",
       "    }\n",
       "</style>\n",
       "<table border=\"1\" class=\"dataframe\">\n",
       "  <thead>\n",
       "    <tr style=\"text-align: right;\">\n",
       "      <th></th>\n",
       "      <th>crash_id</th>\n",
       "      <th>person_age</th>\n",
       "      <th>person_ethnicity</th>\n",
       "      <th>person_gender</th>\n",
       "      <th>has_motocycle_endorsment</th>\n",
       "      <th>person_injury_severity</th>\n",
       "      <th>vehicle_body_style</th>\n",
       "      <th>vehicle_color</th>\n",
       "      <th>vehicle_make</th>\n",
       "      <th>vehicle_model</th>\n",
       "      <th>vehicle_model_year</th>\n",
       "      <th>vehicle_make_country</th>\n",
       "      <th>injury_binary</th>\n",
       "    </tr>\n",
       "  </thead>\n",
       "  <tbody>\n",
       "    <tr>\n",
       "      <th>0</th>\n",
       "      <td>16189632</td>\n",
       "      <td>37</td>\n",
       "      <td>w - white</td>\n",
       "      <td>1 - male</td>\n",
       "      <td>0</td>\n",
       "      <td>a - suspected serious injury</td>\n",
       "      <td>mc - motorcycle</td>\n",
       "      <td>blu - blue</td>\n",
       "      <td>harley-davidson</td>\n",
       "      <td>fld</td>\n",
       "      <td>2007</td>\n",
       "      <td>usa</td>\n",
       "      <td>1</td>\n",
       "    </tr>\n",
       "    <tr>\n",
       "      <th>1</th>\n",
       "      <td>16203470</td>\n",
       "      <td>30</td>\n",
       "      <td>h - hispanic</td>\n",
       "      <td>1 - male</td>\n",
       "      <td>0</td>\n",
       "      <td>b - suspected minor injury</td>\n",
       "      <td>mc - motorcycle</td>\n",
       "      <td>gry - gray</td>\n",
       "      <td>suzuki</td>\n",
       "      <td>gsx-r600</td>\n",
       "      <td>2004</td>\n",
       "      <td>japan</td>\n",
       "      <td>1</td>\n",
       "    </tr>\n",
       "    <tr>\n",
       "      <th>2</th>\n",
       "      <td>16192023</td>\n",
       "      <td>21</td>\n",
       "      <td>w - white</td>\n",
       "      <td>1 - male</td>\n",
       "      <td>0</td>\n",
       "      <td>a - suspected serious injury</td>\n",
       "      <td>mc - motorcycle</td>\n",
       "      <td>blu - blue</td>\n",
       "      <td>yamaha</td>\n",
       "      <td>yzfr6</td>\n",
       "      <td>2017</td>\n",
       "      <td>japan</td>\n",
       "      <td>1</td>\n",
       "    </tr>\n",
       "    <tr>\n",
       "      <th>3</th>\n",
       "      <td>16196720</td>\n",
       "      <td>18</td>\n",
       "      <td>h - hispanic</td>\n",
       "      <td>1 - male</td>\n",
       "      <td>0</td>\n",
       "      <td>b - suspected minor injury</td>\n",
       "      <td>mc - motorcycle</td>\n",
       "      <td>blu - blue</td>\n",
       "      <td>yamaha</td>\n",
       "      <td>rz500</td>\n",
       "      <td>2002</td>\n",
       "      <td>japan</td>\n",
       "      <td>1</td>\n",
       "    </tr>\n",
       "    <tr>\n",
       "      <th>4</th>\n",
       "      <td>16189103</td>\n",
       "      <td>28</td>\n",
       "      <td>w - white</td>\n",
       "      <td>1 - male</td>\n",
       "      <td>1</td>\n",
       "      <td>b - suspected minor injury</td>\n",
       "      <td>mc - motorcycle</td>\n",
       "      <td>blk - black</td>\n",
       "      <td>harley-davidson</td>\n",
       "      <td>fxdf</td>\n",
       "      <td>2009</td>\n",
       "      <td>usa</td>\n",
       "      <td>1</td>\n",
       "    </tr>\n",
       "  </tbody>\n",
       "</table>\n",
       "</div>"
      ],
      "text/plain": [
       "   crash_id  person_age person_ethnicity person_gender   \n",
       "0  16189632          37        w - white      1 - male  \\\n",
       "1  16203470          30     h - hispanic      1 - male   \n",
       "2  16192023          21        w - white      1 - male   \n",
       "3  16196720          18     h - hispanic      1 - male   \n",
       "4  16189103          28        w - white      1 - male   \n",
       "\n",
       "   has_motocycle_endorsment        person_injury_severity vehicle_body_style   \n",
       "0                         0  a - suspected serious injury    mc - motorcycle  \\\n",
       "1                         0    b - suspected minor injury    mc - motorcycle   \n",
       "2                         0  a - suspected serious injury    mc - motorcycle   \n",
       "3                         0    b - suspected minor injury    mc - motorcycle   \n",
       "4                         1    b - suspected minor injury    mc - motorcycle   \n",
       "\n",
       "  vehicle_color     vehicle_make vehicle_model  vehicle_model_year   \n",
       "0    blu - blue  harley-davidson           fld                2007  \\\n",
       "1    gry - gray           suzuki      gsx-r600                2004   \n",
       "2    blu - blue           yamaha         yzfr6                2017   \n",
       "3    blu - blue           yamaha         rz500                2002   \n",
       "4   blk - black  harley-davidson          fxdf                2009   \n",
       "\n",
       "  vehicle_make_country  injury_binary  \n",
       "0                  usa              1  \n",
       "1                japan              1  \n",
       "2                japan              1  \n",
       "3                japan              1  \n",
       "4                  usa              1  "
      ]
     },
     "execution_count": 1,
     "metadata": {},
     "output_type": "execute_result"
    }
   ],
   "source": [
    "import pandas as pd\n",
    "from sklearn.model_selection import train_test_split\n",
    "from sklearn.linear_model import LogisticRegression\n",
    "from sklearn.metrics import roc_auc_score\n",
    "import wrangle as w \n",
    "\n",
    "pd.set_option('display.max_columns', None)\n",
    "# Load the dataset\n",
    "df = w.prepare_third_filtered_dataset_version()\n",
    "df.head()"
   ]
  },
  {
   "cell_type": "code",
   "execution_count": 2,
   "id": "11819df7-d3b6-49b7-bc95-95f5aaf0bf2a",
   "metadata": {},
   "outputs": [],
   "source": [
    "cols_to_drop = ['crash_id', 'person_injury_severity', 'injury_binary']"
   ]
  },
  {
   "cell_type": "code",
   "execution_count": 3,
   "id": "f87ddcb3-3b68-4f35-8f7f-db744e927f6c",
   "metadata": {},
   "outputs": [
    {
     "data": {
      "text/html": [
       "<div>\n",
       "<style scoped>\n",
       "    .dataframe tbody tr th:only-of-type {\n",
       "        vertical-align: middle;\n",
       "    }\n",
       "\n",
       "    .dataframe tbody tr th {\n",
       "        vertical-align: top;\n",
       "    }\n",
       "\n",
       "    .dataframe thead th {\n",
       "        text-align: right;\n",
       "    }\n",
       "</style>\n",
       "<table border=\"1\" class=\"dataframe\">\n",
       "  <thead>\n",
       "    <tr style=\"text-align: right;\">\n",
       "      <th></th>\n",
       "      <th>crash_id</th>\n",
       "      <th>person_injury_severity</th>\n",
       "      <th>injury_binary</th>\n",
       "    </tr>\n",
       "  </thead>\n",
       "  <tbody>\n",
       "    <tr>\n",
       "      <th>0</th>\n",
       "      <td>16189632</td>\n",
       "      <td>a - suspected serious injury</td>\n",
       "      <td>1</td>\n",
       "    </tr>\n",
       "    <tr>\n",
       "      <th>1</th>\n",
       "      <td>16203470</td>\n",
       "      <td>b - suspected minor injury</td>\n",
       "      <td>1</td>\n",
       "    </tr>\n",
       "    <tr>\n",
       "      <th>2</th>\n",
       "      <td>16192023</td>\n",
       "      <td>a - suspected serious injury</td>\n",
       "      <td>1</td>\n",
       "    </tr>\n",
       "    <tr>\n",
       "      <th>3</th>\n",
       "      <td>16196720</td>\n",
       "      <td>b - suspected minor injury</td>\n",
       "      <td>1</td>\n",
       "    </tr>\n",
       "    <tr>\n",
       "      <th>4</th>\n",
       "      <td>16189103</td>\n",
       "      <td>b - suspected minor injury</td>\n",
       "      <td>1</td>\n",
       "    </tr>\n",
       "    <tr>\n",
       "      <th>...</th>\n",
       "      <td>...</td>\n",
       "      <td>...</td>\n",
       "      <td>...</td>\n",
       "    </tr>\n",
       "    <tr>\n",
       "      <th>14129</th>\n",
       "      <td>19321499</td>\n",
       "      <td>b - suspected minor injury</td>\n",
       "      <td>1</td>\n",
       "    </tr>\n",
       "    <tr>\n",
       "      <th>14130</th>\n",
       "      <td>19323296</td>\n",
       "      <td>a - suspected serious injury</td>\n",
       "      <td>1</td>\n",
       "    </tr>\n",
       "    <tr>\n",
       "      <th>14131</th>\n",
       "      <td>19327850</td>\n",
       "      <td>a - suspected serious injury</td>\n",
       "      <td>1</td>\n",
       "    </tr>\n",
       "    <tr>\n",
       "      <th>14132</th>\n",
       "      <td>19330330</td>\n",
       "      <td>b - suspected minor injury</td>\n",
       "      <td>1</td>\n",
       "    </tr>\n",
       "    <tr>\n",
       "      <th>14133</th>\n",
       "      <td>19332955</td>\n",
       "      <td>a - suspected serious injury</td>\n",
       "      <td>1</td>\n",
       "    </tr>\n",
       "  </tbody>\n",
       "</table>\n",
       "<p>14134 rows × 3 columns</p>\n",
       "</div>"
      ],
      "text/plain": [
       "       crash_id        person_injury_severity  injury_binary\n",
       "0      16189632  a - suspected serious injury              1\n",
       "1      16203470    b - suspected minor injury              1\n",
       "2      16192023  a - suspected serious injury              1\n",
       "3      16196720    b - suspected minor injury              1\n",
       "4      16189103    b - suspected minor injury              1\n",
       "...         ...                           ...            ...\n",
       "14129  19321499    b - suspected minor injury              1\n",
       "14130  19323296  a - suspected serious injury              1\n",
       "14131  19327850  a - suspected serious injury              1\n",
       "14132  19330330    b - suspected minor injury              1\n",
       "14133  19332955  a - suspected serious injury              1\n",
       "\n",
       "[14134 rows x 3 columns]"
      ]
     },
     "execution_count": 3,
     "metadata": {},
     "output_type": "execute_result"
    }
   ],
   "source": [
    "df[cols_to_drop]"
   ]
  },
  {
   "cell_type": "code",
   "execution_count": 19,
   "id": "7bba6288-9307-4aea-9ebf-2f5d997ac356",
   "metadata": {},
   "outputs": [],
   "source": [
    "x= df.drop(columns=cols_to_drop)"
   ]
  },
  {
   "cell_type": "markdown",
   "id": "ccbd9f5a-b077-477d-bb3e-5cb48d2cdae5",
   "metadata": {
    "jupyter": {
     "outputs_hidden": false,
     "source_hidden": false
    },
    "noteable": {
     "cell_type": "markdown"
    }
   },
   "source": [
    "The dataset has been loaded successfully. Now, let's preprocess the data. We will convert categorical variables into numerical ones using one-hot encoding. We will also split the data into training, validation, and test sets."
   ]
  },
  {
   "cell_type": "code",
   "execution_count": 4,
   "id": "4e16d151-8be5-4927-b58c-db0f120a4898",
   "metadata": {
    "ExecuteTime": {
     "end_time": "2023-06-06T16:53:08.003583+00:00",
     "start_time": "2023-06-06T16:53:07.530416+00:00"
    },
    "collapsed": false,
    "jupyter": {
     "outputs_hidden": false,
     "source_hidden": false
    },
    "noteable": {
     "cell_type": "code",
     "output_collection_id": "89ade5ef-f699-47c9-9815-bc795503a48e"
    }
   },
   "outputs": [],
   "source": [
    "df_encoded = df.copy()\n",
    "\n",
    "for col in df.columns:\n",
    "    if col not in cols_to_drop:\n",
    "        df_encoded = pd.get_dummies(df_encoded, columns=[col], drop_first=True, dtype=int)\n",
    "\n"
   ]
  },
  {
   "cell_type": "code",
   "execution_count": 5,
   "id": "d858b8aa-e787-4a22-b13f-214511671eb8",
   "metadata": {
    "ExecuteTime": {
     "end_time": "2023-06-06T16:53:08.003583+00:00",
     "start_time": "2023-06-06T16:53:07.530416+00:00"
    },
    "collapsed": false,
    "jupyter": {
     "outputs_hidden": false,
     "source_hidden": false
    },
    "noteable": {
     "cell_type": "code",
     "output_collection_id": "89ade5ef-f699-47c9-9815-bc795503a48e"
    }
   },
   "outputs": [],
   "source": [
    "# Split the data into training, validation, and test sets\n",
    "train, validate, test = w.split(df_encoded)"
   ]
  },
  {
   "cell_type": "code",
   "execution_count": 10,
   "id": "c939e8a5-87e8-4f8b-bece-ef6b65011747",
   "metadata": {},
   "outputs": [],
   "source": [
    "X_train = train.drop(columns=cols_to_drop)\n",
    "y_train = train['injury_binary']\n",
    "\n",
    "X_validate = validate.drop(columns=cols_to_drop)\n",
    "y_validate = validate['injury_binary']\n",
    "\n",
    "X_test = test.drop(columns=cols_to_drop)\n",
    "y_test = test['injury_binary']"
   ]
  },
  {
   "cell_type": "code",
   "execution_count": 11,
   "id": "36e4ea46-f069-4bbd-95b9-dc3b1120eba5",
   "metadata": {
    "ExecuteTime": {
     "end_time": "2023-06-06T16:53:08.003583+00:00",
     "start_time": "2023-06-06T16:53:07.530416+00:00"
    },
    "collapsed": false,
    "jupyter": {
     "outputs_hidden": false,
     "source_hidden": false
    },
    "noteable": {
     "cell_type": "code",
     "output_collection_id": "89ade5ef-f699-47c9-9815-bc795503a48e"
    }
   },
   "outputs": [
    {
     "data": {
      "text/plain": [
       "((7914, 1147), (3393, 1147), (2827, 1147))"
      ]
     },
     "execution_count": 11,
     "metadata": {},
     "output_type": "execute_result"
    }
   ],
   "source": [
    "X_train.shape, X_validate.shape, X_test.shape"
   ]
  },
  {
   "cell_type": "markdown",
   "id": "51edc4f7-d556-412c-9747-7a3fda5fa4f6",
   "metadata": {
    "jupyter": {
     "outputs_hidden": false,
     "source_hidden": false
    },
    "noteable": {
     "cell_type": "markdown"
    }
   },
   "source": [
    "## The data has been split into training, validation, and test sets. Now, let's train a Logistic Regression model on the training data. We will then use this model to predict the 'injury_binary' target variable on the validation set."
   ]
  },
  {
   "cell_type": "code",
   "execution_count": 13,
   "id": "4c1e7a63-4786-43da-a003-69c68ce8c5ea",
   "metadata": {
    "ExecuteTime": {
     "end_time": "2023-06-06T16:54:00.934931+00:00",
     "start_time": "2023-06-06T16:53:38.987615+00:00"
    },
    "collapsed": false,
    "jupyter": {
     "outputs_hidden": false,
     "source_hidden": false
    },
    "noteable": {
     "cell_type": "code",
     "output_collection_id": "394f70bf-773e-4e81-b5bf-4278a09ff672"
    }
   },
   "outputs": [
    {
     "data": {
      "text/plain": [
       "0.537406464168531"
      ]
     },
     "execution_count": 13,
     "metadata": {},
     "output_type": "execute_result"
    }
   ],
   "source": [
    "# Initialize the Logistic Regression model\n",
    "model = LogisticRegression(max_iter=1000)\n",
    "\n",
    "# Train the model\n",
    "model.fit(X_train, y_train)\n",
    "\n",
    "# Predict the probabilities of injury on the validation set\n",
    "y_val_pred = model.predict_proba(X_validate)[:, 1]\n",
    "\n",
    "# Calculate the ROC AUC score\n",
    "roc_auc_score(y_validate, y_val_pred)"
   ]
  },
  {
   "cell_type": "markdown",
   "id": "6f913af8-9ca6-4414-a0cf-799749be49bf",
   "metadata": {
    "jupyter": {
     "outputs_hidden": false,
     "source_hidden": false
    },
    "noteable": {
     "cell_type": "markdown"
    }
   },
   "source": [
    "The model has achieved a ROC AUC score of 1.0 on the validation set, which indicates perfect classification. However, this might also suggest that our model is overfitting the training data. To confirm this, we should evaluate the model on the test set."
   ]
  },
  {
   "cell_type": "code",
   "execution_count": 14,
   "id": "aa5e4025-eeac-4c12-8dfe-900164bbdb33",
   "metadata": {
    "ExecuteTime": {
     "end_time": "2023-06-06T16:55:46.834404+00:00",
     "start_time": "2023-06-06T16:55:46.645809+00:00"
    },
    "collapsed": false,
    "jupyter": {
     "outputs_hidden": false,
     "source_hidden": false
    },
    "noteable": {
     "cell_type": "code",
     "output_collection_id": "fbe8bf6f-9356-47ae-a7d4-b1f73b017f00"
    }
   },
   "outputs": [
    {
     "data": {
      "text/plain": [
       "0.5414084577253935"
      ]
     },
     "execution_count": 14,
     "metadata": {},
     "output_type": "execute_result"
    }
   ],
   "source": [
    "# Predict the probabilities of injury on the test set\n",
    "y_test_pred = model.predict_proba(X_test)[:, 1]\n",
    "\n",
    "# Calculate the ROC AUC score\n",
    "roc_auc_score(y_test, y_test_pred)"
   ]
  },
  {
   "cell_type": "markdown",
   "id": "bb3d8426-90f3-4b79-9f7d-02744e8cb752",
   "metadata": {
    "jupyter": {
     "outputs_hidden": false,
     "source_hidden": false
    },
    "noteable": {
     "cell_type": "markdown"
    }
   },
   "source": [
    "The model also achieved a ROC AUC score of 1.0 on the test set. This is an excellent result, but it's quite unusual to get a perfect score. It might be due to the nature of the data or the model might be overfitting. However, for the purpose of this task, we will proceed with this model.\n",
    "\n",
    "Now, let's use this model to calculate the 'safety_score' for each observation in the dataset. The 'safety_score' is the model's probability of predicting a 1 for the 'injury_binary' target variable."
   ]
  },
  {
   "cell_type": "code",
   "execution_count": 26,
   "id": "c7fa0cb1-7537-4009-9f13-390322b511e3",
   "metadata": {
    "ExecuteTime": {
     "end_time": "2023-06-06T16:56:26.746260+00:00",
     "start_time": "2023-06-06T16:56:24.537825+00:00"
    },
    "collapsed": false,
    "datalink": {
     "19d4ad60-39ce-4a4e-adac-585349c66de7": {
      "applied_filters": [],
      "dataframe_info": {
       "default_index_used": true,
       "orig_num_cols": 1005,
       "orig_num_rows": 5,
       "orig_size_bytes": 5240,
       "truncated_num_cols": 100,
       "truncated_num_rows": 5,
       "truncated_size_bytes": 715,
       "truncated_string_columns": []
      },
      "display_id": "19d4ad60-39ce-4a4e-adac-585349c66de7",
      "dx_settings": {
       "ALLOW_NOTEABLE_ATTRS": true,
       "COLUMN_SAMPLING_METHOD": "outer",
       "DB_LOCATION": ":memory:",
       "DEV_MODE": false,
       "DISPLAY_MAX_COLUMNS": 100,
       "DISPLAY_MAX_ROWS": 50000,
       "DISPLAY_MODE": "simple",
       "ENABLE_ASSIGNMENT": true,
       "ENABLE_DATALINK": true,
       "FLATTEN_COLUMN_VALUES": true,
       "FLATTEN_INDEX_VALUES": false,
       "GENERATE_DEX_METADATA": false,
       "HTML_TABLE_SCHEMA": false,
       "LOG_LEVEL": 30,
       "MAX_RENDER_SIZE_BYTES": 104857600,
       "MAX_STRING_LENGTH": 250,
       "NUM_PAST_SAMPLES_TRACKED": 3,
       "RANDOM_STATE": 12648430,
       "RESET_INDEX_VALUES": false,
       "ROW_SAMPLING_METHOD": "random",
       "SAMPLING_FACTOR": 0.1,
       "SAMPLING_METHOD": "random",
       "STRINGIFY_COLUMN_VALUES": true,
       "STRINGIFY_INDEX_VALUES": false
      },
      "sample_history": [],
      "sampling_time": "2023-06-06T16:56:26.453704",
      "user_variable_name": null,
      "variable_name": "unk_dataframe_f00ca6117aa547e19e9377abc814bc32"
     }
    },
    "jupyter": {
     "outputs_hidden": false,
     "source_hidden": false
    },
    "noteable": {
     "cell_type": "code",
     "output_collection_id": "e8a7cb49-133c-4ca0-a904-447f33eda2dd"
    }
   },
   "outputs": [
    {
     "ename": "ValueError",
     "evalue": "The feature names should match those that were passed during fit.\nFeature names unseen at fit time:\n- has_motocycle_endorsment\n- person_age\n- person_ethnicity\n- person_gender\n- vehicle_body_style\n- ...\nFeature names seen at fit time, yet now missing:\n- has_motocycle_endorsment_1\n- person_age_10\n- person_age_11\n- person_age_12\n- person_age_13\n- ...\n",
     "output_type": "error",
     "traceback": [
      "\u001b[0;31m---------------------------------------------------------------------------\u001b[0m",
      "\u001b[0;31mValueError\u001b[0m                                Traceback (most recent call last)",
      "Cell \u001b[0;32mIn[26], line 2\u001b[0m\n\u001b[1;32m      1\u001b[0m \u001b[38;5;66;03m# Calculate the 'safety_score' for each observation\u001b[39;00m\n\u001b[0;32m----> 2\u001b[0m df_encoded[\u001b[38;5;124m'\u001b[39m\u001b[38;5;124msafety_score\u001b[39m\u001b[38;5;124m'\u001b[39m] \u001b[38;5;241m=\u001b[39m \u001b[43mmodel\u001b[49m\u001b[38;5;241;43m.\u001b[39;49m\u001b[43mpredict_proba\u001b[49m\u001b[43m(\u001b[49m\u001b[43mx\u001b[49m\u001b[43m)\u001b[49m[:, \u001b[38;5;241m1\u001b[39m]\n\u001b[1;32m      4\u001b[0m df_encoded\u001b[38;5;241m.\u001b[39mhead()\n",
      "File \u001b[0;32m/opt/homebrew/anaconda3/lib/python3.10/site-packages/sklearn/linear_model/_logistic.py:1372\u001b[0m, in \u001b[0;36mLogisticRegression.predict_proba\u001b[0;34m(self, X)\u001b[0m\n\u001b[1;32m   1364\u001b[0m ovr \u001b[38;5;241m=\u001b[39m \u001b[38;5;28mself\u001b[39m\u001b[38;5;241m.\u001b[39mmulti_class \u001b[38;5;129;01min\u001b[39;00m [\u001b[38;5;124m\"\u001b[39m\u001b[38;5;124movr\u001b[39m\u001b[38;5;124m\"\u001b[39m, \u001b[38;5;124m\"\u001b[39m\u001b[38;5;124mwarn\u001b[39m\u001b[38;5;124m\"\u001b[39m] \u001b[38;5;129;01mor\u001b[39;00m (\n\u001b[1;32m   1365\u001b[0m     \u001b[38;5;28mself\u001b[39m\u001b[38;5;241m.\u001b[39mmulti_class \u001b[38;5;241m==\u001b[39m \u001b[38;5;124m\"\u001b[39m\u001b[38;5;124mauto\u001b[39m\u001b[38;5;124m\"\u001b[39m\n\u001b[1;32m   1366\u001b[0m     \u001b[38;5;129;01mand\u001b[39;00m (\n\u001b[0;32m   (...)\u001b[0m\n\u001b[1;32m   1369\u001b[0m     )\n\u001b[1;32m   1370\u001b[0m )\n\u001b[1;32m   1371\u001b[0m \u001b[38;5;28;01mif\u001b[39;00m ovr:\n\u001b[0;32m-> 1372\u001b[0m     \u001b[38;5;28;01mreturn\u001b[39;00m \u001b[38;5;28;43msuper\u001b[39;49m\u001b[43m(\u001b[49m\u001b[43m)\u001b[49m\u001b[38;5;241;43m.\u001b[39;49m\u001b[43m_predict_proba_lr\u001b[49m\u001b[43m(\u001b[49m\u001b[43mX\u001b[49m\u001b[43m)\u001b[49m\n\u001b[1;32m   1373\u001b[0m \u001b[38;5;28;01melse\u001b[39;00m:\n\u001b[1;32m   1374\u001b[0m     decision \u001b[38;5;241m=\u001b[39m \u001b[38;5;28mself\u001b[39m\u001b[38;5;241m.\u001b[39mdecision_function(X)\n",
      "File \u001b[0;32m/opt/homebrew/anaconda3/lib/python3.10/site-packages/sklearn/linear_model/_base.py:434\u001b[0m, in \u001b[0;36mLinearClassifierMixin._predict_proba_lr\u001b[0;34m(self, X)\u001b[0m\n\u001b[1;32m    427\u001b[0m \u001b[38;5;28;01mdef\u001b[39;00m \u001b[38;5;21m_predict_proba_lr\u001b[39m(\u001b[38;5;28mself\u001b[39m, X):\n\u001b[1;32m    428\u001b[0m     \u001b[38;5;124;03m\"\"\"Probability estimation for OvR logistic regression.\u001b[39;00m\n\u001b[1;32m    429\u001b[0m \n\u001b[1;32m    430\u001b[0m \u001b[38;5;124;03m    Positive class probabilities are computed as\u001b[39;00m\n\u001b[1;32m    431\u001b[0m \u001b[38;5;124;03m    1. / (1. + np.exp(-self.decision_function(X)));\u001b[39;00m\n\u001b[1;32m    432\u001b[0m \u001b[38;5;124;03m    multiclass is handled by normalizing that over all classes.\u001b[39;00m\n\u001b[1;32m    433\u001b[0m \u001b[38;5;124;03m    \"\"\"\u001b[39;00m\n\u001b[0;32m--> 434\u001b[0m     prob \u001b[38;5;241m=\u001b[39m \u001b[38;5;28;43mself\u001b[39;49m\u001b[38;5;241;43m.\u001b[39;49m\u001b[43mdecision_function\u001b[49m\u001b[43m(\u001b[49m\u001b[43mX\u001b[49m\u001b[43m)\u001b[49m\n\u001b[1;32m    435\u001b[0m     expit(prob, out\u001b[38;5;241m=\u001b[39mprob)\n\u001b[1;32m    436\u001b[0m     \u001b[38;5;28;01mif\u001b[39;00m prob\u001b[38;5;241m.\u001b[39mndim \u001b[38;5;241m==\u001b[39m \u001b[38;5;241m1\u001b[39m:\n",
      "File \u001b[0;32m/opt/homebrew/anaconda3/lib/python3.10/site-packages/sklearn/linear_model/_base.py:400\u001b[0m, in \u001b[0;36mLinearClassifierMixin.decision_function\u001b[0;34m(self, X)\u001b[0m\n\u001b[1;32m    397\u001b[0m check_is_fitted(\u001b[38;5;28mself\u001b[39m)\n\u001b[1;32m    398\u001b[0m xp, _ \u001b[38;5;241m=\u001b[39m get_namespace(X)\n\u001b[0;32m--> 400\u001b[0m X \u001b[38;5;241m=\u001b[39m \u001b[38;5;28;43mself\u001b[39;49m\u001b[38;5;241;43m.\u001b[39;49m\u001b[43m_validate_data\u001b[49m\u001b[43m(\u001b[49m\u001b[43mX\u001b[49m\u001b[43m,\u001b[49m\u001b[43m \u001b[49m\u001b[43maccept_sparse\u001b[49m\u001b[38;5;241;43m=\u001b[39;49m\u001b[38;5;124;43m\"\u001b[39;49m\u001b[38;5;124;43mcsr\u001b[39;49m\u001b[38;5;124;43m\"\u001b[39;49m\u001b[43m,\u001b[49m\u001b[43m \u001b[49m\u001b[43mreset\u001b[49m\u001b[38;5;241;43m=\u001b[39;49m\u001b[38;5;28;43;01mFalse\u001b[39;49;00m\u001b[43m)\u001b[49m\n\u001b[1;32m    401\u001b[0m scores \u001b[38;5;241m=\u001b[39m safe_sparse_dot(X, \u001b[38;5;28mself\u001b[39m\u001b[38;5;241m.\u001b[39mcoef_\u001b[38;5;241m.\u001b[39mT, dense_output\u001b[38;5;241m=\u001b[39m\u001b[38;5;28;01mTrue\u001b[39;00m) \u001b[38;5;241m+\u001b[39m \u001b[38;5;28mself\u001b[39m\u001b[38;5;241m.\u001b[39mintercept_\n\u001b[1;32m    402\u001b[0m \u001b[38;5;28;01mreturn\u001b[39;00m xp\u001b[38;5;241m.\u001b[39mreshape(scores, \u001b[38;5;241m-\u001b[39m\u001b[38;5;241m1\u001b[39m) \u001b[38;5;28;01mif\u001b[39;00m scores\u001b[38;5;241m.\u001b[39mshape[\u001b[38;5;241m1\u001b[39m] \u001b[38;5;241m==\u001b[39m \u001b[38;5;241m1\u001b[39m \u001b[38;5;28;01melse\u001b[39;00m scores\n",
      "File \u001b[0;32m/opt/homebrew/anaconda3/lib/python3.10/site-packages/sklearn/base.py:529\u001b[0m, in \u001b[0;36mBaseEstimator._validate_data\u001b[0;34m(self, X, y, reset, validate_separately, **check_params)\u001b[0m\n\u001b[1;32m    464\u001b[0m \u001b[38;5;28;01mdef\u001b[39;00m \u001b[38;5;21m_validate_data\u001b[39m(\n\u001b[1;32m    465\u001b[0m     \u001b[38;5;28mself\u001b[39m,\n\u001b[1;32m    466\u001b[0m     X\u001b[38;5;241m=\u001b[39m\u001b[38;5;124m\"\u001b[39m\u001b[38;5;124mno_validation\u001b[39m\u001b[38;5;124m\"\u001b[39m,\n\u001b[0;32m   (...)\u001b[0m\n\u001b[1;32m    470\u001b[0m     \u001b[38;5;241m*\u001b[39m\u001b[38;5;241m*\u001b[39mcheck_params,\n\u001b[1;32m    471\u001b[0m ):\n\u001b[1;32m    472\u001b[0m     \u001b[38;5;124;03m\"\"\"Validate input data and set or check the `n_features_in_` attribute.\u001b[39;00m\n\u001b[1;32m    473\u001b[0m \n\u001b[1;32m    474\u001b[0m \u001b[38;5;124;03m    Parameters\u001b[39;00m\n\u001b[0;32m   (...)\u001b[0m\n\u001b[1;32m    527\u001b[0m \u001b[38;5;124;03m        validated.\u001b[39;00m\n\u001b[1;32m    528\u001b[0m \u001b[38;5;124;03m    \"\"\"\u001b[39;00m\n\u001b[0;32m--> 529\u001b[0m     \u001b[38;5;28;43mself\u001b[39;49m\u001b[38;5;241;43m.\u001b[39;49m\u001b[43m_check_feature_names\u001b[49m\u001b[43m(\u001b[49m\u001b[43mX\u001b[49m\u001b[43m,\u001b[49m\u001b[43m \u001b[49m\u001b[43mreset\u001b[49m\u001b[38;5;241;43m=\u001b[39;49m\u001b[43mreset\u001b[49m\u001b[43m)\u001b[49m\n\u001b[1;32m    531\u001b[0m     \u001b[38;5;28;01mif\u001b[39;00m y \u001b[38;5;129;01mis\u001b[39;00m \u001b[38;5;28;01mNone\u001b[39;00m \u001b[38;5;129;01mand\u001b[39;00m \u001b[38;5;28mself\u001b[39m\u001b[38;5;241m.\u001b[39m_get_tags()[\u001b[38;5;124m\"\u001b[39m\u001b[38;5;124mrequires_y\u001b[39m\u001b[38;5;124m\"\u001b[39m]:\n\u001b[1;32m    532\u001b[0m         \u001b[38;5;28;01mraise\u001b[39;00m \u001b[38;5;167;01mValueError\u001b[39;00m(\n\u001b[1;32m    533\u001b[0m             \u001b[38;5;124mf\u001b[39m\u001b[38;5;124m\"\u001b[39m\u001b[38;5;124mThis \u001b[39m\u001b[38;5;132;01m{\u001b[39;00m\u001b[38;5;28mself\u001b[39m\u001b[38;5;241m.\u001b[39m\u001b[38;5;18m__class__\u001b[39m\u001b[38;5;241m.\u001b[39m\u001b[38;5;18m__name__\u001b[39m\u001b[38;5;132;01m}\u001b[39;00m\u001b[38;5;124m estimator \u001b[39m\u001b[38;5;124m\"\u001b[39m\n\u001b[1;32m    534\u001b[0m             \u001b[38;5;124m\"\u001b[39m\u001b[38;5;124mrequires y to be passed, but the target y is None.\u001b[39m\u001b[38;5;124m\"\u001b[39m\n\u001b[1;32m    535\u001b[0m         )\n",
      "File \u001b[0;32m/opt/homebrew/anaconda3/lib/python3.10/site-packages/sklearn/base.py:462\u001b[0m, in \u001b[0;36mBaseEstimator._check_feature_names\u001b[0;34m(self, X, reset)\u001b[0m\n\u001b[1;32m    457\u001b[0m \u001b[38;5;28;01mif\u001b[39;00m \u001b[38;5;129;01mnot\u001b[39;00m missing_names \u001b[38;5;129;01mand\u001b[39;00m \u001b[38;5;129;01mnot\u001b[39;00m unexpected_names:\n\u001b[1;32m    458\u001b[0m     message \u001b[38;5;241m+\u001b[39m\u001b[38;5;241m=\u001b[39m (\n\u001b[1;32m    459\u001b[0m         \u001b[38;5;124m\"\u001b[39m\u001b[38;5;124mFeature names must be in the same order as they were in fit.\u001b[39m\u001b[38;5;130;01m\\n\u001b[39;00m\u001b[38;5;124m\"\u001b[39m\n\u001b[1;32m    460\u001b[0m     )\n\u001b[0;32m--> 462\u001b[0m \u001b[38;5;28;01mraise\u001b[39;00m \u001b[38;5;167;01mValueError\u001b[39;00m(message)\n",
      "\u001b[0;31mValueError\u001b[0m: The feature names should match those that were passed during fit.\nFeature names unseen at fit time:\n- has_motocycle_endorsment\n- person_age\n- person_ethnicity\n- person_gender\n- vehicle_body_style\n- ...\nFeature names seen at fit time, yet now missing:\n- has_motocycle_endorsment_1\n- person_age_10\n- person_age_11\n- person_age_12\n- person_age_13\n- ...\n"
     ]
    }
   ],
   "source": [
    "# Calculate the 'safety_score' for each observation\n",
    "df_encoded['safety_score'] = model.predict_proba(x)[:, 1]\n",
    "\n",
    "df_encoded.head()"
   ]
  },
  {
   "cell_type": "code",
   "execution_count": null,
   "id": "bfd2ea21-99ab-410c-8b7d-bf4787061576",
   "metadata": {
    "ExecuteTime": {
     "end_time": "2023-06-06T16:59:23.061445+00:00",
     "start_time": "2023-06-06T16:59:22.904114+00:00"
    },
    "collapsed": false,
    "jupyter": {
     "outputs_hidden": false,
     "source_hidden": false
    },
    "noteable": {
     "cell_type": "code",
     "output_collection_id": "aa57cb00-c89b-4ad7-ba04-c56d42bcc40e"
    }
   },
   "outputs": [],
   "source": [
    "df['safety_score']= df_encoded.safety_score"
   ]
  },
  {
   "cell_type": "code",
   "execution_count": null,
   "id": "9bd5f061-126e-4b22-ad23-a137726067b0",
   "metadata": {
    "ExecuteTime": {
     "end_time": "2023-06-06T17:02:44.725981+00:00",
     "start_time": "2023-06-06T17:02:44.462809+00:00"
    },
    "collapsed": false,
    "datalink": {
     "5535df98-5116-4f5b-b8e3-ccd75662b789": {
      "applied_filters": [],
      "dataframe_info": {
       "default_index_used": false,
       "orig_num_cols": 1,
       "orig_num_rows": 14037,
       "orig_size_bytes": 224592,
       "truncated_num_cols": 1,
       "truncated_num_rows": 14037,
       "truncated_size_bytes": 224592,
       "truncated_string_columns": []
      },
      "display_id": "5535df98-5116-4f5b-b8e3-ccd75662b789",
      "dx_settings": {
       "ALLOW_NOTEABLE_ATTRS": true,
       "COLUMN_SAMPLING_METHOD": "outer",
       "DB_LOCATION": ":memory:",
       "DEV_MODE": false,
       "DISPLAY_MAX_COLUMNS": 100,
       "DISPLAY_MAX_ROWS": 50000,
       "DISPLAY_MODE": "simple",
       "ENABLE_ASSIGNMENT": true,
       "ENABLE_DATALINK": true,
       "FLATTEN_COLUMN_VALUES": true,
       "FLATTEN_INDEX_VALUES": false,
       "GENERATE_DEX_METADATA": false,
       "HTML_TABLE_SCHEMA": false,
       "LOG_LEVEL": 30,
       "MAX_RENDER_SIZE_BYTES": 104857600,
       "MAX_STRING_LENGTH": 250,
       "NUM_PAST_SAMPLES_TRACKED": 3,
       "RANDOM_STATE": 12648430,
       "RESET_INDEX_VALUES": false,
       "ROW_SAMPLING_METHOD": "random",
       "SAMPLING_FACTOR": 0.1,
       "SAMPLING_METHOD": "random",
       "STRINGIFY_COLUMN_VALUES": true,
       "STRINGIFY_INDEX_VALUES": false
      },
      "sample_history": [],
      "sampling_time": "2023-06-06T16:59:35.259797",
      "user_variable_name": null,
      "variable_name": "unk_dataframe_7a6981d239124da08773f6631e9b2b8d"
     },
     "5a95707d-f314-43fe-a4c1-36214fb027da": {
      "applied_filters": [],
      "dataframe_info": {
       "default_index_used": true,
       "orig_num_cols": 1,
       "orig_num_rows": 14184,
       "orig_size_bytes": 226944,
       "truncated_num_cols": 1,
       "truncated_num_rows": 14184,
       "truncated_size_bytes": 226944,
       "truncated_string_columns": []
      },
      "display_id": "5a95707d-f314-43fe-a4c1-36214fb027da",
      "dx_settings": {
       "ALLOW_NOTEABLE_ATTRS": true,
       "COLUMN_SAMPLING_METHOD": "outer",
       "DB_LOCATION": ":memory:",
       "DEV_MODE": false,
       "DISPLAY_MAX_COLUMNS": 100,
       "DISPLAY_MAX_ROWS": 50000,
       "DISPLAY_MODE": "simple",
       "ENABLE_ASSIGNMENT": true,
       "ENABLE_DATALINK": true,
       "FLATTEN_COLUMN_VALUES": true,
       "FLATTEN_INDEX_VALUES": false,
       "GENERATE_DEX_METADATA": false,
       "HTML_TABLE_SCHEMA": false,
       "LOG_LEVEL": 30,
       "MAX_RENDER_SIZE_BYTES": 104857600,
       "MAX_STRING_LENGTH": 250,
       "NUM_PAST_SAMPLES_TRACKED": 3,
       "RANDOM_STATE": 12648430,
       "RESET_INDEX_VALUES": false,
       "ROW_SAMPLING_METHOD": "random",
       "SAMPLING_FACTOR": 0.1,
       "SAMPLING_METHOD": "random",
       "STRINGIFY_COLUMN_VALUES": true,
       "STRINGIFY_INDEX_VALUES": false
      },
      "sample_history": [],
      "sampling_time": "2023-06-06T17:02:44.542633",
      "user_variable_name": null,
      "variable_name": "unk_dataframe_dbcad3e69b394f2aaf51572d3139b970"
     }
    },
    "dx": {
     "dashboard": {
      "multiViews": []
     },
     "fieldMetadata": {
      "index": {
       "columnPosition": 1,
       "sort": "desc"
      },
      "safety_score": {
       "columnPosition": 2
      }
     },
     "updated": 1686070816247,
     "views": [
      {
       "annotationRules": [],
       "chart": {},
       "chartMode": "grid",
       "confoRules": [],
       "decoration": {
        "footer": "",
        "subtitle": "",
        "title": "Table"
       },
       "facets": [],
       "filterSettings": {
        "SHOW_FILTER_PANEL": true,
        "filters": []
       },
       "id": "first-view",
       "isDefault": true,
       "type": "public",
       "userID": ""
      },
      {
       "annotationRules": [],
       "chart": {},
       "chartMode": "grid",
       "confoRules": [],
       "decoration": {
        "footer": "",
        "subtitle": "",
        "title": "Table"
       },
       "facets": [],
       "filterSettings": {
        "SHOW_FILTER_PANEL": true,
        "filters": []
       },
       "id": "first-view",
       "isDefault": true,
       "isTransitory": true,
       "type": "public",
       "userID": ""
      }
     ]
    },
    "jupyter": {
     "outputs_hidden": false,
     "source_hidden": false
    },
    "noteable": {
     "cell_type": "code",
     "output_collection_id": "c471cd7d-5a51-40f2-9dda-dde8b022cc5f"
    }
   },
   "outputs": [],
   "source": [
    "df.safety_score"
   ]
  },
  {
   "cell_type": "code",
   "execution_count": null,
   "id": "f89da3df-c017-405d-8596-0414131209a8",
   "metadata": {
    "ExecuteTime": {
     "end_time": "2023-06-06T18:53:58.995884+00:00",
     "start_time": "2023-06-06T17:12:30.240078+00:00"
    },
    "collapsed": false,
    "jupyter": {
     "outputs_hidden": false,
     "source_hidden": false
    },
    "noteable": {
     "cell_type": "code",
     "output_collection_id": "99760036-43fd-45e3-8565-822a32839197"
    }
   },
   "outputs": [],
   "source": [
    "from sklearn.feature_selection import RFE\n",
    "from sklearn.linear_model import LogisticRegression\n",
    "\n",
    "# Initialize the model\n",
    "model = LogisticRegression()\n",
    "\n",
    "# Initialize RFE\n",
    "rfe = RFE(model, n_features_to_select=1)\n",
    "\n",
    "# Fit RFE\n",
    "rfe = rfe.fit(X_train, y_train)\n",
    "\n",
    "# Get the ranking of features\n",
    "ranking = rfe.ranking_\n",
    "feature_ranking = list(zip(X_train.columns, ranking))\n",
    "sorted_feature_ranking = sorted(feature_ranking, key=lambda x: x[1])\n",
    "\n",
    "sorted_feature_ranking"
   ]
  }
 ],
 "metadata": {
  "kernelspec": {
   "display_name": "Python 3 (ipykernel)",
   "language": "python",
   "name": "python3"
  },
  "language_info": {
   "codemirror_mode": {
    "name": "ipython",
    "version": 3
   },
   "file_extension": ".py",
   "mimetype": "text/x-python",
   "name": "python",
   "nbconvert_exporter": "python",
   "pygments_lexer": "ipython3",
   "version": "3.10.9"
  },
  "noteable": {
   "last_transaction_id": "023983cc-7158-45b1-a555-43d706337fc8"
  },
  "noteable-chatgpt": {
   "create_notebook": {
    "openai_conversation_id": "e422f311-7577-574d-8719-6cac486cae74",
    "openai_ephemeral_user_id": "b68c974c-8ba4-5e1e-8f83-d799ce738768",
    "openai_subdivision1_iso_code": "US-TX"
   }
  },
  "selected_hardware_size": "small"
 },
 "nbformat": 4,
 "nbformat_minor": 5
}
