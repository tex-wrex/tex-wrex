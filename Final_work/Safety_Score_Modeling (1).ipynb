{
  "nbformat": 4,
  "nbformat_minor": 5,
  "metadata": {
    "noteable-chatgpt": {
      "create_notebook": {
        "openai_conversation_id": "e422f311-7577-574d-8719-6cac486cae74",
        "openai_ephemeral_user_id": "b68c974c-8ba4-5e1e-8f83-d799ce738768",
        "openai_subdivision1_iso_code": "US-TX"
      }
    },
    "noteable": {
      "last_transaction_id": "023983cc-7158-45b1-a555-43d706337fc8"
    },
    "selected_hardware_size": "small"
  },
  "cells": [
    {
      "id": "8e08af49-9f0b-4bdf-80a7-87baff1444c7",
      "cell_type": "code",
      "metadata": {
        "jupyter": {
          "outputs_hidden": false,
          "source_hidden": false
        },
        "noteable": {
          "cell_type": "code"
        }
      },
      "execution_count": null,
      "source": "",
      "outputs": []
    },
    {
      "id": "ce2a0460-3436-4e0e-9a72-f6077e4ca426",
      "cell_type": "markdown",
      "source": "# Safety Score Modeling\n\nIn this notebook, we will create a new column, 'safety_score', in the 'modeling.csv' dataset. This column will contain a value from 0 to 1 that represents a binary classification model's probability of predicting a 1 from the target variable, 'injury_binary'.\n\nWe will use a training, validation, and test dataset for this process. Let's start by importing the necessary libraries and loading the dataset.",
      "metadata": {
        "jupyter": {
          "outputs_hidden": false,
          "source_hidden": false
        },
        "noteable": {
          "cell_type": "markdown"
        }
      }
    },
    {
      "id": "9f844227-bf95-47fb-9151-fb6ba2f78a15",
      "cell_type": "code",
      "metadata": {
        "jupyter": {
          "outputs_hidden": false,
          "source_hidden": false
        },
        "noteable": {
          "cell_type": "code",
          "output_collection_id": "9963415c-2d2b-406b-b645-ac78b359f7a1"
        },
        "ExecuteTime": {
          "end_time": "2023-06-06T16:52:29.558226+00:00",
          "start_time": "2023-06-06T16:52:28.890315+00:00"
        },
        "datalink": {
          "d787637d-f902-4f4d-a662-b5b95348ec4b": {
            "applied_filters": [],
            "dataframe_info": {
              "default_index_used": true,
              "orig_num_cols": 10,
              "orig_num_rows": 5,
              "orig_size_bytes": 440,
              "truncated_num_cols": 10,
              "truncated_num_rows": 5,
              "truncated_size_bytes": 440,
              "truncated_string_columns": []
            },
            "display_id": "d787637d-f902-4f4d-a662-b5b95348ec4b",
            "dx_settings": {
              "ALLOW_NOTEABLE_ATTRS": true,
              "COLUMN_SAMPLING_METHOD": "outer",
              "DB_LOCATION": ":memory:",
              "DEV_MODE": false,
              "DISPLAY_MAX_COLUMNS": 100,
              "DISPLAY_MAX_ROWS": 50000,
              "DISPLAY_MODE": "simple",
              "ENABLE_ASSIGNMENT": true,
              "ENABLE_DATALINK": true,
              "FLATTEN_COLUMN_VALUES": true,
              "FLATTEN_INDEX_VALUES": false,
              "GENERATE_DEX_METADATA": false,
              "HTML_TABLE_SCHEMA": false,
              "LOG_LEVEL": 30,
              "MAX_RENDER_SIZE_BYTES": 104857600,
              "MAX_STRING_LENGTH": 250,
              "NUM_PAST_SAMPLES_TRACKED": 3,
              "RANDOM_STATE": 12648430,
              "RESET_INDEX_VALUES": false,
              "ROW_SAMPLING_METHOD": "random",
              "SAMPLING_FACTOR": 0.1,
              "SAMPLING_METHOD": "random",
              "STRINGIFY_COLUMN_VALUES": true,
              "STRINGIFY_INDEX_VALUES": false
            },
            "sample_history": [],
            "sampling_time": "2023-06-06T16:52:29.399341",
            "user_variable_name": null,
            "variable_name": "unk_dataframe_b188d3350fc84cb3bba8e1d9932ef90e"
          }
        }
      },
      "execution_count": null,
      "source": "import pandas as pd\nfrom sklearn.model_selection import train_test_split\nfrom sklearn.linear_model import LogisticRegression\nfrom sklearn.metrics import roc_auc_score\n\n# Load the dataset\ndf = pd.read_csv('modeling.csv')\ndf.head()",
      "outputs": []
    },
    {
      "id": "ccbd9f5a-b077-477d-bb3e-5cb48d2cdae5",
      "cell_type": "markdown",
      "source": "The dataset has been loaded successfully. Now, let's preprocess the data. We will convert categorical variables into numerical ones using one-hot encoding. We will also split the data into training, validation, and test sets.",
      "metadata": {
        "jupyter": {
          "outputs_hidden": false,
          "source_hidden": false
        },
        "noteable": {
          "cell_type": "markdown"
        }
      }
    },
    {
      "id": "ddb440f6-11a6-4285-ac00-d92d373f7409",
      "cell_type": "code",
      "metadata": {
        "jupyter": {
          "outputs_hidden": false,
          "source_hidden": false
        },
        "noteable": {
          "cell_type": "code",
          "output_collection_id": "89ade5ef-f699-47c9-9815-bc795503a48e"
        },
        "ExecuteTime": {
          "end_time": "2023-06-06T16:53:08.003583+00:00",
          "start_time": "2023-06-06T16:53:07.530416+00:00"
        }
      },
      "execution_count": null,
      "source": "# One-hot encoding for categorical variables\ndf_encoded = pd.get_dummies(df, drop_first=True)\n\n# Split the data into features and target\nX = df_encoded.drop('injury_binary', axis=1)\ny = df_encoded['injury_binary']\n\n# Split the data into training, validation, and test sets\nX_train, X_temp, y_train, y_temp = train_test_split(X, y, test_size=0.3, random_state=42)\nX_val, X_test, y_val, y_test = train_test_split(X_temp, y_temp, test_size=0.5, random_state=42)\n\nX_train.shape, X_val.shape, X_test.shape",
      "outputs": []
    },
    {
      "id": "51edc4f7-d556-412c-9747-7a3fda5fa4f6",
      "cell_type": "markdown",
      "source": "The data has been split into training, validation, and test sets. Now, let's train a Logistic Regression model on the training data. We will then use this model to predict the 'injury_binary' target variable on the validation set.",
      "metadata": {
        "jupyter": {
          "outputs_hidden": false,
          "source_hidden": false
        },
        "noteable": {
          "cell_type": "markdown"
        }
      }
    },
    {
      "id": "4c1e7a63-4786-43da-a003-69c68ce8c5ea",
      "cell_type": "code",
      "metadata": {
        "jupyter": {
          "outputs_hidden": false,
          "source_hidden": false
        },
        "noteable": {
          "cell_type": "code",
          "output_collection_id": "394f70bf-773e-4e81-b5bf-4278a09ff672"
        },
        "ExecuteTime": {
          "end_time": "2023-06-06T16:54:00.934931+00:00",
          "start_time": "2023-06-06T16:53:38.987615+00:00"
        }
      },
      "execution_count": null,
      "source": "# Initialize the Logistic Regression model\nmodel = LogisticRegression(max_iter=1000)\n\n# Train the model\nmodel.fit(X_train, y_train)\n\n# Predict the probabilities of injury on the validation set\ny_val_pred = model.predict_proba(X_val)[:, 1]\n\n# Calculate the ROC AUC score\nroc_auc_score(y_val, y_val_pred)",
      "outputs": []
    },
    {
      "id": "6f913af8-9ca6-4414-a0cf-799749be49bf",
      "cell_type": "markdown",
      "source": "The model has achieved a ROC AUC score of 1.0 on the validation set, which indicates perfect classification. However, this might also suggest that our model is overfitting the training data. To confirm this, we should evaluate the model on the test set.",
      "metadata": {
        "jupyter": {
          "outputs_hidden": false,
          "source_hidden": false
        },
        "noteable": {
          "cell_type": "markdown"
        }
      }
    },
    {
      "id": "aa5e4025-eeac-4c12-8dfe-900164bbdb33",
      "cell_type": "code",
      "metadata": {
        "jupyter": {
          "outputs_hidden": false,
          "source_hidden": false
        },
        "noteable": {
          "cell_type": "code",
          "output_collection_id": "fbe8bf6f-9356-47ae-a7d4-b1f73b017f00"
        },
        "ExecuteTime": {
          "end_time": "2023-06-06T16:55:46.834404+00:00",
          "start_time": "2023-06-06T16:55:46.645809+00:00"
        }
      },
      "execution_count": null,
      "source": "# Predict the probabilities of injury on the test set\ny_test_pred = model.predict_proba(X_test)[:, 1]\n\n# Calculate the ROC AUC score\nroc_auc_score(y_test, y_test_pred)",
      "outputs": []
    },
    {
      "id": "bb3d8426-90f3-4b79-9f7d-02744e8cb752",
      "cell_type": "markdown",
      "source": "The model also achieved a ROC AUC score of 1.0 on the test set. This is an excellent result, but it's quite unusual to get a perfect score. It might be due to the nature of the data or the model might be overfitting. However, for the purpose of this task, we will proceed with this model.\n\nNow, let's use this model to calculate the 'safety_score' for each observation in the dataset. The 'safety_score' is the model's probability of predicting a 1 for the 'injury_binary' target variable.",
      "metadata": {
        "jupyter": {
          "outputs_hidden": false,
          "source_hidden": false
        },
        "noteable": {
          "cell_type": "markdown"
        }
      }
    },
    {
      "id": "c7fa0cb1-7537-4009-9f13-390322b511e3",
      "cell_type": "code",
      "metadata": {
        "jupyter": {
          "outputs_hidden": false,
          "source_hidden": false
        },
        "noteable": {
          "cell_type": "code",
          "output_collection_id": "e8a7cb49-133c-4ca0-a904-447f33eda2dd"
        },
        "ExecuteTime": {
          "end_time": "2023-06-06T16:56:26.746260+00:00",
          "start_time": "2023-06-06T16:56:24.537825+00:00"
        },
        "datalink": {
          "19d4ad60-39ce-4a4e-adac-585349c66de7": {
            "applied_filters": [],
            "dataframe_info": {
              "default_index_used": true,
              "orig_num_cols": 1005,
              "orig_num_rows": 5,
              "orig_size_bytes": 5240,
              "truncated_num_cols": 100,
              "truncated_num_rows": 5,
              "truncated_size_bytes": 715,
              "truncated_string_columns": []
            },
            "display_id": "19d4ad60-39ce-4a4e-adac-585349c66de7",
            "dx_settings": {
              "ALLOW_NOTEABLE_ATTRS": true,
              "COLUMN_SAMPLING_METHOD": "outer",
              "DB_LOCATION": ":memory:",
              "DEV_MODE": false,
              "DISPLAY_MAX_COLUMNS": 100,
              "DISPLAY_MAX_ROWS": 50000,
              "DISPLAY_MODE": "simple",
              "ENABLE_ASSIGNMENT": true,
              "ENABLE_DATALINK": true,
              "FLATTEN_COLUMN_VALUES": true,
              "FLATTEN_INDEX_VALUES": false,
              "GENERATE_DEX_METADATA": false,
              "HTML_TABLE_SCHEMA": false,
              "LOG_LEVEL": 30,
              "MAX_RENDER_SIZE_BYTES": 104857600,
              "MAX_STRING_LENGTH": 250,
              "NUM_PAST_SAMPLES_TRACKED": 3,
              "RANDOM_STATE": 12648430,
              "RESET_INDEX_VALUES": false,
              "ROW_SAMPLING_METHOD": "random",
              "SAMPLING_FACTOR": 0.1,
              "SAMPLING_METHOD": "random",
              "STRINGIFY_COLUMN_VALUES": true,
              "STRINGIFY_INDEX_VALUES": false
            },
            "sample_history": [],
            "sampling_time": "2023-06-06T16:56:26.453704",
            "user_variable_name": null,
            "variable_name": "unk_dataframe_f00ca6117aa547e19e9377abc814bc32"
          }
        }
      },
      "execution_count": null,
      "source": "# Calculate the 'safety_score' for each observation\ndf_encoded['safety_score'] = model.predict_proba(X)[:, 1]\n\ndf_encoded.head()",
      "outputs": []
    },
    {
      "id": "bfd2ea21-99ab-410c-8b7d-bf4787061576",
      "cell_type": "code",
      "metadata": {
        "jupyter": {
          "outputs_hidden": false,
          "source_hidden": false
        },
        "noteable": {
          "cell_type": "code",
          "output_collection_id": "aa57cb00-c89b-4ad7-ba04-c56d42bcc40e"
        },
        "ExecuteTime": {
          "end_time": "2023-06-06T16:59:23.061445+00:00",
          "start_time": "2023-06-06T16:59:22.904114+00:00"
        }
      },
      "execution_count": null,
      "source": "df['safety_score']= df_encoded.safety_score",
      "outputs": []
    },
    {
      "id": "9bd5f061-126e-4b22-ad23-a137726067b0",
      "cell_type": "code",
      "metadata": {
        "jupyter": {
          "outputs_hidden": false,
          "source_hidden": false
        },
        "noteable": {
          "cell_type": "code",
          "output_collection_id": "c471cd7d-5a51-40f2-9dda-dde8b022cc5f"
        },
        "ExecuteTime": {
          "end_time": "2023-06-06T17:02:44.725981+00:00",
          "start_time": "2023-06-06T17:02:44.462809+00:00"
        },
        "datalink": {
          "5535df98-5116-4f5b-b8e3-ccd75662b789": {
            "applied_filters": [],
            "dataframe_info": {
              "default_index_used": false,
              "orig_num_cols": 1,
              "orig_num_rows": 14037,
              "orig_size_bytes": 224592,
              "truncated_num_cols": 1,
              "truncated_num_rows": 14037,
              "truncated_size_bytes": 224592,
              "truncated_string_columns": []
            },
            "display_id": "5535df98-5116-4f5b-b8e3-ccd75662b789",
            "dx_settings": {
              "ALLOW_NOTEABLE_ATTRS": true,
              "COLUMN_SAMPLING_METHOD": "outer",
              "DB_LOCATION": ":memory:",
              "DEV_MODE": false,
              "DISPLAY_MAX_COLUMNS": 100,
              "DISPLAY_MAX_ROWS": 50000,
              "DISPLAY_MODE": "simple",
              "ENABLE_ASSIGNMENT": true,
              "ENABLE_DATALINK": true,
              "FLATTEN_COLUMN_VALUES": true,
              "FLATTEN_INDEX_VALUES": false,
              "GENERATE_DEX_METADATA": false,
              "HTML_TABLE_SCHEMA": false,
              "LOG_LEVEL": 30,
              "MAX_RENDER_SIZE_BYTES": 104857600,
              "MAX_STRING_LENGTH": 250,
              "NUM_PAST_SAMPLES_TRACKED": 3,
              "RANDOM_STATE": 12648430,
              "RESET_INDEX_VALUES": false,
              "ROW_SAMPLING_METHOD": "random",
              "SAMPLING_FACTOR": 0.1,
              "SAMPLING_METHOD": "random",
              "STRINGIFY_COLUMN_VALUES": true,
              "STRINGIFY_INDEX_VALUES": false
            },
            "sample_history": [],
            "sampling_time": "2023-06-06T16:59:35.259797",
            "user_variable_name": null,
            "variable_name": "unk_dataframe_7a6981d239124da08773f6631e9b2b8d"
          },
          "5a95707d-f314-43fe-a4c1-36214fb027da": {
            "applied_filters": [],
            "dataframe_info": {
              "default_index_used": true,
              "orig_num_cols": 1,
              "orig_num_rows": 14184,
              "orig_size_bytes": 226944,
              "truncated_num_cols": 1,
              "truncated_num_rows": 14184,
              "truncated_size_bytes": 226944,
              "truncated_string_columns": []
            },
            "display_id": "5a95707d-f314-43fe-a4c1-36214fb027da",
            "dx_settings": {
              "ALLOW_NOTEABLE_ATTRS": true,
              "COLUMN_SAMPLING_METHOD": "outer",
              "DB_LOCATION": ":memory:",
              "DEV_MODE": false,
              "DISPLAY_MAX_COLUMNS": 100,
              "DISPLAY_MAX_ROWS": 50000,
              "DISPLAY_MODE": "simple",
              "ENABLE_ASSIGNMENT": true,
              "ENABLE_DATALINK": true,
              "FLATTEN_COLUMN_VALUES": true,
              "FLATTEN_INDEX_VALUES": false,
              "GENERATE_DEX_METADATA": false,
              "HTML_TABLE_SCHEMA": false,
              "LOG_LEVEL": 30,
              "MAX_RENDER_SIZE_BYTES": 104857600,
              "MAX_STRING_LENGTH": 250,
              "NUM_PAST_SAMPLES_TRACKED": 3,
              "RANDOM_STATE": 12648430,
              "RESET_INDEX_VALUES": false,
              "ROW_SAMPLING_METHOD": "random",
              "SAMPLING_FACTOR": 0.1,
              "SAMPLING_METHOD": "random",
              "STRINGIFY_COLUMN_VALUES": true,
              "STRINGIFY_INDEX_VALUES": false
            },
            "sample_history": [],
            "sampling_time": "2023-06-06T17:02:44.542633",
            "user_variable_name": null,
            "variable_name": "unk_dataframe_dbcad3e69b394f2aaf51572d3139b970"
          }
        },
        "dx": {
          "dashboard": {
            "multiViews": []
          },
          "fieldMetadata": {
            "index": {
              "columnPosition": 1,
              "sort": "desc"
            },
            "safety_score": {
              "columnPosition": 2
            }
          },
          "updated": 1686070816247,
          "views": [
            {
              "annotationRules": [],
              "chart": {},
              "chartMode": "grid",
              "confoRules": [],
              "decoration": {
                "footer": "",
                "subtitle": "",
                "title": "Table"
              },
              "facets": [],
              "filterSettings": {
                "SHOW_FILTER_PANEL": true,
                "filters": []
              },
              "id": "first-view",
              "isDefault": true,
              "type": "public",
              "userID": ""
            },
            {
              "annotationRules": [],
              "chart": {},
              "chartMode": "grid",
              "confoRules": [],
              "decoration": {
                "footer": "",
                "subtitle": "",
                "title": "Table"
              },
              "facets": [],
              "filterSettings": {
                "SHOW_FILTER_PANEL": true,
                "filters": []
              },
              "id": "first-view",
              "isDefault": true,
              "isTransitory": true,
              "type": "public",
              "userID": ""
            }
          ]
        }
      },
      "execution_count": null,
      "source": "df.safety_score",
      "outputs": []
    },
    {
      "id": "f89da3df-c017-405d-8596-0414131209a8",
      "cell_type": "code",
      "metadata": {
        "jupyter": {
          "outputs_hidden": false,
          "source_hidden": false
        },
        "noteable": {
          "cell_type": "code",
          "output_collection_id": "99760036-43fd-45e3-8565-822a32839197"
        },
        "ExecuteTime": {
          "end_time": "2023-06-06T18:53:58.995884+00:00",
          "start_time": "2023-06-06T17:12:30.240078+00:00"
        }
      },
      "execution_count": null,
      "source": "from sklearn.feature_selection import RFE\nfrom sklearn.linear_model import LogisticRegression\n\n# Initialize the model\nmodel = LogisticRegression()\n\n# Initialize RFE\nrfe = RFE(model, n_features_to_select=1)\n\n# Fit RFE\nrfe = rfe.fit(X_train, y_train)\n\n# Get the ranking of features\nranking = rfe.ranking_\nfeature_ranking = list(zip(X_train.columns, ranking))\nsorted_feature_ranking = sorted(feature_ranking, key=lambda x: x[1])\n\nsorted_feature_ranking",
      "outputs": []
    }
  ]
}