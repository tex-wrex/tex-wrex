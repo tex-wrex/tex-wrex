{
 "cells": [
  {
   "cell_type": "markdown",
   "id": "1d29423a-5e1c-4fea-9493-a478f9b5bfb8",
   "metadata": {},
   "source": [
    "Table: Crashes\n",
    "- CrashID (Primary Key, Auto Increment) - System-generated unique identifying number for a crash\n",
    "- UnitNumber - Unit number entered on crash report for a unit involved in the crash\n",
    "- PersonNumber - Person number captured on the crash report\n",
    "- PersonType - Type of person involved in the crash\n",
    "- Location - The physical location of an occupant in, on, or outside of the motor vehicle prior to the First Harmful Event or loss of control\n",
    "- InjurySeverity - Severity of injury to the occupant\n",
    "- Age - Age of person involved in the crash\n",
    "- Ethnicity - Ethnicity of person involved in the crash\n",
    "- Gender - Gender of person involved in the crash\n",
    "- BodyExpulsion - The extent to which the person's body was expelled from the vehicle during any part of the crash\n",
    "- RestraintType - The type of restraint used by each occupant\n",
    "- AirbagDeployment - Indicates whether a person's airbag deployed during the crash and in what manner\n",
    "- HelmetWorn - Indicates if a helmet was worn at the time of the crash\n",
    "- Solicitation - Solicitation information\n",
    "- AlcoholSpecimenType - Type of alcohol specimen taken for analysis from the primary persons involved in the crash\n",
    "- AlcoholResult - Numeric blood alcohol content test result for a primary person involved in the crash, using standardized alcohol breath results (i.e. .08 or .129)\n",
    "- DrugSpecimenType - Type of drug specimen taken for analysis from the primary persons involved in the crash\n",
    "- DrugTestResult - Primary person drug test result\n",
    "- TimeOfDeath - Time of death\n",
    "\n",
    "Table: InjuryCounts\n",
    "- CrashID (Foreign Key) - CrashID referencing the CrashID in the Crashes table\n",
    "- SuspectedSeriousInjuryCount - Count of suspected serious injuries\n",
    "- NonIncapacitatingInjuryCount - Count of non-incapacitating injuries\n",
    "- PossibleInjuryCount - Count of possible injuries\n",
    "- NotInjuredCount - Count of individuals not injured\n",
    "- UnknownInjuryCount - Count of individuals with unknown injuries\n",
    "- TotalInjuryCount - Total count of injuries\n",
    "- DeathCount - Count of deaths\n"
   ]
  },
  {
   "cell_type": "code",
   "execution_count": 2,
   "id": "bbddb0a0-a600-442a-adcd-ad1e3c6c7ce2",
   "metadata": {},
   "outputs": [],
   "source": [
    "import pandas as pd\n",
    "import numpy as np\n",
    "pd.set_option('display.max_columns', None)\n",
    "pd.set_option('display.expand_frame_repr', False)"
   ]
  },
  {
   "cell_type": "code",
   "execution_count": 3,
   "id": "aba75e8e-94e6-4cd7-a569-536245469591",
   "metadata": {},
   "outputs": [],
   "source": [
    "df = pd.read_csv('2018_all_person.csv')"
   ]
  },
  {
   "cell_type": "code",
   "execution_count": 4,
   "id": "b068b1e6-17c2-4046-99f0-7d5166ca73cb",
   "metadata": {},
   "outputs": [],
   "source": [
    "df.columns = df.columns.str.lower().str.replace(' ', '_').str.replace('-', '_')"
   ]
  },
  {
   "cell_type": "code",
   "execution_count": 5,
   "id": "6cd54faa-94c9-43fe-b76a-5378f1e8a84a",
   "metadata": {},
   "outputs": [
    {
     "data": {
      "text/plain": [
       "26"
      ]
     },
     "execution_count": 5,
     "metadata": {},
     "output_type": "execute_result"
    }
   ],
   "source": [
    "len(df.columns)"
   ]
  },
  {
   "cell_type": "code",
   "execution_count": 6,
   "id": "5e1cd567-11b5-48d9-b62d-84ca9eafd876",
   "metadata": {},
   "outputs": [
    {
     "name": "stdout",
     "output_type": "stream",
     "text": [
      "<class 'pandas.core.frame.DataFrame'>\n",
      "RangeIndex: 16058 entries, 0 to 16057\n",
      "Data columns (total 26 columns):\n",
      " #   Column                                     Non-Null Count  Dtype \n",
      "---  ------                                     --------------  ----- \n",
      " 0   crash_id                                   16058 non-null  int64 \n",
      " 1   charge                                     16052 non-null  object\n",
      " 2   citation                                   16049 non-null  object\n",
      " 3   person_age                                 16058 non-null  object\n",
      " 4   person_airbag_deployed                     16058 non-null  object\n",
      " 5   person_alcohol_result                      16058 non-null  object\n",
      " 6   person_alcohol_specimen_type_taken         16058 non-null  object\n",
      " 7   person_blood_alcohol_content_test_result   16058 non-null  object\n",
      " 8   person_death_count                         16058 non-null  int64 \n",
      " 9   person_drug_specimen_type                  16058 non-null  object\n",
      " 10  person_drug_test_result                    16058 non-null  object\n",
      " 11  person_ejected                             16058 non-null  object\n",
      " 12  person_ethnicity                           16058 non-null  object\n",
      " 13  person_gender                              16058 non-null  object\n",
      " 14  person_helmet                              16058 non-null  object\n",
      " 15  person_injury_severity                     16058 non-null  object\n",
      " 16  person_non_suspected_serious_injury_count  16058 non-null  int64 \n",
      " 17  person_not_injured_count                   16058 non-null  int64 \n",
      " 18  person_possible_injury_count               16058 non-null  int64 \n",
      " 19  person_restraint_used                      16058 non-null  object\n",
      " 20  person_suspected_serious_injury_count      16058 non-null  int64 \n",
      " 21  person_time_of_death                       16058 non-null  object\n",
      " 22  person_total_injury_count                  16058 non-null  int64 \n",
      " 23  person_type                                16058 non-null  object\n",
      " 24  person_unknown_injury_count                16058 non-null  int64 \n",
      " 25  physical_location_of_an_occupant           16058 non-null  object\n",
      "dtypes: int64(8), object(18)\n",
      "memory usage: 3.2+ MB\n"
     ]
    }
   ],
   "source": [
    "df.info()"
   ]
  },
  {
   "cell_type": "code",
   "execution_count": 7,
   "id": "4815b279-521e-4f24-9282-85baf4cc035d",
   "metadata": {},
   "outputs": [
    {
     "data": {
      "text/plain": [
       "crash_id\n",
       "16392971    14\n",
       "16368940    12\n",
       "16390704    11\n",
       "16682272    10\n",
       "16211951    10\n",
       "            ..\n",
       "16454055     1\n",
       "16313213     1\n",
       "16788102     1\n",
       "16542587     1\n",
       "16539799     1\n",
       "Name: count, Length: 7988, dtype: int64"
      ]
     },
     "execution_count": 7,
     "metadata": {},
     "output_type": "execute_result"
    }
   ],
   "source": [
    "df.crash_id.value_counts()"
   ]
  },
  {
   "cell_type": "code",
   "execution_count": 8,
   "id": "4b0711c3-364f-4ae4-90c6-d6fc3c9943d2",
   "metadata": {},
   "outputs": [],
   "source": [
    "df.charge.replace('NO CHARGES', np.NAN, inplace=True)"
   ]
  },
  {
   "cell_type": "code",
   "execution_count": 9,
   "id": "8d408290-396a-4f1f-9939-85ec584e4e7d",
   "metadata": {},
   "outputs": [
    {
     "data": {
      "text/plain": [
       "76.64092664092664"
      ]
     },
     "execution_count": 9,
     "metadata": {},
     "output_type": "execute_result"
    }
   ],
   "source": [
    "# percent of people who are not charge.\n",
    "(df.charge.isna().sum())/len(df) * 100 "
   ]
  },
  {
   "cell_type": "markdown",
   "id": "8169625e-b9ff-46b3-b965-95328b9f64d5",
   "metadata": {},
   "source": [
    "    In charges, 77% walk away from the accident with out injury"
   ]
  },
  {
   "cell_type": "code",
   "execution_count": 10,
   "id": "f1548beb-ed9c-42a4-bb24-d2148faff86f",
   "metadata": {},
   "outputs": [
    {
     "data": {
      "text/plain": [
       "person_injury_severity\n",
       "N - NOT INJURED                 48.268776\n",
       "B - SUSPECTED MINOR INJURY      19.305019\n",
       "C - POSSIBLE INJURY             13.052684\n",
       "A - SUSPECTED SERIOUS INJURY    12.193299\n",
       "99 - UNKNOWN                     4.514884\n",
       "K - FATAL INJURY                 2.665338\n",
       "Name: count, dtype: float64"
      ]
     },
     "execution_count": 10,
     "metadata": {},
     "output_type": "execute_result"
    }
   ],
   "source": [
    "((df.person_injury_severity.value_counts())/ len(df)) * 100 "
   ]
  },
  {
   "cell_type": "code",
   "execution_count": 11,
   "id": "7a5f7f29-f20d-40a4-a623-cc061c4ad080",
   "metadata": {},
   "outputs": [
    {
     "data": {
      "text/plain": [
       "charge\n",
       "FAIL TO CONTROL SPEED                                                                   214\n",
       "UNSAFE SPEED                                                                            142\n",
       "FAILED TO CONTROL SPEED                                                                  59\n",
       "DRIVING WHILE INTOXICATED                                                                57\n",
       "DWI                                                                                      40\n",
       "                                                                                       ... \n",
       "FAIL TO YIELD ROW TURNING ON RED SIGNAL                                                   1\n",
       "WRONG SIDE OF THE ROADWAY                                                                 1\n",
       "DISREGARD TRAFFIC CONTROL DEVICES- STRAIGHT IN LEFT TURN LN                               1\n",
       "FAIL TO YIELD RIGHT OF WAY-STOP SIGN                                                      1\n",
       "DRIVING WHILE LICENSE INVALID, DISPLAY EXPIRED LICENSE PLATES/ REGISTRATION INSIGNIA      1\n",
       "Name: count, Length: 2090, dtype: int64"
      ]
     },
     "execution_count": 11,
     "metadata": {},
     "output_type": "execute_result"
    }
   ],
   "source": [
    "df.charge.value_counts()"
   ]
  },
  {
   "cell_type": "code",
   "execution_count": 12,
   "id": "bd74a3fa-134d-472f-b299-d0ca540211b5",
   "metadata": {},
   "outputs": [
    {
     "data": {
      "text/plain": [
       "person_ethnicity\n",
       "W - WHITE                          8801\n",
       "H - HISPANIC                       3647\n",
       "B - BLACK                          2132\n",
       "99 - UNKNOWN                        623\n",
       "98 - OTHER                          379\n",
       "A - ASIAN                           346\n",
       "No Data                              90\n",
       "I - AMER. INDIAN/ALASKAN NATIVE      40\n",
       "Name: count, dtype: int64"
      ]
     },
     "execution_count": 12,
     "metadata": {},
     "output_type": "execute_result"
    }
   ],
   "source": [
    "df.person_ethnicity.value_counts()"
   ]
  },
  {
   "cell_type": "code",
   "execution_count": 13,
   "id": "875ff1ea-afc2-40f5-971d-ea734c8c424f",
   "metadata": {},
   "outputs": [
    {
     "data": {
      "text/plain": [
       "0           B - BLACK\n",
       "1        H - HISPANIC\n",
       "2           B - BLACK\n",
       "3        H - HISPANIC\n",
       "4           W - WHITE\n",
       "             ...     \n",
       "16053    H - HISPANIC\n",
       "16054       W - WHITE\n",
       "16055       W - WHITE\n",
       "16056       W - WHITE\n",
       "16057       W - WHITE\n",
       "Name: person_ethnicity, Length: 16058, dtype: object"
      ]
     },
     "execution_count": 13,
     "metadata": {},
     "output_type": "execute_result"
    }
   ],
   "source": [
    "df.person_ethnicity "
   ]
  },
  {
   "cell_type": "code",
   "execution_count": 14,
   "id": "0b2d66c5-d21d-4a5a-a5e4-150a9ef81dcc",
   "metadata": {},
   "outputs": [],
   "source": [
    "injury_by_age = pd.crosstab(index = df.person_age, columns = df.person_injury_severity)"
   ]
  },
  {
   "cell_type": "code",
   "execution_count": 15,
   "id": "2773c48d-6ca1-4d7f-bc98-d0984bb3bff0",
   "metadata": {},
   "outputs": [
    {
     "data": {
      "text/plain": [
       "0        51\n",
       "1        40\n",
       "2        55\n",
       "3        31\n",
       "4        45\n",
       "         ..\n",
       "16053    17\n",
       "16054    48\n",
       "16055    39\n",
       "16056    34\n",
       "16057    22\n",
       "Name: person_age, Length: 16058, dtype: object"
      ]
     },
     "execution_count": 15,
     "metadata": {},
     "output_type": "execute_result"
    }
   ],
   "source": [
    "df.person_age"
   ]
  },
  {
   "cell_type": "code",
   "execution_count": 16,
   "id": "79dea7e3-4f4f-4e29-89b0-6c3db2530231",
   "metadata": {},
   "outputs": [],
   "source": [
    "# for cols in df.columns:\n",
    "#     print(df[cols].value_counts())"
   ]
  },
  {
   "cell_type": "code",
   "execution_count": 17,
   "id": "6e21cde8-1bd6-4c97-9e34-82b8c0d3867c",
   "metadata": {},
   "outputs": [
    {
     "data": {
      "text/plain": [
       "4.514883547141612"
      ]
     },
     "execution_count": 17,
     "metadata": {},
     "output_type": "execute_result"
    }
   ],
   "source": [
    "(((df.person_injury_severity == '99 - UNKNOWN').sum()) / len(df)) * 100"
   ]
  },
  {
   "cell_type": "code",
   "execution_count": 18,
   "id": "85b74939-2f28-479a-85e6-727a5857252d",
   "metadata": {},
   "outputs": [
    {
     "data": {
      "text/plain": [
       "person_alcohol_specimen_type_taken\n",
       "96 - NONE                            79.144352\n",
       "No Data                              16.932370\n",
       "2 - BLOOD                             2.982937\n",
       "98 - OTHER (EXPLAIN IN NARRATIVE)     0.429692\n",
       "4 - REFUSED                           0.261552\n",
       "1 - BREATH                            0.230415\n",
       "3 - URINE                             0.018682\n",
       "Name: count, dtype: float64"
      ]
     },
     "execution_count": 18,
     "metadata": {},
     "output_type": "execute_result"
    }
   ],
   "source": [
    "(df.person_alcohol_specimen_type_taken.value_counts() / len(df)) * 100 "
   ]
  },
  {
   "cell_type": "code",
   "execution_count": null,
   "id": "65aad2c7-7b49-4902-b580-c1a6664f8823",
   "metadata": {},
   "outputs": [],
   "source": []
  },
  {
   "cell_type": "code",
   "execution_count": 19,
   "id": "d194d9d0-0a58-4f11-97fa-18ec5cb582af",
   "metadata": {},
   "outputs": [],
   "source": [
    "unique_crash_id = df.crash_id.unique()"
   ]
  },
  {
   "cell_type": "code",
   "execution_count": null,
   "id": "31246a29-8d6b-4fdc-98f5-936e719dcd01",
   "metadata": {},
   "outputs": [],
   "source": []
  }
 ],
 "metadata": {
  "kernelspec": {
   "display_name": "Python 3 (ipykernel)",
   "language": "python",
   "name": "python3"
  },
  "language_info": {
   "codemirror_mode": {
    "name": "ipython",
    "version": 3
   },
   "file_extension": ".py",
   "mimetype": "text/x-python",
   "name": "python",
   "nbconvert_exporter": "python",
   "pygments_lexer": "ipython3",
   "version": "3.10.9"
  }
 },
 "nbformat": 4,
 "nbformat_minor": 5
}
