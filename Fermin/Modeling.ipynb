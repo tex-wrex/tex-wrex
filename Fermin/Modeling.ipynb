{
 "cells": [
  {
   "cell_type": "markdown",
   "id": "184b9aa8-5ba7-4eac-b813-556ae44b23ad",
   "metadata": {},
   "source": [
    "# Imports "
   ]
  },
  {
   "cell_type": "code",
   "execution_count": 1,
   "id": "268e149f-8ed0-433e-8ebb-6fdb9827757f",
   "metadata": {},
   "outputs": [],
   "source": [
    "import numpy as np \n",
    "import pandas as pd\n",
    "import matplotlib.pyplot as plt\n",
    "from sklearn.metrics import confusion_matrix\n",
    "from sklearn.metrics import classification_report\n",
    "from sklearn.tree import DecisionTreeClassifier, plot_tree\n",
    "from sklearn.neighbors import KNeighborsClassifier\n",
    "from sklearn.linear_model import LogisticRegression\n",
    "from sklearn.utils.class_weight import compute_class_weight\n",
    "import functions as f"
   ]
  },
  {
   "cell_type": "code",
   "execution_count": 2,
   "id": "cd956041-f97c-4137-8ac1-1cfc160bda81",
   "metadata": {},
   "outputs": [],
   "source": [
    "df = pd.read_csv('person_updated.csv')"
   ]
  },
  {
   "cell_type": "markdown",
   "id": "71f012c2-c4a0-4ad3-8219-c1e4526c2419",
   "metadata": {},
   "source": [
    "## Conbining values for easier target varibale capture"
   ]
  },
  {
   "cell_type": "code",
   "execution_count": 3,
   "id": "37981ee7-c520-462c-818f-50e3653027cf",
   "metadata": {},
   "outputs": [],
   "source": [
    "df.person_injury_severity = df.person_injury_severity.str.lower()\n",
    "df.loc[df['person_injury_severity'] == 'c - possible injury', 'person_injury_severity'] = 'b - suspected minor injury'\n",
    "df.drop(df.loc[df['person_injury_severity'] == '99 - unknown'].index, inplace=True)"
   ]
  },
  {
   "cell_type": "code",
   "execution_count": 4,
   "id": "90bee6c9-63ca-44fb-852c-ff4f74b6682c",
   "metadata": {},
   "outputs": [
    {
     "data": {
      "text/plain": [
       "person_injury_severity\n",
       "b - suspected minor injury      8521\n",
       "a - suspected serious injury    4016\n",
       "n - not injured                 1162\n",
       "k - fatal injury                 849\n",
       "Name: count, dtype: int64"
      ]
     },
     "execution_count": 4,
     "metadata": {},
     "output_type": "execute_result"
    }
   ],
   "source": [
    "df.person_injury_severity.value_counts()"
   ]
  },
  {
   "cell_type": "markdown",
   "id": "5b2941ff-d78d-4dd8-aa3f-b3c63213f51a",
   "metadata": {},
   "source": [
    "# Preprocessing"
   ]
  },
  {
   "cell_type": "code",
   "execution_count": 5,
   "id": "d430b222-4490-4142-94be-4aeca0032539",
   "metadata": {},
   "outputs": [
    {
     "data": {
      "text/html": [
       "<div>\n",
       "<style scoped>\n",
       "    .dataframe tbody tr th:only-of-type {\n",
       "        vertical-align: middle;\n",
       "    }\n",
       "\n",
       "    .dataframe tbody tr th {\n",
       "        vertical-align: top;\n",
       "    }\n",
       "\n",
       "    .dataframe thead th {\n",
       "        text-align: right;\n",
       "    }\n",
       "</style>\n",
       "<table border=\"1\" class=\"dataframe\">\n",
       "  <thead>\n",
       "    <tr style=\"text-align: right;\">\n",
       "      <th></th>\n",
       "      <th>person_age</th>\n",
       "      <th>person_gender</th>\n",
       "      <th>person_ethnicity</th>\n",
       "      <th>person_injury_severity</th>\n",
       "      <th>driver_license_class</th>\n",
       "      <th>motorcycle_endorsed</th>\n",
       "    </tr>\n",
       "  </thead>\n",
       "  <tbody>\n",
       "    <tr>\n",
       "      <th>0</th>\n",
       "      <td>37</td>\n",
       "      <td>1 - MALE</td>\n",
       "      <td>W - WHITE</td>\n",
       "      <td>a - suspected serious injury</td>\n",
       "      <td>C - CLASS C</td>\n",
       "      <td>False</td>\n",
       "    </tr>\n",
       "    <tr>\n",
       "      <th>1</th>\n",
       "      <td>30</td>\n",
       "      <td>1 - MALE</td>\n",
       "      <td>H - HISPANIC</td>\n",
       "      <td>b - suspected minor injury</td>\n",
       "      <td>C - CLASS C</td>\n",
       "      <td>False</td>\n",
       "    </tr>\n",
       "    <tr>\n",
       "      <th>2</th>\n",
       "      <td>20</td>\n",
       "      <td>1 - MALE</td>\n",
       "      <td>W - WHITE</td>\n",
       "      <td>b - suspected minor injury</td>\n",
       "      <td>C - CLASS C</td>\n",
       "      <td>False</td>\n",
       "    </tr>\n",
       "    <tr>\n",
       "      <th>3</th>\n",
       "      <td>21</td>\n",
       "      <td>1 - MALE</td>\n",
       "      <td>W - WHITE</td>\n",
       "      <td>a - suspected serious injury</td>\n",
       "      <td>C - CLASS C</td>\n",
       "      <td>False</td>\n",
       "    </tr>\n",
       "    <tr>\n",
       "      <th>4</th>\n",
       "      <td>18</td>\n",
       "      <td>1 - MALE</td>\n",
       "      <td>H - HISPANIC</td>\n",
       "      <td>b - suspected minor injury</td>\n",
       "      <td>5 - UNLICENSED</td>\n",
       "      <td>False</td>\n",
       "    </tr>\n",
       "  </tbody>\n",
       "</table>\n",
       "</div>"
      ],
      "text/plain": [
       "   person_age person_gender person_ethnicity        person_injury_severity   \n",
       "0          37      1 - MALE        W - WHITE  a - suspected serious injury  \\\n",
       "1          30      1 - MALE     H - HISPANIC    b - suspected minor injury   \n",
       "2          20      1 - MALE        W - WHITE    b - suspected minor injury   \n",
       "3          21      1 - MALE        W - WHITE  a - suspected serious injury   \n",
       "4          18      1 - MALE     H - HISPANIC    b - suspected minor injury   \n",
       "\n",
       "  driver_license_class  motorcycle_endorsed  \n",
       "0          C - CLASS C                False  \n",
       "1          C - CLASS C                False  \n",
       "2          C - CLASS C                False  \n",
       "3          C - CLASS C                False  \n",
       "4       5 - UNLICENSED                False  "
      ]
     },
     "execution_count": 5,
     "metadata": {},
     "output_type": "execute_result"
    }
   ],
   "source": [
    "df.head()"
   ]
  },
  {
   "cell_type": "markdown",
   "id": "805243a2-390d-4740-95ed-7b164156c776",
   "metadata": {},
   "source": [
    "    First I am going to convert non numerical values to numerical values"
   ]
  },
  {
   "cell_type": "code",
   "execution_count": 6,
   "id": "a2dddf5a-d9be-4ea2-9396-efb57bf681de",
   "metadata": {},
   "outputs": [
    {
     "name": "stdout",
     "output_type": "stream",
     "text": [
      "<class 'pandas.core.frame.DataFrame'>\n",
      "RangeIndex: 14548 entries, 0 to 14547\n",
      "Data columns (total 6 columns):\n",
      " #   Column                  Non-Null Count  Dtype \n",
      "---  ------                  --------------  ----- \n",
      " 0   person_age              14548 non-null  int64 \n",
      " 1   person_gender           14548 non-null  object\n",
      " 2   person_ethnicity        14548 non-null  object\n",
      " 3   person_injury_severity  14548 non-null  object\n",
      " 4   driver_license_class    14548 non-null  object\n",
      " 5   motorcycle_endorsed     14548 non-null  bool  \n",
      "dtypes: bool(1), int64(1), object(4)\n",
      "memory usage: 582.6+ KB\n"
     ]
    }
   ],
   "source": [
    "df.info()"
   ]
  },
  {
   "cell_type": "code",
   "execution_count": 7,
   "id": "0cba6f51-5899-42fc-a9ac-1c77531ea832",
   "metadata": {},
   "outputs": [],
   "source": [
    "object_cols = []\n",
    "encoded_df = df.copy()  \n",
    "for col in df.columns:\n",
    "    if df[col].dtype == 'object' and col != 'person_injury_severity':\n",
    "        object_cols.append(col)\n",
    "        dummies = pd.get_dummies(data=df[col], columns=[col], drop_first=True, prefix=col, dtype=int)\n",
    "        encoded_df = pd.concat([encoded_df, dummies], axis=1)\n",
    "        encoded_df.drop(col, axis=1, inplace=True)\n",
    "encoded_df = encoded_df[[col for col in encoded_df.columns if col != 'person_injury_severity']]\n",
    "encoded_df['person_injury_severity'] = df['person_injury_severity']"
   ]
  },
  {
   "cell_type": "code",
   "execution_count": 8,
   "id": "aa94b919-6160-4ffb-9eeb-2769b2e8df9c",
   "metadata": {},
   "outputs": [
    {
     "data": {
      "text/html": [
       "<div>\n",
       "<style scoped>\n",
       "    .dataframe tbody tr th:only-of-type {\n",
       "        vertical-align: middle;\n",
       "    }\n",
       "\n",
       "    .dataframe tbody tr th {\n",
       "        vertical-align: top;\n",
       "    }\n",
       "\n",
       "    .dataframe thead th {\n",
       "        text-align: right;\n",
       "    }\n",
       "</style>\n",
       "<table border=\"1\" class=\"dataframe\">\n",
       "  <thead>\n",
       "    <tr style=\"text-align: right;\">\n",
       "      <th></th>\n",
       "      <th>person_age</th>\n",
       "      <th>motorcycle_endorsed</th>\n",
       "      <th>person_gender_2 - FEMALE</th>\n",
       "      <th>person_ethnicity_A - ASIAN</th>\n",
       "      <th>person_ethnicity_B - BLACK</th>\n",
       "      <th>person_ethnicity_H - HISPANIC</th>\n",
       "      <th>person_ethnicity_I - AMER. INDIAN/ALASKAN NATIVE</th>\n",
       "      <th>person_ethnicity_W - WHITE</th>\n",
       "      <th>driver_license_class_98 - OTHER/OUT OF STATE</th>\n",
       "      <th>driver_license_class_A - CLASS A</th>\n",
       "      <th>driver_license_class_AM - CLASS A AND M</th>\n",
       "      <th>driver_license_class_B - CLASS B</th>\n",
       "      <th>driver_license_class_BM - CLASS B AND M</th>\n",
       "      <th>driver_license_class_C - CLASS C</th>\n",
       "      <th>driver_license_class_CM - CLASS C AND M</th>\n",
       "      <th>driver_license_class_M - CLASS M</th>\n",
       "      <th>person_injury_severity</th>\n",
       "    </tr>\n",
       "  </thead>\n",
       "  <tbody>\n",
       "    <tr>\n",
       "      <th>0</th>\n",
       "      <td>37</td>\n",
       "      <td>False</td>\n",
       "      <td>0</td>\n",
       "      <td>0</td>\n",
       "      <td>0</td>\n",
       "      <td>0</td>\n",
       "      <td>0</td>\n",
       "      <td>1</td>\n",
       "      <td>0</td>\n",
       "      <td>0</td>\n",
       "      <td>0</td>\n",
       "      <td>0</td>\n",
       "      <td>0</td>\n",
       "      <td>1</td>\n",
       "      <td>0</td>\n",
       "      <td>0</td>\n",
       "      <td>a - suspected serious injury</td>\n",
       "    </tr>\n",
       "    <tr>\n",
       "      <th>1</th>\n",
       "      <td>30</td>\n",
       "      <td>False</td>\n",
       "      <td>0</td>\n",
       "      <td>0</td>\n",
       "      <td>0</td>\n",
       "      <td>1</td>\n",
       "      <td>0</td>\n",
       "      <td>0</td>\n",
       "      <td>0</td>\n",
       "      <td>0</td>\n",
       "      <td>0</td>\n",
       "      <td>0</td>\n",
       "      <td>0</td>\n",
       "      <td>1</td>\n",
       "      <td>0</td>\n",
       "      <td>0</td>\n",
       "      <td>b - suspected minor injury</td>\n",
       "    </tr>\n",
       "    <tr>\n",
       "      <th>2</th>\n",
       "      <td>20</td>\n",
       "      <td>False</td>\n",
       "      <td>0</td>\n",
       "      <td>0</td>\n",
       "      <td>0</td>\n",
       "      <td>0</td>\n",
       "      <td>0</td>\n",
       "      <td>1</td>\n",
       "      <td>0</td>\n",
       "      <td>0</td>\n",
       "      <td>0</td>\n",
       "      <td>0</td>\n",
       "      <td>0</td>\n",
       "      <td>1</td>\n",
       "      <td>0</td>\n",
       "      <td>0</td>\n",
       "      <td>b - suspected minor injury</td>\n",
       "    </tr>\n",
       "    <tr>\n",
       "      <th>3</th>\n",
       "      <td>21</td>\n",
       "      <td>False</td>\n",
       "      <td>0</td>\n",
       "      <td>0</td>\n",
       "      <td>0</td>\n",
       "      <td>0</td>\n",
       "      <td>0</td>\n",
       "      <td>1</td>\n",
       "      <td>0</td>\n",
       "      <td>0</td>\n",
       "      <td>0</td>\n",
       "      <td>0</td>\n",
       "      <td>0</td>\n",
       "      <td>1</td>\n",
       "      <td>0</td>\n",
       "      <td>0</td>\n",
       "      <td>a - suspected serious injury</td>\n",
       "    </tr>\n",
       "    <tr>\n",
       "      <th>4</th>\n",
       "      <td>18</td>\n",
       "      <td>False</td>\n",
       "      <td>0</td>\n",
       "      <td>0</td>\n",
       "      <td>0</td>\n",
       "      <td>1</td>\n",
       "      <td>0</td>\n",
       "      <td>0</td>\n",
       "      <td>0</td>\n",
       "      <td>0</td>\n",
       "      <td>0</td>\n",
       "      <td>0</td>\n",
       "      <td>0</td>\n",
       "      <td>0</td>\n",
       "      <td>0</td>\n",
       "      <td>0</td>\n",
       "      <td>b - suspected minor injury</td>\n",
       "    </tr>\n",
       "  </tbody>\n",
       "</table>\n",
       "</div>"
      ],
      "text/plain": [
       "   person_age  motorcycle_endorsed  person_gender_2 - FEMALE   \n",
       "0          37                False                         0  \\\n",
       "1          30                False                         0   \n",
       "2          20                False                         0   \n",
       "3          21                False                         0   \n",
       "4          18                False                         0   \n",
       "\n",
       "   person_ethnicity_A - ASIAN  person_ethnicity_B - BLACK   \n",
       "0                           0                           0  \\\n",
       "1                           0                           0   \n",
       "2                           0                           0   \n",
       "3                           0                           0   \n",
       "4                           0                           0   \n",
       "\n",
       "   person_ethnicity_H - HISPANIC   \n",
       "0                              0  \\\n",
       "1                              1   \n",
       "2                              0   \n",
       "3                              0   \n",
       "4                              1   \n",
       "\n",
       "   person_ethnicity_I - AMER. INDIAN/ALASKAN NATIVE   \n",
       "0                                                 0  \\\n",
       "1                                                 0   \n",
       "2                                                 0   \n",
       "3                                                 0   \n",
       "4                                                 0   \n",
       "\n",
       "   person_ethnicity_W - WHITE  driver_license_class_98 - OTHER/OUT OF STATE   \n",
       "0                           1                                             0  \\\n",
       "1                           0                                             0   \n",
       "2                           1                                             0   \n",
       "3                           1                                             0   \n",
       "4                           0                                             0   \n",
       "\n",
       "   driver_license_class_A - CLASS A  driver_license_class_AM - CLASS A AND M   \n",
       "0                                 0                                        0  \\\n",
       "1                                 0                                        0   \n",
       "2                                 0                                        0   \n",
       "3                                 0                                        0   \n",
       "4                                 0                                        0   \n",
       "\n",
       "   driver_license_class_B - CLASS B  driver_license_class_BM - CLASS B AND M   \n",
       "0                                 0                                        0  \\\n",
       "1                                 0                                        0   \n",
       "2                                 0                                        0   \n",
       "3                                 0                                        0   \n",
       "4                                 0                                        0   \n",
       "\n",
       "   driver_license_class_C - CLASS C  driver_license_class_CM - CLASS C AND M   \n",
       "0                                 1                                        0  \\\n",
       "1                                 1                                        0   \n",
       "2                                 1                                        0   \n",
       "3                                 1                                        0   \n",
       "4                                 0                                        0   \n",
       "\n",
       "   driver_license_class_M - CLASS M        person_injury_severity  \n",
       "0                                 0  a - suspected serious injury  \n",
       "1                                 0    b - suspected minor injury  \n",
       "2                                 0    b - suspected minor injury  \n",
       "3                                 0  a - suspected serious injury  \n",
       "4                                 0    b - suspected minor injury  "
      ]
     },
     "execution_count": 8,
     "metadata": {},
     "output_type": "execute_result"
    }
   ],
   "source": [
    "encoded_df.head()"
   ]
  },
  {
   "cell_type": "markdown",
   "id": "9086a2f8-3251-47c2-b5e6-a56af48dde4e",
   "metadata": {},
   "source": [
    "     This seems to be end of our preproceessing part"
   ]
  },
  {
   "cell_type": "markdown",
   "id": "a17b6e22-2faa-416e-8d4c-cde1c4750f67",
   "metadata": {},
   "source": [
    "# Splitting the data "
   ]
  },
  {
   "cell_type": "code",
   "execution_count": 9,
   "id": "5ce69d26-7a44-450e-9ac6-626f0c50cb15",
   "metadata": {},
   "outputs": [],
   "source": [
    "train, validate, test = f.split(encoded_df)"
   ]
  },
  {
   "cell_type": "code",
   "execution_count": 10,
   "id": "c11f6be6-5608-4959-9b5a-ff16a341e866",
   "metadata": {},
   "outputs": [],
   "source": [
    "x_train = train.drop(columns= 'person_injury_severity')\n",
    "y_train = train['person_injury_severity']\n",
    "\n",
    "x_validate = validate.drop(columns= 'person_injury_severity')\n",
    "y_validate = validate['person_injury_severity']\n",
    "\n",
    "x_test= test.drop(columns= 'person_injury_severity')\n",
    "y_test = test['person_injury_severity']"
   ]
  },
  {
   "cell_type": "markdown",
   "id": "c945498b-6047-4721-a796-34297aa42d02",
   "metadata": {},
   "source": [
    "# Make our baseline model"
   ]
  },
  {
   "cell_type": "code",
   "execution_count": 11,
   "id": "bb339a97-0cb2-421a-9fc4-525c9009d6c0",
   "metadata": {},
   "outputs": [
    {
     "data": {
      "text/plain": [
       "person_injury_severity\n",
       "b - suspected minor injury      8521\n",
       "a - suspected serious injury    4016\n",
       "n - not injured                 1162\n",
       "k - fatal injury                 849\n",
       "Name: count, dtype: int64"
      ]
     },
     "execution_count": 11,
     "metadata": {},
     "output_type": "execute_result"
    }
   ],
   "source": [
    "df.person_injury_severity.value_counts()"
   ]
  },
  {
   "cell_type": "markdown",
   "id": "8453df0e-1a90-44ef-8f78-284cf13c2422",
   "metadata": {},
   "source": [
    "    Since suspected minor injury occurs most often this will be our baseline"
   ]
  },
  {
   "cell_type": "code",
   "execution_count": 12,
   "id": "78ac880f-d63a-4562-9363-27b8c871d52f",
   "metadata": {},
   "outputs": [],
   "source": [
    "pred_df_train = pd.DataFrame()\n",
    "pred_df_train['actual'] = y_train"
   ]
  },
  {
   "cell_type": "code",
   "execution_count": 13,
   "id": "df5a3371-aac9-486e-a069-517696be1174",
   "metadata": {},
   "outputs": [],
   "source": [
    "pred_df_train['baseline_predictions'] = 'b - suspected minor injury' "
   ]
  },
  {
   "cell_type": "code",
   "execution_count": 14,
   "id": "ba0bc0d0-fb08-4ec1-9582-3ddaa894e728",
   "metadata": {},
   "outputs": [
    {
     "data": {
      "text/plain": [
       "6551     b - suspected minor injury\n",
       "4889     b - suspected minor injury\n",
       "2173     b - suspected minor injury\n",
       "6022     b - suspected minor injury\n",
       "3864     b - suspected minor injury\n",
       "                    ...            \n",
       "4393     b - suspected minor injury\n",
       "6667     b - suspected minor injury\n",
       "2912     b - suspected minor injury\n",
       "3798     b - suspected minor injury\n",
       "14295    b - suspected minor injury\n",
       "Name: baseline_predictions, Length: 8146, dtype: object"
      ]
     },
     "execution_count": 14,
     "metadata": {},
     "output_type": "execute_result"
    }
   ],
   "source": [
    "pred_df_train['baseline_predictions']"
   ]
  },
  {
   "cell_type": "code",
   "execution_count": 15,
   "id": "8c8f9b0f-f220-43bc-bb7e-89d2f581f7ef",
   "metadata": {},
   "outputs": [
    {
     "data": {
      "text/plain": [
       "actual\n",
       "b - suspected minor injury      4778\n",
       "a - suspected serious injury    2257\n",
       "n - not injured                  648\n",
       "k - fatal injury                 463\n",
       "Name: count, dtype: int64"
      ]
     },
     "execution_count": 15,
     "metadata": {},
     "output_type": "execute_result"
    }
   ],
   "source": [
    "pred_df_train.actual.value_counts()"
   ]
  },
  {
   "cell_type": "code",
   "execution_count": 16,
   "id": "becc7ff4-3288-4d65-b3b8-50390bd6dd55",
   "metadata": {},
   "outputs": [
    {
     "name": "stdout",
     "output_type": "stream",
     "text": [
      "                              precision    recall  f1-score   support\n",
      "\n",
      "a - suspected serious injury       0.00      0.00      0.00      2257\n",
      "  b - suspected minor injury       0.59      1.00      0.74      4778\n",
      "            k - fatal injury       0.00      0.00      0.00       463\n",
      "             n - not injured       0.00      0.00      0.00       648\n",
      "\n",
      "                    accuracy                           0.59      8146\n",
      "                   macro avg       0.15      0.25      0.18      8146\n",
      "                weighted avg       0.34      0.59      0.43      8146\n",
      "\n"
     ]
    },
    {
     "name": "stderr",
     "output_type": "stream",
     "text": [
      "/opt/homebrew/anaconda3/lib/python3.10/site-packages/sklearn/metrics/_classification.py:1344: UndefinedMetricWarning: Precision and F-score are ill-defined and being set to 0.0 in labels with no predicted samples. Use `zero_division` parameter to control this behavior.\n",
      "  _warn_prf(average, modifier, msg_start, len(result))\n",
      "/opt/homebrew/anaconda3/lib/python3.10/site-packages/sklearn/metrics/_classification.py:1344: UndefinedMetricWarning: Precision and F-score are ill-defined and being set to 0.0 in labels with no predicted samples. Use `zero_division` parameter to control this behavior.\n",
      "  _warn_prf(average, modifier, msg_start, len(result))\n",
      "/opt/homebrew/anaconda3/lib/python3.10/site-packages/sklearn/metrics/_classification.py:1344: UndefinedMetricWarning: Precision and F-score are ill-defined and being set to 0.0 in labels with no predicted samples. Use `zero_division` parameter to control this behavior.\n",
      "  _warn_prf(average, modifier, msg_start, len(result))\n"
     ]
    }
   ],
   "source": [
    "print(classification_report(pred_df_train['actual'],pred_df_train['baseline_predictions']))"
   ]
  },
  {
   "cell_type": "markdown",
   "id": "4f1d9dc4-4695-4cbd-8ef2-3c8f678bcd61",
   "metadata": {},
   "source": [
    "# Descion Tree Classifier:"
   ]
  },
  {
   "cell_type": "markdown",
   "id": "44571ee9-2916-4a7e-9c0d-c5473adbcd22",
   "metadata": {},
   "source": [
    "### make the model"
   ]
  },
  {
   "cell_type": "code",
   "execution_count": 17,
   "id": "a2fc9174-61d9-4f65-a6e1-3269fe03831e",
   "metadata": {},
   "outputs": [],
   "source": [
    "clf = DecisionTreeClassifier(max_depth= 5, random_state= 666)"
   ]
  },
  {
   "cell_type": "markdown",
   "id": "aec76dbf-6019-4dc7-836d-1080419db9e6",
   "metadata": {},
   "source": [
    "### Fit the model "
   ]
  },
  {
   "cell_type": "code",
   "execution_count": 18,
   "id": "5a3f78c0-254e-4aca-b9f2-0da6cfab19de",
   "metadata": {},
   "outputs": [
    {
     "data": {
      "text/html": [
       "<style>#sk-container-id-1 {color: black;background-color: white;}#sk-container-id-1 pre{padding: 0;}#sk-container-id-1 div.sk-toggleable {background-color: white;}#sk-container-id-1 label.sk-toggleable__label {cursor: pointer;display: block;width: 100%;margin-bottom: 0;padding: 0.3em;box-sizing: border-box;text-align: center;}#sk-container-id-1 label.sk-toggleable__label-arrow:before {content: \"▸\";float: left;margin-right: 0.25em;color: #696969;}#sk-container-id-1 label.sk-toggleable__label-arrow:hover:before {color: black;}#sk-container-id-1 div.sk-estimator:hover label.sk-toggleable__label-arrow:before {color: black;}#sk-container-id-1 div.sk-toggleable__content {max-height: 0;max-width: 0;overflow: hidden;text-align: left;background-color: #f0f8ff;}#sk-container-id-1 div.sk-toggleable__content pre {margin: 0.2em;color: black;border-radius: 0.25em;background-color: #f0f8ff;}#sk-container-id-1 input.sk-toggleable__control:checked~div.sk-toggleable__content {max-height: 200px;max-width: 100%;overflow: auto;}#sk-container-id-1 input.sk-toggleable__control:checked~label.sk-toggleable__label-arrow:before {content: \"▾\";}#sk-container-id-1 div.sk-estimator input.sk-toggleable__control:checked~label.sk-toggleable__label {background-color: #d4ebff;}#sk-container-id-1 div.sk-label input.sk-toggleable__control:checked~label.sk-toggleable__label {background-color: #d4ebff;}#sk-container-id-1 input.sk-hidden--visually {border: 0;clip: rect(1px 1px 1px 1px);clip: rect(1px, 1px, 1px, 1px);height: 1px;margin: -1px;overflow: hidden;padding: 0;position: absolute;width: 1px;}#sk-container-id-1 div.sk-estimator {font-family: monospace;background-color: #f0f8ff;border: 1px dotted black;border-radius: 0.25em;box-sizing: border-box;margin-bottom: 0.5em;}#sk-container-id-1 div.sk-estimator:hover {background-color: #d4ebff;}#sk-container-id-1 div.sk-parallel-item::after {content: \"\";width: 100%;border-bottom: 1px solid gray;flex-grow: 1;}#sk-container-id-1 div.sk-label:hover label.sk-toggleable__label {background-color: #d4ebff;}#sk-container-id-1 div.sk-serial::before {content: \"\";position: absolute;border-left: 1px solid gray;box-sizing: border-box;top: 0;bottom: 0;left: 50%;z-index: 0;}#sk-container-id-1 div.sk-serial {display: flex;flex-direction: column;align-items: center;background-color: white;padding-right: 0.2em;padding-left: 0.2em;position: relative;}#sk-container-id-1 div.sk-item {position: relative;z-index: 1;}#sk-container-id-1 div.sk-parallel {display: flex;align-items: stretch;justify-content: center;background-color: white;position: relative;}#sk-container-id-1 div.sk-item::before, #sk-container-id-1 div.sk-parallel-item::before {content: \"\";position: absolute;border-left: 1px solid gray;box-sizing: border-box;top: 0;bottom: 0;left: 50%;z-index: -1;}#sk-container-id-1 div.sk-parallel-item {display: flex;flex-direction: column;z-index: 1;position: relative;background-color: white;}#sk-container-id-1 div.sk-parallel-item:first-child::after {align-self: flex-end;width: 50%;}#sk-container-id-1 div.sk-parallel-item:last-child::after {align-self: flex-start;width: 50%;}#sk-container-id-1 div.sk-parallel-item:only-child::after {width: 0;}#sk-container-id-1 div.sk-dashed-wrapped {border: 1px dashed gray;margin: 0 0.4em 0.5em 0.4em;box-sizing: border-box;padding-bottom: 0.4em;background-color: white;}#sk-container-id-1 div.sk-label label {font-family: monospace;font-weight: bold;display: inline-block;line-height: 1.2em;}#sk-container-id-1 div.sk-label-container {text-align: center;}#sk-container-id-1 div.sk-container {/* jupyter's `normalize.less` sets `[hidden] { display: none; }` but bootstrap.min.css set `[hidden] { display: none !important; }` so we also need the `!important` here to be able to override the default hidden behavior on the sphinx rendered scikit-learn.org. See: https://github.com/scikit-learn/scikit-learn/issues/21755 */display: inline-block !important;position: relative;}#sk-container-id-1 div.sk-text-repr-fallback {display: none;}</style><div id=\"sk-container-id-1\" class=\"sk-top-container\"><div class=\"sk-text-repr-fallback\"><pre>DecisionTreeClassifier(max_depth=5, random_state=666)</pre><b>In a Jupyter environment, please rerun this cell to show the HTML representation or trust the notebook. <br />On GitHub, the HTML representation is unable to render, please try loading this page with nbviewer.org.</b></div><div class=\"sk-container\" hidden><div class=\"sk-item\"><div class=\"sk-estimator sk-toggleable\"><input class=\"sk-toggleable__control sk-hidden--visually\" id=\"sk-estimator-id-1\" type=\"checkbox\" checked><label for=\"sk-estimator-id-1\" class=\"sk-toggleable__label sk-toggleable__label-arrow\">DecisionTreeClassifier</label><div class=\"sk-toggleable__content\"><pre>DecisionTreeClassifier(max_depth=5, random_state=666)</pre></div></div></div></div></div>"
      ],
      "text/plain": [
       "DecisionTreeClassifier(max_depth=5, random_state=666)"
      ]
     },
     "execution_count": 18,
     "metadata": {},
     "output_type": "execute_result"
    }
   ],
   "source": [
    "clf.fit(x_train,y_train)"
   ]
  },
  {
   "cell_type": "code",
   "execution_count": 19,
   "id": "ec133eab-35c8-40e8-9277-c997d130f8f5",
   "metadata": {},
   "outputs": [
    {
     "data": {
      "image/png": "[encoded data removed]",
      "text/plain": [
       "<Figure size 1300x700 with 1 Axes>"
      ]
     },
     "metadata": {},
     "output_type": "display_data"
    }
   ],
   "source": [
    "plt.figure(figsize=(13, 7))\n",
    "plot_tree(clf, feature_names=x_train.columns, class_names=clf.classes_, rounded=True)\n",
    "plt.show()"
   ]
  },
  {
   "cell_type": "code",
   "execution_count": 20,
   "id": "cd888efc-f79b-403c-85f0-9435c40af09b",
   "metadata": {},
   "outputs": [],
   "source": [
    "pred_df_train['clf_prediction'] = clf_pred = clf.predict(x_train)"
   ]
  },
  {
   "cell_type": "code",
   "execution_count": 21,
   "id": "9debabd2-c423-4b95-98c0-fb510478a7f5",
   "metadata": {},
   "outputs": [
    {
     "data": {
      "text/html": [
       "<div>\n",
       "<style scoped>\n",
       "    .dataframe tbody tr th:only-of-type {\n",
       "        vertical-align: middle;\n",
       "    }\n",
       "\n",
       "    .dataframe tbody tr th {\n",
       "        vertical-align: top;\n",
       "    }\n",
       "\n",
       "    .dataframe thead th {\n",
       "        text-align: right;\n",
       "    }\n",
       "</style>\n",
       "<table border=\"1\" class=\"dataframe\">\n",
       "  <thead>\n",
       "    <tr style=\"text-align: right;\">\n",
       "      <th></th>\n",
       "      <th>actual</th>\n",
       "      <th>baseline_predictions</th>\n",
       "      <th>clf_prediction</th>\n",
       "    </tr>\n",
       "  </thead>\n",
       "  <tbody>\n",
       "    <tr>\n",
       "      <th>6551</th>\n",
       "      <td>a - suspected serious injury</td>\n",
       "      <td>b - suspected minor injury</td>\n",
       "      <td>b - suspected minor injury</td>\n",
       "    </tr>\n",
       "    <tr>\n",
       "      <th>4889</th>\n",
       "      <td>b - suspected minor injury</td>\n",
       "      <td>b - suspected minor injury</td>\n",
       "      <td>b - suspected minor injury</td>\n",
       "    </tr>\n",
       "    <tr>\n",
       "      <th>2173</th>\n",
       "      <td>b - suspected minor injury</td>\n",
       "      <td>b - suspected minor injury</td>\n",
       "      <td>b - suspected minor injury</td>\n",
       "    </tr>\n",
       "    <tr>\n",
       "      <th>6022</th>\n",
       "      <td>b - suspected minor injury</td>\n",
       "      <td>b - suspected minor injury</td>\n",
       "      <td>b - suspected minor injury</td>\n",
       "    </tr>\n",
       "    <tr>\n",
       "      <th>3864</th>\n",
       "      <td>a - suspected serious injury</td>\n",
       "      <td>b - suspected minor injury</td>\n",
       "      <td>b - suspected minor injury</td>\n",
       "    </tr>\n",
       "    <tr>\n",
       "      <th>...</th>\n",
       "      <td>...</td>\n",
       "      <td>...</td>\n",
       "      <td>...</td>\n",
       "    </tr>\n",
       "    <tr>\n",
       "      <th>4393</th>\n",
       "      <td>a - suspected serious injury</td>\n",
       "      <td>b - suspected minor injury</td>\n",
       "      <td>b - suspected minor injury</td>\n",
       "    </tr>\n",
       "    <tr>\n",
       "      <th>6667</th>\n",
       "      <td>b - suspected minor injury</td>\n",
       "      <td>b - suspected minor injury</td>\n",
       "      <td>b - suspected minor injury</td>\n",
       "    </tr>\n",
       "    <tr>\n",
       "      <th>2912</th>\n",
       "      <td>b - suspected minor injury</td>\n",
       "      <td>b - suspected minor injury</td>\n",
       "      <td>b - suspected minor injury</td>\n",
       "    </tr>\n",
       "    <tr>\n",
       "      <th>3798</th>\n",
       "      <td>a - suspected serious injury</td>\n",
       "      <td>b - suspected minor injury</td>\n",
       "      <td>b - suspected minor injury</td>\n",
       "    </tr>\n",
       "    <tr>\n",
       "      <th>14295</th>\n",
       "      <td>b - suspected minor injury</td>\n",
       "      <td>b - suspected minor injury</td>\n",
       "      <td>b - suspected minor injury</td>\n",
       "    </tr>\n",
       "  </tbody>\n",
       "</table>\n",
       "<p>8146 rows × 3 columns</p>\n",
       "</div>"
      ],
      "text/plain": [
       "                             actual        baseline_predictions   \n",
       "6551   a - suspected serious injury  b - suspected minor injury  \\\n",
       "4889     b - suspected minor injury  b - suspected minor injury   \n",
       "2173     b - suspected minor injury  b - suspected minor injury   \n",
       "6022     b - suspected minor injury  b - suspected minor injury   \n",
       "3864   a - suspected serious injury  b - suspected minor injury   \n",
       "...                             ...                         ...   \n",
       "4393   a - suspected serious injury  b - suspected minor injury   \n",
       "6667     b - suspected minor injury  b - suspected minor injury   \n",
       "2912     b - suspected minor injury  b - suspected minor injury   \n",
       "3798   a - suspected serious injury  b - suspected minor injury   \n",
       "14295    b - suspected minor injury  b - suspected minor injury   \n",
       "\n",
       "                   clf_prediction  \n",
       "6551   b - suspected minor injury  \n",
       "4889   b - suspected minor injury  \n",
       "2173   b - suspected minor injury  \n",
       "6022   b - suspected minor injury  \n",
       "3864   b - suspected minor injury  \n",
       "...                           ...  \n",
       "4393   b - suspected minor injury  \n",
       "6667   b - suspected minor injury  \n",
       "2912   b - suspected minor injury  \n",
       "3798   b - suspected minor injury  \n",
       "14295  b - suspected minor injury  \n",
       "\n",
       "[8146 rows x 3 columns]"
      ]
     },
     "execution_count": 21,
     "metadata": {},
     "output_type": "execute_result"
    }
   ],
   "source": [
    "pred_df_train"
   ]
  },
  {
   "cell_type": "code",
   "execution_count": 22,
   "id": "6f5b4d6f-e708-4a0e-891d-03dc081a16b3",
   "metadata": {},
   "outputs": [
    {
     "name": "stdout",
     "output_type": "stream",
     "text": [
      "                              precision    recall  f1-score   support\n",
      "\n",
      "a - suspected serious injury       0.50      0.05      0.09      2257\n",
      "  b - suspected minor injury       0.59      0.98      0.74      4778\n",
      "            k - fatal injury       0.00      0.00      0.00       463\n",
      "             n - not injured       1.00      0.00      0.01       648\n",
      "\n",
      "                    accuracy                           0.59      8146\n",
      "                   macro avg       0.52      0.26      0.21      8146\n",
      "                weighted avg       0.57      0.59      0.46      8146\n",
      "\n"
     ]
    },
    {
     "name": "stderr",
     "output_type": "stream",
     "text": [
      "/opt/homebrew/anaconda3/lib/python3.10/site-packages/sklearn/metrics/_classification.py:1344: UndefinedMetricWarning: Precision and F-score are ill-defined and being set to 0.0 in labels with no predicted samples. Use `zero_division` parameter to control this behavior.\n",
      "  _warn_prf(average, modifier, msg_start, len(result))\n",
      "/opt/homebrew/anaconda3/lib/python3.10/site-packages/sklearn/metrics/_classification.py:1344: UndefinedMetricWarning: Precision and F-score are ill-defined and being set to 0.0 in labels with no predicted samples. Use `zero_division` parameter to control this behavior.\n",
      "  _warn_prf(average, modifier, msg_start, len(result))\n",
      "/opt/homebrew/anaconda3/lib/python3.10/site-packages/sklearn/metrics/_classification.py:1344: UndefinedMetricWarning: Precision and F-score are ill-defined and being set to 0.0 in labels with no predicted samples. Use `zero_division` parameter to control this behavior.\n",
      "  _warn_prf(average, modifier, msg_start, len(result))\n"
     ]
    }
   ],
   "source": [
    "print(classification_report(pred_df_train.actual,pred_df_train.clf_prediction))"
   ]
  },
  {
   "cell_type": "markdown",
   "id": "c9b02438-ca06-4840-a7fc-23955ea5cb06",
   "metadata": {},
   "source": [
    "# KNN: "
   ]
  },
  {
   "cell_type": "code",
   "execution_count": 23,
   "id": "e41550ca-ca25-4365-a06d-317c424d1b0c",
   "metadata": {},
   "outputs": [
    {
     "name": "stdout",
     "output_type": "stream",
     "text": [
      "                              precision    recall  f1-score   support\n",
      "\n",
      "a - suspected serious injury       0.40      0.41      0.41      2257\n",
      "  b - suspected minor injury       0.65      0.77      0.70      4778\n",
      "            k - fatal injury       0.50      0.02      0.04       463\n",
      "             n - not injured       0.33      0.03      0.06       648\n",
      "\n",
      "                    accuracy                           0.57      8146\n",
      "                   macro avg       0.47      0.31      0.30      8146\n",
      "                weighted avg       0.54      0.57      0.53      8146\n",
      "\n"
     ]
    }
   ],
   "source": [
    "knn = KNeighborsClassifier(n_neighbors=5, weights='uniform')\n",
    "knn.fit(x_train, y_train)\n",
    "pred_df_train['knn'] = knn.predict(x_train)\n",
    "print(classification_report(pred_df_train.actual,pred_df_train.knn))"
   ]
  },
  {
   "cell_type": "markdown",
   "id": "dcdd2189-66c9-479a-997d-a4a7c9be46ce",
   "metadata": {},
   "source": [
    "# Logistic Regression:"
   ]
  },
  {
   "cell_type": "code",
   "execution_count": null,
   "id": "86f8e320-e5ed-4819-a11f-c0b41b996e21",
   "metadata": {},
   "outputs": [],
   "source": []
  },
  {
   "cell_type": "code",
   "execution_count": 24,
   "id": "f74687c6-764c-469a-a63b-bc1a074fb6af",
   "metadata": {},
   "outputs": [
    {
     "name": "stderr",
     "output_type": "stream",
     "text": [
      "/opt/homebrew/anaconda3/lib/python3.10/site-packages/sklearn/linear_model/_logistic.py:458: ConvergenceWarning: lbfgs failed to converge (status=1):\n",
      "STOP: TOTAL NO. of ITERATIONS REACHED LIMIT.\n",
      "\n",
      "Increase the number of iterations (max_iter) or scale the data as shown in:\n",
      "    https://scikit-learn.org/stable/modules/preprocessing.html\n",
      "Please also refer to the documentation for alternative solver options:\n",
      "    https://scikit-learn.org/stable/modules/linear_model.html#logistic-regression\n",
      "  n_iter_i = _check_optimize_result(\n"
     ]
    },
    {
     "data": {
      "text/html": [
       "<style>#sk-container-id-2 {color: black;background-color: white;}#sk-container-id-2 pre{padding: 0;}#sk-container-id-2 div.sk-toggleable {background-color: white;}#sk-container-id-2 label.sk-toggleable__label {cursor: pointer;display: block;width: 100%;margin-bottom: 0;padding: 0.3em;box-sizing: border-box;text-align: center;}#sk-container-id-2 label.sk-toggleable__label-arrow:before {content: \"▸\";float: left;margin-right: 0.25em;color: #696969;}#sk-container-id-2 label.sk-toggleable__label-arrow:hover:before {color: black;}#sk-container-id-2 div.sk-estimator:hover label.sk-toggleable__label-arrow:before {color: black;}#sk-container-id-2 div.sk-toggleable__content {max-height: 0;max-width: 0;overflow: hidden;text-align: left;background-color: #f0f8ff;}#sk-container-id-2 div.sk-toggleable__content pre {margin: 0.2em;color: black;border-radius: 0.25em;background-color: #f0f8ff;}#sk-container-id-2 input.sk-toggleable__control:checked~div.sk-toggleable__content {max-height: 200px;max-width: 100%;overflow: auto;}#sk-container-id-2 input.sk-toggleable__control:checked~label.sk-toggleable__label-arrow:before {content: \"▾\";}#sk-container-id-2 div.sk-estimator input.sk-toggleable__control:checked~label.sk-toggleable__label {background-color: #d4ebff;}#sk-container-id-2 div.sk-label input.sk-toggleable__control:checked~label.sk-toggleable__label {background-color: #d4ebff;}#sk-container-id-2 input.sk-hidden--visually {border: 0;clip: rect(1px 1px 1px 1px);clip: rect(1px, 1px, 1px, 1px);height: 1px;margin: -1px;overflow: hidden;padding: 0;position: absolute;width: 1px;}#sk-container-id-2 div.sk-estimator {font-family: monospace;background-color: #f0f8ff;border: 1px dotted black;border-radius: 0.25em;box-sizing: border-box;margin-bottom: 0.5em;}#sk-container-id-2 div.sk-estimator:hover {background-color: #d4ebff;}#sk-container-id-2 div.sk-parallel-item::after {content: \"\";width: 100%;border-bottom: 1px solid gray;flex-grow: 1;}#sk-container-id-2 div.sk-label:hover label.sk-toggleable__label {background-color: #d4ebff;}#sk-container-id-2 div.sk-serial::before {content: \"\";position: absolute;border-left: 1px solid gray;box-sizing: border-box;top: 0;bottom: 0;left: 50%;z-index: 0;}#sk-container-id-2 div.sk-serial {display: flex;flex-direction: column;align-items: center;background-color: white;padding-right: 0.2em;padding-left: 0.2em;position: relative;}#sk-container-id-2 div.sk-item {position: relative;z-index: 1;}#sk-container-id-2 div.sk-parallel {display: flex;align-items: stretch;justify-content: center;background-color: white;position: relative;}#sk-container-id-2 div.sk-item::before, #sk-container-id-2 div.sk-parallel-item::before {content: \"\";position: absolute;border-left: 1px solid gray;box-sizing: border-box;top: 0;bottom: 0;left: 50%;z-index: -1;}#sk-container-id-2 div.sk-parallel-item {display: flex;flex-direction: column;z-index: 1;position: relative;background-color: white;}#sk-container-id-2 div.sk-parallel-item:first-child::after {align-self: flex-end;width: 50%;}#sk-container-id-2 div.sk-parallel-item:last-child::after {align-self: flex-start;width: 50%;}#sk-container-id-2 div.sk-parallel-item:only-child::after {width: 0;}#sk-container-id-2 div.sk-dashed-wrapped {border: 1px dashed gray;margin: 0 0.4em 0.5em 0.4em;box-sizing: border-box;padding-bottom: 0.4em;background-color: white;}#sk-container-id-2 div.sk-label label {font-family: monospace;font-weight: bold;display: inline-block;line-height: 1.2em;}#sk-container-id-2 div.sk-label-container {text-align: center;}#sk-container-id-2 div.sk-container {/* jupyter's `normalize.less` sets `[hidden] { display: none; }` but bootstrap.min.css set `[hidden] { display: none !important; }` so we also need the `!important` here to be able to override the default hidden behavior on the sphinx rendered scikit-learn.org. See: https://github.com/scikit-learn/scikit-learn/issues/21755 */display: inline-block !important;position: relative;}#sk-container-id-2 div.sk-text-repr-fallback {display: none;}</style><div id=\"sk-container-id-2\" class=\"sk-top-container\"><div class=\"sk-text-repr-fallback\"><pre>LogisticRegression(C=1,\n",
       "                   class_weight={&#x27;a - suspected serious injury&#x27;: 0.9023039432875498,\n",
       "                                 &#x27;b - suspected minor injury&#x27;: 0.4262243616575973,\n",
       "                                 &#x27;k - fatal injury&#x27;: 4.398488120950324,\n",
       "                                 &#x27;n - not injured&#x27;: 3.142746913580247},\n",
       "                   random_state=666)</pre><b>In a Jupyter environment, please rerun this cell to show the HTML representation or trust the notebook. <br />On GitHub, the HTML representation is unable to render, please try loading this page with nbviewer.org.</b></div><div class=\"sk-container\" hidden><div class=\"sk-item\"><div class=\"sk-estimator sk-toggleable\"><input class=\"sk-toggleable__control sk-hidden--visually\" id=\"sk-estimator-id-2\" type=\"checkbox\" checked><label for=\"sk-estimator-id-2\" class=\"sk-toggleable__label sk-toggleable__label-arrow\">LogisticRegression</label><div class=\"sk-toggleable__content\"><pre>LogisticRegression(C=1,\n",
       "                   class_weight={&#x27;a - suspected serious injury&#x27;: 0.9023039432875498,\n",
       "                                 &#x27;b - suspected minor injury&#x27;: 0.4262243616575973,\n",
       "                                 &#x27;k - fatal injury&#x27;: 4.398488120950324,\n",
       "                                 &#x27;n - not injured&#x27;: 3.142746913580247},\n",
       "                   random_state=666)</pre></div></div></div></div></div>"
      ],
      "text/plain": [
       "LogisticRegression(C=1,\n",
       "                   class_weight={'a - suspected serious injury': 0.9023039432875498,\n",
       "                                 'b - suspected minor injury': 0.4262243616575973,\n",
       "                                 'k - fatal injury': 4.398488120950324,\n",
       "                                 'n - not injured': 3.142746913580247},\n",
       "                   random_state=666)"
      ]
     },
     "execution_count": 24,
     "metadata": {},
     "output_type": "execute_result"
    }
   ],
   "source": [
    "# First we get the weights\n",
    "class_weights = compute_class_weight('balanced', classes=np.unique(y_train), y=y_train)\n",
    "# make the model\n",
    "logit = LogisticRegression(C=1, class_weight=dict(zip(np.unique(y_train), class_weights)), random_state=666, intercept_scaling=1, solver='lbfgs')\n",
    "# fit the model\n",
    "logit.fit(x_train, y_train)\n"
   ]
  },
  {
   "cell_type": "code",
   "execution_count": 25,
   "id": "66d870e6-7d4f-4de5-9a16-e23722d42471",
   "metadata": {},
   "outputs": [
    {
     "name": "stdout",
     "output_type": "stream",
     "text": [
      "Coefficient: \n",
      " [[ 4.85136452e-03 -1.21646166e-01  2.76360948e-01  5.60853889e-02\n",
      "  -1.26922818e-01 -1.23370933e-02 -5.35907984e-02  8.38476383e-02\n",
      "  -1.36268123e-01 -4.08189189e-03  1.21194363e-01  1.03378473e-01\n",
      "  -3.67355940e-02  2.37082731e-02 -3.54948856e-02 -1.70610050e-01]\n",
      " [-9.77346780e-03  7.10574758e-02  4.93613496e-01  3.53871000e-03\n",
      "   1.10723634e-01  3.21290145e-02 -5.29549142e-02  5.93600009e-02\n",
      "  -5.22051430e-02 -8.39290315e-02 -1.37749435e-01  1.12050334e-01\n",
      "   1.01214419e-01 -3.52762478e-04  1.31328287e-01 -2.37357959e-02]\n",
      " [ 1.71961346e-02 -1.59993290e-01 -5.84484240e-01 -3.01636076e-02\n",
      "  -1.74097705e-01 -1.65829666e-01  1.36850917e-02 -1.48547552e-01\n",
      "  -3.72258780e-02  1.84606440e-01  1.73855986e-01 -1.14128126e-01\n",
      "  -5.22731282e-02 -3.37609817e-02 -5.53012028e-02 -2.26274945e-01]\n",
      " [-1.22740313e-02  2.10581980e-01 -1.85490204e-01 -2.94604914e-02\n",
      "   1.90296889e-01  1.46037745e-01  9.28606209e-02  5.33991257e-03\n",
      "   2.25699144e-01 -9.65955161e-02 -1.57300914e-01 -1.01300682e-01\n",
      "  -1.22056970e-02  1.04054711e-02 -4.05321991e-02  4.20620791e-01]]\n",
      "Intercept: \n",
      " [-0.16655448  0.23725365 -0.42230493  0.35160576]\n"
     ]
    }
   ],
   "source": [
    "# check the intercepts and the coefficients of the logistic regression model\n",
    "print('Coefficient: \\n', logit.coef_)\n",
    "print('Intercept: \\n', logit.intercept_)\n"
   ]
  },
  {
   "cell_type": "code",
   "execution_count": 26,
   "id": "5fe56452-760f-418d-a482-596e8b3f900e",
   "metadata": {},
   "outputs": [],
   "source": [
    "# make predictions \n",
    "pred_df_train['logistic'] = logit.predict(x_train)"
   ]
  },
  {
   "cell_type": "code",
   "execution_count": 27,
   "id": "10e3138f-0dd3-4648-beda-72ab4624032e",
   "metadata": {},
   "outputs": [
    {
     "name": "stdout",
     "output_type": "stream",
     "text": [
      "                              precision    recall  f1-score   support\n",
      "\n",
      "a - suspected serious injury       0.33      0.17      0.22      2257\n",
      "  b - suspected minor injury       0.65      0.24      0.35      4778\n",
      "            k - fatal injury       0.08      0.47      0.14       463\n",
      "             n - not injured       0.10      0.36      0.15       648\n",
      "\n",
      "                    accuracy                           0.25      8146\n",
      "                   macro avg       0.29      0.31      0.22      8146\n",
      "                weighted avg       0.48      0.25      0.29      8146\n",
      "\n"
     ]
    }
   ],
   "source": [
    "print(classification_report(pred_df_train['actual'], pred_df_train['logistic']))"
   ]
  },
  {
   "cell_type": "code",
   "execution_count": 28,
   "id": "3e6b431d-1d19-46c2-b1c4-21632f1521cc",
   "metadata": {},
   "outputs": [
    {
     "name": "stdout",
     "output_type": "stream",
     "text": [
      "The actual column matches the 'actual' column.\n",
      "classification report for baseline_predictions:\n",
      "=====================================\n",
      "                              precision    recall  f1-score   support\n",
      "\n",
      "a - suspected serious injury       0.00      0.00      0.00      2257\n",
      "  b - suspected minor injury       0.59      1.00      0.74      4778\n",
      "            k - fatal injury       0.00      0.00      0.00       463\n",
      "             n - not injured       0.00      0.00      0.00       648\n",
      "\n",
      "                    accuracy                           0.59      8146\n",
      "                   macro avg       0.15      0.25      0.18      8146\n",
      "                weighted avg       0.34      0.59      0.43      8146\n",
      "\n",
      "classification report for clf_prediction:\n",
      "=====================================\n"
     ]
    },
    {
     "name": "stderr",
     "output_type": "stream",
     "text": [
      "/opt/homebrew/anaconda3/lib/python3.10/site-packages/sklearn/metrics/_classification.py:1344: UndefinedMetricWarning: Precision and F-score are ill-defined and being set to 0.0 in labels with no predicted samples. Use `zero_division` parameter to control this behavior.\n",
      "  _warn_prf(average, modifier, msg_start, len(result))\n",
      "/opt/homebrew/anaconda3/lib/python3.10/site-packages/sklearn/metrics/_classification.py:1344: UndefinedMetricWarning: Precision and F-score are ill-defined and being set to 0.0 in labels with no predicted samples. Use `zero_division` parameter to control this behavior.\n",
      "  _warn_prf(average, modifier, msg_start, len(result))\n",
      "/opt/homebrew/anaconda3/lib/python3.10/site-packages/sklearn/metrics/_classification.py:1344: UndefinedMetricWarning: Precision and F-score are ill-defined and being set to 0.0 in labels with no predicted samples. Use `zero_division` parameter to control this behavior.\n",
      "  _warn_prf(average, modifier, msg_start, len(result))\n",
      "/opt/homebrew/anaconda3/lib/python3.10/site-packages/sklearn/metrics/_classification.py:1344: UndefinedMetricWarning: Precision and F-score are ill-defined and being set to 0.0 in labels with no predicted samples. Use `zero_division` parameter to control this behavior.\n",
      "  _warn_prf(average, modifier, msg_start, len(result))\n",
      "/opt/homebrew/anaconda3/lib/python3.10/site-packages/sklearn/metrics/_classification.py:1344: UndefinedMetricWarning: Precision and F-score are ill-defined and being set to 0.0 in labels with no predicted samples. Use `zero_division` parameter to control this behavior.\n",
      "  _warn_prf(average, modifier, msg_start, len(result))\n",
      "/opt/homebrew/anaconda3/lib/python3.10/site-packages/sklearn/metrics/_classification.py:1344: UndefinedMetricWarning: Precision and F-score are ill-defined and being set to 0.0 in labels with no predicted samples. Use `zero_division` parameter to control this behavior.\n",
      "  _warn_prf(average, modifier, msg_start, len(result))\n"
     ]
    },
    {
     "name": "stdout",
     "output_type": "stream",
     "text": [
      "                              precision    recall  f1-score   support\n",
      "\n",
      "a - suspected serious injury       0.50      0.05      0.09      2257\n",
      "  b - suspected minor injury       0.59      0.98      0.74      4778\n",
      "            k - fatal injury       0.00      0.00      0.00       463\n",
      "             n - not injured       1.00      0.00      0.01       648\n",
      "\n",
      "                    accuracy                           0.59      8146\n",
      "                   macro avg       0.52      0.26      0.21      8146\n",
      "                weighted avg       0.57      0.59      0.46      8146\n",
      "\n",
      "classification report for knn:\n",
      "=====================================\n",
      "                              precision    recall  f1-score   support\n",
      "\n",
      "a - suspected serious injury       0.40      0.41      0.41      2257\n",
      "  b - suspected minor injury       0.65      0.77      0.70      4778\n",
      "            k - fatal injury       0.50      0.02      0.04       463\n",
      "             n - not injured       0.33      0.03      0.06       648\n",
      "\n",
      "                    accuracy                           0.57      8146\n",
      "                   macro avg       0.47      0.31      0.30      8146\n",
      "                weighted avg       0.54      0.57      0.53      8146\n",
      "\n",
      "classification report for logistic:\n",
      "=====================================\n",
      "                              precision    recall  f1-score   support\n",
      "\n",
      "a - suspected serious injury       0.33      0.17      0.22      2257\n",
      "  b - suspected minor injury       0.65      0.24      0.35      4778\n",
      "            k - fatal injury       0.08      0.47      0.14       463\n",
      "             n - not injured       0.10      0.36      0.15       648\n",
      "\n",
      "                    accuracy                           0.25      8146\n",
      "                   macro avg       0.29      0.31      0.22      8146\n",
      "                weighted avg       0.48      0.25      0.29      8146\n",
      "\n"
     ]
    }
   ],
   "source": [
    "for cols in pred_df_train.columns:\n",
    "    if (pred_df_train[cols] != pred_df_train['actual']).any():\n",
    "        print(f'classification report for {cols}:')\n",
    "        print('=====================================')\n",
    "        print(classification_report(pred_df_train['actual'], pred_df_train[cols]))\n",
    "    else:\n",
    "        print(f\"The {cols} column matches the 'actual' column.\")\n"
   ]
  }
 ],
 "metadata": {
  "kernelspec": {
   "display_name": "Python 3 (ipykernel)",
   "language": "python",
   "name": "python3"
  },
  "language_info": {
   "codemirror_mode": {
    "name": "ipython",
    "version": 3
   },
   "file_extension": ".py",
   "mimetype": "text/x-python",
   "name": "python",
   "nbconvert_exporter": "python",
   "pygments_lexer": "ipython3",
   "version": "3.10.9"
  }
 },
 "nbformat": 4,
 "nbformat_minor": 5
}
