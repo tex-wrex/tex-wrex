{
 "cells": [
  {
   "cell_type": "markdown",
   "id": "184b9aa8-5ba7-4eac-b813-556ae44b23ad",
   "metadata": {},
   "source": [
    "# Imports "
   ]
  },
  {
   "cell_type": "code",
   "execution_count": 1,
   "id": "268e149f-8ed0-433e-8ebb-6fdb9827757f",
   "metadata": {},
   "outputs": [
    {
     "ename": "NameError",
     "evalue": "name 'UndefinedMetricWarning' is not defined",
     "output_type": "error",
     "traceback": [
      "\u001b[0;31m---------------------------------------------------------------------------\u001b[0m",
      "\u001b[0;31mNameError\u001b[0m                                 Traceback (most recent call last)",
      "Cell \u001b[0;32mIn[1], line 11\u001b[0m\n\u001b[1;32m      9\u001b[0m \u001b[38;5;28;01mfrom\u001b[39;00m \u001b[38;5;21;01msklearn\u001b[39;00m\u001b[38;5;21;01m.\u001b[39;00m\u001b[38;5;21;01mutils\u001b[39;00m\u001b[38;5;21;01m.\u001b[39;00m\u001b[38;5;21;01mclass_weight\u001b[39;00m \u001b[38;5;28;01mimport\u001b[39;00m compute_class_weight\n\u001b[1;32m     10\u001b[0m \u001b[38;5;28;01mimport\u001b[39;00m \u001b[38;5;21;01mwarnings\u001b[39;00m\n\u001b[0;32m---> 11\u001b[0m warnings\u001b[38;5;241m.\u001b[39mfilterwarnings(\u001b[38;5;124m'\u001b[39m\u001b[38;5;124mignore\u001b[39m\u001b[38;5;124m'\u001b[39m, category\u001b[38;5;241m=\u001b[39m\u001b[43mUndefinedMetricWarning\u001b[49m, module\u001b[38;5;241m=\u001b[39m\u001b[38;5;124m'\u001b[39m\u001b[38;5;124msklearn\u001b[39m\u001b[38;5;124m'\u001b[39m)\n\u001b[1;32m     12\u001b[0m \u001b[38;5;28;01mimport\u001b[39;00m \u001b[38;5;21;01mfunctions\u001b[39;00m \u001b[38;5;28;01mas\u001b[39;00m \u001b[38;5;21;01mf\u001b[39;00m\n",
      "\u001b[0;31mNameError\u001b[0m: name 'UndefinedMetricWarning' is not defined"
     ]
    }
   ],
   "source": [
    "import numpy as np \n",
    "import pandas as pd\n",
    "import matplotlib.pyplot as plt\n",
    "from sklearn.metrics import confusion_matrix\n",
    "from sklearn.metrics import classification_report\n",
    "from sklearn.tree import DecisionTreeClassifier, plot_tree\n",
    "from sklearn.neighbors import KNeighborsClassifier\n",
    "from sklearn.linear_model import LogisticRegression\n",
    "from sklearn.utils.class_weight import compute_class_weight\n",
    "import warnings\n",
    "warnings.filterwarnings('ignore', category=UndefinedMetricWarning, module='sklearn')\n",
    "import functions as f"
   ]
  },
  {
   "cell_type": "code",
   "execution_count": null,
   "id": "cd956041-f97c-4137-8ac1-1cfc160bda81",
   "metadata": {},
   "outputs": [],
   "source": [
    "df = pd.read_csv('person_updated.csv')"
   ]
  },
  {
   "cell_type": "markdown",
   "id": "71f012c2-c4a0-4ad3-8219-c1e4526c2419",
   "metadata": {},
   "source": [
    "## Conbining values for easier target varibale capture"
   ]
  },
  {
   "cell_type": "code",
   "execution_count": null,
   "id": "37981ee7-c520-462c-818f-50e3653027cf",
   "metadata": {},
   "outputs": [],
   "source": [
    "df.person_injury_severity = df.person_injury_severity.str.lower()\n",
    "df.loc[df['person_injury_severity'] == 'c - possible injury', 'person_injury_severity'] = 'b - suspected minor injury'\n",
    "df.drop(df.loc[df['person_injury_severity'] == '99 - unknown'].index, inplace=True)"
   ]
  },
  {
   "cell_type": "code",
   "execution_count": null,
   "id": "90bee6c9-63ca-44fb-852c-ff4f74b6682c",
   "metadata": {},
   "outputs": [],
   "source": [
    "df.person_injury_severity.value_counts()"
   ]
  },
  {
   "cell_type": "markdown",
   "id": "5b2941ff-d78d-4dd8-aa3f-b3c63213f51a",
   "metadata": {},
   "source": [
    "# Preprocessing"
   ]
  },
  {
   "cell_type": "code",
   "execution_count": null,
   "id": "d430b222-4490-4142-94be-4aeca0032539",
   "metadata": {},
   "outputs": [],
   "source": [
    "df.head()"
   ]
  },
  {
   "cell_type": "markdown",
   "id": "805243a2-390d-4740-95ed-7b164156c776",
   "metadata": {},
   "source": [
    "    First I am going to convert non numerical values to numerical values"
   ]
  },
  {
   "cell_type": "code",
   "execution_count": null,
   "id": "a2dddf5a-d9be-4ea2-9396-efb57bf681de",
   "metadata": {},
   "outputs": [],
   "source": [
    "df.info()"
   ]
  },
  {
   "cell_type": "code",
   "execution_count": null,
   "id": "0cba6f51-5899-42fc-a9ac-1c77531ea832",
   "metadata": {},
   "outputs": [],
   "source": [
    "object_cols = []\n",
    "encoded_df = df.copy()  \n",
    "for col in df.columns:\n",
    "    if df[col].dtype == 'object' and col != 'person_injury_severity':\n",
    "        object_cols.append(col)\n",
    "        dummies = pd.get_dummies(data=df[col], columns=[col], drop_first=True, prefix=col, dtype=int)\n",
    "        encoded_df = pd.concat([encoded_df, dummies], axis=1)\n",
    "        encoded_df.drop(col, axis=1, inplace=True)\n",
    "encoded_df = encoded_df[[col for col in encoded_df.columns if col != 'person_injury_severity']]\n",
    "encoded_df['person_injury_severity'] = df['person_injury_severity']"
   ]
  },
  {
   "cell_type": "code",
   "execution_count": null,
   "id": "aa94b919-6160-4ffb-9eeb-2769b2e8df9c",
   "metadata": {},
   "outputs": [],
   "source": [
    "encoded_df.head()"
   ]
  },
  {
   "cell_type": "markdown",
   "id": "9086a2f8-3251-47c2-b5e6-a56af48dde4e",
   "metadata": {},
   "source": [
    "     This seems to be end of our preproceessing part"
   ]
  },
  {
   "cell_type": "markdown",
   "id": "a17b6e22-2faa-416e-8d4c-cde1c4750f67",
   "metadata": {},
   "source": [
    "# Splitting the data "
   ]
  },
  {
   "cell_type": "code",
   "execution_count": null,
   "id": "5ce69d26-7a44-450e-9ac6-626f0c50cb15",
   "metadata": {},
   "outputs": [],
   "source": [
    "train, validate, test = f.split(encoded_df)"
   ]
  },
  {
   "cell_type": "code",
   "execution_count": null,
   "id": "c11f6be6-5608-4959-9b5a-ff16a341e866",
   "metadata": {},
   "outputs": [],
   "source": [
    "x_train = train.drop(columns= 'person_injury_severity')\n",
    "y_train = train['person_injury_severity']\n",
    "\n",
    "x_validate = validate.drop(columns= 'person_injury_severity')\n",
    "y_validate = validate['person_injury_severity']\n",
    "\n",
    "x_test= test.drop(columns= 'person_injury_severity')\n",
    "y_test = test['person_injury_severity']"
   ]
  },
  {
   "cell_type": "markdown",
   "id": "c945498b-6047-4721-a796-34297aa42d02",
   "metadata": {},
   "source": [
    "# Make our baseline model"
   ]
  },
  {
   "cell_type": "code",
   "execution_count": null,
   "id": "bb339a97-0cb2-421a-9fc4-525c9009d6c0",
   "metadata": {},
   "outputs": [],
   "source": [
    "df.person_injury_severity.value_counts()"
   ]
  },
  {
   "cell_type": "markdown",
   "id": "8453df0e-1a90-44ef-8f78-284cf13c2422",
   "metadata": {},
   "source": [
    "    Since suspected minor injury occurs most often this will be our baseline"
   ]
  },
  {
   "cell_type": "code",
   "execution_count": null,
   "id": "78ac880f-d63a-4562-9363-27b8c871d52f",
   "metadata": {},
   "outputs": [],
   "source": [
    "pred_df_train = pd.DataFrame()\n",
    "pred_df_train['actual'] = y_train"
   ]
  },
  {
   "cell_type": "code",
   "execution_count": null,
   "id": "df5a3371-aac9-486e-a069-517696be1174",
   "metadata": {},
   "outputs": [],
   "source": [
    "pred_df_train['baseline_predictions'] = 'b - suspected minor injury' "
   ]
  },
  {
   "cell_type": "code",
   "execution_count": null,
   "id": "ba0bc0d0-fb08-4ec1-9582-3ddaa894e728",
   "metadata": {},
   "outputs": [],
   "source": [
    "pred_df_train['baseline_predictions']"
   ]
  },
  {
   "cell_type": "code",
   "execution_count": null,
   "id": "8c8f9b0f-f220-43bc-bb7e-89d2f581f7ef",
   "metadata": {},
   "outputs": [],
   "source": [
    "pred_df_train.actual.value_counts()"
   ]
  },
  {
   "cell_type": "code",
   "execution_count": null,
   "id": "becc7ff4-3288-4d65-b3b8-50390bd6dd55",
   "metadata": {},
   "outputs": [],
   "source": [
    "print(classification_report(pred_df_train['actual'],pred_df_train['baseline_predictions']))"
   ]
  },
  {
   "cell_type": "markdown",
   "id": "4f1d9dc4-4695-4cbd-8ef2-3c8f678bcd61",
   "metadata": {},
   "source": [
    "# Descion Tree Classifier:"
   ]
  },
  {
   "cell_type": "markdown",
   "id": "44571ee9-2916-4a7e-9c0d-c5473adbcd22",
   "metadata": {},
   "source": [
    "### make the model"
   ]
  },
  {
   "cell_type": "code",
   "execution_count": null,
   "id": "a2fc9174-61d9-4f65-a6e1-3269fe03831e",
   "metadata": {},
   "outputs": [],
   "source": [
    "clf = DecisionTreeClassifier(max_depth= 5, random_state= 666)"
   ]
  },
  {
   "cell_type": "markdown",
   "id": "aec76dbf-6019-4dc7-836d-1080419db9e6",
   "metadata": {},
   "source": [
    "### Fit the model "
   ]
  },
  {
   "cell_type": "code",
   "execution_count": null,
   "id": "5a3f78c0-254e-4aca-b9f2-0da6cfab19de",
   "metadata": {},
   "outputs": [],
   "source": [
    "clf.fit(x_train,y_train)"
   ]
  },
  {
   "cell_type": "code",
   "execution_count": null,
   "id": "ec133eab-35c8-40e8-9277-c997d130f8f5",
   "metadata": {},
   "outputs": [],
   "source": [
    "plt.figure(figsize=(13, 7))\n",
    "plot_tree(clf, feature_names=x_train.columns, class_names=clf.classes_, rounded=True)\n",
    "plt.show()"
   ]
  },
  {
   "cell_type": "code",
   "execution_count": null,
   "id": "cd888efc-f79b-403c-85f0-9435c40af09b",
   "metadata": {},
   "outputs": [],
   "source": [
    "pred_df_train['clf_prediction'] = clf_pred = clf.predict(x_train)"
   ]
  },
  {
   "cell_type": "code",
   "execution_count": null,
   "id": "9debabd2-c423-4b95-98c0-fb510478a7f5",
   "metadata": {},
   "outputs": [],
   "source": [
    "pred_df_train"
   ]
  },
  {
   "cell_type": "code",
   "execution_count": null,
   "id": "6f5b4d6f-e708-4a0e-891d-03dc081a16b3",
   "metadata": {},
   "outputs": [],
   "source": [
    "print(classification_report(pred_df_train.actual,pred_df_train.clf_prediction))"
   ]
  },
  {
   "cell_type": "markdown",
   "id": "c9b02438-ca06-4840-a7fc-23955ea5cb06",
   "metadata": {},
   "source": [
    "# KNN: "
   ]
  },
  {
   "cell_type": "code",
   "execution_count": null,
   "id": "e41550ca-ca25-4365-a06d-317c424d1b0c",
   "metadata": {},
   "outputs": [],
   "source": [
    "knn = KNeighborsClassifier(n_neighbors=5, weights='uniform')\n",
    "knn.fit(x_train, y_train)\n",
    "pred_df_train['knn'] = knn.predict(x_train)\n",
    "print(classification_report(pred_df_train.actual,pred_df_train.knn))"
   ]
  },
  {
   "cell_type": "markdown",
   "id": "dcdd2189-66c9-479a-997d-a4a7c9be46ce",
   "metadata": {},
   "source": [
    "# Logistic Regression:"
   ]
  },
  {
   "cell_type": "code",
   "execution_count": null,
   "id": "86f8e320-e5ed-4819-a11f-c0b41b996e21",
   "metadata": {},
   "outputs": [],
   "source": []
  },
  {
   "cell_type": "code",
   "execution_count": null,
   "id": "f74687c6-764c-469a-a63b-bc1a074fb6af",
   "metadata": {},
   "outputs": [],
   "source": [
    "# First we get the weights\n",
    "class_weights = compute_class_weight('balanced', classes=np.unique(y_train), y=y_train)\n",
    "# make the model\n",
    "logit = LogisticRegression(C=1, class_weight=dict(zip(np.unique(y_train), class_weights)), random_state=666, intercept_scaling=1, solver='lbfgs')\n",
    "# fit the model\n",
    "logit.fit(x_train, y_train)\n"
   ]
  },
  {
   "cell_type": "code",
   "execution_count": null,
   "id": "66d870e6-7d4f-4de5-9a16-e23722d42471",
   "metadata": {},
   "outputs": [],
   "source": [
    "# check the intercepts and the coefficients of the logistic regression model\n",
    "print('Coefficient: \\n', logit.coef_)\n",
    "print('Intercept: \\n', logit.intercept_)\n"
   ]
  },
  {
   "cell_type": "code",
   "execution_count": null,
   "id": "5fe56452-760f-418d-a482-596e8b3f900e",
   "metadata": {},
   "outputs": [],
   "source": [
    "# make predictions \n",
    "pred_df_train['logistic'] = logit.predict(x_train)"
   ]
  },
  {
   "cell_type": "code",
   "execution_count": null,
   "id": "10e3138f-0dd3-4648-beda-72ab4624032e",
   "metadata": {},
   "outputs": [],
   "source": [
    "print(classification_report(pred_df_train['actual'], pred_df_train['logistic']))"
   ]
  },
  {
   "cell_type": "code",
   "execution_count": null,
   "id": "3e6b431d-1d19-46c2-b1c4-21632f1521cc",
   "metadata": {},
   "outputs": [],
   "source": [
    "for cols in pred_df_train.columns:\n",
    "    if (pred_df_train[cols] != pred_df_train['actual']).any():\n",
    "        print(f'classification report for {cols}:')\n",
    "        print('=====================================')\n",
    "        print(classification_report(pred_df_train['actual'], pred_df_train[cols]))\n",
    "    else:\n",
    "        print(f\"The {cols} column matches the 'actual' column.\")\n"
   ]
  }
 ],
 "metadata": {
  "kernelspec": {
   "display_name": "Python 3 (ipykernel)",
   "language": "python",
   "name": "python3"
  },
  "language_info": {
   "codemirror_mode": {
    "name": "ipython",
    "version": 3
   },
   "file_extension": ".py",
   "mimetype": "text/x-python",
   "name": "python",
   "nbconvert_exporter": "python",
   "pygments_lexer": "ipython3",
   "version": "3.10.9"
  }
 },
 "nbformat": 4,
 "nbformat_minor": 5
}
