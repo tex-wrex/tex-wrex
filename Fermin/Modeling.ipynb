{
 "cells": [
  {
   "cell_type": "markdown",
   "id": "184b9aa8-5ba7-4eac-b813-556ae44b23ad",
   "metadata": {},
   "source": [
    "# Imports "
   ]
  },
  {
   "cell_type": "code",
   "execution_count": 18,
   "id": "268e149f-8ed0-433e-8ebb-6fdb9827757f",
   "metadata": {},
   "outputs": [],
   "source": [
    "import numpy as np \n",
    "import pandas as pd\n",
    "import matplotlib.pyplot as plt\n",
    "from sklearn.metrics import confusion_matrix\n",
    "from sklearn.metrics import classification_report\n",
    "from sklearn.tree import DecisionTreeClassifier, plot_tree\n",
    "from sklearn.neighbors import KNeighborsClassifier\n",
    "from sklearn.linear_model import LogisticRegression\n",
    "from sklearn.utils.class_weight import compute_class_weight\n",
    "import functions as f"
   ]
  },
  {
   "cell_type": "code",
   "execution_count": 19,
   "id": "cd956041-f97c-4137-8ac1-1cfc160bda81",
   "metadata": {},
   "outputs": [],
   "source": [
    "df = pd.read_csv('master_modeling_csv.csv')"
   ]
  },
  {
   "cell_type": "code",
   "execution_count": 20,
   "id": "71a64a85-4a06-4a64-bcc0-e579e62ebdd0",
   "metadata": {},
   "outputs": [],
   "source": [
    "df.drop(columns=['Unnamed: 0'], inplace=True)"
   ]
  },
  {
   "cell_type": "markdown",
   "id": "71f012c2-c4a0-4ad3-8219-c1e4526c2419",
   "metadata": {},
   "source": [
    "## Combining values for easier target varibale capture"
   ]
  },
  {
   "cell_type": "code",
   "execution_count": 21,
   "id": "37981ee7-c520-462c-818f-50e3653027cf",
   "metadata": {},
   "outputs": [],
   "source": [
    "# standardize the dataframes text\n",
    "df.person_injury_severity = df.person_injury_severity.str.lower()\n",
    "# combine values to make a more accurate target variable\n",
    "df.loc[df['person_injury_severity'] == 'c - possible injury', 'person_injury_severity'] = 'b - suspected minor injury'\n",
    "# drop all the instances where 99 is. inplace = true means to save the change \n",
    "df.drop(df.loc[df['person_injury_severity'] == '99 - unknown'].index, inplace=True)"
   ]
  },
  {
   "cell_type": "code",
   "execution_count": 22,
   "id": "90bee6c9-63ca-44fb-852c-ff4f74b6682c",
   "metadata": {},
   "outputs": [
    {
     "data": {
      "text/plain": [
       "person_injury_severity\n",
       "b - suspected minor injury      8125\n",
       "a - suspected serious injury    4006\n",
       "n - not injured                 1155\n",
       "k - fatal injury                 848\n",
       "Name: count, dtype: int64"
      ]
     },
     "execution_count": 22,
     "metadata": {},
     "output_type": "execute_result"
    }
   ],
   "source": [
    "# Trust but verify our code. \n",
    "df.person_injury_severity.value_counts()"
   ]
  },
  {
   "cell_type": "markdown",
   "id": "5b2941ff-d78d-4dd8-aa3f-b3c63213f51a",
   "metadata": {},
   "source": [
    "# Preprocessing"
   ]
  },
  {
   "cell_type": "code",
   "execution_count": 23,
   "id": "d430b222-4490-4142-94be-4aeca0032539",
   "metadata": {},
   "outputs": [
    {
     "data": {
      "text/html": [
       "<div>\n",
       "<style scoped>\n",
       "    .dataframe tbody tr th:only-of-type {\n",
       "        vertical-align: middle;\n",
       "    }\n",
       "\n",
       "    .dataframe tbody tr th {\n",
       "        vertical-align: top;\n",
       "    }\n",
       "\n",
       "    .dataframe thead th {\n",
       "        text-align: right;\n",
       "    }\n",
       "</style>\n",
       "<table border=\"1\" class=\"dataframe\">\n",
       "  <thead>\n",
       "    <tr style=\"text-align: right;\">\n",
       "      <th></th>\n",
       "      <th>crash_id</th>\n",
       "      <th>person_age</th>\n",
       "      <th>charge</th>\n",
       "      <th>person_ethnicity</th>\n",
       "      <th>crash_date</th>\n",
       "      <th>day_of_week</th>\n",
       "      <th>person_gender</th>\n",
       "      <th>person_helmet</th>\n",
       "      <th>driver_license_class</th>\n",
       "      <th>has_motocycle_endorsment</th>\n",
       "      <th>driver_license_state</th>\n",
       "      <th>driver_license_type</th>\n",
       "      <th>person_injury_severity</th>\n",
       "      <th>license_plate_state</th>\n",
       "      <th>vehicle_body_style</th>\n",
       "      <th>vehicle_color</th>\n",
       "      <th>vehicle_defect_1</th>\n",
       "      <th>vehicle_make</th>\n",
       "      <th>vehicle_model_name</th>\n",
       "      <th>vehicle_model_year</th>\n",
       "    </tr>\n",
       "  </thead>\n",
       "  <tbody>\n",
       "    <tr>\n",
       "      <th>0</th>\n",
       "      <td>16189632.0</td>\n",
       "      <td>37.0</td>\n",
       "      <td>operate unregistered motor vehicle</td>\n",
       "      <td>w - white</td>\n",
       "      <td>2018-01-01</td>\n",
       "      <td>monday</td>\n",
       "      <td>1 - male</td>\n",
       "      <td>1 - not worn</td>\n",
       "      <td>c - class c</td>\n",
       "      <td>0.0</td>\n",
       "      <td>tx - texas</td>\n",
       "      <td>1 - driver license</td>\n",
       "      <td>a - suspected serious injury</td>\n",
       "      <td>tx - texas</td>\n",
       "      <td>mc - motorcycle</td>\n",
       "      <td>blu - blue</td>\n",
       "      <td>no data</td>\n",
       "      <td>other (explain in narrative)</td>\n",
       "      <td>other (explain in narrative) (other (explain i...</td>\n",
       "      <td>no data</td>\n",
       "    </tr>\n",
       "    <tr>\n",
       "      <th>1</th>\n",
       "      <td>16203470.0</td>\n",
       "      <td>30.0</td>\n",
       "      <td>no class \"m\" license</td>\n",
       "      <td>h - hispanic</td>\n",
       "      <td>2018-01-04</td>\n",
       "      <td>thursday</td>\n",
       "      <td>1 - male</td>\n",
       "      <td>3 - worn, not damaged</td>\n",
       "      <td>c - class c</td>\n",
       "      <td>0.0</td>\n",
       "      <td>tx - texas</td>\n",
       "      <td>1 - driver license</td>\n",
       "      <td>b - suspected minor injury</td>\n",
       "      <td>tx - texas</td>\n",
       "      <td>mc - motorcycle</td>\n",
       "      <td>gry - gray</td>\n",
       "      <td>no data</td>\n",
       "      <td>suzuki</td>\n",
       "      <td>gsx-r600 (suzuki)</td>\n",
       "      <td>2004</td>\n",
       "    </tr>\n",
       "    <tr>\n",
       "      <th>2</th>\n",
       "      <td>16192023.0</td>\n",
       "      <td>21.0</td>\n",
       "      <td>no charges</td>\n",
       "      <td>w - white</td>\n",
       "      <td>2018-01-05</td>\n",
       "      <td>friday</td>\n",
       "      <td>1 - male</td>\n",
       "      <td>2 - worn, damaged</td>\n",
       "      <td>c - class c</td>\n",
       "      <td>0.0</td>\n",
       "      <td>tx - texas</td>\n",
       "      <td>1 - driver license</td>\n",
       "      <td>a - suspected serious injury</td>\n",
       "      <td>tx - texas</td>\n",
       "      <td>mc - motorcycle</td>\n",
       "      <td>blu - blue</td>\n",
       "      <td>no data</td>\n",
       "      <td>yamaha</td>\n",
       "      <td>yzfr6 (yamaha)</td>\n",
       "      <td>2017</td>\n",
       "    </tr>\n",
       "    <tr>\n",
       "      <th>3</th>\n",
       "      <td>16196720.0</td>\n",
       "      <td>18.0</td>\n",
       "      <td>no driver license no insurance</td>\n",
       "      <td>h - hispanic</td>\n",
       "      <td>2018-01-05</td>\n",
       "      <td>friday</td>\n",
       "      <td>1 - male</td>\n",
       "      <td>1 - not worn</td>\n",
       "      <td>5 - unlicensed</td>\n",
       "      <td>0.0</td>\n",
       "      <td>tx - texas</td>\n",
       "      <td>4 - id card</td>\n",
       "      <td>b - suspected minor injury</td>\n",
       "      <td>tx - texas</td>\n",
       "      <td>mc - motorcycle</td>\n",
       "      <td>blu - blue</td>\n",
       "      <td>no data</td>\n",
       "      <td>yamaha</td>\n",
       "      <td>rz500 (yamaha)</td>\n",
       "      <td>2002</td>\n",
       "    </tr>\n",
       "    <tr>\n",
       "      <th>4</th>\n",
       "      <td>16189103.0</td>\n",
       "      <td>28.0</td>\n",
       "      <td>no charges</td>\n",
       "      <td>w - white</td>\n",
       "      <td>2018-01-06</td>\n",
       "      <td>saturday</td>\n",
       "      <td>1 - male</td>\n",
       "      <td>3 - worn, not damaged</td>\n",
       "      <td>cm - class c and m</td>\n",
       "      <td>1.0</td>\n",
       "      <td>tx - texas</td>\n",
       "      <td>1 - driver license</td>\n",
       "      <td>b - suspected minor injury</td>\n",
       "      <td>tx - texas</td>\n",
       "      <td>mc - motorcycle</td>\n",
       "      <td>blk - black</td>\n",
       "      <td>no data</td>\n",
       "      <td>harley-davidson</td>\n",
       "      <td>fxdf (harley-davidson)</td>\n",
       "      <td>2009</td>\n",
       "    </tr>\n",
       "  </tbody>\n",
       "</table>\n",
       "</div>"
      ],
      "text/plain": [
       "     crash_id  person_age                              charge   \n",
       "0  16189632.0        37.0  operate unregistered motor vehicle  \\\n",
       "1  16203470.0        30.0                no class \"m\" license   \n",
       "2  16192023.0        21.0                          no charges   \n",
       "3  16196720.0        18.0      no driver license no insurance   \n",
       "4  16189103.0        28.0                          no charges   \n",
       "\n",
       "  person_ethnicity  crash_date day_of_week person_gender   \n",
       "0        w - white  2018-01-01      monday      1 - male  \\\n",
       "1     h - hispanic  2018-01-04    thursday      1 - male   \n",
       "2        w - white  2018-01-05      friday      1 - male   \n",
       "3     h - hispanic  2018-01-05      friday      1 - male   \n",
       "4        w - white  2018-01-06    saturday      1 - male   \n",
       "\n",
       "           person_helmet driver_license_class  has_motocycle_endorsment   \n",
       "0           1 - not worn          c - class c                       0.0  \\\n",
       "1  3 - worn, not damaged          c - class c                       0.0   \n",
       "2      2 - worn, damaged          c - class c                       0.0   \n",
       "3           1 - not worn       5 - unlicensed                       0.0   \n",
       "4  3 - worn, not damaged   cm - class c and m                       1.0   \n",
       "\n",
       "  driver_license_state driver_license_type        person_injury_severity   \n",
       "0           tx - texas  1 - driver license  a - suspected serious injury  \\\n",
       "1           tx - texas  1 - driver license    b - suspected minor injury   \n",
       "2           tx - texas  1 - driver license  a - suspected serious injury   \n",
       "3           tx - texas         4 - id card    b - suspected minor injury   \n",
       "4           tx - texas  1 - driver license    b - suspected minor injury   \n",
       "\n",
       "  license_plate_state vehicle_body_style vehicle_color vehicle_defect_1   \n",
       "0          tx - texas    mc - motorcycle    blu - blue          no data  \\\n",
       "1          tx - texas    mc - motorcycle    gry - gray          no data   \n",
       "2          tx - texas    mc - motorcycle    blu - blue          no data   \n",
       "3          tx - texas    mc - motorcycle    blu - blue          no data   \n",
       "4          tx - texas    mc - motorcycle   blk - black          no data   \n",
       "\n",
       "                   vehicle_make   \n",
       "0  other (explain in narrative)  \\\n",
       "1                        suzuki   \n",
       "2                        yamaha   \n",
       "3                        yamaha   \n",
       "4               harley-davidson   \n",
       "\n",
       "                                  vehicle_model_name vehicle_model_year  \n",
       "0  other (explain in narrative) (other (explain i...            no data  \n",
       "1                                  gsx-r600 (suzuki)               2004  \n",
       "2                                     yzfr6 (yamaha)               2017  \n",
       "3                                     rz500 (yamaha)               2002  \n",
       "4                             fxdf (harley-davidson)               2009  "
      ]
     },
     "execution_count": 23,
     "metadata": {},
     "output_type": "execute_result"
    }
   ],
   "source": [
    "# First I want to see what my data looks like \n",
    "df.head()"
   ]
  },
  {
   "cell_type": "markdown",
   "id": "805243a2-390d-4740-95ed-7b164156c776",
   "metadata": {},
   "source": [
    "    Takeaways:\n",
    "    - My values will need to be converted to dummie variables\n",
    "    - person_injury_severity is our targert variable and i dont want to encode that \n",
    "    "
   ]
  },
  {
   "cell_type": "code",
   "execution_count": 24,
   "id": "a2dddf5a-d9be-4ea2-9396-efb57bf681de",
   "metadata": {},
   "outputs": [
    {
     "name": "stdout",
     "output_type": "stream",
     "text": [
      "<class 'pandas.core.frame.DataFrame'>\n",
      "RangeIndex: 14184 entries, 0 to 14183\n",
      "Data columns (total 20 columns):\n",
      " #   Column                    Non-Null Count  Dtype  \n",
      "---  ------                    --------------  -----  \n",
      " 0   crash_id                  14134 non-null  float64\n",
      " 1   person_age                14068 non-null  float64\n",
      " 2   charge                    14091 non-null  object \n",
      " 3   person_ethnicity          14134 non-null  object \n",
      " 4   crash_date                14134 non-null  object \n",
      " 5   day_of_week               14134 non-null  object \n",
      " 6   person_gender             14134 non-null  object \n",
      " 7   person_helmet             14134 non-null  object \n",
      " 8   driver_license_class      14060 non-null  object \n",
      " 9   has_motocycle_endorsment  14134 non-null  float64\n",
      " 10  driver_license_state      13537 non-null  object \n",
      " 11  driver_license_type       14060 non-null  object \n",
      " 12  person_injury_severity    14134 non-null  object \n",
      " 13  license_plate_state       14134 non-null  object \n",
      " 14  vehicle_body_style        14134 non-null  object \n",
      " 15  vehicle_color             14134 non-null  object \n",
      " 16  vehicle_defect_1          14134 non-null  object \n",
      " 17  vehicle_make              14134 non-null  object \n",
      " 18  vehicle_model_name        14134 non-null  object \n",
      " 19  vehicle_model_year        14134 non-null  object \n",
      "dtypes: float64(3), object(17)\n",
      "memory usage: 2.2+ MB\n"
     ]
    }
   ],
   "source": [
    "# Checking my dataframe infomartion to see what needs to be done \n",
    "df.info()"
   ]
  },
  {
   "cell_type": "code",
   "execution_count": null,
   "id": "9a5baad7-20a5-46bd-8f94-86d158c0ddcd",
   "metadata": {},
   "outputs": [],
   "source": []
  },
  {
   "cell_type": "code",
   "execution_count": 25,
   "id": "0cba6f51-5899-42fc-a9ac-1c77531ea832",
   "metadata": {},
   "outputs": [],
   "source": [
    "object_cols = []\n",
    "encoded_df = df.copy()\n",
    "\n",
    "# Iterate over each column in the DataFrame\n",
    "for col in df.columns:\n",
    "    # Check if the column is of type 'object' and not the target column 'person_injury_severity'\n",
    "    if df[col].dtype == 'object' and col != 'person_injury_severity':\n",
    "        # Add the column name to the list of object columns\n",
    "        object_cols.append(col)\n",
    "        \n",
    "        # Perform one-hot encoding using pd.get_dummies\n",
    "        # drop_first=True drops the first category to avoid multicollinearity\n",
    "        # prefix=col adds the column name as a prefix to the encoded columns\n",
    "        # dtype=int sets the data type of the encoded columns to integer\n",
    "        dummies = pd.get_dummies(data=df[col], columns=[col], drop_first=True, prefix=col, dtype=int)\n",
    "        \n",
    "        # Concatenate the encoded columns with the original DataFrame\n",
    "        encoded_df = pd.concat([encoded_df, dummies], axis=1)\n",
    "        \n",
    "        # Drop the original categorical column from the encoded DataFrame\n",
    "        encoded_df.drop(col, axis=1, inplace=True)\n",
    "\n",
    "# Remove the target column 'person_injury_severity' from the encoded DataFrame\n",
    "encoded_df = encoded_df[[col for col in encoded_df.columns if col != 'person_injury_severity']]\n",
    "\n",
    "# Add the target column 'person_injury_severity' back to the encoded DataFrame\n",
    "encoded_df['person_injury_severity'] = df['person_injury_severity']\n"
   ]
  },
  {
   "cell_type": "code",
   "execution_count": 26,
   "id": "aa94b919-6160-4ffb-9eeb-2769b2e8df9c",
   "metadata": {},
   "outputs": [
    {
     "data": {
      "text/html": [
       "<div>\n",
       "<style scoped>\n",
       "    .dataframe tbody tr th:only-of-type {\n",
       "        vertical-align: middle;\n",
       "    }\n",
       "\n",
       "    .dataframe tbody tr th {\n",
       "        vertical-align: top;\n",
       "    }\n",
       "\n",
       "    .dataframe thead th {\n",
       "        text-align: right;\n",
       "    }\n",
       "</style>\n",
       "<table border=\"1\" class=\"dataframe\">\n",
       "  <thead>\n",
       "    <tr style=\"text-align: right;\">\n",
       "      <th></th>\n",
       "      <th>crash_id</th>\n",
       "      <th>person_age</th>\n",
       "      <th>has_motocycle_endorsment</th>\n",
       "      <th>charge_00001031 - no operator license, 00003197 - fail to have liability ins., 00003340 - unregistered motorcycle, 00002071 - motorcycle operator w/o helmet</th>\n",
       "      <th>charge_00001032 - no valid motorcycle license, 00002071 - motorcycle operator w/o helmet</th>\n",
       "      <th>charge_00001032-no valid motorcycle license, 00003341-unregistered motor vehicle/expired registration, 00003197-fail to have liability ins.</th>\n",
       "      <th>charge_00001037 - driving while license invalid</th>\n",
       "      <th>charge_00001037 - driving while license invalid, 00001032 - no valid motorcycle license, 00003340 - operate unregistered motorcycle</th>\n",
       "      <th>charge_020.01</th>\n",
       "      <th>charge_19428683</th>\n",
       "      <th>...</th>\n",
       "      <th>vehicle_model_year_2016</th>\n",
       "      <th>vehicle_model_year_2017</th>\n",
       "      <th>vehicle_model_year_2018</th>\n",
       "      <th>vehicle_model_year_2019</th>\n",
       "      <th>vehicle_model_year_2020</th>\n",
       "      <th>vehicle_model_year_2021</th>\n",
       "      <th>vehicle_model_year_2022</th>\n",
       "      <th>vehicle_model_year_2023</th>\n",
       "      <th>vehicle_model_year_no data</th>\n",
       "      <th>person_injury_severity</th>\n",
       "    </tr>\n",
       "  </thead>\n",
       "  <tbody>\n",
       "    <tr>\n",
       "      <th>0</th>\n",
       "      <td>16189632.0</td>\n",
       "      <td>37.0</td>\n",
       "      <td>0.0</td>\n",
       "      <td>0</td>\n",
       "      <td>0</td>\n",
       "      <td>0</td>\n",
       "      <td>0</td>\n",
       "      <td>0</td>\n",
       "      <td>0</td>\n",
       "      <td>0</td>\n",
       "      <td>...</td>\n",
       "      <td>0</td>\n",
       "      <td>0</td>\n",
       "      <td>0</td>\n",
       "      <td>0</td>\n",
       "      <td>0</td>\n",
       "      <td>0</td>\n",
       "      <td>0</td>\n",
       "      <td>0</td>\n",
       "      <td>1</td>\n",
       "      <td>a - suspected serious injury</td>\n",
       "    </tr>\n",
       "    <tr>\n",
       "      <th>1</th>\n",
       "      <td>16203470.0</td>\n",
       "      <td>30.0</td>\n",
       "      <td>0.0</td>\n",
       "      <td>0</td>\n",
       "      <td>0</td>\n",
       "      <td>0</td>\n",
       "      <td>0</td>\n",
       "      <td>0</td>\n",
       "      <td>0</td>\n",
       "      <td>0</td>\n",
       "      <td>...</td>\n",
       "      <td>0</td>\n",
       "      <td>0</td>\n",
       "      <td>0</td>\n",
       "      <td>0</td>\n",
       "      <td>0</td>\n",
       "      <td>0</td>\n",
       "      <td>0</td>\n",
       "      <td>0</td>\n",
       "      <td>0</td>\n",
       "      <td>b - suspected minor injury</td>\n",
       "    </tr>\n",
       "    <tr>\n",
       "      <th>2</th>\n",
       "      <td>16192023.0</td>\n",
       "      <td>21.0</td>\n",
       "      <td>0.0</td>\n",
       "      <td>0</td>\n",
       "      <td>0</td>\n",
       "      <td>0</td>\n",
       "      <td>0</td>\n",
       "      <td>0</td>\n",
       "      <td>0</td>\n",
       "      <td>0</td>\n",
       "      <td>...</td>\n",
       "      <td>0</td>\n",
       "      <td>1</td>\n",
       "      <td>0</td>\n",
       "      <td>0</td>\n",
       "      <td>0</td>\n",
       "      <td>0</td>\n",
       "      <td>0</td>\n",
       "      <td>0</td>\n",
       "      <td>0</td>\n",
       "      <td>a - suspected serious injury</td>\n",
       "    </tr>\n",
       "    <tr>\n",
       "      <th>3</th>\n",
       "      <td>16196720.0</td>\n",
       "      <td>18.0</td>\n",
       "      <td>0.0</td>\n",
       "      <td>0</td>\n",
       "      <td>0</td>\n",
       "      <td>0</td>\n",
       "      <td>0</td>\n",
       "      <td>0</td>\n",
       "      <td>0</td>\n",
       "      <td>0</td>\n",
       "      <td>...</td>\n",
       "      <td>0</td>\n",
       "      <td>0</td>\n",
       "      <td>0</td>\n",
       "      <td>0</td>\n",
       "      <td>0</td>\n",
       "      <td>0</td>\n",
       "      <td>0</td>\n",
       "      <td>0</td>\n",
       "      <td>0</td>\n",
       "      <td>b - suspected minor injury</td>\n",
       "    </tr>\n",
       "    <tr>\n",
       "      <th>4</th>\n",
       "      <td>16189103.0</td>\n",
       "      <td>28.0</td>\n",
       "      <td>1.0</td>\n",
       "      <td>0</td>\n",
       "      <td>0</td>\n",
       "      <td>0</td>\n",
       "      <td>0</td>\n",
       "      <td>0</td>\n",
       "      <td>0</td>\n",
       "      <td>0</td>\n",
       "      <td>...</td>\n",
       "      <td>0</td>\n",
       "      <td>0</td>\n",
       "      <td>0</td>\n",
       "      <td>0</td>\n",
       "      <td>0</td>\n",
       "      <td>0</td>\n",
       "      <td>0</td>\n",
       "      <td>0</td>\n",
       "      <td>0</td>\n",
       "      <td>b - suspected minor injury</td>\n",
       "    </tr>\n",
       "  </tbody>\n",
       "</table>\n",
       "<p>5 rows × 5096 columns</p>\n",
       "</div>"
      ],
      "text/plain": [
       "     crash_id  person_age  has_motocycle_endorsment   \n",
       "0  16189632.0        37.0                       0.0  \\\n",
       "1  16203470.0        30.0                       0.0   \n",
       "2  16192023.0        21.0                       0.0   \n",
       "3  16196720.0        18.0                       0.0   \n",
       "4  16189103.0        28.0                       1.0   \n",
       "\n",
       "   charge_00001031 - no operator license, 00003197 - fail to have liability ins., 00003340 - unregistered motorcycle, 00002071 - motorcycle operator w/o helmet   \n",
       "0                                                  0                                                                                                             \\\n",
       "1                                                  0                                                                                                              \n",
       "2                                                  0                                                                                                              \n",
       "3                                                  0                                                                                                              \n",
       "4                                                  0                                                                                                              \n",
       "\n",
       "   charge_00001032 - no valid motorcycle license, 00002071 - motorcycle operator w/o helmet   \n",
       "0                                                  0                                         \\\n",
       "1                                                  0                                          \n",
       "2                                                  0                                          \n",
       "3                                                  0                                          \n",
       "4                                                  0                                          \n",
       "\n",
       "   charge_00001032-no valid motorcycle license, 00003341-unregistered motor vehicle/expired registration, 00003197-fail to have liability ins.   \n",
       "0                                                  0                                                                                            \\\n",
       "1                                                  0                                                                                             \n",
       "2                                                  0                                                                                             \n",
       "3                                                  0                                                                                             \n",
       "4                                                  0                                                                                             \n",
       "\n",
       "   charge_00001037 - driving while license invalid   \n",
       "0                                                0  \\\n",
       "1                                                0   \n",
       "2                                                0   \n",
       "3                                                0   \n",
       "4                                                0   \n",
       "\n",
       "   charge_00001037 - driving while license invalid, 00001032 - no valid motorcycle license, 00003340 - operate unregistered motorcycle   \n",
       "0                                                  0                                                                                    \\\n",
       "1                                                  0                                                                                     \n",
       "2                                                  0                                                                                     \n",
       "3                                                  0                                                                                     \n",
       "4                                                  0                                                                                     \n",
       "\n",
       "   charge_020.01  charge_19428683  ...  vehicle_model_year_2016   \n",
       "0              0                0  ...                        0  \\\n",
       "1              0                0  ...                        0   \n",
       "2              0                0  ...                        0   \n",
       "3              0                0  ...                        0   \n",
       "4              0                0  ...                        0   \n",
       "\n",
       "   vehicle_model_year_2017  vehicle_model_year_2018  vehicle_model_year_2019   \n",
       "0                        0                        0                        0  \\\n",
       "1                        0                        0                        0   \n",
       "2                        1                        0                        0   \n",
       "3                        0                        0                        0   \n",
       "4                        0                        0                        0   \n",
       "\n",
       "   vehicle_model_year_2020  vehicle_model_year_2021  vehicle_model_year_2022   \n",
       "0                        0                        0                        0  \\\n",
       "1                        0                        0                        0   \n",
       "2                        0                        0                        0   \n",
       "3                        0                        0                        0   \n",
       "4                        0                        0                        0   \n",
       "\n",
       "   vehicle_model_year_2023  vehicle_model_year_no data   \n",
       "0                        0                           1  \\\n",
       "1                        0                           0   \n",
       "2                        0                           0   \n",
       "3                        0                           0   \n",
       "4                        0                           0   \n",
       "\n",
       "         person_injury_severity  \n",
       "0  a - suspected serious injury  \n",
       "1    b - suspected minor injury  \n",
       "2  a - suspected serious injury  \n",
       "3    b - suspected minor injury  \n",
       "4    b - suspected minor injury  \n",
       "\n",
       "[5 rows x 5096 columns]"
      ]
     },
     "execution_count": 26,
     "metadata": {},
     "output_type": "execute_result"
    }
   ],
   "source": [
    "encoded_df.head()"
   ]
  },
  {
   "cell_type": "markdown",
   "id": "9086a2f8-3251-47c2-b5e6-a56af48dde4e",
   "metadata": {},
   "source": [
    "     This seems to be end of our preproceessing part"
   ]
  },
  {
   "cell_type": "markdown",
   "id": "a17b6e22-2faa-416e-8d4c-cde1c4750f67",
   "metadata": {},
   "source": [
    "# Splitting the data "
   ]
  },
  {
   "cell_type": "code",
   "execution_count": 27,
   "id": "5ce69d26-7a44-450e-9ac6-626f0c50cb15",
   "metadata": {},
   "outputs": [],
   "source": [
    "# Split our data into train, validate and test\n",
    "train, validate, test = f.split(encoded_df)"
   ]
  },
  {
   "cell_type": "code",
   "execution_count": 28,
   "id": "c11f6be6-5608-4959-9b5a-ff16a341e866",
   "metadata": {},
   "outputs": [],
   "source": [
    "# split our values for modeling\n",
    "\n",
    "x_train = train.drop(columns= 'person_injury_severity')\n",
    "y_train = train['person_injury_severity']\n",
    "\n",
    "x_validate = validate.drop(columns= 'person_injury_severity')\n",
    "y_validate = validate['person_injury_severity']\n",
    "\n",
    "x_test= test.drop(columns= 'person_injury_severity')\n",
    "y_test = test['person_injury_severity']"
   ]
  },
  {
   "cell_type": "markdown",
   "id": "c945498b-6047-4721-a796-34297aa42d02",
   "metadata": {},
   "source": [
    "# Make our baseline model"
   ]
  },
  {
   "cell_type": "code",
   "execution_count": 29,
   "id": "bb339a97-0cb2-421a-9fc4-525c9009d6c0",
   "metadata": {},
   "outputs": [
    {
     "data": {
      "text/plain": [
       "person_injury_severity\n",
       "b - suspected minor injury      8125\n",
       "a - suspected serious injury    4006\n",
       "n - not injured                 1155\n",
       "k - fatal injury                 848\n",
       "Name: count, dtype: int64"
      ]
     },
     "execution_count": 29,
     "metadata": {},
     "output_type": "execute_result"
    }
   ],
   "source": [
    "df.person_injury_severity.value_counts()"
   ]
  },
  {
   "cell_type": "markdown",
   "id": "8453df0e-1a90-44ef-8f78-284cf13c2422",
   "metadata": {},
   "source": [
    "    Since suspected minor injury occurs most often this will be our baseline"
   ]
  },
  {
   "cell_type": "code",
   "execution_count": 30,
   "id": "78ac880f-d63a-4562-9363-27b8c871d52f",
   "metadata": {},
   "outputs": [],
   "source": [
    "pred_df_train = pd.DataFrame()\n",
    "pred_df_train['actual'] = y_train"
   ]
  },
  {
   "cell_type": "code",
   "execution_count": 31,
   "id": "df5a3371-aac9-486e-a069-517696be1174",
   "metadata": {},
   "outputs": [],
   "source": [
    "pred_df_train['baseline_predictions'] = 'b - suspected minor injury' "
   ]
  },
  {
   "cell_type": "code",
   "execution_count": 32,
   "id": "ba0bc0d0-fb08-4ec1-9582-3ddaa894e728",
   "metadata": {},
   "outputs": [
    {
     "data": {
      "text/plain": [
       "8812     b - suspected minor injury\n",
       "4411     b - suspected minor injury\n",
       "6370     b - suspected minor injury\n",
       "13586    b - suspected minor injury\n",
       "9801     b - suspected minor injury\n",
       "                    ...            \n",
       "740      b - suspected minor injury\n",
       "11119    b - suspected minor injury\n",
       "6639     b - suspected minor injury\n",
       "6437     b - suspected minor injury\n",
       "3381     b - suspected minor injury\n",
       "Name: baseline_predictions, Length: 7942, dtype: object"
      ]
     },
     "execution_count": 32,
     "metadata": {},
     "output_type": "execute_result"
    }
   ],
   "source": [
    "pred_df_train['baseline_predictions']"
   ]
  },
  {
   "cell_type": "code",
   "execution_count": 33,
   "id": "8c8f9b0f-f220-43bc-bb7e-89d2f581f7ef",
   "metadata": {},
   "outputs": [
    {
     "data": {
      "text/plain": [
       "actual\n",
       "b - suspected minor injury      4599\n",
       "a - suspected serious injury    2201\n",
       "n - not injured                  655\n",
       "k - fatal injury                 466\n",
       "Name: count, dtype: int64"
      ]
     },
     "execution_count": 33,
     "metadata": {},
     "output_type": "execute_result"
    }
   ],
   "source": [
    "pred_df_train.actual.value_counts()"
   ]
  },
  {
   "cell_type": "code",
   "execution_count": 34,
   "id": "becc7ff4-3288-4d65-b3b8-50390bd6dd55",
   "metadata": {
    "tags": []
   },
   "outputs": [
    {
     "ename": "TypeError",
     "evalue": "'<' not supported between instances of 'float' and 'str'",
     "output_type": "error",
     "traceback": [
      "\u001b[0;31m---------------------------------------------------------------------------\u001b[0m",
      "\u001b[0;31mTypeError\u001b[0m                                 Traceback (most recent call last)",
      "Cell \u001b[0;32mIn[34], line 1\u001b[0m\n\u001b[0;32m----> 1\u001b[0m \u001b[38;5;28mprint\u001b[39m(\u001b[43mclassification_report\u001b[49m\u001b[43m(\u001b[49m\u001b[43mpred_df_train\u001b[49m\u001b[43m[\u001b[49m\u001b[38;5;124;43m'\u001b[39;49m\u001b[38;5;124;43mactual\u001b[39;49m\u001b[38;5;124;43m'\u001b[39;49m\u001b[43m]\u001b[49m\u001b[43m,\u001b[49m\u001b[43mpred_df_train\u001b[49m\u001b[43m[\u001b[49m\u001b[38;5;124;43m'\u001b[39;49m\u001b[38;5;124;43mbaseline_predictions\u001b[39;49m\u001b[38;5;124;43m'\u001b[39;49m\u001b[43m]\u001b[49m\u001b[43m)\u001b[49m)\n",
      "File \u001b[0;32m/opt/homebrew/anaconda3/lib/python3.10/site-packages/sklearn/metrics/_classification.py:2310\u001b[0m, in \u001b[0;36mclassification_report\u001b[0;34m(y_true, y_pred, labels, target_names, sample_weight, digits, output_dict, zero_division)\u001b[0m\n\u001b[1;32m   2195\u001b[0m \u001b[38;5;28;01mdef\u001b[39;00m \u001b[38;5;21mclassification_report\u001b[39m(\n\u001b[1;32m   2196\u001b[0m     y_true,\n\u001b[1;32m   2197\u001b[0m     y_pred,\n\u001b[0;32m   (...)\u001b[0m\n\u001b[1;32m   2204\u001b[0m     zero_division\u001b[38;5;241m=\u001b[39m\u001b[38;5;124m\"\u001b[39m\u001b[38;5;124mwarn\u001b[39m\u001b[38;5;124m\"\u001b[39m,\n\u001b[1;32m   2205\u001b[0m ):\n\u001b[1;32m   2206\u001b[0m     \u001b[38;5;124;03m\"\"\"Build a text report showing the main classification metrics.\u001b[39;00m\n\u001b[1;32m   2207\u001b[0m \n\u001b[1;32m   2208\u001b[0m \u001b[38;5;124;03m    Read more in the :ref:`User Guide <classification_report>`.\u001b[39;00m\n\u001b[0;32m   (...)\u001b[0m\n\u001b[1;32m   2307\u001b[0m \u001b[38;5;124;03m    <BLANKLINE>\u001b[39;00m\n\u001b[1;32m   2308\u001b[0m \u001b[38;5;124;03m    \"\"\"\u001b[39;00m\n\u001b[0;32m-> 2310\u001b[0m     y_type, y_true, y_pred \u001b[38;5;241m=\u001b[39m \u001b[43m_check_targets\u001b[49m\u001b[43m(\u001b[49m\u001b[43my_true\u001b[49m\u001b[43m,\u001b[49m\u001b[43m \u001b[49m\u001b[43my_pred\u001b[49m\u001b[43m)\u001b[49m\n\u001b[1;32m   2312\u001b[0m     \u001b[38;5;28;01mif\u001b[39;00m labels \u001b[38;5;129;01mis\u001b[39;00m \u001b[38;5;28;01mNone\u001b[39;00m:\n\u001b[1;32m   2313\u001b[0m         labels \u001b[38;5;241m=\u001b[39m unique_labels(y_true, y_pred)\n",
      "File \u001b[0;32m/opt/homebrew/anaconda3/lib/python3.10/site-packages/sklearn/metrics/_classification.py:87\u001b[0m, in \u001b[0;36m_check_targets\u001b[0;34m(y_true, y_pred)\u001b[0m\n\u001b[1;32m     60\u001b[0m \u001b[38;5;124;03m\"\"\"Check that y_true and y_pred belong to the same classification task.\u001b[39;00m\n\u001b[1;32m     61\u001b[0m \n\u001b[1;32m     62\u001b[0m \u001b[38;5;124;03mThis converts multiclass or binary types to a common shape, and raises a\u001b[39;00m\n\u001b[0;32m   (...)\u001b[0m\n\u001b[1;32m     84\u001b[0m \u001b[38;5;124;03my_pred : array or indicator matrix\u001b[39;00m\n\u001b[1;32m     85\u001b[0m \u001b[38;5;124;03m\"\"\"\u001b[39;00m\n\u001b[1;32m     86\u001b[0m check_consistent_length(y_true, y_pred)\n\u001b[0;32m---> 87\u001b[0m type_true \u001b[38;5;241m=\u001b[39m \u001b[43mtype_of_target\u001b[49m\u001b[43m(\u001b[49m\u001b[43my_true\u001b[49m\u001b[43m,\u001b[49m\u001b[43m \u001b[49m\u001b[43minput_name\u001b[49m\u001b[38;5;241;43m=\u001b[39;49m\u001b[38;5;124;43m\"\u001b[39;49m\u001b[38;5;124;43my_true\u001b[39;49m\u001b[38;5;124;43m\"\u001b[39;49m\u001b[43m)\u001b[49m\n\u001b[1;32m     88\u001b[0m type_pred \u001b[38;5;241m=\u001b[39m type_of_target(y_pred, input_name\u001b[38;5;241m=\u001b[39m\u001b[38;5;124m\"\u001b[39m\u001b[38;5;124my_pred\u001b[39m\u001b[38;5;124m\"\u001b[39m)\n\u001b[1;32m     90\u001b[0m y_type \u001b[38;5;241m=\u001b[39m {type_true, type_pred}\n",
      "File \u001b[0;32m/opt/homebrew/anaconda3/lib/python3.10/site-packages/sklearn/utils/multiclass.py:363\u001b[0m, in \u001b[0;36mtype_of_target\u001b[0;34m(y, input_name)\u001b[0m\n\u001b[1;32m    361\u001b[0m \u001b[38;5;66;03m# Check multiclass\u001b[39;00m\n\u001b[1;32m    362\u001b[0m first_row \u001b[38;5;241m=\u001b[39m y[\u001b[38;5;241m0\u001b[39m] \u001b[38;5;28;01mif\u001b[39;00m \u001b[38;5;129;01mnot\u001b[39;00m issparse(y) \u001b[38;5;28;01melse\u001b[39;00m y\u001b[38;5;241m.\u001b[39mgetrow(\u001b[38;5;241m0\u001b[39m)\u001b[38;5;241m.\u001b[39mdata\n\u001b[0;32m--> 363\u001b[0m \u001b[38;5;28;01mif\u001b[39;00m \u001b[43mxp\u001b[49m\u001b[38;5;241;43m.\u001b[39;49m\u001b[43munique_values\u001b[49m\u001b[43m(\u001b[49m\u001b[43my\u001b[49m\u001b[43m)\u001b[49m\u001b[38;5;241m.\u001b[39mshape[\u001b[38;5;241m0\u001b[39m] \u001b[38;5;241m>\u001b[39m \u001b[38;5;241m2\u001b[39m \u001b[38;5;129;01mor\u001b[39;00m (y\u001b[38;5;241m.\u001b[39mndim \u001b[38;5;241m==\u001b[39m \u001b[38;5;241m2\u001b[39m \u001b[38;5;129;01mand\u001b[39;00m \u001b[38;5;28mlen\u001b[39m(first_row) \u001b[38;5;241m>\u001b[39m \u001b[38;5;241m1\u001b[39m):\n\u001b[1;32m    364\u001b[0m     \u001b[38;5;66;03m# [1, 2, 3] or [[1., 2., 3]] or [[1, 2]]\u001b[39;00m\n\u001b[1;32m    365\u001b[0m     \u001b[38;5;28;01mreturn\u001b[39;00m \u001b[38;5;124m\"\u001b[39m\u001b[38;5;124mmulticlass\u001b[39m\u001b[38;5;124m\"\u001b[39m \u001b[38;5;241m+\u001b[39m suffix\n\u001b[1;32m    366\u001b[0m \u001b[38;5;28;01melse\u001b[39;00m:\n",
      "File \u001b[0;32m/opt/homebrew/anaconda3/lib/python3.10/site-packages/sklearn/utils/_array_api.py:84\u001b[0m, in \u001b[0;36m_NumPyApiWrapper.unique_values\u001b[0;34m(self, x)\u001b[0m\n\u001b[1;32m     83\u001b[0m \u001b[38;5;28;01mdef\u001b[39;00m \u001b[38;5;21munique_values\u001b[39m(\u001b[38;5;28mself\u001b[39m, x):\n\u001b[0;32m---> 84\u001b[0m     \u001b[38;5;28;01mreturn\u001b[39;00m \u001b[43mnumpy\u001b[49m\u001b[38;5;241;43m.\u001b[39;49m\u001b[43munique\u001b[49m\u001b[43m(\u001b[49m\u001b[43mx\u001b[49m\u001b[43m)\u001b[49m\n",
      "File \u001b[0;32m<__array_function__ internals>:180\u001b[0m, in \u001b[0;36munique\u001b[0;34m(*args, **kwargs)\u001b[0m\n",
      "File \u001b[0;32m/opt/homebrew/anaconda3/lib/python3.10/site-packages/numpy/lib/arraysetops.py:274\u001b[0m, in \u001b[0;36munique\u001b[0;34m(ar, return_index, return_inverse, return_counts, axis, equal_nan)\u001b[0m\n\u001b[1;32m    272\u001b[0m ar \u001b[38;5;241m=\u001b[39m np\u001b[38;5;241m.\u001b[39masanyarray(ar)\n\u001b[1;32m    273\u001b[0m \u001b[38;5;28;01mif\u001b[39;00m axis \u001b[38;5;129;01mis\u001b[39;00m \u001b[38;5;28;01mNone\u001b[39;00m:\n\u001b[0;32m--> 274\u001b[0m     ret \u001b[38;5;241m=\u001b[39m \u001b[43m_unique1d\u001b[49m\u001b[43m(\u001b[49m\u001b[43mar\u001b[49m\u001b[43m,\u001b[49m\u001b[43m \u001b[49m\u001b[43mreturn_index\u001b[49m\u001b[43m,\u001b[49m\u001b[43m \u001b[49m\u001b[43mreturn_inverse\u001b[49m\u001b[43m,\u001b[49m\u001b[43m \u001b[49m\u001b[43mreturn_counts\u001b[49m\u001b[43m,\u001b[49m\u001b[43m \u001b[49m\n\u001b[1;32m    275\u001b[0m \u001b[43m                    \u001b[49m\u001b[43mequal_nan\u001b[49m\u001b[38;5;241;43m=\u001b[39;49m\u001b[43mequal_nan\u001b[49m\u001b[43m)\u001b[49m\n\u001b[1;32m    276\u001b[0m     \u001b[38;5;28;01mreturn\u001b[39;00m _unpack_tuple(ret)\n\u001b[1;32m    278\u001b[0m \u001b[38;5;66;03m# axis was specified and not None\u001b[39;00m\n",
      "File \u001b[0;32m/opt/homebrew/anaconda3/lib/python3.10/site-packages/numpy/lib/arraysetops.py:336\u001b[0m, in \u001b[0;36m_unique1d\u001b[0;34m(ar, return_index, return_inverse, return_counts, equal_nan)\u001b[0m\n\u001b[1;32m    334\u001b[0m     aux \u001b[38;5;241m=\u001b[39m ar[perm]\n\u001b[1;32m    335\u001b[0m \u001b[38;5;28;01melse\u001b[39;00m:\n\u001b[0;32m--> 336\u001b[0m     \u001b[43mar\u001b[49m\u001b[38;5;241;43m.\u001b[39;49m\u001b[43msort\u001b[49m\u001b[43m(\u001b[49m\u001b[43m)\u001b[49m\n\u001b[1;32m    337\u001b[0m     aux \u001b[38;5;241m=\u001b[39m ar\n\u001b[1;32m    338\u001b[0m mask \u001b[38;5;241m=\u001b[39m np\u001b[38;5;241m.\u001b[39mempty(aux\u001b[38;5;241m.\u001b[39mshape, dtype\u001b[38;5;241m=\u001b[39mnp\u001b[38;5;241m.\u001b[39mbool_)\n",
      "\u001b[0;31mTypeError\u001b[0m: '<' not supported between instances of 'float' and 'str'"
     ]
    }
   ],
   "source": [
    "print(classification_report(pred_df_train['actual'],pred_df_train['baseline_predictions']))"
   ]
  },
  {
   "cell_type": "markdown",
   "id": "4f1d9dc4-4695-4cbd-8ef2-3c8f678bcd61",
   "metadata": {},
   "source": [
    "# Descion Tree Classifier:"
   ]
  },
  {
   "cell_type": "markdown",
   "id": "44571ee9-2916-4a7e-9c0d-c5473adbcd22",
   "metadata": {},
   "source": [
    "### make the model"
   ]
  },
  {
   "cell_type": "code",
   "execution_count": null,
   "id": "a2fc9174-61d9-4f65-a6e1-3269fe03831e",
   "metadata": {},
   "outputs": [],
   "source": [
    "clf = DecisionTreeClassifier(max_depth= 5, random_state= 666)"
   ]
  },
  {
   "cell_type": "markdown",
   "id": "aec76dbf-6019-4dc7-836d-1080419db9e6",
   "metadata": {},
   "source": [
    "### Fit the model "
   ]
  },
  {
   "cell_type": "code",
   "execution_count": null,
   "id": "5a3f78c0-254e-4aca-b9f2-0da6cfab19de",
   "metadata": {},
   "outputs": [],
   "source": [
    "clf.fit(x_train,y_train)"
   ]
  },
  {
   "cell_type": "code",
   "execution_count": null,
   "id": "ec133eab-35c8-40e8-9277-c997d130f8f5",
   "metadata": {},
   "outputs": [],
   "source": [
    "plt.figure(figsize=(13, 7))\n",
    "plot_tree(clf, feature_names=x_train.columns, class_names=clf.classes_, rounded=True)\n",
    "plt.show()"
   ]
  },
  {
   "cell_type": "code",
   "execution_count": null,
   "id": "cd888efc-f79b-403c-85f0-9435c40af09b",
   "metadata": {},
   "outputs": [],
   "source": [
    "pred_df_train['clf_prediction'] = clf_pred = clf.predict(x_train)"
   ]
  },
  {
   "cell_type": "code",
   "execution_count": null,
   "id": "9debabd2-c423-4b95-98c0-fb510478a7f5",
   "metadata": {},
   "outputs": [],
   "source": [
    "pred_df_train"
   ]
  },
  {
   "cell_type": "code",
   "execution_count": null,
   "id": "6f5b4d6f-e708-4a0e-891d-03dc081a16b3",
   "metadata": {},
   "outputs": [],
   "source": [
    "print(classification_report(pred_df_train.actual,pred_df_train.clf_prediction))"
   ]
  },
  {
   "cell_type": "markdown",
   "id": "c9b02438-ca06-4840-a7fc-23955ea5cb06",
   "metadata": {},
   "source": [
    "# KNN: trainingn"
   ]
  },
  {
   "cell_type": "code",
   "execution_count": null,
   "id": "e41550ca-ca25-4365-a06d-317c424d1b0c",
   "metadata": {},
   "outputs": [],
   "source": [
    "knn = KNeighborsClassifier(n_neighbors=50, weights='uniform')\n",
    "knn.fit(x_train, y_train)\n",
    "pred_df_train['knn'] = knn.predict(x_train)\n",
    "print(classification_report(pred_df_train.actual,pred_df_train.knn))"
   ]
  },
  {
   "cell_type": "markdown",
   "id": "dcdd2189-66c9-479a-997d-a4a7c9be46ce",
   "metadata": {},
   "source": [
    "# Logistic Regression:"
   ]
  },
  {
   "cell_type": "code",
   "execution_count": null,
   "id": "86f8e320-e5ed-4819-a11f-c0b41b996e21",
   "metadata": {},
   "outputs": [],
   "source": []
  },
  {
   "cell_type": "code",
   "execution_count": null,
   "id": "f74687c6-764c-469a-a63b-bc1a074fb6af",
   "metadata": {},
   "outputs": [],
   "source": [
    "# First we get the weights\n",
    "class_weights = compute_class_weight('balanced', classes=np.unique(y_train), y=y_train)\n",
    "# make the model\n",
    "logit = LogisticRegression(C=1, class_weight=dict(zip(np.unique(y_train), class_weights)), random_state=666, intercept_scaling=1, solver='lbfgs')\n",
    "# fit the model\n",
    "logit.fit(x_train, y_train)\n"
   ]
  },
  {
   "cell_type": "code",
   "execution_count": null,
   "id": "66d870e6-7d4f-4de5-9a16-e23722d42471",
   "metadata": {},
   "outputs": [],
   "source": [
    "# check the intercepts and the coefficients of the logistic regression model\n",
    "print('Coefficient: \\n', logit.coef_)\n",
    "print('Intercept: \\n', logit.intercept_)\n"
   ]
  },
  {
   "cell_type": "code",
   "execution_count": null,
   "id": "5fe56452-760f-418d-a482-596e8b3f900e",
   "metadata": {},
   "outputs": [],
   "source": [
    "# make predictions \n",
    "pred_df_train['logistic'] = logit.predict(x_train)"
   ]
  },
  {
   "cell_type": "code",
   "execution_count": null,
   "id": "10e3138f-0dd3-4648-beda-72ab4624032e",
   "metadata": {},
   "outputs": [],
   "source": [
    "print(classification_report(pred_df_train['actual'], pred_df_train['logistic']))"
   ]
  },
  {
   "cell_type": "code",
   "execution_count": null,
   "id": "3e6b431d-1d19-46c2-b1c4-21632f1521cc",
   "metadata": {},
   "outputs": [],
   "source": [
    "for cols in pred_df_train.columns:\n",
    "    if (pred_df_train[cols] != pred_df_train['actual']).any():\n",
    "        print(f'classification report for {cols}:')\n",
    "        print('=====================================')\n",
    "        print(classification_report(pred_df_train['actual'], pred_df_train[cols]))\n",
    "    else:\n",
    "        print(f\"The {cols} column matches the 'actual' column.\")\n"
   ]
  }
 ],
 "metadata": {
  "kernelspec": {
   "display_name": "Python 3 (ipykernel)",
   "language": "python",
   "name": "python3"
  },
  "language_info": {
   "codemirror_mode": {
    "name": "ipython",
    "version": 3
   },
   "file_extension": ".py",
   "mimetype": "text/x-python",
   "name": "python",
   "nbconvert_exporter": "python",
   "pygments_lexer": "ipython3",
   "version": "3.10.9"
  }
 },
 "nbformat": 4,
 "nbformat_minor": 5
}
