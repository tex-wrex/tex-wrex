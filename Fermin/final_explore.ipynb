{
 "cells": [
  {
   "cell_type": "code",
   "execution_count": null,
   "id": "07f1ef57-0160-4675-ad3d-d20845f023cb",
   "metadata": {
    "collapsed": false,
    "jupyter": {
     "outputs_hidden": false,
     "source_hidden": false
    },
    "noteable": {
     "cell_type": "code"
    }
   },
   "outputs": [],
   "source": []
  },
  {
   "cell_type": "markdown",
   "id": "5b2efdd6-6043-4965-a9ef-e3ea19e23e98",
   "metadata": {
    "jupyter": {
     "outputs_hidden": false,
     "source_hidden": false
    },
    "noteable": {
     "cell_type": "markdown"
    }
   },
   "source": [
    "# Final Data Analysis and Visualization\n",
    "\n",
    "In this notebook, we will perform a data analysis and visualization on the 'person_data_info (2).csv' dataset. The target variable is 'person_injury_severity'. We will split the data into train, validate, and test sets using a custom function. We will also handle null values, convert 'No Data' to nulls, and encode categorical variables as needed. Finally, we will use Recursive Feature Elimination (RFE) to select the most important features for predicting the target variable."
   ]
  },
  {
   "cell_type": "code",
   "execution_count": 1,
   "id": "adaf97ee-58f6-43cd-a46c-fa3fcea5510f",
   "metadata": {
    "ExecuteTime": {
     "end_time": "2023-06-01T21:04:11.950329+00:00",
     "start_time": "2023-06-01T21:04:11.388765+00:00"
    },
    "collapsed": false,
    "jupyter": {
     "outputs_hidden": false,
     "source_hidden": false
    },
    "noteable": {
     "cell_type": "code"
    }
   },
   "outputs": [],
   "source": [
    "# Import necessary libraries\n",
    "import pandas as pd\n",
    "from sklearn.model_selection import train_test_split\n",
    "import numpy as np"
   ]
  },
  {
   "cell_type": "code",
   "execution_count": 5,
   "id": "d04b3cc7-39d7-4c36-a8f3-8d6f4a1ada40",
   "metadata": {
    "ExecuteTime": {
     "end_time": "2023-06-01T21:04:32.864095+00:00",
     "start_time": "2023-06-01T21:04:32.578570+00:00"
    },
    "collapsed": false,
    "datalink": {
     "79fdbec5-b441-406e-b718-31758d8d2f71": {
      "applied_filters": [],
      "dataframe_info": {
       "default_index_used": true,
       "orig_num_cols": 16,
       "orig_num_rows": 5,
       "orig_size_bytes": 680,
       "truncated_num_cols": 16,
       "truncated_num_rows": 5,
       "truncated_size_bytes": 680,
       "truncated_string_columns": []
      },
      "display_id": "79fdbec5-b441-406e-b718-31758d8d2f71",
      "dx_settings": {
       "ALLOW_NOTEABLE_ATTRS": true,
       "COLUMN_SAMPLING_METHOD": "outer",
       "DB_LOCATION": ":memory:",
       "DEV_MODE": false,
       "DISPLAY_MAX_COLUMNS": 100,
       "DISPLAY_MAX_ROWS": 50000,
       "DISPLAY_MODE": "simple",
       "ENABLE_ASSIGNMENT": true,
       "ENABLE_DATALINK": true,
       "FLATTEN_COLUMN_VALUES": true,
       "FLATTEN_INDEX_VALUES": false,
       "GENERATE_DEX_METADATA": false,
       "HTML_TABLE_SCHEMA": false,
       "LOG_LEVEL": 30,
       "MAX_RENDER_SIZE_BYTES": 104857600,
       "MAX_STRING_LENGTH": 250,
       "NUM_PAST_SAMPLES_TRACKED": 3,
       "RANDOM_STATE": 12648430,
       "RESET_INDEX_VALUES": false,
       "ROW_SAMPLING_METHOD": "random",
       "SAMPLING_FACTOR": 0.1,
       "SAMPLING_METHOD": "random",
       "STRINGIFY_COLUMN_VALUES": true,
       "STRINGIFY_INDEX_VALUES": false
      },
      "sample_history": [],
      "sampling_time": "2023-06-01T21:04:32.705208",
      "user_variable_name": null,
      "variable_name": "unk_dataframe_64001a2aa0e049f2958e5e667a0e8511"
     }
    },
    "jupyter": {
     "outputs_hidden": false,
     "source_hidden": false
    },
    "noteable": {
     "cell_type": "code"
    }
   },
   "outputs": [
    {
     "data": {
      "text/html": [
       "<div>\n",
       "<style scoped>\n",
       "    .dataframe tbody tr th:only-of-type {\n",
       "        vertical-align: middle;\n",
       "    }\n",
       "\n",
       "    .dataframe tbody tr th {\n",
       "        vertical-align: top;\n",
       "    }\n",
       "\n",
       "    .dataframe thead th {\n",
       "        text-align: right;\n",
       "    }\n",
       "</style>\n",
       "<table border=\"1\" class=\"dataframe\">\n",
       "  <thead>\n",
       "    <tr style=\"text-align: right;\">\n",
       "      <th></th>\n",
       "      <th>crash_id</th>\n",
       "      <th>person_age</th>\n",
       "      <th>charge</th>\n",
       "      <th>person_ethnicity</th>\n",
       "      <th>financial_responsibility_type</th>\n",
       "      <th>crash_date</th>\n",
       "      <th>day_of_week</th>\n",
       "      <th>person_gender</th>\n",
       "      <th>person_helmet</th>\n",
       "      <th>driver_license_class</th>\n",
       "      <th>driver_license_endorsements</th>\n",
       "      <th>driver_drug_test_result</th>\n",
       "      <th>driver_license_state</th>\n",
       "      <th>driver_license_type</th>\n",
       "      <th>person_injury_severity</th>\n",
       "    </tr>\n",
       "  </thead>\n",
       "  <tbody>\n",
       "    <tr>\n",
       "      <th>0</th>\n",
       "      <td>16189632</td>\n",
       "      <td>37</td>\n",
       "      <td>OPERATE UNREGISTERED MOTOR VEHICLE</td>\n",
       "      <td>W - WHITE</td>\n",
       "      <td>no data</td>\n",
       "      <td>2018-01-01</td>\n",
       "      <td>MONDAY</td>\n",
       "      <td>1 - MALE</td>\n",
       "      <td>1 - NOT WORN</td>\n",
       "      <td>C - CLASS C</td>\n",
       "      <td>NONE</td>\n",
       "      <td>97 - NOT APPLICABLE</td>\n",
       "      <td>TX - TEXAS</td>\n",
       "      <td>1 - DRIVER LICENSE</td>\n",
       "      <td>A - SUSPECTED SERIOUS INJURY</td>\n",
       "    </tr>\n",
       "    <tr>\n",
       "      <th>1</th>\n",
       "      <td>16203470</td>\n",
       "      <td>30</td>\n",
       "      <td>NO CLASS \"M\" LICENSE</td>\n",
       "      <td>H - HISPANIC</td>\n",
       "      <td>2 - PROOF OF LIABILITY INSURANCE</td>\n",
       "      <td>2018-01-04</td>\n",
       "      <td>THURSDAY</td>\n",
       "      <td>1 - MALE</td>\n",
       "      <td>3 - WORN, NOT DAMAGED</td>\n",
       "      <td>C - CLASS C</td>\n",
       "      <td>NONE</td>\n",
       "      <td>97 - NOT APPLICABLE</td>\n",
       "      <td>TX - TEXAS</td>\n",
       "      <td>1 - DRIVER LICENSE</td>\n",
       "      <td>C - POSSIBLE INJURY</td>\n",
       "    </tr>\n",
       "    <tr>\n",
       "      <th>2</th>\n",
       "      <td>16191458</td>\n",
       "      <td>20</td>\n",
       "      <td>ACCIDENT INVOLVING DAMAGE TO VEHICLE&gt;=$200/ FS...</td>\n",
       "      <td>W - WHITE</td>\n",
       "      <td>2 - PROOF OF LIABILITY INSURANCE</td>\n",
       "      <td>2018-01-05</td>\n",
       "      <td>FRIDAY</td>\n",
       "      <td>1 - MALE</td>\n",
       "      <td>99 - UNKNOWN IF WORN</td>\n",
       "      <td>C - CLASS C</td>\n",
       "      <td>NONE</td>\n",
       "      <td>97 - NOT APPLICABLE</td>\n",
       "      <td>TX - TEXAS</td>\n",
       "      <td>1 - DRIVER LICENSE</td>\n",
       "      <td>99 - UNKNOWN</td>\n",
       "    </tr>\n",
       "    <tr>\n",
       "      <th>3</th>\n",
       "      <td>16192023</td>\n",
       "      <td>21</td>\n",
       "      <td>NO CHARGES</td>\n",
       "      <td>W - WHITE</td>\n",
       "      <td>2 - PROOF OF LIABILITY INSURANCE</td>\n",
       "      <td>2018-01-05</td>\n",
       "      <td>FRIDAY</td>\n",
       "      <td>1 - MALE</td>\n",
       "      <td>2 - WORN, DAMAGED</td>\n",
       "      <td>C - CLASS C</td>\n",
       "      <td>NONE</td>\n",
       "      <td>97 - NOT APPLICABLE</td>\n",
       "      <td>TX - TEXAS</td>\n",
       "      <td>1 - DRIVER LICENSE</td>\n",
       "      <td>A - SUSPECTED SERIOUS INJURY</td>\n",
       "    </tr>\n",
       "    <tr>\n",
       "      <th>4</th>\n",
       "      <td>16196720</td>\n",
       "      <td>18</td>\n",
       "      <td>NO DRIVER LICENSE NO INSURANCE</td>\n",
       "      <td>H - HISPANIC</td>\n",
       "      <td>no data</td>\n",
       "      <td>2018-01-05</td>\n",
       "      <td>FRIDAY</td>\n",
       "      <td>1 - MALE</td>\n",
       "      <td>1 - NOT WORN</td>\n",
       "      <td>5 - UNLICENSED</td>\n",
       "      <td>UNLICENSED</td>\n",
       "      <td>97 - NOT APPLICABLE</td>\n",
       "      <td>TX - TEXAS</td>\n",
       "      <td>4 - ID CARD</td>\n",
       "      <td>B - SUSPECTED MINOR INJURY</td>\n",
       "    </tr>\n",
       "  </tbody>\n",
       "</table>\n",
       "</div>"
      ],
      "text/plain": [
       "   crash_id person_age                                             charge   \n",
       "0  16189632         37                 OPERATE UNREGISTERED MOTOR VEHICLE  \\\n",
       "1  16203470         30                               NO CLASS \"M\" LICENSE   \n",
       "2  16191458         20  ACCIDENT INVOLVING DAMAGE TO VEHICLE>=$200/ FS...   \n",
       "3  16192023         21                                         NO CHARGES   \n",
       "4  16196720         18                     NO DRIVER LICENSE NO INSURANCE   \n",
       "\n",
       "  person_ethnicity     financial_responsibility_type  crash_date day_of_week   \n",
       "0        W - WHITE                           no data  2018-01-01      MONDAY  \\\n",
       "1     H - HISPANIC  2 - PROOF OF LIABILITY INSURANCE  2018-01-04    THURSDAY   \n",
       "2        W - WHITE  2 - PROOF OF LIABILITY INSURANCE  2018-01-05      FRIDAY   \n",
       "3        W - WHITE  2 - PROOF OF LIABILITY INSURANCE  2018-01-05      FRIDAY   \n",
       "4     H - HISPANIC                           no data  2018-01-05      FRIDAY   \n",
       "\n",
       "  person_gender          person_helmet driver_license_class   \n",
       "0      1 - MALE           1 - NOT WORN          C - CLASS C  \\\n",
       "1      1 - MALE  3 - WORN, NOT DAMAGED          C - CLASS C   \n",
       "2      1 - MALE   99 - UNKNOWN IF WORN          C - CLASS C   \n",
       "3      1 - MALE      2 - WORN, DAMAGED          C - CLASS C   \n",
       "4      1 - MALE           1 - NOT WORN       5 - UNLICENSED   \n",
       "\n",
       "  driver_license_endorsements driver_drug_test_result driver_license_state   \n",
       "0                        NONE     97 - NOT APPLICABLE           TX - TEXAS  \\\n",
       "1                        NONE     97 - NOT APPLICABLE           TX - TEXAS   \n",
       "2                        NONE     97 - NOT APPLICABLE           TX - TEXAS   \n",
       "3                        NONE     97 - NOT APPLICABLE           TX - TEXAS   \n",
       "4                  UNLICENSED     97 - NOT APPLICABLE           TX - TEXAS   \n",
       "\n",
       "  driver_license_type        person_injury_severity  \n",
       "0  1 - DRIVER LICENSE  A - SUSPECTED SERIOUS INJURY  \n",
       "1  1 - DRIVER LICENSE           C - POSSIBLE INJURY  \n",
       "2  1 - DRIVER LICENSE                  99 - UNKNOWN  \n",
       "3  1 - DRIVER LICENSE  A - SUSPECTED SERIOUS INJURY  \n",
       "4         4 - ID CARD    B - SUSPECTED MINOR INJURY  "
      ]
     },
     "execution_count": 5,
     "metadata": {},
     "output_type": "execute_result"
    }
   ],
   "source": [
    "# Load the data\n",
    "df = pd.read_csv('person_data_info (2).csv')\n",
    "df.drop(columns=['Unnamed: 0'], inplace=True)\n",
    "# Display the first few rows of the dataframe\n",
    "df.head()"
   ]
  },
  {
   "cell_type": "markdown",
   "id": "d5ba0581-d1b6-4068-8a6c-8c11cf69a008",
   "metadata": {
    "jupyter": {
     "outputs_hidden": false,
     "source_hidden": false
    },
    "noteable": {
     "cell_type": "markdown"
    }
   },
   "source": [
    "## Data Preparation\n",
    "\n",
    "We have converted 'No Data' values to NaNs. Now, let's handle these missing values. We will fill the missing values in the 'financial_responsibility_type' column based on the 'charge' column. If there is no insurance charge, we will assume that the person had financial responsibility. We will also standardize the text in the dataframe to lower case to ensure consistency."
   ]
  },
  {
   "cell_type": "code",
   "execution_count": 6,
   "id": "3eb7fe51-31b7-4444-927e-779d6dc0588f",
   "metadata": {
    "ExecuteTime": {
     "end_time": "2023-06-01T21:06:15.033531+00:00",
     "start_time": "2023-06-01T21:06:14.692790+00:00"
    },
    "collapsed": false,
    "datalink": {
     "b28cf8d5-3cb4-4a38-b0fc-ecaf136261a2": {
      "applied_filters": [],
      "dataframe_info": {
       "default_index_used": true,
       "orig_num_cols": 16,
       "orig_num_rows": 5,
       "orig_size_bytes": 680,
       "truncated_num_cols": 16,
       "truncated_num_rows": 5,
       "truncated_size_bytes": 680,
       "truncated_string_columns": []
      },
      "display_id": "b28cf8d5-3cb4-4a38-b0fc-ecaf136261a2",
      "dx_settings": {
       "ALLOW_NOTEABLE_ATTRS": true,
       "COLUMN_SAMPLING_METHOD": "outer",
       "DB_LOCATION": ":memory:",
       "DEV_MODE": false,
       "DISPLAY_MAX_COLUMNS": 100,
       "DISPLAY_MAX_ROWS": 50000,
       "DISPLAY_MODE": "simple",
       "ENABLE_ASSIGNMENT": true,
       "ENABLE_DATALINK": true,
       "FLATTEN_COLUMN_VALUES": true,
       "FLATTEN_INDEX_VALUES": false,
       "GENERATE_DEX_METADATA": false,
       "HTML_TABLE_SCHEMA": false,
       "LOG_LEVEL": 30,
       "MAX_RENDER_SIZE_BYTES": 104857600,
       "MAX_STRING_LENGTH": 250,
       "NUM_PAST_SAMPLES_TRACKED": 3,
       "RANDOM_STATE": 12648430,
       "RESET_INDEX_VALUES": false,
       "ROW_SAMPLING_METHOD": "random",
       "SAMPLING_FACTOR": 0.1,
       "SAMPLING_METHOD": "random",
       "STRINGIFY_COLUMN_VALUES": true,
       "STRINGIFY_INDEX_VALUES": false
      },
      "sample_history": [],
      "sampling_time": "2023-06-01T21:06:14.875198",
      "user_variable_name": null,
      "variable_name": "unk_dataframe_f50929fae80b4dc5ab1812992ef0b8cf"
     }
    },
    "jupyter": {
     "outputs_hidden": false,
     "source_hidden": false
    },
    "noteable": {
     "cell_type": "code"
    }
   },
   "outputs": [
    {
     "data": {
      "text/html": [
       "<div>\n",
       "<style scoped>\n",
       "    .dataframe tbody tr th:only-of-type {\n",
       "        vertical-align: middle;\n",
       "    }\n",
       "\n",
       "    .dataframe tbody tr th {\n",
       "        vertical-align: top;\n",
       "    }\n",
       "\n",
       "    .dataframe thead th {\n",
       "        text-align: right;\n",
       "    }\n",
       "</style>\n",
       "<table border=\"1\" class=\"dataframe\">\n",
       "  <thead>\n",
       "    <tr style=\"text-align: right;\">\n",
       "      <th></th>\n",
       "      <th>crash_id</th>\n",
       "      <th>person_age</th>\n",
       "      <th>charge</th>\n",
       "      <th>person_ethnicity</th>\n",
       "      <th>financial_responsibility_type</th>\n",
       "      <th>crash_date</th>\n",
       "      <th>day_of_week</th>\n",
       "      <th>person_gender</th>\n",
       "      <th>person_helmet</th>\n",
       "      <th>driver_license_class</th>\n",
       "      <th>driver_license_endorsements</th>\n",
       "      <th>driver_drug_test_result</th>\n",
       "      <th>driver_license_state</th>\n",
       "      <th>driver_license_type</th>\n",
       "      <th>person_injury_severity</th>\n",
       "    </tr>\n",
       "  </thead>\n",
       "  <tbody>\n",
       "    <tr>\n",
       "      <th>0</th>\n",
       "      <td>16189632</td>\n",
       "      <td>37</td>\n",
       "      <td>operate unregistered motor vehicle</td>\n",
       "      <td>w - white</td>\n",
       "      <td>no data</td>\n",
       "      <td>2018-01-01</td>\n",
       "      <td>monday</td>\n",
       "      <td>1 - male</td>\n",
       "      <td>1 - not worn</td>\n",
       "      <td>c - class c</td>\n",
       "      <td>none</td>\n",
       "      <td>97 - not applicable</td>\n",
       "      <td>tx - texas</td>\n",
       "      <td>1 - driver license</td>\n",
       "      <td>a - suspected serious injury</td>\n",
       "    </tr>\n",
       "    <tr>\n",
       "      <th>1</th>\n",
       "      <td>16203470</td>\n",
       "      <td>30</td>\n",
       "      <td>no class \"m\" license</td>\n",
       "      <td>h - hispanic</td>\n",
       "      <td>2 - proof of liability insurance</td>\n",
       "      <td>2018-01-04</td>\n",
       "      <td>thursday</td>\n",
       "      <td>1 - male</td>\n",
       "      <td>3 - worn, not damaged</td>\n",
       "      <td>c - class c</td>\n",
       "      <td>none</td>\n",
       "      <td>97 - not applicable</td>\n",
       "      <td>tx - texas</td>\n",
       "      <td>1 - driver license</td>\n",
       "      <td>c - possible injury</td>\n",
       "    </tr>\n",
       "    <tr>\n",
       "      <th>2</th>\n",
       "      <td>16191458</td>\n",
       "      <td>20</td>\n",
       "      <td>accident involving damage to vehicle&gt;=$200/ fs...</td>\n",
       "      <td>w - white</td>\n",
       "      <td>2 - proof of liability insurance</td>\n",
       "      <td>2018-01-05</td>\n",
       "      <td>friday</td>\n",
       "      <td>1 - male</td>\n",
       "      <td>99 - unknown if worn</td>\n",
       "      <td>c - class c</td>\n",
       "      <td>none</td>\n",
       "      <td>97 - not applicable</td>\n",
       "      <td>tx - texas</td>\n",
       "      <td>1 - driver license</td>\n",
       "      <td>99 - unknown</td>\n",
       "    </tr>\n",
       "    <tr>\n",
       "      <th>3</th>\n",
       "      <td>16192023</td>\n",
       "      <td>21</td>\n",
       "      <td>no charges</td>\n",
       "      <td>w - white</td>\n",
       "      <td>2 - proof of liability insurance</td>\n",
       "      <td>2018-01-05</td>\n",
       "      <td>friday</td>\n",
       "      <td>1 - male</td>\n",
       "      <td>2 - worn, damaged</td>\n",
       "      <td>c - class c</td>\n",
       "      <td>none</td>\n",
       "      <td>97 - not applicable</td>\n",
       "      <td>tx - texas</td>\n",
       "      <td>1 - driver license</td>\n",
       "      <td>a - suspected serious injury</td>\n",
       "    </tr>\n",
       "    <tr>\n",
       "      <th>4</th>\n",
       "      <td>16196720</td>\n",
       "      <td>18</td>\n",
       "      <td>no driver license no insurance</td>\n",
       "      <td>h - hispanic</td>\n",
       "      <td>no data</td>\n",
       "      <td>2018-01-05</td>\n",
       "      <td>friday</td>\n",
       "      <td>1 - male</td>\n",
       "      <td>1 - not worn</td>\n",
       "      <td>5 - unlicensed</td>\n",
       "      <td>unlicensed</td>\n",
       "      <td>97 - not applicable</td>\n",
       "      <td>tx - texas</td>\n",
       "      <td>4 - id card</td>\n",
       "      <td>b - suspected minor injury</td>\n",
       "    </tr>\n",
       "  </tbody>\n",
       "</table>\n",
       "</div>"
      ],
      "text/plain": [
       "   crash_id person_age                                             charge   \n",
       "0  16189632         37                 operate unregistered motor vehicle  \\\n",
       "1  16203470         30                               no class \"m\" license   \n",
       "2  16191458         20  accident involving damage to vehicle>=$200/ fs...   \n",
       "3  16192023         21                                         no charges   \n",
       "4  16196720         18                     no driver license no insurance   \n",
       "\n",
       "  person_ethnicity     financial_responsibility_type  crash_date day_of_week   \n",
       "0        w - white                           no data  2018-01-01      monday  \\\n",
       "1     h - hispanic  2 - proof of liability insurance  2018-01-04    thursday   \n",
       "2        w - white  2 - proof of liability insurance  2018-01-05      friday   \n",
       "3        w - white  2 - proof of liability insurance  2018-01-05      friday   \n",
       "4     h - hispanic                           no data  2018-01-05      friday   \n",
       "\n",
       "  person_gender          person_helmet driver_license_class   \n",
       "0      1 - male           1 - not worn          c - class c  \\\n",
       "1      1 - male  3 - worn, not damaged          c - class c   \n",
       "2      1 - male   99 - unknown if worn          c - class c   \n",
       "3      1 - male      2 - worn, damaged          c - class c   \n",
       "4      1 - male           1 - not worn       5 - unlicensed   \n",
       "\n",
       "  driver_license_endorsements driver_drug_test_result driver_license_state   \n",
       "0                        none     97 - not applicable           tx - texas  \\\n",
       "1                        none     97 - not applicable           tx - texas   \n",
       "2                        none     97 - not applicable           tx - texas   \n",
       "3                        none     97 - not applicable           tx - texas   \n",
       "4                  unlicensed     97 - not applicable           tx - texas   \n",
       "\n",
       "  driver_license_type        person_injury_severity  \n",
       "0  1 - driver license  a - suspected serious injury  \n",
       "1  1 - driver license           c - possible injury  \n",
       "2  1 - driver license                  99 - unknown  \n",
       "3  1 - driver license  a - suspected serious injury  \n",
       "4         4 - id card    b - suspected minor injury  "
      ]
     },
     "execution_count": 6,
     "metadata": {},
     "output_type": "execute_result"
    }
   ],
   "source": [
    "# Fill missing values in 'financial_responsibility_type' based on 'charge'\n",
    "df.loc[df['charge'].str.contains('INSURANCE', na=False) & df['financial_responsibility_type'].isnull(), 'financial_responsibility_type'] = '2 - PROOF OF LIABILITY INSURANCE'\n",
    "\n",
    "# Standardize the text to lower case\n",
    "df = df.applymap(lambda s:s.lower() if type(s) == str else s)\n",
    "\n",
    "df.head()"
   ]
  },
  {
   "cell_type": "code",
   "execution_count": null,
   "id": "9c4b6bbe-8b4d-4536-bce4-783fa13a9059",
   "metadata": {
    "ExecuteTime": {
     "end_time": "2023-06-01T21:05:15.986149+00:00",
     "start_time": "2023-06-01T21:05:15.753933+00:00"
    },
    "collapsed": false,
    "datalink": {
     "0cc71180-b5d9-491b-a9ed-58b51ffba737": {
      "applied_filters": [],
      "dataframe_info": {
       "default_index_used": false,
       "orig_num_cols": 1,
       "orig_num_rows": 16,
       "orig_size_bytes": 256,
       "truncated_num_cols": 1,
       "truncated_num_rows": 16,
       "truncated_size_bytes": 256,
       "truncated_string_columns": []
      },
      "display_id": "0cc71180-b5d9-491b-a9ed-58b51ffba737",
      "dx_settings": {
       "ALLOW_NOTEABLE_ATTRS": true,
       "COLUMN_SAMPLING_METHOD": "outer",
       "DB_LOCATION": ":memory:",
       "DEV_MODE": false,
       "DISPLAY_MAX_COLUMNS": 100,
       "DISPLAY_MAX_ROWS": 50000,
       "DISPLAY_MODE": "simple",
       "ENABLE_ASSIGNMENT": true,
       "ENABLE_DATALINK": true,
       "FLATTEN_COLUMN_VALUES": true,
       "FLATTEN_INDEX_VALUES": false,
       "GENERATE_DEX_METADATA": false,
       "HTML_TABLE_SCHEMA": false,
       "LOG_LEVEL": 30,
       "MAX_RENDER_SIZE_BYTES": 104857600,
       "MAX_STRING_LENGTH": 250,
       "NUM_PAST_SAMPLES_TRACKED": 3,
       "RANDOM_STATE": 12648430,
       "RESET_INDEX_VALUES": false,
       "ROW_SAMPLING_METHOD": "random",
       "SAMPLING_FACTOR": 0.1,
       "SAMPLING_METHOD": "random",
       "STRINGIFY_COLUMN_VALUES": true,
       "STRINGIFY_INDEX_VALUES": false
      },
      "sample_history": [],
      "sampling_time": "2023-06-01T21:05:15.826911",
      "user_variable_name": null,
      "variable_name": "unk_dataframe_a78ec828fbf94d7c9bbc0b3119915604"
     }
    },
    "jupyter": {
     "outputs_hidden": false,
     "source_hidden": false
    },
    "noteable": {
     "cell_type": "code"
    }
   },
   "outputs": [],
   "source": [
    "# Convert 'No Data' to NaN\n",
    "\n",
    "df.replace('no data', np.nan, inplace=True)\n",
    "\n",
    "df.isnull().sum()"
   ]
  },
  {
   "cell_type": "markdown",
   "id": "401143b5-a0fd-486a-bbe4-fa1debe7d11f",
   "metadata": {
    "jupyter": {
     "outputs_hidden": false,
     "source_hidden": false
    },
    "noteable": {
     "cell_type": "markdown"
    }
   },
   "source": [
    "## Data Splitting\n",
    "\n",
    "Next, we will split the data into train, validate, and test sets using the provided function. This will allow us to explore the data and create and validate models."
   ]
  },
  {
   "cell_type": "code",
   "execution_count": null,
   "id": "7125ef47-2612-4007-8ede-284addfc9d62",
   "metadata": {
    "ExecuteTime": {
     "end_time": "2023-06-01T21:07:06.601227+00:00",
     "start_time": "2023-06-01T21:07:06.419906+00:00"
    },
    "collapsed": false,
    "jupyter": {
     "outputs_hidden": false,
     "source_hidden": false
    },
    "noteable": {
     "cell_type": "code"
    }
   },
   "outputs": [],
   "source": [
    "def split(df):\n",
    "    '''\n",
    "    This function splits a dataframe into \n",
    "    train, validate, and test in order to explore the data and to create and validate models. \n",
    "    It takes in a dataframe and contains an integer for setting a seed for replication. \n",
    "    Test is 20% of the original dataset. The remaining 80% of the dataset is \n",
    "    divided between validate and train, with validate being .30*.80= 24% of \n",
    "    the original dataset, and train being .70*.80= 56% of the original dataset. \n",
    "    The function returns, train, validate and test dataframes. \n",
    "    '''\n",
    "    train, test = train_test_split(df, test_size = .2, random_state=123)   \n",
    "    train, validate = train_test_split(train, test_size=.3, random_state=123)\n",
    "    \n",
    "    return train, validate, test\n",
    "\n",
    "# Split the data\n",
    "train, validate, test = split(df)"
   ]
  },
  {
   "cell_type": "markdown",
   "id": "acac1195-5437-4656-b132-e1e8f9c7dc99",
   "metadata": {
    "jupyter": {
     "outputs_hidden": false,
     "source_hidden": false
    },
    "noteable": {
     "cell_type": "markdown"
    }
   },
   "source": [
    "## Data Normalization\n",
    "\n",
    "Next, we will normalize the numerical data in the dataframe. This will ensure that all numerical features have the same scale, which can improve the performance of some machine learning models."
   ]
  },
  {
   "cell_type": "code",
   "execution_count": null,
   "id": "6b6fe515-47d3-4c5c-8e90-41cd0e0d4e95",
   "metadata": {
    "ExecuteTime": {
     "end_time": "2023-06-01T21:07:47.279978+00:00",
     "start_time": "2023-06-01T21:07:47.116986+00:00"
    },
    "collapsed": false,
    "jupyter": {
     "outputs_hidden": false,
     "source_hidden": false
    },
    "noteable": {
     "cell_type": "code"
    }
   },
   "outputs": [],
   "source": [
    "from sklearn.preprocessing import MinMaxScaler\n",
    "\n",
    "# Initialize a scaler\n",
    "scaler = MinMaxScaler()\n",
    "\n",
    "# Fit the scaler to the train data and transform the train data\n",
    "train_scaled = scaler.fit_transform(train.select_dtypes(include=[np.number]))\n",
    "\n",
    "# Transform the validate and test data\n",
    "validate_scaled = scaler.transform(validate.select_dtypes(include=[np.number]))\n",
    "test_scaled = scaler.transform(test.select_dtypes(include=[np.number]))"
   ]
  },
  {
   "cell_type": "markdown",
   "id": "b2de652a-e733-4a10-a982-cbcee7913a53",
   "metadata": {
    "jupyter": {
     "outputs_hidden": false,
     "source_hidden": false
    },
    "noteable": {
     "cell_type": "markdown"
    }
   },
   "source": [
    "## Feature Selection\n",
    "\n",
    "Next, we will perform feature selection using Recursive Feature Elimination (RFE). This method fits a model and removes the weakest feature (or features) until the specified number of features is reached. This will help us identify the most important features for predicting the target variable."
   ]
  },
  {
   "cell_type": "code",
   "execution_count": null,
   "id": "528f492b-4be9-4a26-90d8-fe36117c64ab",
   "metadata": {
    "collapsed": false,
    "jupyter": {
     "outputs_hidden": false,
     "source_hidden": false
    },
    "noteable": {
     "cell_type": "code"
    }
   },
   "outputs": [],
   "source": [
    "from sklearn.feature_selection import RFE\n",
    "from sklearn.linear_model import LogisticRegression\n",
    "\n",
    "# Initialize the model\n",
    "model = LogisticRegression()\n",
    "\n",
    "# Initialize RFE\n",
    "rfe = RFE(estimator=model, n_features_to_select=10)\n",
    "\n",
    "# Fit RFE to the training data\n",
    "rfe.fit(train_scaled, train['person_injury_severity'])\n",
    "\n",
    "# Get the names of the selected features\n",
    "selected_features = train.columns[rfe.support_]\n",
    "\n",
    "selected_features"
   ]
  },
  {
   "cell_type": "code",
   "execution_count": null,
   "id": "c6cadf85-5225-480a-a77f-83e85e72ca9a",
   "metadata": {
    "ExecuteTime": {
     "end_time": "2023-06-01T21:18:21.497833+00:00",
     "start_time": "2023-06-01T21:18:21.338221+00:00"
    },
    "collapsed": false,
    "datalink": {
     "05382c66-548f-44b3-92c2-bf846b873417": {
      "applied_filters": [],
      "dataframe_info": {
       "default_index_used": false,
       "orig_num_cols": 1,
       "orig_num_rows": 16,
       "orig_size_bytes": 256,
       "truncated_num_cols": 1,
       "truncated_num_rows": 16,
       "truncated_size_bytes": 256,
       "truncated_string_columns": []
      },
      "display_id": "05382c66-548f-44b3-92c2-bf846b873417",
      "dx_settings": {
       "ALLOW_NOTEABLE_ATTRS": true,
       "COLUMN_SAMPLING_METHOD": "outer",
       "DB_LOCATION": ":memory:",
       "DEV_MODE": false,
       "DISPLAY_MAX_COLUMNS": 100,
       "DISPLAY_MAX_ROWS": 50000,
       "DISPLAY_MODE": "simple",
       "ENABLE_ASSIGNMENT": true,
       "ENABLE_DATALINK": true,
       "FLATTEN_COLUMN_VALUES": true,
       "FLATTEN_INDEX_VALUES": false,
       "GENERATE_DEX_METADATA": false,
       "HTML_TABLE_SCHEMA": false,
       "LOG_LEVEL": 30,
       "MAX_RENDER_SIZE_BYTES": 104857600,
       "MAX_STRING_LENGTH": 250,
       "NUM_PAST_SAMPLES_TRACKED": 3,
       "RANDOM_STATE": 12648430,
       "RESET_INDEX_VALUES": false,
       "ROW_SAMPLING_METHOD": "random",
       "SAMPLING_FACTOR": 0.1,
       "SAMPLING_METHOD": "random",
       "STRINGIFY_COLUMN_VALUES": true,
       "STRINGIFY_INDEX_VALUES": false
      },
      "sample_history": [],
      "sampling_time": "2023-06-01T21:13:58.968345",
      "user_variable_name": null,
      "variable_name": "unk_dataframe_d151e15407334fa6a5ba56d39e97f1e2"
     },
     "376641bd-8864-4316-82c3-7354cdadd248": {
      "applied_filters": [],
      "dataframe_info": {
       "default_index_used": true,
       "orig_num_cols": 1,
       "orig_num_rows": 8146,
       "orig_size_bytes": 130336,
       "truncated_num_cols": 1,
       "truncated_num_rows": 8146,
       "truncated_size_bytes": 130336,
       "truncated_string_columns": []
      },
      "display_id": "376641bd-8864-4316-82c3-7354cdadd248",
      "dx_settings": {
       "ALLOW_NOTEABLE_ATTRS": true,
       "COLUMN_SAMPLING_METHOD": "outer",
       "DB_LOCATION": ":memory:",
       "DEV_MODE": false,
       "DISPLAY_MAX_COLUMNS": 100,
       "DISPLAY_MAX_ROWS": 50000,
       "DISPLAY_MODE": "simple",
       "ENABLE_ASSIGNMENT": true,
       "ENABLE_DATALINK": true,
       "FLATTEN_COLUMN_VALUES": true,
       "FLATTEN_INDEX_VALUES": false,
       "GENERATE_DEX_METADATA": false,
       "HTML_TABLE_SCHEMA": false,
       "LOG_LEVEL": 30,
       "MAX_RENDER_SIZE_BYTES": 104857600,
       "MAX_STRING_LENGTH": 250,
       "NUM_PAST_SAMPLES_TRACKED": 3,
       "RANDOM_STATE": 12648430,
       "RESET_INDEX_VALUES": false,
       "ROW_SAMPLING_METHOD": "random",
       "SAMPLING_FACTOR": 0.1,
       "SAMPLING_METHOD": "random",
       "STRINGIFY_COLUMN_VALUES": true,
       "STRINGIFY_INDEX_VALUES": false
      },
      "sample_history": [],
      "sampling_time": "2023-06-01T21:15:56.665048",
      "user_variable_name": null,
      "variable_name": "unk_dataframe_308642c46ba14becb2dc1029bf181760"
     }
    },
    "jupyter": {
     "outputs_hidden": false,
     "source_hidden": false
    },
    "noteable": {
     "cell_type": "code"
    }
   },
   "outputs": [],
   "source": [
    "# Check the data types of the columns\n",
    "for values in train.person_age:\n",
    "    if values == np.nan:\n",
    "        values = 0\n",
    "        \n",
    "    "
   ]
  },
  {
   "cell_type": "code",
   "execution_count": null,
   "id": "77f13f53-d5e9-44c2-bf34-f28012e721c5",
   "metadata": {
    "ExecuteTime": {
     "end_time": "2023-06-01T21:18:37.928294+00:00",
     "start_time": "2023-06-01T21:18:37.679653+00:00"
    },
    "collapsed": false,
    "datalink": {
     "6f724aa1-e79d-41fd-8c77-7a6ce6b0dc1b": {
      "applied_filters": [],
      "dataframe_info": {
       "default_index_used": true,
       "orig_num_cols": 1,
       "orig_num_rows": 8146,
       "orig_size_bytes": 130336,
       "truncated_num_cols": 1,
       "truncated_num_rows": 8146,
       "truncated_size_bytes": 130336,
       "truncated_string_columns": []
      },
      "display_id": "6f724aa1-e79d-41fd-8c77-7a6ce6b0dc1b",
      "dx_settings": {
       "ALLOW_NOTEABLE_ATTRS": true,
       "COLUMN_SAMPLING_METHOD": "outer",
       "DB_LOCATION": ":memory:",
       "DEV_MODE": false,
       "DISPLAY_MAX_COLUMNS": 100,
       "DISPLAY_MAX_ROWS": 50000,
       "DISPLAY_MODE": "simple",
       "ENABLE_ASSIGNMENT": true,
       "ENABLE_DATALINK": true,
       "FLATTEN_COLUMN_VALUES": true,
       "FLATTEN_INDEX_VALUES": false,
       "GENERATE_DEX_METADATA": false,
       "HTML_TABLE_SCHEMA": false,
       "LOG_LEVEL": 30,
       "MAX_RENDER_SIZE_BYTES": 104857600,
       "MAX_STRING_LENGTH": 250,
       "NUM_PAST_SAMPLES_TRACKED": 3,
       "RANDOM_STATE": 12648430,
       "RESET_INDEX_VALUES": false,
       "ROW_SAMPLING_METHOD": "random",
       "SAMPLING_FACTOR": 0.1,
       "SAMPLING_METHOD": "random",
       "STRINGIFY_COLUMN_VALUES": true,
       "STRINGIFY_INDEX_VALUES": false
      },
      "sample_history": [],
      "sampling_time": "2023-06-01T21:18:37.760461",
      "user_variable_name": null,
      "variable_name": "unk_dataframe_19b728f1839a427fb3a1bdda77008dad"
     }
    },
    "jupyter": {
     "outputs_hidden": false,
     "source_hidden": false
    },
    "noteable": {
     "cell_type": "code"
    }
   },
   "outputs": [],
   "source": [
    "train.person_age"
   ]
  }
 ],
 "metadata": {
  "kernelspec": {
   "display_name": "Python 3 (ipykernel)",
   "language": "python",
   "name": "python3"
  },
  "language_info": {
   "codemirror_mode": {
    "name": "ipython",
    "version": 3
   },
   "file_extension": ".py",
   "mimetype": "text/x-python",
   "name": "python",
   "nbconvert_exporter": "python",
   "pygments_lexer": "ipython3",
   "version": "3.10.9"
  },
  "noteable": {
   "last_delta_id": "fd1c21c3-a020-41c9-87a1-f7229faab3ad",
   "last_transaction_id": "4e5324d0-e380-49a1-bb25-7d9fdf8ff7ed"
  },
  "noteable-chatgpt": {
   "create_notebook": {
    "openai_conversation_id": "2450b0b2-1859-50ce-af22-05a146fbb503",
    "openai_ephemeral_user_id": "75392b87-2565-56d0-bccc-893c754e1699",
    "openai_subdivision1_iso_code": "US-TX"
   }
  },
  "nteract": {
   "version": "noteable@2.9.0"
  },
  "selected_hardware_size": "small"
 },
 "nbformat": 4,
 "nbformat_minor": 5
}
