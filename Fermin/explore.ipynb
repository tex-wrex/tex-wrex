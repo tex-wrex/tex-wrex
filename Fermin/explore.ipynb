{
 "cells": [
  {
   "cell_type": "markdown",
   "id": "80f9f356-cb51-4fa1-8365-06bcbaf13bc9",
   "metadata": {},
   "source": [
    "# Imports"
   ]
  },
  {
   "cell_type": "code",
   "execution_count": 1,
   "id": "2b400fa3-e8fb-49e9-93be-1495680f49f5",
   "metadata": {},
   "outputs": [],
   "source": [
    "import numpy as np\n",
    "import matplotlib.pyplot as plt\n",
    "import seaborn as sns\n",
    "import pandas as pd\n",
    "\n",
    "import functions as f"
   ]
  },
  {
   "cell_type": "markdown",
   "id": "cc95ac49-aeae-458f-bc7c-0f043395d951",
   "metadata": {},
   "source": [
    "# Acquire my working file "
   ]
  },
  {
   "cell_type": "code",
   "execution_count": 2,
   "id": "28dc240a-a76a-47c2-ab73-24bc900b6d8f",
   "metadata": {},
   "outputs": [],
   "source": [
    "df = pd.read_csv('prepped_svc.csv')\n",
    "df.drop(columns= 'Unnamed: 0', inplace=True)"
   ]
  },
  {
   "cell_type": "markdown",
   "id": "765ea0d3-837b-4ee9-9d53-e00fe37401c7",
   "metadata": {
    "tags": []
   },
   "source": [
    "# Getting familiar with my data"
   ]
  },
  {
   "cell_type": "markdown",
   "id": "df2b2903-7b8e-4ff2-a08d-6dd07a567548",
   "metadata": {
    "tags": []
   },
   "source": [
    "## Lets check out some of these nulls "
   ]
  },
  {
   "cell_type": "code",
   "execution_count": 3,
   "id": "e793fc73-b1b7-4c35-9c34-ceefc4383a9c",
   "metadata": {},
   "outputs": [],
   "source": [
    "from sklearn.impute import SimpleImputer"
   ]
  },
  {
   "cell_type": "code",
   "execution_count": 4,
   "id": "ef9f33e2-74d2-4f05-b1b9-9f00e5ba9684",
   "metadata": {},
   "outputs": [
    {
     "data": {
      "text/plain": [
       "crash_id                     50\n",
       "person_age                  116\n",
       "charge                       93\n",
       "person_ethnicity             50\n",
       "crash_date                   50\n",
       "day_of_week                  50\n",
       "person_gender                50\n",
       "person_helmet                50\n",
       "driver_license_class        124\n",
       "has_motocycle_endorsment     50\n",
       "driver_license_state        647\n",
       "driver_license_type         124\n",
       "person_injury_severity       50\n",
       "dtype: int64"
      ]
     },
     "execution_count": 4,
     "metadata": {},
     "output_type": "execute_result"
    }
   ],
   "source": [
    "df.isna().sum()"
   ]
  },
  {
   "cell_type": "code",
   "execution_count": 5,
   "id": "159bcb62-0cca-4749-80af-44b895e964c4",
   "metadata": {
    "jupyter": {
     "source_hidden": true
    }
   },
   "outputs": [],
   "source": [
    "from sklearn.impute import SimpleImputer\n",
    "\n",
    "def impute_missing_values(df, cols, strategy='most_frequent'):\n",
    "    \"\"\"\n",
    "    Impute missing values in specified columns of a DataFrame using SimpleImputer.\n",
    "\n",
    "    Parameters:\n",
    "    - df (pandas DataFrame): The input DataFrame.\n",
    "    - cols (list): List of column names to impute missing values.\n",
    "    - strategy (str): The imputation strategy to use. Options: 'mean' (default), 'median', 'most_frequent', or 'constant'.\n",
    "\n",
    "    Returns:\n",
    "    - pandas DataFrame: The modified DataFrame with missing values imputed.\n",
    "    \"\"\"\n",
    "    imputer = SimpleImputer(strategy=strategy)\n",
    "    df_imputed = df.copy()\n",
    "\n",
    "    # Fit the imputer on the specified columns and transform the missing values\n",
    "    df_imputed[cols] = imputer.fit_transform(df_imputed[cols])\n",
    "\n",
    "    return df_imputed\n"
   ]
  },
  {
   "cell_type": "code",
   "execution_count": 6,
   "id": "90b1355f-71c4-444b-97b8-851667214a17",
   "metadata": {},
   "outputs": [],
   "source": [
    "df = impute_missing_values(df, cols= df.columns.tolist(), strategy='most_frequent')"
   ]
  },
  {
   "cell_type": "code",
   "execution_count": 7,
   "id": "b94c8803-b0ff-41a0-916b-f876ff3c1401",
   "metadata": {},
   "outputs": [],
   "source": [
    "df.person_age = df.person_age.astype(int)"
   ]
  },
  {
   "cell_type": "code",
   "execution_count": 8,
   "id": "71c863be-b5d7-4603-a3ab-6cf3f9b41a62",
   "metadata": {},
   "outputs": [],
   "source": [
    "train, validate, test = f.split(df)"
   ]
  },
  {
   "cell_type": "code",
   "execution_count": 9,
   "id": "c476d167-e5f2-4e02-806d-7f973afd161c",
   "metadata": {},
   "outputs": [
    {
     "name": "stdout",
     "output_type": "stream",
     "text": [
      "<class 'pandas.core.frame.DataFrame'>\n",
      "RangeIndex: 14184 entries, 0 to 14183\n",
      "Data columns (total 13 columns):\n",
      " #   Column                    Non-Null Count  Dtype \n",
      "---  ------                    --------------  ----- \n",
      " 0   crash_id                  14184 non-null  object\n",
      " 1   person_age                14184 non-null  int64 \n",
      " 2   charge                    14184 non-null  object\n",
      " 3   person_ethnicity          14184 non-null  object\n",
      " 4   crash_date                14184 non-null  object\n",
      " 5   day_of_week               14184 non-null  object\n",
      " 6   person_gender             14184 non-null  object\n",
      " 7   person_helmet             14184 non-null  object\n",
      " 8   driver_license_class      14184 non-null  object\n",
      " 9   has_motocycle_endorsment  14184 non-null  object\n",
      " 10  driver_license_state      14184 non-null  object\n",
      " 11  driver_license_type       14184 non-null  object\n",
      " 12  person_injury_severity    14184 non-null  object\n",
      "dtypes: int64(1), object(12)\n",
      "memory usage: 1.4+ MB\n"
     ]
    }
   ],
   "source": [
    "df.info()"
   ]
  },
  {
   "cell_type": "markdown",
   "id": "9c248a00-9a36-4077-b66e-674d32fe81e9",
   "metadata": {},
   "source": [
    "## Is there a particular demographic/gender?-person"
   ]
  },
  {
   "cell_type": "markdown",
   "id": "b6be58eb-530b-46dd-a888-02a26050c9e0",
   "metadata": {},
   "source": [
    "## Gender "
   ]
  },
  {
   "cell_type": "code",
   "execution_count": 10,
   "id": "9dadcfca-e108-4d9e-a408-003076128049",
   "metadata": {},
   "outputs": [
    {
     "data": {
      "text/plain": [
       "<Axes: xlabel='person_gender'>"
      ]
     },
     "execution_count": 10,
     "metadata": {},
     "output_type": "execute_result"
    },
    {
     "data": {
      "image/png": "[encoded data removed]",
      "text/plain": [
       "<Figure size 640x480 with 1 Axes>"
      ]
     },
     "metadata": {},
     "output_type": "display_data"
    }
   ],
   "source": [
    "pd.crosstab(train.person_gender,train.person_injury_severity).plot(kind='bar')"
   ]
  },
  {
   "cell_type": "code",
   "execution_count": 11,
   "id": "cdf28d74-9743-4736-aacd-1a3b1330c327",
   "metadata": {},
   "outputs": [
    {
     "data": {
      "text/plain": [
       "person_gender\n",
       "1 - male        7360\n",
       "2 - female       573\n",
       "99 - unknown       9\n",
       "Name: count, dtype: int64"
      ]
     },
     "execution_count": 11,
     "metadata": {},
     "output_type": "execute_result"
    }
   ],
   "source": [
    "train.person_gender.value_counts()"
   ]
  },
  {
   "cell_type": "markdown",
   "id": "c2ee8aa0-a0ef-4c7d-9eab-f6dad7495bf3",
   "metadata": {},
   "source": [
    "    Here we see that males have a larger population than males so were gonna try to fix this."
   ]
  },
  {
   "cell_type": "code",
   "execution_count": 12,
   "id": "5236965b-6b5d-4648-833d-16bed9e161a8",
   "metadata": {},
   "outputs": [],
   "source": [
    "female_sample = train.loc[train.person_gender == '2 - female'].sample(500)\n",
    "male_sample = train.loc[train.person_gender == '1 - male'].sample(500)\n",
    "\n",
    "# Concatenate the female and male samples into a new dataframe\n",
    "balanced_df = pd.concat([female_sample, male_sample])"
   ]
  },
  {
   "cell_type": "code",
   "execution_count": 13,
   "id": "81c094ee-7020-4f12-a74a-f188a8cc7bfa",
   "metadata": {},
   "outputs": [],
   "source": [
    "balanced_df = balanced_df.sample(frac=1)"
   ]
  },
  {
   "cell_type": "code",
   "execution_count": 14,
   "id": "c2aea5e0-b873-4c6d-8cbd-04ed3ecef07b",
   "metadata": {},
   "outputs": [
    {
     "data": {
      "text/plain": [
       "<Figure size 1200x1200 with 0 Axes>"
      ]
     },
     "metadata": {},
     "output_type": "display_data"
    },
    {
     "data": {
      "image/png": "[encoded data removed]",
      "text/plain": [
       "<Figure size 640x480 with 1 Axes>"
      ]
     },
     "metadata": {},
     "output_type": "display_data"
    }
   ],
   "source": [
    "plt.figure(figsize=(12, 12))  # Adjust the dimensions as per your requirement\n",
    "pd.crosstab(balanced_df.person_gender, balanced_df.person_injury_severity).plot(kind='bar')\n",
    "plt.show()\n"
   ]
  },
  {
   "cell_type": "markdown",
   "id": "54bc31da-a329-410b-a1ca-6119e577aa8a",
   "metadata": {},
   "source": [
    "    Takeaways:\n",
    "    - gender looks to be the same when it is equally repersented\n",
    "    - little if any change in between injury severity. "
   ]
  },
  {
   "cell_type": "code",
   "execution_count": 15,
   "id": "ce11d16b-6302-4c4b-90a9-ceeaa607ad96",
   "metadata": {},
   "outputs": [
    {
     "data": {
      "text/html": [
       "<div>\n",
       "<style scoped>\n",
       "    .dataframe tbody tr th:only-of-type {\n",
       "        vertical-align: middle;\n",
       "    }\n",
       "\n",
       "    .dataframe tbody tr th {\n",
       "        vertical-align: top;\n",
       "    }\n",
       "\n",
       "    .dataframe thead th {\n",
       "        text-align: right;\n",
       "    }\n",
       "</style>\n",
       "<table border=\"1\" class=\"dataframe\">\n",
       "  <thead>\n",
       "    <tr style=\"text-align: right;\">\n",
       "      <th>person_injury_severity</th>\n",
       "      <th>a - suspected serious injury</th>\n",
       "      <th>b - suspected minor injury</th>\n",
       "      <th>k - fatal injury</th>\n",
       "      <th>n - not injured</th>\n",
       "    </tr>\n",
       "    <tr>\n",
       "      <th>person_gender</th>\n",
       "      <th></th>\n",
       "      <th></th>\n",
       "      <th></th>\n",
       "      <th></th>\n",
       "    </tr>\n",
       "  </thead>\n",
       "  <tbody>\n",
       "    <tr>\n",
       "      <th>1 - male</th>\n",
       "      <td>151</td>\n",
       "      <td>267</td>\n",
       "      <td>32</td>\n",
       "      <td>50</td>\n",
       "    </tr>\n",
       "    <tr>\n",
       "      <th>2 - female</th>\n",
       "      <td>144</td>\n",
       "      <td>313</td>\n",
       "      <td>15</td>\n",
       "      <td>28</td>\n",
       "    </tr>\n",
       "  </tbody>\n",
       "</table>\n",
       "</div>"
      ],
      "text/plain": [
       "person_injury_severity  a - suspected serious injury   \n",
       "person_gender                                          \n",
       "1 - male                                         151  \\\n",
       "2 - female                                       144   \n",
       "\n",
       "person_injury_severity  b - suspected minor injury  k - fatal injury   \n",
       "person_gender                                                          \n",
       "1 - male                                       267                32  \\\n",
       "2 - female                                     313                15   \n",
       "\n",
       "person_injury_severity  n - not injured  \n",
       "person_gender                            \n",
       "1 - male                             50  \n",
       "2 - female                           28  "
      ]
     },
     "execution_count": 15,
     "metadata": {},
     "output_type": "execute_result"
    }
   ],
   "source": [
    "pd.crosstab(balanced_df.person_gender, balanced_df.person_injury_severity)"
   ]
  },
  {
   "cell_type": "code",
   "execution_count": 16,
   "id": "e9f68869-4e12-4268-891b-d46bdd7c73aa",
   "metadata": {},
   "outputs": [
    {
     "name": "stdout",
     "output_type": "stream",
     "text": [
      "Chi-square test statistic: 16.16844193232519\n",
      "P-value: 0.0010472825159155699\n",
      "Degrees of freedom: 3\n"
     ]
    }
   ],
   "source": [
    "from scipy.stats import chi2_contingency\n",
    "\n",
    "# Create a contingency table\n",
    "contingency_table = pd.crosstab(balanced_df.person_gender, balanced_df.person_injury_severity)\n",
    "\n",
    "# Perform the chi-square test\n",
    "chi2, p_value, dof, expected = chi2_contingency(contingency_table)\n",
    "\n",
    "# Print the results\n",
    "print(\"Chi-square test statistic:\", chi2)\n",
    "print(\"P-value:\", p_value)\n",
    "print(\"Degrees of freedom:\", dof)\n"
   ]
  },
  {
   "cell_type": "markdown",
   "id": "ae33a773-23ed-4117-a4b3-aed25b6caa30",
   "metadata": {},
   "source": [
    "    The chi-square test was conducted to examine the association between two variables: \"person_gender\" and \"person_injury_severity\" using a balanced dataset. The results of the chi-square test are as follows:\n",
    "\n",
    "    Chi-square test statistic: 8.45\n",
    "    P-value: 0.038\n",
    "    Degrees of freedom: 3\n",
    "    These results indicate that there is a statistically significant association between \"person_gender\" and \"person_injury_severity\" (p < 0.05). The chi-square test statistic of 8.45 suggests a notable difference between the observed frequencies and the expected frequencies under the assumption of independence. With a p-value of 0.038, there is strong evidence to reject the null hypothesis of independence and conclude that the variables are associated.\n",
    "\n",
    "    In summary, these results suggest that the gender of a person may have an influence on the severity of injury."
   ]
  },
  {
   "cell_type": "markdown",
   "id": "44ae9415-7647-4555-be3a-451da2aefe22",
   "metadata": {},
   "source": [
    "## Is there a particular age?-person"
   ]
  },
  {
   "cell_type": "code",
   "execution_count": 24,
   "id": "38f7ba9e-8c6c-41d1-bbd8-36adea6496c8",
   "metadata": {},
   "outputs": [
    {
     "ename": "ValueError",
     "evalue": "Bin labels must be one fewer than the number of bin edges",
     "output_type": "error",
     "traceback": [
      "\u001b[0;31m---------------------------------------------------------------------------\u001b[0m",
      "\u001b[0;31mValueError\u001b[0m                                Traceback (most recent call last)",
      "Cell \u001b[0;32mIn[24], line 31\u001b[0m\n\u001b[1;32m     28\u001b[0m     plt\u001b[38;5;241m.\u001b[39mshow()\n\u001b[1;32m     30\u001b[0m \u001b[38;5;66;03m# Usage example\u001b[39;00m\n\u001b[0;32m---> 31\u001b[0m \u001b[43mplot_age_injury_distribution\u001b[49m\u001b[43m(\u001b[49m\u001b[43m)\u001b[49m\n",
      "Cell \u001b[0;32mIn[24], line 12\u001b[0m, in \u001b[0;36mplot_age_injury_distribution\u001b[0;34m(data, age_variable, injury_variable)\u001b[0m\n\u001b[1;32m      9\u001b[0m bin_labels \u001b[38;5;241m=\u001b[39m [\u001b[38;5;124mf\u001b[39m\u001b[38;5;124m'\u001b[39m\u001b[38;5;132;01m{\u001b[39;00mi\u001b[38;5;241m*\u001b[39m\u001b[38;5;241m10\u001b[39m\u001b[38;5;132;01m}\u001b[39;00m\u001b[38;5;124m-\u001b[39m\u001b[38;5;132;01m{\u001b[39;00m(i\u001b[38;5;241m*\u001b[39m\u001b[38;5;241m10\u001b[39m)\u001b[38;5;241m+\u001b[39m\u001b[38;5;241m9\u001b[39m\u001b[38;5;132;01m}\u001b[39;00m\u001b[38;5;124m'\u001b[39m \u001b[38;5;28;01mfor\u001b[39;00m i \u001b[38;5;129;01min\u001b[39;00m \u001b[38;5;28mrange\u001b[39m(num_bins)]\n\u001b[1;32m     11\u001b[0m \u001b[38;5;66;03m# Group ages into bins\u001b[39;00m\n\u001b[0;32m---> 12\u001b[0m age_groups \u001b[38;5;241m=\u001b[39m \u001b[43mpd\u001b[49m\u001b[38;5;241;43m.\u001b[39;49m\u001b[43mcut\u001b[49m\u001b[43m(\u001b[49m\u001b[43mdata\u001b[49m\u001b[43m[\u001b[49m\u001b[43mage_variable\u001b[49m\u001b[43m]\u001b[49m\u001b[43m,\u001b[49m\u001b[43m \u001b[49m\u001b[43mbins\u001b[49m\u001b[38;5;241;43m=\u001b[39;49m\u001b[43mbin_edges\u001b[49m\u001b[43m,\u001b[49m\u001b[43m \u001b[49m\u001b[43mlabels\u001b[49m\u001b[38;5;241;43m=\u001b[39;49m\u001b[43mbin_labels\u001b[49m\u001b[43m[\u001b[49m\u001b[43m:\u001b[49m\u001b[38;5;241;43m-\u001b[39;49m\u001b[38;5;241;43m1\u001b[39;49m\u001b[43m]\u001b[49m\u001b[43m)\u001b[49m\n\u001b[1;32m     14\u001b[0m \u001b[38;5;66;03m# Create a contingency table of age groups and injury severity\u001b[39;00m\n\u001b[1;32m     15\u001b[0m age_injury_table \u001b[38;5;241m=\u001b[39m pd\u001b[38;5;241m.\u001b[39mcrosstab(age_groups, data[injury_variable])\n",
      "File \u001b[0;32m/opt/homebrew/anaconda3/lib/python3.10/site-packages/pandas/core/reshape/tile.py:293\u001b[0m, in \u001b[0;36mcut\u001b[0;34m(x, bins, right, labels, retbins, precision, include_lowest, duplicates, ordered)\u001b[0m\n\u001b[1;32m    290\u001b[0m     \u001b[38;5;28;01mif\u001b[39;00m (np\u001b[38;5;241m.\u001b[39mdiff(bins\u001b[38;5;241m.\u001b[39mastype(\u001b[38;5;124m\"\u001b[39m\u001b[38;5;124mfloat64\u001b[39m\u001b[38;5;124m\"\u001b[39m)) \u001b[38;5;241m<\u001b[39m \u001b[38;5;241m0\u001b[39m)\u001b[38;5;241m.\u001b[39many():\n\u001b[1;32m    291\u001b[0m         \u001b[38;5;28;01mraise\u001b[39;00m \u001b[38;5;167;01mValueError\u001b[39;00m(\u001b[38;5;124m\"\u001b[39m\u001b[38;5;124mbins must increase monotonically.\u001b[39m\u001b[38;5;124m\"\u001b[39m)\n\u001b[0;32m--> 293\u001b[0m fac, bins \u001b[38;5;241m=\u001b[39m \u001b[43m_bins_to_cuts\u001b[49m\u001b[43m(\u001b[49m\n\u001b[1;32m    294\u001b[0m \u001b[43m    \u001b[49m\u001b[43mx\u001b[49m\u001b[43m,\u001b[49m\n\u001b[1;32m    295\u001b[0m \u001b[43m    \u001b[49m\u001b[43mbins\u001b[49m\u001b[43m,\u001b[49m\n\u001b[1;32m    296\u001b[0m \u001b[43m    \u001b[49m\u001b[43mright\u001b[49m\u001b[38;5;241;43m=\u001b[39;49m\u001b[43mright\u001b[49m\u001b[43m,\u001b[49m\n\u001b[1;32m    297\u001b[0m \u001b[43m    \u001b[49m\u001b[43mlabels\u001b[49m\u001b[38;5;241;43m=\u001b[39;49m\u001b[43mlabels\u001b[49m\u001b[43m,\u001b[49m\n\u001b[1;32m    298\u001b[0m \u001b[43m    \u001b[49m\u001b[43mprecision\u001b[49m\u001b[38;5;241;43m=\u001b[39;49m\u001b[43mprecision\u001b[49m\u001b[43m,\u001b[49m\n\u001b[1;32m    299\u001b[0m \u001b[43m    \u001b[49m\u001b[43minclude_lowest\u001b[49m\u001b[38;5;241;43m=\u001b[39;49m\u001b[43minclude_lowest\u001b[49m\u001b[43m,\u001b[49m\n\u001b[1;32m    300\u001b[0m \u001b[43m    \u001b[49m\u001b[43mdtype\u001b[49m\u001b[38;5;241;43m=\u001b[39;49m\u001b[43mdtype\u001b[49m\u001b[43m,\u001b[49m\n\u001b[1;32m    301\u001b[0m \u001b[43m    \u001b[49m\u001b[43mduplicates\u001b[49m\u001b[38;5;241;43m=\u001b[39;49m\u001b[43mduplicates\u001b[49m\u001b[43m,\u001b[49m\n\u001b[1;32m    302\u001b[0m \u001b[43m    \u001b[49m\u001b[43mordered\u001b[49m\u001b[38;5;241;43m=\u001b[39;49m\u001b[43mordered\u001b[49m\u001b[43m,\u001b[49m\n\u001b[1;32m    303\u001b[0m \u001b[43m\u001b[49m\u001b[43m)\u001b[49m\n\u001b[1;32m    305\u001b[0m \u001b[38;5;28;01mreturn\u001b[39;00m _postprocess_for_cut(fac, bins, retbins, dtype, original)\n",
      "File \u001b[0;32m/opt/homebrew/anaconda3/lib/python3.10/site-packages/pandas/core/reshape/tile.py:453\u001b[0m, in \u001b[0;36m_bins_to_cuts\u001b[0;34m(x, bins, right, labels, precision, include_lowest, dtype, duplicates, ordered)\u001b[0m\n\u001b[1;32m    451\u001b[0m \u001b[38;5;28;01melse\u001b[39;00m:\n\u001b[1;32m    452\u001b[0m     \u001b[38;5;28;01mif\u001b[39;00m \u001b[38;5;28mlen\u001b[39m(labels) \u001b[38;5;241m!=\u001b[39m \u001b[38;5;28mlen\u001b[39m(bins) \u001b[38;5;241m-\u001b[39m \u001b[38;5;241m1\u001b[39m:\n\u001b[0;32m--> 453\u001b[0m         \u001b[38;5;28;01mraise\u001b[39;00m \u001b[38;5;167;01mValueError\u001b[39;00m(\n\u001b[1;32m    454\u001b[0m             \u001b[38;5;124m\"\u001b[39m\u001b[38;5;124mBin labels must be one fewer than the number of bin edges\u001b[39m\u001b[38;5;124m\"\u001b[39m\n\u001b[1;32m    455\u001b[0m         )\n\u001b[1;32m    456\u001b[0m \u001b[38;5;28;01mif\u001b[39;00m \u001b[38;5;129;01mnot\u001b[39;00m is_categorical_dtype(labels):\n\u001b[1;32m    457\u001b[0m     labels \u001b[38;5;241m=\u001b[39m Categorical(\n\u001b[1;32m    458\u001b[0m         labels,\n\u001b[1;32m    459\u001b[0m         categories\u001b[38;5;241m=\u001b[39mlabels \u001b[38;5;28;01mif\u001b[39;00m \u001b[38;5;28mlen\u001b[39m(\u001b[38;5;28mset\u001b[39m(labels)) \u001b[38;5;241m==\u001b[39m \u001b[38;5;28mlen\u001b[39m(labels) \u001b[38;5;28;01melse\u001b[39;00m \u001b[38;5;28;01mNone\u001b[39;00m,\n\u001b[1;32m    460\u001b[0m         ordered\u001b[38;5;241m=\u001b[39mordered,\n\u001b[1;32m    461\u001b[0m     )\n",
      "\u001b[0;31mValueError\u001b[0m: Bin labels must be one fewer than the number of bin edges"
     ]
    }
   ],
   "source": [
    "import pandas as pd\n",
    "import matplotlib.pyplot as plt\n",
    "import seaborn as sns\n",
    "\n",
    "def plot_age_injury_distribution(data=train, age_variable='person_age', injury_variable='person_injury_severity'):\n",
    "    # Define the number of bins and their boundaries\n",
    "    num_bins = 10\n",
    "    bin_edges = range(0, (num_bins + 1) * 10, 10)\n",
    "    bin_labels = [f'{i*10}-{(i*10)+9}' for i in range(num_bins)]\n",
    "\n",
    "    # Group ages into bins\n",
    "    age_groups = pd.cut(data[age_variable], bins=bin_edges, labels=bin_labels[:-1])\n",
    "\n",
    "    # Create a contingency table of age groups and injury severity\n",
    "    age_injury_table = pd.crosstab(age_groups, data[injury_variable])\n",
    "\n",
    "    # Set up the color palette for the hue\n",
    "    hue_variable = 'person_gender'\n",
    "    color_palette = 'Set3'\n",
    "\n",
    "    # Plot the age groups with hue\n",
    "    plt.figure(figsize=(10, 6))\n",
    "    sns.barplot(x=age_groups, y=age_groups.index, hue=data[hue_variable], palette=color_palette)\n",
    "    plt.xlabel('Count')\n",
    "    plt.ylabel('Age Bins')\n",
    "    plt.title('Age Distribution by Injury Severity')\n",
    "    plt.legend(title=hue_variable)\n",
    "    plt.show()\n",
    "\n",
    "# Usage example\n",
    "plot_age_injury_distribution()\n"
   ]
  },
  {
   "cell_type": "code",
   "execution_count": null,
   "id": "a0bfab4d-68a3-47fa-a51f-8770fd5723f9",
   "metadata": {},
   "outputs": [],
   "source": []
  },
  {
   "cell_type": "code",
   "execution_count": null,
   "id": "563173aa-a42a-4427-b22e-6f0626ef1b32",
   "metadata": {},
   "outputs": [],
   "source": []
  },
  {
   "cell_type": "markdown",
   "id": "c49abdb6-4e0a-459a-8a3f-a8c49c0c5bc6",
   "metadata": {},
   "source": [
    "## Does where the fault of the crash lie matter?-person?-charges"
   ]
  },
  {
   "cell_type": "code",
   "execution_count": null,
   "id": "dbb3535f-eb48-4ba0-a3c1-3f47b56d17fd",
   "metadata": {},
   "outputs": [],
   "source": []
  },
  {
   "cell_type": "code",
   "execution_count": null,
   "id": "484a86ee-986e-4308-8490-333af2a5aaa4",
   "metadata": {},
   "outputs": [],
   "source": []
  },
  {
   "cell_type": "code",
   "execution_count": null,
   "id": "b91b8fae-0d43-4587-bb75-094e955f7664",
   "metadata": {},
   "outputs": [],
   "source": []
  }
 ],
 "metadata": {
  "kernelspec": {
   "display_name": "Python 3 (ipykernel)",
   "language": "python",
   "name": "python3"
  },
  "language_info": {
   "codemirror_mode": {
    "name": "ipython",
    "version": 3
   },
   "file_extension": ".py",
   "mimetype": "text/x-python",
   "name": "python",
   "nbconvert_exporter": "python",
   "pygments_lexer": "ipython3",
   "version": "3.10.9"
  }
 },
 "nbformat": 4,
 "nbformat_minor": 5
}
