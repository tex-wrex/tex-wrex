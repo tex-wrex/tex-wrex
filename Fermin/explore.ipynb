{
 "cells": [
  {
   "cell_type": "markdown",
   "id": "80f9f356-cb51-4fa1-8365-06bcbaf13bc9",
   "metadata": {},
   "source": [
    "# Imports"
   ]
  },
  {
   "cell_type": "code",
   "execution_count": 1,
   "id": "2b400fa3-e8fb-49e9-93be-1495680f49f5",
   "metadata": {},
   "outputs": [],
   "source": [
    "import numpy as np\n",
    "import matplotlib.pyplot as plt\n",
    "import seaborn as sns\n",
    "import pandas as pd\n",
    "\n",
    "import functions as f"
   ]
  },
  {
   "cell_type": "markdown",
   "id": "cc95ac49-aeae-458f-bc7c-0f043395d951",
   "metadata": {},
   "source": [
    "# Acquire my working file "
   ]
  },
  {
   "cell_type": "code",
   "execution_count": 2,
   "id": "28dc240a-a76a-47c2-ab73-24bc900b6d8f",
   "metadata": {},
   "outputs": [],
   "source": [
    "df = pd.read_csv('prepped_svc.csv')\n",
    "df.drop(columns= 'Unnamed: 0', inplace=True)"
   ]
  },
  {
   "cell_type": "markdown",
   "id": "765ea0d3-837b-4ee9-9d53-e00fe37401c7",
   "metadata": {
    "tags": []
   },
   "source": [
    "# Getting familiar with my data"
   ]
  },
  {
   "cell_type": "markdown",
   "id": "df2b2903-7b8e-4ff2-a08d-6dd07a567548",
   "metadata": {
    "tags": []
   },
   "source": [
    "## Lets check out some of these nulls "
   ]
  },
  {
   "cell_type": "code",
   "execution_count": 3,
   "id": "e793fc73-b1b7-4c35-9c34-ceefc4383a9c",
   "metadata": {},
   "outputs": [],
   "source": [
    "from sklearn.impute import SimpleImputer"
   ]
  },
  {
   "cell_type": "code",
   "execution_count": 4,
   "id": "ef9f33e2-74d2-4f05-b1b9-9f00e5ba9684",
   "metadata": {},
   "outputs": [
    {
     "data": {
      "text/plain": [
       "crash_id                     50\n",
       "person_age                  116\n",
       "charge                       93\n",
       "person_ethnicity             50\n",
       "crash_date                   50\n",
       "day_of_week                  50\n",
       "person_gender                50\n",
       "person_helmet                50\n",
       "driver_license_class        124\n",
       "has_motocycle_endorsment     50\n",
       "driver_license_state        647\n",
       "driver_license_type         124\n",
       "person_injury_severity       50\n",
       "dtype: int64"
      ]
     },
     "execution_count": 4,
     "metadata": {},
     "output_type": "execute_result"
    }
   ],
   "source": [
    "df.isna().sum()"
   ]
  },
  {
   "cell_type": "code",
   "execution_count": 5,
   "id": "159bcb62-0cca-4749-80af-44b895e964c4",
   "metadata": {
    "jupyter": {
     "source_hidden": true
    }
   },
   "outputs": [],
   "source": [
    "from sklearn.impute import SimpleImputer\n",
    "\n",
    "def impute_missing_values(df, cols, strategy='most_frequent'):\n",
    "    \"\"\"\n",
    "    Impute missing values in specified columns of a DataFrame using SimpleImputer.\n",
    "\n",
    "    Parameters:\n",
    "    - df (pandas DataFrame): The input DataFrame.\n",
    "    - cols (list): List of column names to impute missing values.\n",
    "    - strategy (str): The imputation strategy to use. Options: 'mean' (default), 'median', 'most_frequent', or 'constant'.\n",
    "\n",
    "    Returns:\n",
    "    - pandas DataFrame: The modified DataFrame with missing values imputed.\n",
    "    \"\"\"\n",
    "    imputer = SimpleImputer(strategy=strategy)\n",
    "    df_imputed = df.copy()\n",
    "\n",
    "    # Fit the imputer on the specified columns and transform the missing values\n",
    "    df_imputed[cols] = imputer.fit_transform(df_imputed[cols])\n",
    "\n",
    "    return df_imputed\n"
   ]
  },
  {
   "cell_type": "code",
   "execution_count": 6,
   "id": "90b1355f-71c4-444b-97b8-851667214a17",
   "metadata": {},
   "outputs": [],
   "source": [
    "df = impute_missing_values(df, cols= df.columns.tolist(), strategy='most_frequent')"
   ]
  },
  {
   "cell_type": "code",
   "execution_count": 7,
   "id": "b94c8803-b0ff-41a0-916b-f876ff3c1401",
   "metadata": {},
   "outputs": [],
   "source": [
    "df.person_age = df.person_age.astype(int)"
   ]
  },
  {
   "cell_type": "code",
   "execution_count": 8,
   "id": "71c863be-b5d7-4603-a3ab-6cf3f9b41a62",
   "metadata": {},
   "outputs": [],
   "source": [
    "train, validate, test = f.split(df)"
   ]
  },
  {
   "cell_type": "code",
   "execution_count": 9,
   "id": "c476d167-e5f2-4e02-806d-7f973afd161c",
   "metadata": {},
   "outputs": [
    {
     "name": "stdout",
     "output_type": "stream",
     "text": [
      "<class 'pandas.core.frame.DataFrame'>\n",
      "RangeIndex: 14184 entries, 0 to 14183\n",
      "Data columns (total 13 columns):\n",
      " #   Column                    Non-Null Count  Dtype \n",
      "---  ------                    --------------  ----- \n",
      " 0   crash_id                  14184 non-null  object\n",
      " 1   person_age                14184 non-null  int64 \n",
      " 2   charge                    14184 non-null  object\n",
      " 3   person_ethnicity          14184 non-null  object\n",
      " 4   crash_date                14184 non-null  object\n",
      " 5   day_of_week               14184 non-null  object\n",
      " 6   person_gender             14184 non-null  object\n",
      " 7   person_helmet             14184 non-null  object\n",
      " 8   driver_license_class      14184 non-null  object\n",
      " 9   has_motocycle_endorsment  14184 non-null  object\n",
      " 10  driver_license_state      14184 non-null  object\n",
      " 11  driver_license_type       14184 non-null  object\n",
      " 12  person_injury_severity    14184 non-null  object\n",
      "dtypes: int64(1), object(12)\n",
      "memory usage: 1.4+ MB\n"
     ]
    }
   ],
   "source": [
    "df.info()"
   ]
  },
  {
   "cell_type": "markdown",
   "id": "9c248a00-9a36-4077-b66e-674d32fe81e9",
   "metadata": {},
   "source": [
    "## Is there a particular demographic/gender?-person"
   ]
  },
  {
   "cell_type": "markdown",
   "id": "b6be58eb-530b-46dd-a888-02a26050c9e0",
   "metadata": {},
   "source": [
    "## Gender "
   ]
  },
  {
   "cell_type": "code",
   "execution_count": 10,
   "id": "9dadcfca-e108-4d9e-a408-003076128049",
   "metadata": {},
   "outputs": [
    {
     "data": {
      "text/plain": [
       "<Axes: xlabel='person_gender'>"
      ]
     },
     "execution_count": 10,
     "metadata": {},
     "output_type": "execute_result"
    },
    {
     "data": {
      "image/png": "[encoded data removed]",
      "text/plain": [
       "<Figure size 640x480 with 1 Axes>"
      ]
     },
     "metadata": {},
     "output_type": "display_data"
    }
   ],
   "source": [
    "pd.crosstab(train.person_gender,train.person_injury_severity).plot(kind='bar')"
   ]
  },
  {
   "cell_type": "code",
   "execution_count": 11,
   "id": "cdf28d74-9743-4736-aacd-1a3b1330c327",
   "metadata": {},
   "outputs": [
    {
     "data": {
      "text/plain": [
       "person_gender\n",
       "1 - male        7360\n",
       "2 - female       573\n",
       "99 - unknown       9\n",
       "Name: count, dtype: int64"
      ]
     },
     "execution_count": 11,
     "metadata": {},
     "output_type": "execute_result"
    }
   ],
   "source": [
    "train.person_gender.value_counts()"
   ]
  },
  {
   "cell_type": "markdown",
   "id": "c2ee8aa0-a0ef-4c7d-9eab-f6dad7495bf3",
   "metadata": {},
   "source": [
    "    Here we see that males have a larger population than males so were gonna try to fix this."
   ]
  },
  {
   "cell_type": "code",
   "execution_count": 12,
   "id": "5236965b-6b5d-4648-833d-16bed9e161a8",
   "metadata": {},
   "outputs": [],
   "source": [
    "female_sample = train.loc[train.person_gender == '2 - female'].sample(500)\n",
    "male_sample = train.loc[train.person_gender == '1 - male'].sample(500)\n",
    "\n",
    "# Concatenate the female and male samples into a new dataframe\n",
    "balanced_df = pd.concat([female_sample, male_sample])"
   ]
  },
  {
   "cell_type": "code",
   "execution_count": 13,
   "id": "81c094ee-7020-4f12-a74a-f188a8cc7bfa",
   "metadata": {},
   "outputs": [],
   "source": [
    "balanced_df = balanced_df.sample(frac=1)"
   ]
  },
  {
   "cell_type": "code",
   "execution_count": 14,
   "id": "c2aea5e0-b873-4c6d-8cbd-04ed3ecef07b",
   "metadata": {},
   "outputs": [
    {
     "data": {
      "text/plain": [
       "<Figure size 1200x1200 with 0 Axes>"
      ]
     },
     "metadata": {},
     "output_type": "display_data"
    },
    {
     "data": {
      "image/png": "[encoded data removed]",
      "text/plain": [
       "<Figure size 640x480 with 1 Axes>"
      ]
     },
     "metadata": {},
     "output_type": "display_data"
    }
   ],
   "source": [
    "plt.figure(figsize=(12, 12))  # Adjust the dimensions as per your requirement\n",
    "pd.crosstab(balanced_df.person_gender, balanced_df.person_injury_severity).plot(kind='bar')\n",
    "plt.show()\n"
   ]
  },
  {
   "cell_type": "markdown",
   "id": "54bc31da-a329-410b-a1ca-6119e577aa8a",
   "metadata": {},
   "source": [
    "    Takeaways:\n",
    "    - gender looks to be the same when it is equally repersented\n",
    "    - little if any change in between injury severity. "
   ]
  },
  {
   "cell_type": "code",
   "execution_count": 15,
   "id": "ce11d16b-6302-4c4b-90a9-ceeaa607ad96",
   "metadata": {},
   "outputs": [
    {
     "data": {
      "text/html": [
       "<div>\n",
       "<style scoped>\n",
       "    .dataframe tbody tr th:only-of-type {\n",
       "        vertical-align: middle;\n",
       "    }\n",
       "\n",
       "    .dataframe tbody tr th {\n",
       "        vertical-align: top;\n",
       "    }\n",
       "\n",
       "    .dataframe thead th {\n",
       "        text-align: right;\n",
       "    }\n",
       "</style>\n",
       "<table border=\"1\" class=\"dataframe\">\n",
       "  <thead>\n",
       "    <tr style=\"text-align: right;\">\n",
       "      <th>person_injury_severity</th>\n",
       "      <th>a - suspected serious injury</th>\n",
       "      <th>b - suspected minor injury</th>\n",
       "      <th>k - fatal injury</th>\n",
       "      <th>n - not injured</th>\n",
       "    </tr>\n",
       "    <tr>\n",
       "      <th>person_gender</th>\n",
       "      <th></th>\n",
       "      <th></th>\n",
       "      <th></th>\n",
       "      <th></th>\n",
       "    </tr>\n",
       "  </thead>\n",
       "  <tbody>\n",
       "    <tr>\n",
       "      <th>1 - male</th>\n",
       "      <td>151</td>\n",
       "      <td>274</td>\n",
       "      <td>30</td>\n",
       "      <td>45</td>\n",
       "    </tr>\n",
       "    <tr>\n",
       "      <th>2 - female</th>\n",
       "      <td>143</td>\n",
       "      <td>313</td>\n",
       "      <td>17</td>\n",
       "      <td>27</td>\n",
       "    </tr>\n",
       "  </tbody>\n",
       "</table>\n",
       "</div>"
      ],
      "text/plain": [
       "person_injury_severity  a - suspected serious injury   \n",
       "person_gender                                          \n",
       "1 - male                                         151  \\\n",
       "2 - female                                       143   \n",
       "\n",
       "person_injury_severity  b - suspected minor injury  k - fatal injury   \n",
       "person_gender                                                          \n",
       "1 - male                                       274                30  \\\n",
       "2 - female                                     313                17   \n",
       "\n",
       "person_injury_severity  n - not injured  \n",
       "person_gender                            \n",
       "1 - male                             45  \n",
       "2 - female                           27  "
      ]
     },
     "execution_count": 15,
     "metadata": {},
     "output_type": "execute_result"
    }
   ],
   "source": [
    "pd.crosstab(balanced_df.person_gender, balanced_df.person_injury_severity)"
   ]
  },
  {
   "cell_type": "code",
   "execution_count": 16,
   "id": "e9f68869-4e12-4268-891b-d46bdd7c73aa",
   "metadata": {},
   "outputs": [
    {
     "name": "stdout",
     "output_type": "stream",
     "text": [
      "Chi-square test statistic: 10.904573152614557\n",
      "P-value: 0.012253236031160101\n",
      "Degrees of freedom: 3\n"
     ]
    }
   ],
   "source": [
    "from scipy.stats import chi2_contingency\n",
    "\n",
    "# Create a contingency table\n",
    "contingency_table = pd.crosstab(balanced_df.person_gender, balanced_df.person_injury_severity)\n",
    "\n",
    "# Perform the chi-square test\n",
    "chi2, p_value, dof, expected = chi2_contingency(contingency_table)\n",
    "\n",
    "# Print the results\n",
    "print(\"Chi-square test statistic:\", chi2)\n",
    "print(\"P-value:\", p_value)\n",
    "print(\"Degrees of freedom:\", dof)\n"
   ]
  },
  {
   "cell_type": "markdown",
   "id": "ae33a773-23ed-4117-a4b3-aed25b6caa30",
   "metadata": {},
   "source": [
    "    The chi-square test was conducted to examine the association between two variables: \"person_gender\" and \"person_injury_severity\" using a balanced dataset. The results of the chi-square test are as follows:\n",
    "\n",
    "    Chi-square test statistic: 8.45\n",
    "    P-value: 0.038\n",
    "    Degrees of freedom: 3\n",
    "    These results indicate that there is a statistically significant association between \"person_gender\" and \"person_injury_severity\" (p < 0.05). The chi-square test statistic of 8.45 suggests a notable difference between the observed frequencies and the expected frequencies under the assumption of independence. With a p-value of 0.038, there is strong evidence to reject the null hypothesis of independence and conclude that the variables are associated.\n",
    "\n",
    "    In summary, these results suggest that the gender of a person may have an influence on the severity of injury."
   ]
  },
  {
   "cell_type": "markdown",
   "id": "44ae9415-7647-4555-be3a-451da2aefe22",
   "metadata": {},
   "source": [
    "## Is there a particular age?-person"
   ]
  },
  {
   "cell_type": "code",
   "execution_count": 20,
   "id": "38f7ba9e-8c6c-41d1-bbd8-36adea6496c8",
   "metadata": {},
   "outputs": [
    {
     "data": {
      "text/plain": [
       "<Axes: xlabel='age_group'>"
      ]
     },
     "execution_count": 20,
     "metadata": {},
     "output_type": "execute_result"
    },
    {
     "data": {
      "image/png": "[encoded data removed]",
      "text/plain": [
       "<Figure size 640x480 with 1 Axes>"
      ]
     },
     "metadata": {},
     "output_type": "display_data"
    }
   ],
   "source": [
    "# Define the age buckets\n",
    "age_bins = [0, 20, 40, 60, 100]  \n",
    "age_labels = ['0-20', '21-40', '41-60', '61+']\n",
    "\n",
    "# Create a new column with age buckets\n",
    "train['age_group'] = pd.cut(train['person_age'], bins=age_bins, labels=age_labels)\n",
    "\n",
    "# Generate the cross-tabulation and plot the bar chart\n",
    "pd.crosstab(train['age_group'], train['person_injury_severity']).plot(kind='bar')\n"
   ]
  },
  {
   "cell_type": "code",
   "execution_count": 21,
   "id": "a0bfab4d-68a3-47fa-a51f-8770fd5723f9",
   "metadata": {},
   "outputs": [
    {
     "name": "stdout",
     "output_type": "stream",
     "text": [
      "Chi-square statistic: 408.27229780903554\n",
      "p-value: 3.1040324696549087e-11\n",
      "Degrees of freedom: 237\n"
     ]
    }
   ],
   "source": [
    "cross_tab = pd.crosstab(train['person_age'], train['person_injury_severity'])\n",
    "\n",
    "# Perform the chi-square test\n",
    "chi2, p_val, dof, expected = chi2_contingency(cross_tab)\n",
    "\n",
    "# Print the test results\n",
    "print(\"Chi-square statistic:\", chi2)\n",
    "print(\"p-value:\", p_val)\n",
    "print(\"Degrees of freedom:\", dof)"
   ]
  },
  {
   "cell_type": "markdown",
   "id": "22d2b503-baf9-49c8-a6ab-22f255774ff0",
   "metadata": {},
   "source": [
    "    The chi-square test was performed to examine the association between the age group of individuals and the severity of their injuries. The cross-tabulation of the variables 'person_age' and 'person_injury_severity' was analyzed.\n",
    "\n",
    "    Chi-square statistic: 408.272\n",
    "    Degrees of freedom: 237\n",
    "    p-value: 3.104e-11\n",
    "    The chi-square statistic value was found to be 408.272 with 237 degrees of freedom. This indicates a substantial deviation from the expected frequencies under the assumption of independence between the variables.\n",
    "\n",
    "    The resulting p-value of 3.104e-11 suggests strong evidence against the null hypothesis of independence. Therefore, we reject the null hypothesis and conclude that there is a significant association between the age group and the severity of injuries among individuals in the dataset.\n",
    "\n",
    "    This finding emphasizes the importance of considering the age group when evaluating injury severity, suggesting that age may be a contributing factor in determining the extent of injuries sustained.\n",
    "\n"
   ]
  },
  {
   "cell_type": "markdown",
   "id": "c49abdb6-4e0a-459a-8a3f-a8c49c0c5bc6",
   "metadata": {},
   "source": [
    "## Does where the fault of the crash lie matter?-person?-charges"
   ]
  },
  {
   "cell_type": "markdown",
   "id": "a5b9d6b8-4538-4fc4-b41d-cf9f4dbb70ac",
   "metadata": {},
   "source": [
    "    We will explore this at a later time "
   ]
  },
  {
   "cell_type": "code",
   "execution_count": null,
   "id": "484a86ee-986e-4308-8490-333af2a5aaa4",
   "metadata": {},
   "outputs": [],
   "source": []
  },
  {
   "cell_type": "code",
   "execution_count": null,
   "id": "b91b8fae-0d43-4587-bb75-094e955f7664",
   "metadata": {},
   "outputs": [],
   "source": []
  }
 ],
 "metadata": {
  "kernelspec": {
   "display_name": "Python 3 (ipykernel)",
   "language": "python",
   "name": "python3"
  },
  "language_info": {
   "codemirror_mode": {
    "name": "ipython",
    "version": 3
   },
   "file_extension": ".py",
   "mimetype": "text/x-python",
   "name": "python",
   "nbconvert_exporter": "python",
   "pygments_lexer": "ipython3",
   "version": "3.10.9"
  }
 },
 "nbformat": 4,
 "nbformat_minor": 5
}
